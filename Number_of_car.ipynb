{
 "cells": [
  {
   "cell_type": "code",
   "execution_count": 27,
   "metadata": {},
   "outputs": [],
   "source": [
    "import os\n",
    "import gc\n",
    "import json\n",
    "import glob\n",
    "from collections import Counter\n",
    "\n",
    "import pandas as pd\n",
    "import numpy as np\n",
    "import matplotlib.pyplot as plt\n",
    "from matplotlib.path import Path\n",
    "import seaborn as sns\n",
    "import tqdm\n",
    "\n",
    "import torchvision\n",
    "from torchvision import models\n",
    "from torchvision.models.detection.faster_rcnn import FastRCNNPredictor\n",
    "from torchvision.models.detection.mask_rcnn import MaskRCNNPredictor\n",
    "from torchvision import transforms\n",
    "\n",
    "import PIL\n",
    "from PIL import Image, ImageDraw\n",
    "import cv2\n",
    "\n",
    "import torch\n",
    "import torch.nn as nn\n",
    "import torch.nn.functional as F\n",
    "from torch.utils.data import Dataset, DataLoader\n",
    "import pickle\n",
    "import re"
   ]
  },
  {
   "cell_type": "code",
   "execution_count": null,
   "metadata": {},
   "outputs": [],
   "source": []
  },
  {
   "cell_type": "code",
   "execution_count": 2,
   "metadata": {},
   "outputs": [],
   "source": [
    "def simplify_contour(contour, n_corners=4):\n",
    "    n_iter, max_iter = 0, 1000\n",
    "    lb, ub = 0., 1.\n",
    "\n",
    "    while True:\n",
    "        n_iter += 1\n",
    "        if n_iter > max_iter:\n",
    "            print('simplify_contour didnt coverege')\n",
    "            return None\n",
    "\n",
    "        k = (lb + ub)/2.\n",
    "        eps = k*cv2.arcLength(contour, True)\n",
    "        approx = cv2.approxPolyDP(contour, eps, True)\n",
    "\n",
    "        if len(approx) > n_corners:\n",
    "            lb = (lb + ub)/2.\n",
    "        elif len(approx) < n_corners:\n",
    "            ub = (lb + ub)/2.\n",
    "        else:\n",
    "            return approx\n",
    "\n",
    "# Отображаем 4-хугольник в прямоугольник \n",
    "# Спасибо ulebok за идею \n",
    "# И вот этим ребятам за реализацию: https://www.pyimagesearch.com/2014/08/25/4-point-opencv-getperspective-transform-example/\n",
    "def four_point_transform(image, pts):\n",
    "    \n",
    "    rect = order_points(pts)\n",
    "    \n",
    "    tl, tr, br, bl = pts\n",
    "    \n",
    "    width_1 = np.sqrt(((br[0] - bl[0]) ** 2) + ((br[1] - bl[1]) ** 2))\n",
    "    width_2 = np.sqrt(((tr[0] - tl[0]) ** 2) + ((tr[1] - tl[1]) ** 2))\n",
    "    max_width = max(int(width_1), int(width_2))\n",
    "    \n",
    "    height_1 = np.sqrt(((tr[0] - br[0]) ** 2) + ((tr[1] - br[1]) ** 2))\n",
    "    height_2 = np.sqrt(((tl[0] - bl[0]) ** 2) + ((tl[1] - bl[1]) ** 2))\n",
    "    max_height = max(int(height_1), int(height_2))\n",
    "    \n",
    "    dst = np.array([\n",
    "        [0, 0],\n",
    "        [max_width, 0],\n",
    "        [max_width, max_height],\n",
    "        [0, max_height]], dtype = \"float32\")\n",
    "    \n",
    "    M = cv2.getPerspectiveTransform(rect, dst)\n",
    "    warped = cv2.warpPerspective(image, M, (max_width, max_height))\n",
    "    return warped\n",
    "\n",
    "def order_points(pts):\n",
    "    rect = np.zeros((4, 2), dtype = \"float32\")\n",
    "    \n",
    "    s = pts.sum(axis = 1)\n",
    "    rect[0] = pts[np.argmin(s)]\n",
    "    rect[2] = pts[np.argmax(s)]\n",
    "    \n",
    "    diff = np.diff(pts, axis = 1)\n",
    "    rect[1] = pts[np.argmin(diff)]\n",
    "    rect[3] = pts[np.argmax(diff)]\n",
    "    \n",
    "    return rect\n",
    "\n",
    "\n",
    "# Визуализируем детекцию (4 точки, bounding box и приближенный по маске контур)\n",
    "def visualize_prediction_plate(file, model, device='cuda', verbose=True, thresh=0.0, \n",
    "                               n_colors=None, id_to_name=None):\n",
    "    img = Image.open(file)\n",
    "    img_tensor = my_transforms(img)\n",
    "    model.to(device)\n",
    "    model.eval()\n",
    "    with torch.no_grad():\n",
    "        predictions = model([img_tensor.to(device)])\n",
    "    prediction = predictions[0]\n",
    "    \n",
    "    if n_colors is None:\n",
    "        n_colors = model.roi_heads.box_predictor.cls_score.out_features\n",
    "    \n",
    "    palette = sns.color_palette(None, n_colors)\n",
    "    \n",
    "    img = cv2.imread(file, cv2.COLOR_BGR2RGB)\n",
    "    h, w = img.shape[:2]\n",
    "    image = img\n",
    "    \n",
    "    blackImg = np.zeros(image.shape, image.dtype)\n",
    "    blackImg[:,:] = (0, 0, 0)\n",
    "    for i in range(len(prediction['boxes'])):\n",
    "        x_min, y_min, x_max, y_max = map(int, prediction['boxes'][i].tolist())\n",
    "        label = int(prediction['labels'][i].cpu())\n",
    "        score = float(prediction['scores'][i].cpu())\n",
    "        mask = prediction['masks'][i][0, :, :].cpu().numpy()\n",
    "        name = id_to_name[label]\n",
    "        color = palette[label]\n",
    "        \n",
    "        if verbose:\n",
    "            if score > thresh:\n",
    "                print ('Class: {}, Confidence: {}'.format(name, score))\n",
    "        if score > thresh:            \n",
    "            crop_img = image[y_min:y_max, x_min:x_max]\n",
    "            print('Bounding box:')\n",
    "            show_image(crop_img, figsize=(10, 2))\n",
    "            \n",
    "            # В разных версиях opencv этот метод возвращает разное число параметров\n",
    "            # Оставил для версии colab\n",
    "#             _,contours,_ = cv2.findContours((mask > 0.05).astype(np.uint8), 1, 1)\n",
    "            contours,_ = cv2.findContours((mask > 0.05).astype(np.uint8), 1, 1)\n",
    "            approx = simplify_contour(contours[0], n_corners=4)\n",
    "            \n",
    "            if approx is None:\n",
    "                x0, y0 = x_min, y_min\n",
    "                x1, y1 = x_max, y_min\n",
    "                x2, y2 = x_min, y_max\n",
    "                x3, y3 = x_max, y_max\n",
    "#                 points = [[x_min, y_min], [x_min, y_max], [x_max, y_min],[x_max, y_max]]\n",
    "            else:\n",
    "                x0, y0 = approx[0][0][0], approx[0][0][1]\n",
    "                x1, y1 = approx[1][0][0], approx[1][0][1]\n",
    "                x2, y2 = approx[2][0][0], approx[2][0][1]\n",
    "                x3, y3 = approx[3][0][0], approx[3][0][1]\n",
    "                \n",
    "            points = [[x0, y0], [x2, y2], [x1, y1],[x3, y3]]\n",
    "            \n",
    "            \n",
    "            points = np.array(points)\n",
    "            crop_mask_img = four_point_transform(img, points)\n",
    "            print('Rotated img:')\n",
    "            crop_mask_img = cv2.resize(crop_mask_img, (320, 64), interpolation=cv2.INTER_AREA)\n",
    "            show_image(crop_mask_img, figsize=(10, 2))\n",
    "            if approx is not None:\n",
    "                cv2.drawContours(image, [approx], 0, (255,0,255), 3)\n",
    "            image = cv2.circle(image, (x0, y0), radius=5, color=(0, 0, 255), thickness=-1)\n",
    "            image = cv2.circle(image, (x1, y1), radius=5, color=(0, 0, 255), thickness=-1)\n",
    "            image = cv2.circle(image, (x2, y2), radius=5, color=(0, 0, 255), thickness=-1)\n",
    "            image = cv2.circle(image, (x3, y3), radius=5, color=(0, 0, 255), thickness=-1)\n",
    "            \n",
    "            image = cv2.rectangle(image, (x_min, y_min), (x_max, y_max), np.array(color) * 255, 2)\n",
    "            \n",
    "    show_image(image)\n",
    "    return prediction\n",
    "\n",
    "# Просто показать картинку. С семинара\n",
    "def show_image(image, figsize=(16, 9), reverse=True):\n",
    "    plt.figure(figsize=figsize)\n",
    "    if reverse:\n",
    "        plt.imshow(image[...,::-1])\n",
    "    else:\n",
    "        plt.imshow(image)\n",
    "    plt.axis('off')\n",
    "    plt.show()\n",
    "    \n",
    "\n",
    "# Переводит предсказания модели в текст. С семинара\n",
    "def decode(pred, alphabet):\n",
    "    pred = pred.permute(1, 0, 2).cpu().data.numpy()\n",
    "    outputs = []\n",
    "    for i in range(len(pred)):\n",
    "        outputs.append(pred_to_string(pred[i], alphabet))\n",
    "    return outputs\n",
    "\n",
    "def pred_to_string(pred, alphabet):\n",
    "    seq = []\n",
    "    for i in range(len(pred)):\n",
    "        label = np.argmax(pred[i])\n",
    "        seq.append(label - 1)\n",
    "    out = []\n",
    "    for i in range(len(seq)):\n",
    "        if len(out) == 0:\n",
    "            if seq[i] != -1:\n",
    "                out.append(seq[i])\n",
    "        else:\n",
    "            if seq[i] != -1 and seq[i] != seq[i - 1]:\n",
    "                out.append(seq[i])\n",
    "    out = ''.join([alphabet[c] for c in out])\n",
    "    return out\n",
    "    \n",
    "\n",
    "        \n",
    "def load_json(file):\n",
    "    with open(file, 'r') as f:\n",
    "        return json.load(f)\n",
    "    \n",
    "# Чтобы без проблем сериализовывать json. Без него есть нюансы\n",
    "class npEncoder(json.JSONEncoder):\n",
    "    def default(self, obj):\n",
    "        if isinstance(obj, np.int32):\n",
    "            return int(obj)\n",
    "        return json.JSONEncoder.default(self, obj)"
   ]
  },
  {
   "cell_type": "code",
   "execution_count": null,
   "metadata": {},
   "outputs": [],
   "source": []
  },
  {
   "cell_type": "code",
   "execution_count": 3,
   "metadata": {},
   "outputs": [],
   "source": [
    "TRAIN_SIZE = 0.8\n",
    "\n",
    "data_path = \"C:/Users/krvet/Desktop/MADE/CV/HW2/contest02_data/data/\"\n",
    "epochs = 150\n",
    "batch_size = 4\n",
    "image_size=256\n",
    "lr=3e-4\n",
    "weight_decay = 1e-5\n",
    "lr_step=None\n",
    "lr_gamma=None\n",
    "input_wh=\"320x64\"\n",
    "augs=0\n",
    "load=None\n",
    "q=\"C:/Users/krvet/Desktop/MADE/CV/HW2/contest02_data/runs/recognition_baseline/CP-last.pth\"\n",
    "output_dir = \"C:/Users/krvet/Desktop/MADE/CV/HW2/contest02_data/runs/recognition_baseline\"\n",
    "\n",
    "all_marks = load_json(os.path.join(data_path, 'train.json'))\n",
    "test_start = int(TRAIN_SIZE * len(all_marks))\n",
    "train_marks = all_marks[:test_start]\n",
    "val_marks = all_marks[test_start:]\n",
    "\n",
    "device = torch.device('cuda') if torch.cuda.is_available() else torch.device('cpu')"
   ]
  },
  {
   "cell_type": "code",
   "execution_count": null,
   "metadata": {},
   "outputs": [],
   "source": []
  },
  {
   "cell_type": "code",
   "execution_count": 13,
   "metadata": {},
   "outputs": [],
   "source": [
    "class DetectionDataset(Dataset):\n",
    "    def __init__(self, marks, img_folder, transforms=None):\n",
    "        \n",
    "        self.marks = marks\n",
    "        self.img_folder = img_folder\n",
    "        self.transforms = transforms\n",
    "        \n",
    "    def __getitem__(self, idx):\n",
    "        item = self.marks[idx]\n",
    "        img_path = f'{self.img_folder}{item[\"file\"]}'\n",
    "        img = Image.open(img_path).convert('RGB')\n",
    "        w, h = img.size\n",
    "        \n",
    "        box_coords = item['nums']\n",
    "        boxes = []\n",
    "        labels = []\n",
    "        masks = []\n",
    "        for box in box_coords:\n",
    "            points = np.array(box['box'])  \n",
    "            x0, y0 = np.min(points[:, 0]), np.min(points[:, 1])\n",
    "            x2, y2 = np.max(points[:, 0]), np.max(points[:, 1])\n",
    "            boxes.append([x0, y0, x2, y2])\n",
    "            labels.append(1)\n",
    "            \n",
    "            # Здесь мы наши 4 точки превращаем в маску\n",
    "            # Это нужно, чтобы кроме bounding box предсказывать и, соответственно, маску :)\n",
    "            nx, ny = w, h\n",
    "            poly_verts = points\n",
    "            x, y = np.meshgrid(np.arange(nx), np.arange(ny))\n",
    "            x, y = x.flatten(), y.flatten()\n",
    "            points = np.vstack((x,y)).T\n",
    "            path = Path(poly_verts)\n",
    "            grid = path.contains_points(points)\n",
    "            grid = grid.reshape((ny,nx)).astype(int)\n",
    "            masks.append(grid)\n",
    "            \n",
    "        boxes = torch.as_tensor(boxes)\n",
    "        labels = torch.as_tensor(labels)\n",
    "        masks = torch.as_tensor(masks)\n",
    "        \n",
    "        target = {\n",
    "            'boxes': boxes,\n",
    "            'labels': labels,\n",
    "            'masks': masks,\n",
    "        }\n",
    "        \n",
    "        if self.transforms is not None:\n",
    "            img = self.transforms(img)\n",
    "        \n",
    "        return img, target\n",
    "    \n",
    "    \n",
    "    def __len__(self):\n",
    "        return len(self.marks)\n",
    "    \n",
    "my_transforms = transforms.Compose([\n",
    "    transforms.ToTensor()\n",
    "])\n",
    "\n",
    "train_dataset = DetectionDataset(\n",
    "    marks=train_marks, \n",
    "    img_folder=\"C:/Users/krvet/Desktop/MADE/CV/HW2/contest02_data/data/\", \n",
    "    transforms=my_transforms\n",
    ")\n",
    "val_dataset = DetectionDataset(\n",
    "    marks=val_marks, \n",
    "    img_folder=\"C:/Users/krvet/Desktop/MADE/CV/HW2/contest02_data/data/\", \n",
    "    transforms=my_transforms\n",
    ")\n",
    "\n",
    "def collate_fn(batch):\n",
    "    return tuple(zip(*batch))\n",
    "\n",
    "train_loader = DataLoader(\n",
    "    train_dataset, \n",
    "    batch_size=batch_size, \n",
    "    drop_last=True,\n",
    "    num_workers=0,\n",
    "    collate_fn=collate_fn, \n",
    ")\n",
    "\n",
    "val_loader = DataLoader(\n",
    "    val_dataset, \n",
    "    batch_size=batch_size, \n",
    "    drop_last=False,\n",
    "    num_workers=0,\n",
    "    collate_fn=collate_fn, \n",
    ")"
   ]
  },
  {
   "cell_type": "code",
   "execution_count": null,
   "metadata": {},
   "outputs": [],
   "source": []
  },
  {
   "cell_type": "code",
   "execution_count": null,
   "metadata": {},
   "outputs": [],
   "source": []
  },
  {
   "cell_type": "code",
   "execution_count": null,
   "metadata": {},
   "outputs": [],
   "source": []
  },
  {
   "cell_type": "code",
   "execution_count": 5,
   "metadata": {},
   "outputs": [],
   "source": [
    "def get_model():\n",
    "    \n",
    "    model = models.detection.maskrcnn_resnet50_fpn(\n",
    "        pretrained=True, \n",
    "        pretrained_backbone=True,\n",
    "        progress=True, \n",
    "        num_classes=91, \n",
    "    )\n",
    "\n",
    "    num_classes = 2\n",
    "    in_features = model.roi_heads.box_predictor.cls_score.in_features\n",
    "    \n",
    "    box_predictor = FastRCNNPredictor(in_features, num_classes)\n",
    "    model.roi_heads.box_predictor = box_predictor\n",
    "    \n",
    "    mask_predictor = MaskRCNNPredictor(256, 256, num_classes)\n",
    "    model.roi_heads.mask_predictor = mask_predictor\n",
    "\n",
    "    # Заморозим все слои кроме последних\n",
    "    \n",
    "    for param in model.parameters():\n",
    "        param.requires_grad = False\n",
    "        \n",
    "    for param in model.backbone.fpn.parameters():\n",
    "        param.requires_grad = True\n",
    "\n",
    "    for param in model.rpn.parameters():\n",
    "        param.requires_grad = True\n",
    "\n",
    "    for param in model.roi_heads.parameters():\n",
    "        param.requires_grad = True\n",
    "    \n",
    "    return model"
   ]
  },
  {
   "cell_type": "code",
   "execution_count": null,
   "metadata": {},
   "outputs": [],
   "source": []
  },
  {
   "cell_type": "code",
   "execution_count": null,
   "metadata": {},
   "outputs": [],
   "source": []
  },
  {
   "cell_type": "code",
   "execution_count": 6,
   "metadata": {},
   "outputs": [],
   "source": [
    "torch.cuda.empty_cache()\n",
    "gc.collect()\n",
    "model = get_model()\n",
    "# model.load_state_dict(torch.load(DETECTOR_MODEL_PATH))\n",
    "model.to(device);"
   ]
  },
  {
   "cell_type": "code",
   "execution_count": null,
   "metadata": {},
   "outputs": [],
   "source": []
  },
  {
   "cell_type": "code",
   "execution_count": 7,
   "metadata": {},
   "outputs": [
    {
     "name": "stderr",
     "output_type": "stream",
     "text": [
      "  0%|          | 0/5126 [00:00<?, ?it/s]C:\\ProgramData\\Anaconda3\\lib\\site-packages\\torch\\nn\\functional.py:3103: UserWarning: The default behavior for interpolate/upsample with float scale_factor changed in 1.6.0 to align with other frameworks/libraries, and now uses scale_factor directly, instead of relying on the computed output size. If you wish to restore the old behavior, please set recompute_scale_factor=True. See the documentation of nn.Upsample for details. \n",
      "  warnings.warn(\"The default behavior for interpolate/upsample with float scale_factor changed \"\n",
      "  0%|          | 20/5126 [00:28<2:03:01,  1.45s/it]"
     ]
    },
    {
     "name": "stdout",
     "output_type": "stream",
     "text": [
      "Loss: 0.7536344\n"
     ]
    },
    {
     "name": "stderr",
     "output_type": "stream",
     "text": [
      "  1%|          | 40/5126 [01:01<2:17:04,  1.62s/it]"
     ]
    },
    {
     "name": "stdout",
     "output_type": "stream",
     "text": [
      "Loss: 0.3375057\n"
     ]
    },
    {
     "name": "stderr",
     "output_type": "stream",
     "text": [
      "  1%|          | 60/5126 [01:30<1:56:33,  1.38s/it]"
     ]
    },
    {
     "name": "stdout",
     "output_type": "stream",
     "text": [
      "Loss: 0.3029691\n"
     ]
    },
    {
     "name": "stderr",
     "output_type": "stream",
     "text": [
      "  2%|▏         | 80/5126 [01:56<1:59:28,  1.42s/it]"
     ]
    },
    {
     "name": "stdout",
     "output_type": "stream",
     "text": [
      "Loss: 0.2605885\n"
     ]
    },
    {
     "name": "stderr",
     "output_type": "stream",
     "text": [
      "  2%|▏         | 100/5126 [02:25<1:43:26,  1.23s/it]"
     ]
    },
    {
     "name": "stdout",
     "output_type": "stream",
     "text": [
      "Loss: 0.2530537\n"
     ]
    },
    {
     "name": "stderr",
     "output_type": "stream",
     "text": [
      "  2%|▏         | 120/5126 [02:54<2:19:53,  1.68s/it]"
     ]
    },
    {
     "name": "stdout",
     "output_type": "stream",
     "text": [
      "Loss: 0.2245365\n"
     ]
    },
    {
     "name": "stderr",
     "output_type": "stream",
     "text": [
      "  3%|▎         | 140/5126 [03:22<2:00:41,  1.45s/it]"
     ]
    },
    {
     "name": "stdout",
     "output_type": "stream",
     "text": [
      "Loss: 0.2399407\n"
     ]
    },
    {
     "name": "stderr",
     "output_type": "stream",
     "text": [
      "  3%|▎         | 160/5126 [03:49<1:35:21,  1.15s/it]"
     ]
    },
    {
     "name": "stdout",
     "output_type": "stream",
     "text": [
      "Loss: 0.2170250\n"
     ]
    },
    {
     "name": "stderr",
     "output_type": "stream",
     "text": [
      "  4%|▎         | 180/5126 [04:21<2:08:13,  1.56s/it]"
     ]
    },
    {
     "name": "stdout",
     "output_type": "stream",
     "text": [
      "Loss: 0.2389284\n"
     ]
    },
    {
     "name": "stderr",
     "output_type": "stream",
     "text": [
      "  4%|▍         | 200/5126 [04:50<1:51:34,  1.36s/it]"
     ]
    },
    {
     "name": "stdout",
     "output_type": "stream",
     "text": [
      "Loss: 0.2080230\n"
     ]
    },
    {
     "name": "stderr",
     "output_type": "stream",
     "text": [
      "  4%|▍         | 220/5126 [05:16<1:48:35,  1.33s/it]"
     ]
    },
    {
     "name": "stdout",
     "output_type": "stream",
     "text": [
      "Loss: 0.2123055\n"
     ]
    },
    {
     "name": "stderr",
     "output_type": "stream",
     "text": [
      "  5%|▍         | 240/5126 [05:44<1:54:04,  1.40s/it]"
     ]
    },
    {
     "name": "stdout",
     "output_type": "stream",
     "text": [
      "Loss: 0.2302674\n"
     ]
    },
    {
     "name": "stderr",
     "output_type": "stream",
     "text": [
      "  5%|▌         | 260/5126 [06:11<1:34:17,  1.16s/it]"
     ]
    },
    {
     "name": "stdout",
     "output_type": "stream",
     "text": [
      "Loss: 0.2124166\n"
     ]
    },
    {
     "name": "stderr",
     "output_type": "stream",
     "text": [
      "  5%|▌         | 280/5126 [06:39<1:45:10,  1.30s/it]"
     ]
    },
    {
     "name": "stdout",
     "output_type": "stream",
     "text": [
      "Loss: 0.2249233\n"
     ]
    },
    {
     "name": "stderr",
     "output_type": "stream",
     "text": [
      "  6%|▌         | 300/5126 [07:06<1:59:17,  1.48s/it]"
     ]
    },
    {
     "name": "stdout",
     "output_type": "stream",
     "text": [
      "Loss: 0.2120188\n"
     ]
    },
    {
     "name": "stderr",
     "output_type": "stream",
     "text": [
      "  6%|▌         | 320/5126 [07:33<1:52:26,  1.40s/it]"
     ]
    },
    {
     "name": "stdout",
     "output_type": "stream",
     "text": [
      "Loss: 0.2301087\n"
     ]
    },
    {
     "name": "stderr",
     "output_type": "stream",
     "text": [
      "  7%|▋         | 340/5126 [08:01<1:38:48,  1.24s/it]"
     ]
    },
    {
     "name": "stdout",
     "output_type": "stream",
     "text": [
      "Loss: 0.2056716\n"
     ]
    },
    {
     "name": "stderr",
     "output_type": "stream",
     "text": [
      "  7%|▋         | 360/5126 [08:26<1:50:14,  1.39s/it]"
     ]
    },
    {
     "name": "stdout",
     "output_type": "stream",
     "text": [
      "Loss: 0.1907776\n"
     ]
    },
    {
     "name": "stderr",
     "output_type": "stream",
     "text": [
      "  7%|▋         | 380/5126 [08:54<2:09:36,  1.64s/it]"
     ]
    },
    {
     "name": "stdout",
     "output_type": "stream",
     "text": [
      "Loss: 0.2165954\n"
     ]
    },
    {
     "name": "stderr",
     "output_type": "stream",
     "text": [
      "  8%|▊         | 400/5126 [09:21<1:50:41,  1.41s/it]"
     ]
    },
    {
     "name": "stdout",
     "output_type": "stream",
     "text": [
      "Loss: 0.2017302\n"
     ]
    },
    {
     "name": "stderr",
     "output_type": "stream",
     "text": [
      "  8%|▊         | 420/5126 [09:50<1:55:31,  1.47s/it]"
     ]
    },
    {
     "name": "stdout",
     "output_type": "stream",
     "text": [
      "Loss: 0.2177099\n"
     ]
    },
    {
     "name": "stderr",
     "output_type": "stream",
     "text": [
      "  9%|▊         | 440/5126 [10:19<2:02:08,  1.56s/it]"
     ]
    },
    {
     "name": "stdout",
     "output_type": "stream",
     "text": [
      "Loss: 0.2045258\n"
     ]
    },
    {
     "name": "stderr",
     "output_type": "stream",
     "text": [
      "  9%|▉         | 460/5126 [10:46<1:49:59,  1.41s/it]"
     ]
    },
    {
     "name": "stdout",
     "output_type": "stream",
     "text": [
      "Loss: 0.1865671\n"
     ]
    },
    {
     "name": "stderr",
     "output_type": "stream",
     "text": [
      "  9%|▉         | 480/5126 [11:15<1:55:51,  1.50s/it]"
     ]
    },
    {
     "name": "stdout",
     "output_type": "stream",
     "text": [
      "Loss: 0.2142709\n"
     ]
    },
    {
     "name": "stderr",
     "output_type": "stream",
     "text": [
      " 10%|▉         | 500/5126 [11:45<2:12:00,  1.71s/it]"
     ]
    },
    {
     "name": "stdout",
     "output_type": "stream",
     "text": [
      "Loss: 0.1929740\n"
     ]
    },
    {
     "name": "stderr",
     "output_type": "stream",
     "text": [
      " 10%|█         | 520/5126 [12:17<2:28:36,  1.94s/it]"
     ]
    },
    {
     "name": "stdout",
     "output_type": "stream",
     "text": [
      "Loss: 0.2000619\n"
     ]
    },
    {
     "name": "stderr",
     "output_type": "stream",
     "text": [
      " 11%|█         | 540/5126 [12:44<1:44:36,  1.37s/it]"
     ]
    },
    {
     "name": "stdout",
     "output_type": "stream",
     "text": [
      "Loss: 0.1886075\n"
     ]
    },
    {
     "name": "stderr",
     "output_type": "stream",
     "text": [
      " 11%|█         | 560/5126 [13:12<1:39:33,  1.31s/it]"
     ]
    },
    {
     "name": "stdout",
     "output_type": "stream",
     "text": [
      "Loss: 0.1821805\n"
     ]
    },
    {
     "name": "stderr",
     "output_type": "stream",
     "text": [
      " 11%|█▏        | 580/5126 [13:44<1:51:02,  1.47s/it]"
     ]
    },
    {
     "name": "stdout",
     "output_type": "stream",
     "text": [
      "Loss: 0.1892920\n"
     ]
    },
    {
     "name": "stderr",
     "output_type": "stream",
     "text": [
      " 12%|█▏        | 600/5126 [14:15<1:51:47,  1.48s/it]"
     ]
    },
    {
     "name": "stdout",
     "output_type": "stream",
     "text": [
      "Loss: 0.1942454\n"
     ]
    },
    {
     "name": "stderr",
     "output_type": "stream",
     "text": [
      " 12%|█▏        | 620/5126 [14:41<1:48:49,  1.45s/it]"
     ]
    },
    {
     "name": "stdout",
     "output_type": "stream",
     "text": [
      "Loss: 0.2019326\n"
     ]
    },
    {
     "name": "stderr",
     "output_type": "stream",
     "text": [
      " 12%|█▏        | 640/5126 [15:11<2:12:24,  1.77s/it]"
     ]
    },
    {
     "name": "stdout",
     "output_type": "stream",
     "text": [
      "Loss: 0.1779278\n"
     ]
    },
    {
     "name": "stderr",
     "output_type": "stream",
     "text": [
      " 13%|█▎        | 660/5126 [16:19<2:16:08,  1.83s/it]"
     ]
    },
    {
     "name": "stdout",
     "output_type": "stream",
     "text": [
      "Loss: 0.1880165\n"
     ]
    },
    {
     "name": "stderr",
     "output_type": "stream",
     "text": [
      " 13%|█▎        | 680/5126 [16:48<1:43:36,  1.40s/it]"
     ]
    },
    {
     "name": "stdout",
     "output_type": "stream",
     "text": [
      "Loss: 0.1968753\n"
     ]
    },
    {
     "name": "stderr",
     "output_type": "stream",
     "text": [
      " 14%|█▎        | 700/5126 [17:16<1:43:24,  1.40s/it]"
     ]
    },
    {
     "name": "stdout",
     "output_type": "stream",
     "text": [
      "Loss: 0.1929961\n"
     ]
    },
    {
     "name": "stderr",
     "output_type": "stream",
     "text": [
      " 14%|█▍        | 720/5126 [17:43<1:46:15,  1.45s/it]"
     ]
    },
    {
     "name": "stdout",
     "output_type": "stream",
     "text": [
      "Loss: 0.2128598\n"
     ]
    },
    {
     "name": "stderr",
     "output_type": "stream",
     "text": [
      " 14%|█▍        | 740/5126 [18:10<1:36:57,  1.33s/it]"
     ]
    },
    {
     "name": "stdout",
     "output_type": "stream",
     "text": [
      "Loss: 0.2047363\n"
     ]
    },
    {
     "name": "stderr",
     "output_type": "stream",
     "text": [
      " 15%|█▍        | 760/5126 [18:36<1:30:38,  1.25s/it]"
     ]
    },
    {
     "name": "stdout",
     "output_type": "stream",
     "text": [
      "Loss: 0.1857451\n"
     ]
    },
    {
     "name": "stderr",
     "output_type": "stream",
     "text": [
      " 15%|█▌        | 780/5126 [19:04<1:38:39,  1.36s/it]"
     ]
    },
    {
     "name": "stdout",
     "output_type": "stream",
     "text": [
      "Loss: 0.2086233\n"
     ]
    },
    {
     "name": "stderr",
     "output_type": "stream",
     "text": [
      " 16%|█▌        | 800/5126 [19:33<1:45:53,  1.47s/it]"
     ]
    },
    {
     "name": "stdout",
     "output_type": "stream",
     "text": [
      "Loss: 0.1888790\n"
     ]
    },
    {
     "name": "stderr",
     "output_type": "stream",
     "text": [
      " 16%|█▌        | 820/5126 [19:58<1:36:56,  1.35s/it]"
     ]
    },
    {
     "name": "stdout",
     "output_type": "stream",
     "text": [
      "Loss: 0.1912376\n"
     ]
    },
    {
     "name": "stderr",
     "output_type": "stream",
     "text": [
      " 16%|█▋        | 840/5126 [20:28<1:42:13,  1.43s/it]"
     ]
    },
    {
     "name": "stdout",
     "output_type": "stream",
     "text": [
      "Loss: 0.2075391\n"
     ]
    },
    {
     "name": "stderr",
     "output_type": "stream",
     "text": [
      " 17%|█▋        | 860/5126 [20:56<1:58:13,  1.66s/it]"
     ]
    },
    {
     "name": "stdout",
     "output_type": "stream",
     "text": [
      "Loss: 0.2116645\n"
     ]
    },
    {
     "name": "stderr",
     "output_type": "stream",
     "text": [
      " 17%|█▋        | 880/5126 [21:23<1:30:58,  1.29s/it]"
     ]
    },
    {
     "name": "stdout",
     "output_type": "stream",
     "text": [
      "Loss: 0.2307003\n"
     ]
    },
    {
     "name": "stderr",
     "output_type": "stream",
     "text": [
      " 18%|█▊        | 900/5126 [21:49<1:22:24,  1.17s/it]"
     ]
    },
    {
     "name": "stdout",
     "output_type": "stream",
     "text": [
      "Loss: 0.1923443\n"
     ]
    },
    {
     "name": "stderr",
     "output_type": "stream",
     "text": [
      " 18%|█▊        | 920/5126 [22:16<1:25:43,  1.22s/it]"
     ]
    },
    {
     "name": "stdout",
     "output_type": "stream",
     "text": [
      "Loss: 0.1841879\n"
     ]
    },
    {
     "name": "stderr",
     "output_type": "stream",
     "text": [
      " 18%|█▊        | 940/5126 [22:46<1:44:09,  1.49s/it]"
     ]
    },
    {
     "name": "stdout",
     "output_type": "stream",
     "text": [
      "Loss: 0.2011658\n"
     ]
    },
    {
     "name": "stderr",
     "output_type": "stream",
     "text": [
      " 19%|█▊        | 960/5126 [23:12<1:40:53,  1.45s/it]"
     ]
    },
    {
     "name": "stdout",
     "output_type": "stream",
     "text": [
      "Loss: 0.2029260\n"
     ]
    },
    {
     "name": "stderr",
     "output_type": "stream",
     "text": [
      " 19%|█▉        | 980/5126 [23:37<1:22:36,  1.20s/it]"
     ]
    },
    {
     "name": "stdout",
     "output_type": "stream",
     "text": [
      "Loss: 0.2010378\n"
     ]
    },
    {
     "name": "stderr",
     "output_type": "stream",
     "text": [
      " 20%|█▉        | 1000/5126 [24:06<1:26:52,  1.26s/it]"
     ]
    },
    {
     "name": "stdout",
     "output_type": "stream",
     "text": [
      "Loss: 0.1784599\n"
     ]
    },
    {
     "name": "stderr",
     "output_type": "stream",
     "text": [
      " 20%|█▉        | 1020/5126 [24:32<1:29:58,  1.31s/it]"
     ]
    },
    {
     "name": "stdout",
     "output_type": "stream",
     "text": [
      "Loss: 0.1754653\n"
     ]
    },
    {
     "name": "stderr",
     "output_type": "stream",
     "text": [
      " 20%|██        | 1040/5126 [24:59<1:25:55,  1.26s/it]"
     ]
    },
    {
     "name": "stdout",
     "output_type": "stream",
     "text": [
      "Loss: 0.1876039\n"
     ]
    },
    {
     "name": "stderr",
     "output_type": "stream",
     "text": [
      " 21%|██        | 1060/5126 [25:26<1:27:57,  1.30s/it]"
     ]
    },
    {
     "name": "stdout",
     "output_type": "stream",
     "text": [
      "Loss: 0.2050001\n"
     ]
    },
    {
     "name": "stderr",
     "output_type": "stream",
     "text": [
      " 21%|██        | 1080/5126 [25:53<1:37:52,  1.45s/it]"
     ]
    },
    {
     "name": "stdout",
     "output_type": "stream",
     "text": [
      "Loss: 0.1925934\n"
     ]
    },
    {
     "name": "stderr",
     "output_type": "stream",
     "text": [
      " 21%|██▏       | 1100/5126 [26:19<1:25:23,  1.27s/it]"
     ]
    },
    {
     "name": "stdout",
     "output_type": "stream",
     "text": [
      "Loss: 0.1996009\n"
     ]
    },
    {
     "name": "stderr",
     "output_type": "stream",
     "text": [
      " 22%|██▏       | 1120/5126 [26:45<1:33:20,  1.40s/it]"
     ]
    },
    {
     "name": "stdout",
     "output_type": "stream",
     "text": [
      "Loss: 0.1825033\n"
     ]
    },
    {
     "name": "stderr",
     "output_type": "stream",
     "text": [
      " 22%|██▏       | 1140/5126 [27:11<1:32:31,  1.39s/it]"
     ]
    },
    {
     "name": "stdout",
     "output_type": "stream",
     "text": [
      "Loss: 0.2081532\n"
     ]
    },
    {
     "name": "stderr",
     "output_type": "stream",
     "text": [
      " 23%|██▎       | 1160/5126 [27:38<1:32:11,  1.39s/it]"
     ]
    },
    {
     "name": "stdout",
     "output_type": "stream",
     "text": [
      "Loss: 0.1898716\n"
     ]
    },
    {
     "name": "stderr",
     "output_type": "stream",
     "text": [
      " 23%|██▎       | 1180/5126 [28:05<1:24:00,  1.28s/it]"
     ]
    },
    {
     "name": "stdout",
     "output_type": "stream",
     "text": [
      "Loss: 0.1988452\n"
     ]
    },
    {
     "name": "stderr",
     "output_type": "stream",
     "text": [
      " 23%|██▎       | 1200/5126 [28:32<1:21:31,  1.25s/it]"
     ]
    },
    {
     "name": "stdout",
     "output_type": "stream",
     "text": [
      "Loss: 0.1817727\n"
     ]
    },
    {
     "name": "stderr",
     "output_type": "stream",
     "text": [
      " 24%|██▍       | 1220/5126 [29:02<1:48:12,  1.66s/it]"
     ]
    },
    {
     "name": "stdout",
     "output_type": "stream",
     "text": [
      "Loss: 0.1910206\n"
     ]
    },
    {
     "name": "stderr",
     "output_type": "stream",
     "text": [
      " 24%|██▍       | 1240/5126 [29:28<1:23:33,  1.29s/it]"
     ]
    },
    {
     "name": "stdout",
     "output_type": "stream",
     "text": [
      "Loss: 0.1712056\n"
     ]
    },
    {
     "name": "stderr",
     "output_type": "stream",
     "text": [
      " 25%|██▍       | 1260/5126 [29:56<1:31:08,  1.41s/it]"
     ]
    },
    {
     "name": "stdout",
     "output_type": "stream",
     "text": [
      "Loss: 0.1594298\n"
     ]
    },
    {
     "name": "stderr",
     "output_type": "stream",
     "text": [
      " 25%|██▍       | 1280/5126 [30:21<1:25:13,  1.33s/it]"
     ]
    },
    {
     "name": "stdout",
     "output_type": "stream",
     "text": [
      "Loss: 0.1852978\n"
     ]
    },
    {
     "name": "stderr",
     "output_type": "stream",
     "text": [
      " 25%|██▌       | 1300/5126 [30:50<1:24:17,  1.32s/it]"
     ]
    },
    {
     "name": "stdout",
     "output_type": "stream",
     "text": [
      "Loss: 0.1850690\n"
     ]
    },
    {
     "name": "stderr",
     "output_type": "stream",
     "text": [
      " 26%|██▌       | 1320/5126 [31:15<1:13:45,  1.16s/it]"
     ]
    },
    {
     "name": "stdout",
     "output_type": "stream",
     "text": [
      "Loss: 0.1717704\n"
     ]
    },
    {
     "name": "stderr",
     "output_type": "stream",
     "text": [
      " 26%|██▌       | 1340/5126 [31:42<1:19:49,  1.26s/it]"
     ]
    },
    {
     "name": "stdout",
     "output_type": "stream",
     "text": [
      "Loss: 0.1748163\n"
     ]
    },
    {
     "name": "stderr",
     "output_type": "stream",
     "text": [
      " 27%|██▋       | 1360/5126 [32:09<1:30:05,  1.44s/it]"
     ]
    },
    {
     "name": "stdout",
     "output_type": "stream",
     "text": [
      "Loss: 0.1845105\n"
     ]
    },
    {
     "name": "stderr",
     "output_type": "stream",
     "text": [
      " 27%|██▋       | 1380/5126 [32:39<1:33:46,  1.50s/it]"
     ]
    },
    {
     "name": "stdout",
     "output_type": "stream",
     "text": [
      "Loss: 0.2028499\n"
     ]
    },
    {
     "name": "stderr",
     "output_type": "stream",
     "text": [
      " 27%|██▋       | 1400/5126 [33:05<1:23:09,  1.34s/it]"
     ]
    },
    {
     "name": "stdout",
     "output_type": "stream",
     "text": [
      "Loss: 0.1772350\n"
     ]
    },
    {
     "name": "stderr",
     "output_type": "stream",
     "text": [
      " 28%|██▊       | 1420/5126 [33:32<1:23:21,  1.35s/it]"
     ]
    },
    {
     "name": "stdout",
     "output_type": "stream",
     "text": [
      "Loss: 0.1822123\n"
     ]
    },
    {
     "name": "stderr",
     "output_type": "stream",
     "text": [
      " 28%|██▊       | 1440/5126 [34:00<1:41:42,  1.66s/it]"
     ]
    },
    {
     "name": "stdout",
     "output_type": "stream",
     "text": [
      "Loss: 0.1955287\n"
     ]
    },
    {
     "name": "stderr",
     "output_type": "stream",
     "text": [
      " 28%|██▊       | 1460/5126 [34:26<1:19:48,  1.31s/it]"
     ]
    },
    {
     "name": "stdout",
     "output_type": "stream",
     "text": [
      "Loss: 0.1930706\n"
     ]
    },
    {
     "name": "stderr",
     "output_type": "stream",
     "text": [
      " 29%|██▉       | 1480/5126 [34:55<1:27:44,  1.44s/it]"
     ]
    },
    {
     "name": "stdout",
     "output_type": "stream",
     "text": [
      "Loss: 0.1953443\n"
     ]
    },
    {
     "name": "stderr",
     "output_type": "stream",
     "text": [
      " 29%|██▉       | 1500/5126 [35:21<1:34:34,  1.57s/it]"
     ]
    },
    {
     "name": "stdout",
     "output_type": "stream",
     "text": [
      "Loss: 0.1727634\n"
     ]
    },
    {
     "name": "stderr",
     "output_type": "stream",
     "text": [
      " 30%|██▉       | 1520/5126 [35:50<1:46:06,  1.77s/it]"
     ]
    },
    {
     "name": "stdout",
     "output_type": "stream",
     "text": [
      "Loss: 0.1988534\n"
     ]
    },
    {
     "name": "stderr",
     "output_type": "stream",
     "text": [
      " 30%|███       | 1540/5126 [36:16<1:13:55,  1.24s/it]"
     ]
    },
    {
     "name": "stdout",
     "output_type": "stream",
     "text": [
      "Loss: 0.1857577\n"
     ]
    },
    {
     "name": "stderr",
     "output_type": "stream",
     "text": [
      " 30%|███       | 1560/5126 [36:45<1:17:08,  1.30s/it]"
     ]
    },
    {
     "name": "stdout",
     "output_type": "stream",
     "text": [
      "Loss: 0.1873780\n"
     ]
    },
    {
     "name": "stderr",
     "output_type": "stream",
     "text": [
      " 31%|███       | 1580/5126 [37:14<1:19:43,  1.35s/it]"
     ]
    },
    {
     "name": "stdout",
     "output_type": "stream",
     "text": [
      "Loss: 0.1712584\n"
     ]
    },
    {
     "name": "stderr",
     "output_type": "stream",
     "text": [
      " 31%|███       | 1600/5126 [37:40<1:10:18,  1.20s/it]"
     ]
    },
    {
     "name": "stdout",
     "output_type": "stream",
     "text": [
      "Loss: 0.1723622\n"
     ]
    },
    {
     "name": "stderr",
     "output_type": "stream",
     "text": [
      " 32%|███▏      | 1620/5126 [38:07<1:16:35,  1.31s/it]"
     ]
    },
    {
     "name": "stdout",
     "output_type": "stream",
     "text": [
      "Loss: 0.1671536\n"
     ]
    },
    {
     "name": "stderr",
     "output_type": "stream",
     "text": [
      " 32%|███▏      | 1640/5126 [38:34<1:07:39,  1.16s/it]"
     ]
    },
    {
     "name": "stdout",
     "output_type": "stream",
     "text": [
      "Loss: 0.1721763\n"
     ]
    },
    {
     "name": "stderr",
     "output_type": "stream",
     "text": [
      " 32%|███▏      | 1660/5126 [39:03<1:22:21,  1.43s/it]"
     ]
    },
    {
     "name": "stdout",
     "output_type": "stream",
     "text": [
      "Loss: 0.2007435\n"
     ]
    },
    {
     "name": "stderr",
     "output_type": "stream",
     "text": [
      " 33%|███▎      | 1680/5126 [39:29<1:22:36,  1.44s/it]"
     ]
    },
    {
     "name": "stdout",
     "output_type": "stream",
     "text": [
      "Loss: 0.1819250\n",
      "Epoch    84: reducing learning rate of group 0 to 1.5000e-04.\n"
     ]
    },
    {
     "name": "stderr",
     "output_type": "stream",
     "text": [
      " 33%|███▎      | 1700/5126 [39:56<1:17:18,  1.35s/it]"
     ]
    },
    {
     "name": "stdout",
     "output_type": "stream",
     "text": [
      "Loss: 0.1645028\n"
     ]
    },
    {
     "name": "stderr",
     "output_type": "stream",
     "text": [
      " 34%|███▎      | 1720/5126 [40:23<1:15:24,  1.33s/it]"
     ]
    },
    {
     "name": "stdout",
     "output_type": "stream",
     "text": [
      "Loss: 0.1676641\n"
     ]
    },
    {
     "name": "stderr",
     "output_type": "stream",
     "text": [
      " 34%|███▍      | 1740/5126 [40:49<1:12:59,  1.29s/it]"
     ]
    },
    {
     "name": "stdout",
     "output_type": "stream",
     "text": [
      "Loss: 0.1650101\n"
     ]
    },
    {
     "name": "stderr",
     "output_type": "stream",
     "text": [
      " 34%|███▍      | 1760/5126 [41:13<1:01:41,  1.10s/it]"
     ]
    },
    {
     "name": "stdout",
     "output_type": "stream",
     "text": [
      "Loss: 0.1816830\n"
     ]
    },
    {
     "name": "stderr",
     "output_type": "stream",
     "text": [
      " 35%|███▍      | 1780/5126 [41:40<1:08:41,  1.23s/it]"
     ]
    },
    {
     "name": "stdout",
     "output_type": "stream",
     "text": [
      "Loss: 0.1771905\n"
     ]
    },
    {
     "name": "stderr",
     "output_type": "stream",
     "text": [
      " 35%|███▌      | 1800/5126 [42:08<1:14:47,  1.35s/it]"
     ]
    },
    {
     "name": "stdout",
     "output_type": "stream",
     "text": [
      "Loss: 0.1659345\n"
     ]
    },
    {
     "name": "stderr",
     "output_type": "stream",
     "text": [
      " 36%|███▌      | 1820/5126 [42:34<1:08:32,  1.24s/it]"
     ]
    },
    {
     "name": "stdout",
     "output_type": "stream",
     "text": [
      "Loss: 0.1761690\n"
     ]
    },
    {
     "name": "stderr",
     "output_type": "stream",
     "text": [
      " 36%|███▌      | 1840/5126 [42:59<1:12:03,  1.32s/it]"
     ]
    },
    {
     "name": "stdout",
     "output_type": "stream",
     "text": [
      "Loss: 0.1801571\n"
     ]
    },
    {
     "name": "stderr",
     "output_type": "stream",
     "text": [
      " 36%|███▋      | 1860/5126 [43:27<1:13:24,  1.35s/it]"
     ]
    },
    {
     "name": "stdout",
     "output_type": "stream",
     "text": [
      "Loss: 0.1842524\n"
     ]
    },
    {
     "name": "stderr",
     "output_type": "stream",
     "text": [
      " 37%|███▋      | 1880/5126 [43:55<1:15:06,  1.39s/it]"
     ]
    },
    {
     "name": "stdout",
     "output_type": "stream",
     "text": [
      "Loss: 0.1659903\n"
     ]
    },
    {
     "name": "stderr",
     "output_type": "stream",
     "text": [
      " 37%|███▋      | 1900/5126 [44:22<1:18:05,  1.45s/it]"
     ]
    },
    {
     "name": "stdout",
     "output_type": "stream",
     "text": [
      "Loss: 0.1873336\n"
     ]
    },
    {
     "name": "stderr",
     "output_type": "stream",
     "text": [
      " 37%|███▋      | 1920/5126 [44:49<1:05:34,  1.23s/it]"
     ]
    },
    {
     "name": "stdout",
     "output_type": "stream",
     "text": [
      "Loss: 0.1554004\n"
     ]
    },
    {
     "name": "stderr",
     "output_type": "stream",
     "text": [
      " 38%|███▊      | 1940/5126 [45:15<58:56,  1.11s/it]  "
     ]
    },
    {
     "name": "stdout",
     "output_type": "stream",
     "text": [
      "Loss: 0.1740135\n"
     ]
    },
    {
     "name": "stderr",
     "output_type": "stream",
     "text": [
      " 38%|███▊      | 1960/5126 [45:42<1:16:29,  1.45s/it]"
     ]
    },
    {
     "name": "stdout",
     "output_type": "stream",
     "text": [
      "Loss: 0.1785432\n"
     ]
    },
    {
     "name": "stderr",
     "output_type": "stream",
     "text": [
      " 39%|███▊      | 1980/5126 [46:07<1:14:21,  1.42s/it]"
     ]
    },
    {
     "name": "stdout",
     "output_type": "stream",
     "text": [
      "Loss: 0.2102173\n"
     ]
    },
    {
     "name": "stderr",
     "output_type": "stream",
     "text": [
      " 39%|███▉      | 2000/5126 [46:34<1:12:47,  1.40s/it]"
     ]
    },
    {
     "name": "stdout",
     "output_type": "stream",
     "text": [
      "Loss: 0.1882339\n"
     ]
    },
    {
     "name": "stderr",
     "output_type": "stream",
     "text": [
      " 39%|███▉      | 2020/5126 [46:59<1:01:09,  1.18s/it]"
     ]
    },
    {
     "name": "stdout",
     "output_type": "stream",
     "text": [
      "Loss: 0.1841723\n"
     ]
    },
    {
     "name": "stderr",
     "output_type": "stream",
     "text": [
      " 40%|███▉      | 2040/5126 [47:25<1:10:02,  1.36s/it]"
     ]
    },
    {
     "name": "stdout",
     "output_type": "stream",
     "text": [
      "Loss: 0.1796906\n"
     ]
    },
    {
     "name": "stderr",
     "output_type": "stream",
     "text": [
      " 40%|████      | 2060/5126 [47:51<58:51,  1.15s/it]  "
     ]
    },
    {
     "name": "stdout",
     "output_type": "stream",
     "text": [
      "Loss: 0.1642413\n"
     ]
    },
    {
     "name": "stderr",
     "output_type": "stream",
     "text": [
      " 41%|████      | 2080/5126 [48:19<1:05:14,  1.29s/it]"
     ]
    },
    {
     "name": "stdout",
     "output_type": "stream",
     "text": [
      "Loss: 0.1973367\n"
     ]
    },
    {
     "name": "stderr",
     "output_type": "stream",
     "text": [
      " 41%|████      | 2100/5126 [48:45<1:12:03,  1.43s/it]"
     ]
    },
    {
     "name": "stdout",
     "output_type": "stream",
     "text": [
      "Loss: 0.1586267\n"
     ]
    },
    {
     "name": "stderr",
     "output_type": "stream",
     "text": [
      " 41%|████▏     | 2120/5126 [49:13<1:13:19,  1.46s/it]"
     ]
    },
    {
     "name": "stdout",
     "output_type": "stream",
     "text": [
      "Loss: 0.1590215\n"
     ]
    },
    {
     "name": "stderr",
     "output_type": "stream",
     "text": [
      " 42%|████▏     | 2140/5126 [49:40<1:11:57,  1.45s/it]"
     ]
    },
    {
     "name": "stdout",
     "output_type": "stream",
     "text": [
      "Loss: 0.1696211\n"
     ]
    },
    {
     "name": "stderr",
     "output_type": "stream",
     "text": [
      " 42%|████▏     | 2160/5126 [50:09<1:06:01,  1.34s/it]"
     ]
    },
    {
     "name": "stdout",
     "output_type": "stream",
     "text": [
      "Loss: 0.1870134\n"
     ]
    },
    {
     "name": "stderr",
     "output_type": "stream",
     "text": [
      " 43%|████▎     | 2180/5126 [50:39<1:15:16,  1.53s/it]"
     ]
    },
    {
     "name": "stdout",
     "output_type": "stream",
     "text": [
      "Loss: 0.1683654\n"
     ]
    },
    {
     "name": "stderr",
     "output_type": "stream",
     "text": [
      " 43%|████▎     | 2200/5126 [51:05<1:02:51,  1.29s/it]"
     ]
    },
    {
     "name": "stdout",
     "output_type": "stream",
     "text": [
      "Loss: 0.1827730\n"
     ]
    },
    {
     "name": "stderr",
     "output_type": "stream",
     "text": [
      " 43%|████▎     | 2220/5126 [51:33<1:09:20,  1.43s/it]"
     ]
    },
    {
     "name": "stdout",
     "output_type": "stream",
     "text": [
      "Loss: 0.1858255\n"
     ]
    },
    {
     "name": "stderr",
     "output_type": "stream",
     "text": [
      " 44%|████▎     | 2240/5126 [52:01<1:00:36,  1.26s/it]"
     ]
    },
    {
     "name": "stdout",
     "output_type": "stream",
     "text": [
      "Loss: 0.1777642\n"
     ]
    },
    {
     "name": "stderr",
     "output_type": "stream",
     "text": [
      " 44%|████▍     | 2260/5126 [52:27<1:01:11,  1.28s/it]"
     ]
    },
    {
     "name": "stdout",
     "output_type": "stream",
     "text": [
      "Loss: 0.1708846\n"
     ]
    },
    {
     "name": "stderr",
     "output_type": "stream",
     "text": [
      " 44%|████▍     | 2280/5126 [52:53<1:03:36,  1.34s/it]"
     ]
    },
    {
     "name": "stdout",
     "output_type": "stream",
     "text": [
      "Loss: 0.1917830\n"
     ]
    },
    {
     "name": "stderr",
     "output_type": "stream",
     "text": [
      " 45%|████▍     | 2300/5126 [53:19<57:04,  1.21s/it]  "
     ]
    },
    {
     "name": "stdout",
     "output_type": "stream",
     "text": [
      "Loss: 0.1871124\n"
     ]
    },
    {
     "name": "stderr",
     "output_type": "stream",
     "text": [
      " 45%|████▌     | 2320/5126 [53:48<1:18:47,  1.68s/it]"
     ]
    },
    {
     "name": "stdout",
     "output_type": "stream",
     "text": [
      "Loss: 0.1887963\n"
     ]
    },
    {
     "name": "stderr",
     "output_type": "stream",
     "text": [
      " 46%|████▌     | 2340/5126 [54:14<56:46,  1.22s/it]  "
     ]
    },
    {
     "name": "stdout",
     "output_type": "stream",
     "text": [
      "Loss: 0.1588981\n",
      "Epoch   117: reducing learning rate of group 0 to 7.5000e-05.\n"
     ]
    },
    {
     "name": "stderr",
     "output_type": "stream",
     "text": [
      " 46%|████▌     | 2360/5126 [54:41<1:05:00,  1.41s/it]"
     ]
    },
    {
     "name": "stdout",
     "output_type": "stream",
     "text": [
      "Loss: 0.1592105\n"
     ]
    },
    {
     "name": "stderr",
     "output_type": "stream",
     "text": [
      " 46%|████▋     | 2380/5126 [55:06<57:24,  1.25s/it]  "
     ]
    },
    {
     "name": "stdout",
     "output_type": "stream",
     "text": [
      "Loss: 0.1836422\n"
     ]
    },
    {
     "name": "stderr",
     "output_type": "stream",
     "text": [
      " 47%|████▋     | 2400/5126 [55:33<1:07:24,  1.48s/it]"
     ]
    },
    {
     "name": "stdout",
     "output_type": "stream",
     "text": [
      "Loss: 0.1778867\n"
     ]
    },
    {
     "name": "stderr",
     "output_type": "stream",
     "text": [
      " 47%|████▋     | 2420/5126 [55:59<58:01,  1.29s/it]  "
     ]
    },
    {
     "name": "stdout",
     "output_type": "stream",
     "text": [
      "Loss: 0.1636289\n"
     ]
    },
    {
     "name": "stderr",
     "output_type": "stream",
     "text": [
      " 48%|████▊     | 2440/5126 [56:28<1:05:24,  1.46s/it]"
     ]
    },
    {
     "name": "stdout",
     "output_type": "stream",
     "text": [
      "Loss: 0.1622680\n"
     ]
    },
    {
     "name": "stderr",
     "output_type": "stream",
     "text": [
      " 48%|████▊     | 2460/5126 [56:53<53:34,  1.21s/it]  "
     ]
    },
    {
     "name": "stdout",
     "output_type": "stream",
     "text": [
      "Loss: 0.1638872\n"
     ]
    },
    {
     "name": "stderr",
     "output_type": "stream",
     "text": [
      " 48%|████▊     | 2480/5126 [57:19<58:11,  1.32s/it]  "
     ]
    },
    {
     "name": "stdout",
     "output_type": "stream",
     "text": [
      "Loss: 0.1858202\n"
     ]
    },
    {
     "name": "stderr",
     "output_type": "stream",
     "text": [
      " 49%|████▉     | 2500/5126 [57:44<48:31,  1.11s/it]  "
     ]
    },
    {
     "name": "stdout",
     "output_type": "stream",
     "text": [
      "Loss: 0.1975802\n"
     ]
    },
    {
     "name": "stderr",
     "output_type": "stream",
     "text": [
      " 49%|████▉     | 2520/5126 [58:12<1:07:53,  1.56s/it]"
     ]
    },
    {
     "name": "stdout",
     "output_type": "stream",
     "text": [
      "Loss: 0.1589748\n"
     ]
    },
    {
     "name": "stderr",
     "output_type": "stream",
     "text": [
      " 50%|████▉     | 2540/5126 [58:39<49:25,  1.15s/it]  "
     ]
    },
    {
     "name": "stdout",
     "output_type": "stream",
     "text": [
      "Loss: 0.1659446\n"
     ]
    },
    {
     "name": "stderr",
     "output_type": "stream",
     "text": [
      " 50%|████▉     | 2560/5126 [59:09<1:00:49,  1.42s/it]"
     ]
    },
    {
     "name": "stdout",
     "output_type": "stream",
     "text": [
      "Loss: 0.1575736\n"
     ]
    },
    {
     "name": "stderr",
     "output_type": "stream",
     "text": [
      " 50%|█████     | 2580/5126 [59:35<1:00:11,  1.42s/it]"
     ]
    },
    {
     "name": "stdout",
     "output_type": "stream",
     "text": [
      "Loss: 0.1951937\n"
     ]
    },
    {
     "name": "stderr",
     "output_type": "stream",
     "text": [
      " 51%|█████     | 2600/5126 [1:00:03<56:02,  1.33s/it]"
     ]
    },
    {
     "name": "stdout",
     "output_type": "stream",
     "text": [
      "Loss: 0.1591574\n"
     ]
    },
    {
     "name": "stderr",
     "output_type": "stream",
     "text": [
      " 51%|█████     | 2620/5126 [1:00:33<56:21,  1.35s/it]  "
     ]
    },
    {
     "name": "stdout",
     "output_type": "stream",
     "text": [
      "Loss: 0.1762185\n"
     ]
    },
    {
     "name": "stderr",
     "output_type": "stream",
     "text": [
      " 52%|█████▏    | 2640/5126 [1:00:59<56:37,  1.37s/it]  "
     ]
    },
    {
     "name": "stdout",
     "output_type": "stream",
     "text": [
      "Loss: 0.1782446\n"
     ]
    },
    {
     "name": "stderr",
     "output_type": "stream",
     "text": [
      " 52%|█████▏    | 2660/5126 [1:01:27<57:20,  1.40s/it]  "
     ]
    },
    {
     "name": "stdout",
     "output_type": "stream",
     "text": [
      "Loss: 0.1828445\n"
     ]
    },
    {
     "name": "stderr",
     "output_type": "stream",
     "text": [
      " 52%|█████▏    | 2680/5126 [1:01:54<53:05,  1.30s/it]  "
     ]
    },
    {
     "name": "stdout",
     "output_type": "stream",
     "text": [
      "Loss: 0.1657821\n"
     ]
    },
    {
     "name": "stderr",
     "output_type": "stream",
     "text": [
      " 53%|█████▎    | 2700/5126 [1:02:21<1:00:14,  1.49s/it]"
     ]
    },
    {
     "name": "stdout",
     "output_type": "stream",
     "text": [
      "Loss: 0.1463116\n"
     ]
    },
    {
     "name": "stderr",
     "output_type": "stream",
     "text": [
      " 53%|█████▎    | 2720/5126 [1:02:46<47:51,  1.19s/it]  "
     ]
    },
    {
     "name": "stdout",
     "output_type": "stream",
     "text": [
      "Loss: 0.1705804\n"
     ]
    },
    {
     "name": "stderr",
     "output_type": "stream",
     "text": [
      " 53%|█████▎    | 2740/5126 [1:03:14<54:25,  1.37s/it]  "
     ]
    },
    {
     "name": "stdout",
     "output_type": "stream",
     "text": [
      "Loss: 0.1749822\n"
     ]
    },
    {
     "name": "stderr",
     "output_type": "stream",
     "text": [
      " 54%|█████▍    | 2760/5126 [1:03:40<54:48,  1.39s/it]"
     ]
    },
    {
     "name": "stdout",
     "output_type": "stream",
     "text": [
      "Loss: 0.1674075\n"
     ]
    },
    {
     "name": "stderr",
     "output_type": "stream",
     "text": [
      " 54%|█████▍    | 2780/5126 [1:04:06<51:11,  1.31s/it]"
     ]
    },
    {
     "name": "stdout",
     "output_type": "stream",
     "text": [
      "Loss: 0.1625945\n"
     ]
    },
    {
     "name": "stderr",
     "output_type": "stream",
     "text": [
      " 55%|█████▍    | 2800/5126 [1:04:36<53:14,  1.37s/it]  "
     ]
    },
    {
     "name": "stdout",
     "output_type": "stream",
     "text": [
      "Loss: 0.1796984\n"
     ]
    },
    {
     "name": "stderr",
     "output_type": "stream",
     "text": [
      " 55%|█████▌    | 2820/5126 [1:05:03<48:56,  1.27s/it]"
     ]
    },
    {
     "name": "stdout",
     "output_type": "stream",
     "text": [
      "Loss: 0.1648903\n"
     ]
    },
    {
     "name": "stderr",
     "output_type": "stream",
     "text": [
      " 55%|█████▌    | 2840/5126 [1:05:31<55:28,  1.46s/it]"
     ]
    },
    {
     "name": "stdout",
     "output_type": "stream",
     "text": [
      "Loss: 0.1791333\n"
     ]
    },
    {
     "name": "stderr",
     "output_type": "stream",
     "text": [
      " 56%|█████▌    | 2860/5126 [1:05:58<46:21,  1.23s/it]"
     ]
    },
    {
     "name": "stdout",
     "output_type": "stream",
     "text": [
      "Loss: 0.1462908\n"
     ]
    },
    {
     "name": "stderr",
     "output_type": "stream",
     "text": [
      " 56%|█████▌    | 2880/5126 [1:06:23<46:26,  1.24s/it]"
     ]
    },
    {
     "name": "stdout",
     "output_type": "stream",
     "text": [
      "Loss: 0.1568069\n"
     ]
    },
    {
     "name": "stderr",
     "output_type": "stream",
     "text": [
      " 57%|█████▋    | 2900/5126 [1:06:51<50:03,  1.35s/it]"
     ]
    },
    {
     "name": "stdout",
     "output_type": "stream",
     "text": [
      "Loss: 0.1780265\n"
     ]
    },
    {
     "name": "stderr",
     "output_type": "stream",
     "text": [
      " 57%|█████▋    | 2920/5126 [1:07:16<45:46,  1.24s/it]"
     ]
    },
    {
     "name": "stdout",
     "output_type": "stream",
     "text": [
      "Loss: 0.1569904\n"
     ]
    },
    {
     "name": "stderr",
     "output_type": "stream",
     "text": [
      " 57%|█████▋    | 2940/5126 [1:07:43<55:05,  1.51s/it]"
     ]
    },
    {
     "name": "stdout",
     "output_type": "stream",
     "text": [
      "Loss: 0.1633112\n"
     ]
    },
    {
     "name": "stderr",
     "output_type": "stream",
     "text": [
      " 58%|█████▊    | 2960/5126 [1:08:12<44:09,  1.22s/it]  "
     ]
    },
    {
     "name": "stdout",
     "output_type": "stream",
     "text": [
      "Loss: 0.1787292\n"
     ]
    },
    {
     "name": "stderr",
     "output_type": "stream",
     "text": [
      " 58%|█████▊    | 2980/5126 [1:08:38<53:00,  1.48s/it]"
     ]
    },
    {
     "name": "stdout",
     "output_type": "stream",
     "text": [
      "Loss: 0.1722740\n"
     ]
    },
    {
     "name": "stderr",
     "output_type": "stream",
     "text": [
      " 59%|█████▊    | 3000/5126 [1:09:03<46:44,  1.32s/it]"
     ]
    },
    {
     "name": "stdout",
     "output_type": "stream",
     "text": [
      "Loss: 0.1556489\n"
     ]
    },
    {
     "name": "stderr",
     "output_type": "stream",
     "text": [
      " 59%|█████▉    | 3020/5126 [1:09:31<51:01,  1.45s/it]"
     ]
    },
    {
     "name": "stdout",
     "output_type": "stream",
     "text": [
      "Loss: 0.1534291\n"
     ]
    },
    {
     "name": "stderr",
     "output_type": "stream",
     "text": [
      " 59%|█████▉    | 3040/5126 [1:09:58<49:52,  1.43s/it]"
     ]
    },
    {
     "name": "stdout",
     "output_type": "stream",
     "text": [
      "Loss: 0.1607682\n"
     ]
    },
    {
     "name": "stderr",
     "output_type": "stream",
     "text": [
      " 60%|█████▉    | 3060/5126 [1:10:28<57:16,  1.66s/it]  "
     ]
    },
    {
     "name": "stdout",
     "output_type": "stream",
     "text": [
      "Loss: 0.1482413\n"
     ]
    },
    {
     "name": "stderr",
     "output_type": "stream",
     "text": [
      " 60%|██████    | 3080/5126 [1:10:55<50:44,  1.49s/it]"
     ]
    },
    {
     "name": "stdout",
     "output_type": "stream",
     "text": [
      "Loss: 0.1658233\n"
     ]
    },
    {
     "name": "stderr",
     "output_type": "stream",
     "text": [
      " 60%|██████    | 3100/5126 [1:11:23<48:04,  1.42s/it]"
     ]
    },
    {
     "name": "stdout",
     "output_type": "stream",
     "text": [
      "Loss: 0.1589498\n"
     ]
    },
    {
     "name": "stderr",
     "output_type": "stream",
     "text": [
      " 61%|██████    | 3120/5126 [1:11:49<40:03,  1.20s/it]"
     ]
    },
    {
     "name": "stdout",
     "output_type": "stream",
     "text": [
      "Loss: 0.1619943\n"
     ]
    },
    {
     "name": "stderr",
     "output_type": "stream",
     "text": [
      " 61%|██████▏   | 3140/5126 [1:12:16<46:27,  1.40s/it]"
     ]
    },
    {
     "name": "stdout",
     "output_type": "stream",
     "text": [
      "Loss: 0.1574768\n"
     ]
    },
    {
     "name": "stderr",
     "output_type": "stream",
     "text": [
      " 62%|██████▏   | 3160/5126 [1:12:41<41:38,  1.27s/it]"
     ]
    },
    {
     "name": "stdout",
     "output_type": "stream",
     "text": [
      "Loss: 0.1665394\n"
     ]
    },
    {
     "name": "stderr",
     "output_type": "stream",
     "text": [
      " 62%|██████▏   | 3180/5126 [1:13:09<45:39,  1.41s/it]"
     ]
    },
    {
     "name": "stdout",
     "output_type": "stream",
     "text": [
      "Loss: 0.1777639\n"
     ]
    },
    {
     "name": "stderr",
     "output_type": "stream",
     "text": [
      " 62%|██████▏   | 3200/5126 [1:13:37<47:47,  1.49s/it]"
     ]
    },
    {
     "name": "stdout",
     "output_type": "stream",
     "text": [
      "Loss: 0.1528096\n"
     ]
    },
    {
     "name": "stderr",
     "output_type": "stream",
     "text": [
      " 63%|██████▎   | 3220/5126 [1:14:04<37:04,  1.17s/it]"
     ]
    },
    {
     "name": "stdout",
     "output_type": "stream",
     "text": [
      "Loss: 0.1515231\n"
     ]
    },
    {
     "name": "stderr",
     "output_type": "stream",
     "text": [
      " 63%|██████▎   | 3240/5126 [1:14:30<41:08,  1.31s/it]"
     ]
    },
    {
     "name": "stdout",
     "output_type": "stream",
     "text": [
      "Loss: 0.1746634\n"
     ]
    },
    {
     "name": "stderr",
     "output_type": "stream",
     "text": [
      " 64%|██████▎   | 3260/5126 [1:14:56<39:45,  1.28s/it]"
     ]
    },
    {
     "name": "stdout",
     "output_type": "stream",
     "text": [
      "Loss: 0.1580802\n"
     ]
    },
    {
     "name": "stderr",
     "output_type": "stream",
     "text": [
      " 64%|██████▍   | 3280/5126 [1:15:23<42:21,  1.38s/it]"
     ]
    },
    {
     "name": "stdout",
     "output_type": "stream",
     "text": [
      "Loss: 0.1374999\n"
     ]
    },
    {
     "name": "stderr",
     "output_type": "stream",
     "text": [
      " 64%|██████▍   | 3300/5126 [1:15:48<38:33,  1.27s/it]"
     ]
    },
    {
     "name": "stdout",
     "output_type": "stream",
     "text": [
      "Loss: 0.1611322\n"
     ]
    },
    {
     "name": "stderr",
     "output_type": "stream",
     "text": [
      " 65%|██████▍   | 3320/5126 [1:16:16<37:52,  1.26s/it]"
     ]
    },
    {
     "name": "stdout",
     "output_type": "stream",
     "text": [
      "Loss: 0.1494281\n"
     ]
    },
    {
     "name": "stderr",
     "output_type": "stream",
     "text": [
      " 65%|██████▌   | 3340/5126 [1:16:42<36:17,  1.22s/it]"
     ]
    },
    {
     "name": "stdout",
     "output_type": "stream",
     "text": [
      "Loss: 0.1707476\n"
     ]
    },
    {
     "name": "stderr",
     "output_type": "stream",
     "text": [
      " 66%|██████▌   | 3360/5126 [1:17:11<40:25,  1.37s/it]"
     ]
    },
    {
     "name": "stdout",
     "output_type": "stream",
     "text": [
      "Loss: 0.1592761\n"
     ]
    },
    {
     "name": "stderr",
     "output_type": "stream",
     "text": [
      " 66%|██████▌   | 3380/5126 [1:17:40<41:27,  1.42s/it]"
     ]
    },
    {
     "name": "stdout",
     "output_type": "stream",
     "text": [
      "Loss: 0.1745944\n"
     ]
    },
    {
     "name": "stderr",
     "output_type": "stream",
     "text": [
      " 66%|██████▋   | 3400/5126 [1:18:08<39:10,  1.36s/it]"
     ]
    },
    {
     "name": "stdout",
     "output_type": "stream",
     "text": [
      "Loss: 0.1654283\n"
     ]
    },
    {
     "name": "stderr",
     "output_type": "stream",
     "text": [
      " 67%|██████▋   | 3420/5126 [1:18:36<38:02,  1.34s/it]"
     ]
    },
    {
     "name": "stdout",
     "output_type": "stream",
     "text": [
      "Loss: 0.1660322\n"
     ]
    },
    {
     "name": "stderr",
     "output_type": "stream",
     "text": [
      " 67%|██████▋   | 3440/5126 [1:19:04<38:01,  1.35s/it]"
     ]
    },
    {
     "name": "stdout",
     "output_type": "stream",
     "text": [
      "Loss: 0.1672998\n"
     ]
    },
    {
     "name": "stderr",
     "output_type": "stream",
     "text": [
      " 67%|██████▋   | 3460/5126 [1:19:31<34:10,  1.23s/it]"
     ]
    },
    {
     "name": "stdout",
     "output_type": "stream",
     "text": [
      "Loss: 0.1746614\n"
     ]
    },
    {
     "name": "stderr",
     "output_type": "stream",
     "text": [
      " 68%|██████▊   | 3480/5126 [1:19:58<35:36,  1.30s/it]"
     ]
    },
    {
     "name": "stdout",
     "output_type": "stream",
     "text": [
      "Loss: 0.1554539\n"
     ]
    },
    {
     "name": "stderr",
     "output_type": "stream",
     "text": [
      " 68%|██████▊   | 3500/5126 [1:20:23<31:52,  1.18s/it]"
     ]
    },
    {
     "name": "stdout",
     "output_type": "stream",
     "text": [
      "Loss: 0.1845854\n"
     ]
    },
    {
     "name": "stderr",
     "output_type": "stream",
     "text": [
      " 69%|██████▊   | 3520/5126 [1:20:53<37:39,  1.41s/it]"
     ]
    },
    {
     "name": "stdout",
     "output_type": "stream",
     "text": [
      "Loss: 0.1630744\n"
     ]
    },
    {
     "name": "stderr",
     "output_type": "stream",
     "text": [
      " 69%|██████▉   | 3540/5126 [1:21:21<36:30,  1.38s/it]"
     ]
    },
    {
     "name": "stdout",
     "output_type": "stream",
     "text": [
      "Loss: 0.1606908\n"
     ]
    },
    {
     "name": "stderr",
     "output_type": "stream",
     "text": [
      " 69%|██████▉   | 3560/5126 [1:21:52<34:35,  1.33s/it]"
     ]
    },
    {
     "name": "stdout",
     "output_type": "stream",
     "text": [
      "Loss: 0.1667917\n"
     ]
    },
    {
     "name": "stderr",
     "output_type": "stream",
     "text": [
      " 70%|██████▉   | 3580/5126 [1:22:19<33:05,  1.28s/it]"
     ]
    },
    {
     "name": "stdout",
     "output_type": "stream",
     "text": [
      "Loss: 0.2117778\n"
     ]
    },
    {
     "name": "stderr",
     "output_type": "stream",
     "text": [
      " 70%|███████   | 3600/5126 [1:22:45<33:18,  1.31s/it]"
     ]
    },
    {
     "name": "stdout",
     "output_type": "stream",
     "text": [
      "Loss: 0.1637619\n"
     ]
    },
    {
     "name": "stderr",
     "output_type": "stream",
     "text": [
      " 71%|███████   | 3620/5126 [1:23:10<30:43,  1.22s/it]"
     ]
    },
    {
     "name": "stdout",
     "output_type": "stream",
     "text": [
      "Loss: 0.1601621\n"
     ]
    },
    {
     "name": "stderr",
     "output_type": "stream",
     "text": [
      " 71%|███████   | 3640/5126 [1:23:39<35:47,  1.45s/it]"
     ]
    },
    {
     "name": "stdout",
     "output_type": "stream",
     "text": [
      "Loss: 0.1550784\n"
     ]
    },
    {
     "name": "stderr",
     "output_type": "stream",
     "text": [
      " 71%|███████▏  | 3660/5126 [1:24:05<32:40,  1.34s/it]"
     ]
    },
    {
     "name": "stdout",
     "output_type": "stream",
     "text": [
      "Loss: 0.1729025\n"
     ]
    },
    {
     "name": "stderr",
     "output_type": "stream",
     "text": [
      " 72%|███████▏  | 3680/5126 [1:24:29<24:34,  1.02s/it]"
     ]
    },
    {
     "name": "stdout",
     "output_type": "stream",
     "text": [
      "Loss: 0.1559199\n"
     ]
    },
    {
     "name": "stderr",
     "output_type": "stream",
     "text": [
      " 72%|███████▏  | 3700/5126 [1:24:54<28:43,  1.21s/it]"
     ]
    },
    {
     "name": "stdout",
     "output_type": "stream",
     "text": [
      "Loss: 0.1614430\n",
      "Epoch   185: reducing learning rate of group 0 to 3.7500e-05.\n"
     ]
    },
    {
     "name": "stderr",
     "output_type": "stream",
     "text": [
      " 73%|███████▎  | 3720/5126 [1:25:23<38:09,  1.63s/it]"
     ]
    },
    {
     "name": "stdout",
     "output_type": "stream",
     "text": [
      "Loss: 0.1784320\n"
     ]
    },
    {
     "name": "stderr",
     "output_type": "stream",
     "text": [
      " 73%|███████▎  | 3740/5126 [1:25:51<32:24,  1.40s/it]"
     ]
    },
    {
     "name": "stdout",
     "output_type": "stream",
     "text": [
      "Loss: 0.1607090\n"
     ]
    },
    {
     "name": "stderr",
     "output_type": "stream",
     "text": [
      " 73%|███████▎  | 3760/5126 [1:26:17<28:47,  1.26s/it]"
     ]
    },
    {
     "name": "stdout",
     "output_type": "stream",
     "text": [
      "Loss: 0.1527375\n"
     ]
    },
    {
     "name": "stderr",
     "output_type": "stream",
     "text": [
      " 74%|███████▎  | 3780/5126 [1:26:42<27:24,  1.22s/it]"
     ]
    },
    {
     "name": "stdout",
     "output_type": "stream",
     "text": [
      "Loss: 0.1770272\n"
     ]
    },
    {
     "name": "stderr",
     "output_type": "stream",
     "text": [
      " 74%|███████▍  | 3800/5126 [1:27:11<33:11,  1.50s/it]"
     ]
    },
    {
     "name": "stdout",
     "output_type": "stream",
     "text": [
      "Loss: 0.1796266\n"
     ]
    },
    {
     "name": "stderr",
     "output_type": "stream",
     "text": [
      " 75%|███████▍  | 3820/5126 [1:27:37<34:34,  1.59s/it]"
     ]
    },
    {
     "name": "stdout",
     "output_type": "stream",
     "text": [
      "Loss: 0.1672244\n"
     ]
    },
    {
     "name": "stderr",
     "output_type": "stream",
     "text": [
      " 75%|███████▍  | 3840/5126 [1:28:03<27:43,  1.29s/it]"
     ]
    },
    {
     "name": "stdout",
     "output_type": "stream",
     "text": [
      "Loss: 0.1811952\n"
     ]
    },
    {
     "name": "stderr",
     "output_type": "stream",
     "text": [
      " 75%|███████▌  | 3860/5126 [1:28:30<27:41,  1.31s/it]"
     ]
    },
    {
     "name": "stdout",
     "output_type": "stream",
     "text": [
      "Loss: 0.1572348\n"
     ]
    },
    {
     "name": "stderr",
     "output_type": "stream",
     "text": [
      " 76%|███████▌  | 3880/5126 [1:28:58<29:18,  1.41s/it]"
     ]
    },
    {
     "name": "stdout",
     "output_type": "stream",
     "text": [
      "Loss: 0.1641418\n"
     ]
    },
    {
     "name": "stderr",
     "output_type": "stream",
     "text": [
      " 76%|███████▌  | 3900/5126 [1:29:26<30:51,  1.51s/it]"
     ]
    },
    {
     "name": "stdout",
     "output_type": "stream",
     "text": [
      "Loss: 0.1521003\n"
     ]
    },
    {
     "name": "stderr",
     "output_type": "stream",
     "text": [
      " 76%|███████▋  | 3920/5126 [1:29:52<30:46,  1.53s/it]"
     ]
    },
    {
     "name": "stdout",
     "output_type": "stream",
     "text": [
      "Loss: 0.1716250\n"
     ]
    },
    {
     "name": "stderr",
     "output_type": "stream",
     "text": [
      " 77%|███████▋  | 3940/5126 [1:30:19<29:17,  1.48s/it]"
     ]
    },
    {
     "name": "stdout",
     "output_type": "stream",
     "text": [
      "Loss: 0.1657639\n"
     ]
    },
    {
     "name": "stderr",
     "output_type": "stream",
     "text": [
      " 77%|███████▋  | 3960/5126 [1:30:48<23:35,  1.21s/it]"
     ]
    },
    {
     "name": "stdout",
     "output_type": "stream",
     "text": [
      "Loss: 0.1586927\n"
     ]
    },
    {
     "name": "stderr",
     "output_type": "stream",
     "text": [
      " 78%|███████▊  | 3980/5126 [1:31:16<30:42,  1.61s/it]"
     ]
    },
    {
     "name": "stdout",
     "output_type": "stream",
     "text": [
      "Loss: 0.1635067\n"
     ]
    },
    {
     "name": "stderr",
     "output_type": "stream",
     "text": [
      " 78%|███████▊  | 4000/5126 [1:31:44<28:50,  1.54s/it]"
     ]
    },
    {
     "name": "stdout",
     "output_type": "stream",
     "text": [
      "Loss: 0.1574199\n"
     ]
    },
    {
     "name": "stderr",
     "output_type": "stream",
     "text": [
      " 78%|███████▊  | 4020/5126 [1:32:11<23:31,  1.28s/it]"
     ]
    },
    {
     "name": "stdout",
     "output_type": "stream",
     "text": [
      "Loss: 0.1592584\n"
     ]
    },
    {
     "name": "stderr",
     "output_type": "stream",
     "text": [
      " 79%|███████▉  | 4040/5126 [1:32:38<22:25,  1.24s/it]"
     ]
    },
    {
     "name": "stdout",
     "output_type": "stream",
     "text": [
      "Loss: 0.1682878\n"
     ]
    },
    {
     "name": "stderr",
     "output_type": "stream",
     "text": [
      " 79%|███████▉  | 4060/5126 [1:33:04<21:54,  1.23s/it]"
     ]
    },
    {
     "name": "stdout",
     "output_type": "stream",
     "text": [
      "Loss: 0.1727464\n"
     ]
    },
    {
     "name": "stderr",
     "output_type": "stream",
     "text": [
      " 80%|███████▉  | 4080/5126 [1:33:32<27:17,  1.57s/it]"
     ]
    },
    {
     "name": "stdout",
     "output_type": "stream",
     "text": [
      "Loss: 0.1880667\n"
     ]
    },
    {
     "name": "stderr",
     "output_type": "stream",
     "text": [
      " 80%|███████▉  | 4100/5126 [1:33:59<23:56,  1.40s/it]"
     ]
    },
    {
     "name": "stdout",
     "output_type": "stream",
     "text": [
      "Loss: 0.1874403\n"
     ]
    },
    {
     "name": "stderr",
     "output_type": "stream",
     "text": [
      " 80%|████████  | 4120/5126 [1:34:27<25:26,  1.52s/it]"
     ]
    },
    {
     "name": "stdout",
     "output_type": "stream",
     "text": [
      "Loss: 0.1713852\n",
      "Epoch   206: reducing learning rate of group 0 to 1.8750e-05.\n"
     ]
    },
    {
     "name": "stderr",
     "output_type": "stream",
     "text": [
      " 81%|████████  | 4140/5126 [1:34:51<21:41,  1.32s/it]"
     ]
    },
    {
     "name": "stdout",
     "output_type": "stream",
     "text": [
      "Loss: 0.1772847\n"
     ]
    },
    {
     "name": "stderr",
     "output_type": "stream",
     "text": [
      " 81%|████████  | 4160/5126 [1:35:20<23:16,  1.45s/it]"
     ]
    },
    {
     "name": "stdout",
     "output_type": "stream",
     "text": [
      "Loss: 0.1893535\n"
     ]
    },
    {
     "name": "stderr",
     "output_type": "stream",
     "text": [
      " 82%|████████▏ | 4180/5126 [1:35:46<21:49,  1.38s/it]"
     ]
    },
    {
     "name": "stdout",
     "output_type": "stream",
     "text": [
      "Loss: 0.1650515\n"
     ]
    },
    {
     "name": "stderr",
     "output_type": "stream",
     "text": [
      " 82%|████████▏ | 4200/5126 [1:36:11<22:37,  1.47s/it]"
     ]
    },
    {
     "name": "stdout",
     "output_type": "stream",
     "text": [
      "Loss: 0.1589452\n"
     ]
    },
    {
     "name": "stderr",
     "output_type": "stream",
     "text": [
      " 82%|████████▏ | 4220/5126 [1:36:39<20:49,  1.38s/it]"
     ]
    },
    {
     "name": "stdout",
     "output_type": "stream",
     "text": [
      "Loss: 0.1453548\n"
     ]
    },
    {
     "name": "stderr",
     "output_type": "stream",
     "text": [
      " 83%|████████▎ | 4240/5126 [1:37:07<18:33,  1.26s/it]"
     ]
    },
    {
     "name": "stdout",
     "output_type": "stream",
     "text": [
      "Loss: 0.1686509\n"
     ]
    },
    {
     "name": "stderr",
     "output_type": "stream",
     "text": [
      " 83%|████████▎ | 4260/5126 [1:37:34<19:04,  1.32s/it]"
     ]
    },
    {
     "name": "stdout",
     "output_type": "stream",
     "text": [
      "Loss: 0.1740572\n"
     ]
    },
    {
     "name": "stderr",
     "output_type": "stream",
     "text": [
      " 83%|████████▎ | 4280/5126 [1:38:04<21:56,  1.56s/it]"
     ]
    },
    {
     "name": "stdout",
     "output_type": "stream",
     "text": [
      "Loss: 0.1495422\n"
     ]
    },
    {
     "name": "stderr",
     "output_type": "stream",
     "text": [
      " 84%|████████▍ | 4300/5126 [1:38:31<15:27,  1.12s/it]"
     ]
    },
    {
     "name": "stdout",
     "output_type": "stream",
     "text": [
      "Loss: 0.1816374\n"
     ]
    },
    {
     "name": "stderr",
     "output_type": "stream",
     "text": [
      " 84%|████████▍ | 4320/5126 [1:38:59<19:09,  1.43s/it]"
     ]
    },
    {
     "name": "stdout",
     "output_type": "stream",
     "text": [
      "Loss: 0.1590448\n"
     ]
    },
    {
     "name": "stderr",
     "output_type": "stream",
     "text": [
      " 85%|████████▍ | 4340/5126 [1:39:27<18:52,  1.44s/it]"
     ]
    },
    {
     "name": "stdout",
     "output_type": "stream",
     "text": [
      "Loss: 0.1848043\n"
     ]
    },
    {
     "name": "stderr",
     "output_type": "stream",
     "text": [
      " 85%|████████▌ | 4360/5126 [1:39:53<15:38,  1.23s/it]"
     ]
    },
    {
     "name": "stdout",
     "output_type": "stream",
     "text": [
      "Loss: 0.1469025\n"
     ]
    },
    {
     "name": "stderr",
     "output_type": "stream",
     "text": [
      " 85%|████████▌ | 4380/5126 [1:40:19<15:58,  1.28s/it]"
     ]
    },
    {
     "name": "stdout",
     "output_type": "stream",
     "text": [
      "Loss: 0.1698477\n"
     ]
    },
    {
     "name": "stderr",
     "output_type": "stream",
     "text": [
      " 86%|████████▌ | 4400/5126 [1:40:47<16:13,  1.34s/it]"
     ]
    },
    {
     "name": "stdout",
     "output_type": "stream",
     "text": [
      "Loss: 0.1563174\n"
     ]
    },
    {
     "name": "stderr",
     "output_type": "stream",
     "text": [
      " 86%|████████▌ | 4420/5126 [1:41:15<17:12,  1.46s/it]"
     ]
    },
    {
     "name": "stdout",
     "output_type": "stream",
     "text": [
      "Loss: 0.1701780\n"
     ]
    },
    {
     "name": "stderr",
     "output_type": "stream",
     "text": [
      " 87%|████████▋ | 4440/5126 [1:41:42<14:37,  1.28s/it]"
     ]
    },
    {
     "name": "stdout",
     "output_type": "stream",
     "text": [
      "Loss: 0.1608978\n"
     ]
    },
    {
     "name": "stderr",
     "output_type": "stream",
     "text": [
      " 87%|████████▋ | 4460/5126 [1:42:09<15:41,  1.41s/it]"
     ]
    },
    {
     "name": "stdout",
     "output_type": "stream",
     "text": [
      "Loss: 0.1580277\n"
     ]
    },
    {
     "name": "stderr",
     "output_type": "stream",
     "text": [
      " 87%|████████▋ | 4480/5126 [1:42:36<15:46,  1.47s/it]"
     ]
    },
    {
     "name": "stdout",
     "output_type": "stream",
     "text": [
      "Loss: 0.1517141\n"
     ]
    },
    {
     "name": "stderr",
     "output_type": "stream",
     "text": [
      " 88%|████████▊ | 4500/5126 [1:43:02<12:19,  1.18s/it]"
     ]
    },
    {
     "name": "stdout",
     "output_type": "stream",
     "text": [
      "Loss: 0.1703975\n"
     ]
    },
    {
     "name": "stderr",
     "output_type": "stream",
     "text": [
      " 88%|████████▊ | 4520/5126 [1:43:30<14:09,  1.40s/it]"
     ]
    },
    {
     "name": "stdout",
     "output_type": "stream",
     "text": [
      "Loss: 0.1608185\n"
     ]
    },
    {
     "name": "stderr",
     "output_type": "stream",
     "text": [
      " 89%|████████▊ | 4540/5126 [1:43:59<12:41,  1.30s/it]"
     ]
    },
    {
     "name": "stdout",
     "output_type": "stream",
     "text": [
      "Loss: 0.1714178\n",
      "Epoch   227: reducing learning rate of group 0 to 9.3750e-06.\n"
     ]
    },
    {
     "name": "stderr",
     "output_type": "stream",
     "text": [
      " 89%|████████▉ | 4560/5126 [1:44:27<12:39,  1.34s/it]"
     ]
    },
    {
     "name": "stdout",
     "output_type": "stream",
     "text": [
      "Loss: 0.1468985\n"
     ]
    },
    {
     "name": "stderr",
     "output_type": "stream",
     "text": [
      " 89%|████████▉ | 4580/5126 [1:44:54<11:53,  1.31s/it]"
     ]
    },
    {
     "name": "stdout",
     "output_type": "stream",
     "text": [
      "Loss: 0.1515427\n"
     ]
    },
    {
     "name": "stderr",
     "output_type": "stream",
     "text": [
      " 90%|████████▉ | 4600/5126 [1:45:23<12:55,  1.47s/it]"
     ]
    },
    {
     "name": "stdout",
     "output_type": "stream",
     "text": [
      "Loss: 0.1549464\n"
     ]
    },
    {
     "name": "stderr",
     "output_type": "stream",
     "text": [
      " 90%|█████████ | 4620/5126 [1:45:51<11:09,  1.32s/it]"
     ]
    },
    {
     "name": "stdout",
     "output_type": "stream",
     "text": [
      "Loss: 0.1710814\n"
     ]
    },
    {
     "name": "stderr",
     "output_type": "stream",
     "text": [
      " 91%|█████████ | 4640/5126 [1:46:17<10:15,  1.27s/it]"
     ]
    },
    {
     "name": "stdout",
     "output_type": "stream",
     "text": [
      "Loss: 0.1805589\n"
     ]
    },
    {
     "name": "stderr",
     "output_type": "stream",
     "text": [
      " 91%|█████████ | 4660/5126 [1:46:45<10:26,  1.34s/it]"
     ]
    },
    {
     "name": "stdout",
     "output_type": "stream",
     "text": [
      "Loss: 0.1653263\n"
     ]
    },
    {
     "name": "stderr",
     "output_type": "stream",
     "text": [
      " 91%|█████████▏| 4680/5126 [1:47:13<10:23,  1.40s/it]"
     ]
    },
    {
     "name": "stdout",
     "output_type": "stream",
     "text": [
      "Loss: 0.1846912\n"
     ]
    },
    {
     "name": "stderr",
     "output_type": "stream",
     "text": [
      " 92%|█████████▏| 4700/5126 [1:47:41<09:59,  1.41s/it]"
     ]
    },
    {
     "name": "stdout",
     "output_type": "stream",
     "text": [
      "Loss: 0.1578781\n"
     ]
    },
    {
     "name": "stderr",
     "output_type": "stream",
     "text": [
      " 92%|█████████▏| 4720/5126 [1:48:10<11:30,  1.70s/it]"
     ]
    },
    {
     "name": "stdout",
     "output_type": "stream",
     "text": [
      "Loss: 0.1712740\n"
     ]
    },
    {
     "name": "stderr",
     "output_type": "stream",
     "text": [
      " 92%|█████████▏| 4740/5126 [1:48:36<08:18,  1.29s/it]"
     ]
    },
    {
     "name": "stdout",
     "output_type": "stream",
     "text": [
      "Loss: 0.1732364\n"
     ]
    },
    {
     "name": "stderr",
     "output_type": "stream",
     "text": [
      " 93%|█████████▎| 4760/5126 [1:49:01<07:44,  1.27s/it]"
     ]
    },
    {
     "name": "stdout",
     "output_type": "stream",
     "text": [
      "Loss: 0.1656310\n"
     ]
    },
    {
     "name": "stderr",
     "output_type": "stream",
     "text": [
      " 93%|█████████▎| 4780/5126 [1:49:30<08:55,  1.55s/it]"
     ]
    },
    {
     "name": "stdout",
     "output_type": "stream",
     "text": [
      "Loss: 0.1583676\n"
     ]
    },
    {
     "name": "stderr",
     "output_type": "stream",
     "text": [
      " 94%|█████████▎| 4800/5126 [1:49:58<06:37,  1.22s/it]"
     ]
    },
    {
     "name": "stdout",
     "output_type": "stream",
     "text": [
      "Loss: 0.1785679\n"
     ]
    },
    {
     "name": "stderr",
     "output_type": "stream",
     "text": [
      " 94%|█████████▍| 4820/5126 [1:50:24<06:25,  1.26s/it]"
     ]
    },
    {
     "name": "stdout",
     "output_type": "stream",
     "text": [
      "Loss: 0.1665169\n"
     ]
    },
    {
     "name": "stderr",
     "output_type": "stream",
     "text": [
      " 94%|█████████▍| 4840/5126 [1:50:52<06:27,  1.35s/it]"
     ]
    },
    {
     "name": "stdout",
     "output_type": "stream",
     "text": [
      "Loss: 0.1811399\n"
     ]
    },
    {
     "name": "stderr",
     "output_type": "stream",
     "text": [
      " 95%|█████████▍| 4860/5126 [1:51:20<06:53,  1.55s/it]"
     ]
    },
    {
     "name": "stdout",
     "output_type": "stream",
     "text": [
      "Loss: 0.1863207\n"
     ]
    },
    {
     "name": "stderr",
     "output_type": "stream",
     "text": [
      " 95%|█████████▌| 4880/5126 [1:51:49<06:20,  1.55s/it]"
     ]
    },
    {
     "name": "stdout",
     "output_type": "stream",
     "text": [
      "Loss: 0.1657516\n"
     ]
    },
    {
     "name": "stderr",
     "output_type": "stream",
     "text": [
      " 96%|█████████▌| 4900/5126 [1:52:15<04:28,  1.19s/it]"
     ]
    },
    {
     "name": "stdout",
     "output_type": "stream",
     "text": [
      "Loss: 0.1457749\n"
     ]
    },
    {
     "name": "stderr",
     "output_type": "stream",
     "text": [
      " 96%|█████████▌| 4920/5126 [1:52:45<05:16,  1.53s/it]"
     ]
    },
    {
     "name": "stdout",
     "output_type": "stream",
     "text": [
      "Loss: 0.1580007\n"
     ]
    },
    {
     "name": "stderr",
     "output_type": "stream",
     "text": [
      " 96%|█████████▋| 4940/5126 [1:53:11<04:21,  1.41s/it]"
     ]
    },
    {
     "name": "stdout",
     "output_type": "stream",
     "text": [
      "Loss: 0.1718912\n"
     ]
    },
    {
     "name": "stderr",
     "output_type": "stream",
     "text": [
      " 97%|█████████▋| 4960/5126 [1:53:39<03:57,  1.43s/it]"
     ]
    },
    {
     "name": "stdout",
     "output_type": "stream",
     "text": [
      "Loss: 0.1557122\n",
      "Epoch   248: reducing learning rate of group 0 to 4.6875e-06.\n"
     ]
    },
    {
     "name": "stderr",
     "output_type": "stream",
     "text": [
      " 97%|█████████▋| 4980/5126 [1:54:05<03:20,  1.37s/it]"
     ]
    },
    {
     "name": "stdout",
     "output_type": "stream",
     "text": [
      "Loss: 0.1578837\n"
     ]
    },
    {
     "name": "stderr",
     "output_type": "stream",
     "text": [
      " 98%|█████████▊| 5000/5126 [1:54:32<02:51,  1.36s/it]"
     ]
    },
    {
     "name": "stdout",
     "output_type": "stream",
     "text": [
      "Loss: 0.1596596\n"
     ]
    },
    {
     "name": "stderr",
     "output_type": "stream",
     "text": [
      " 98%|█████████▊| 5020/5126 [1:55:01<02:18,  1.31s/it]"
     ]
    },
    {
     "name": "stdout",
     "output_type": "stream",
     "text": [
      "Loss: 0.1617564\n"
     ]
    },
    {
     "name": "stderr",
     "output_type": "stream",
     "text": [
      " 98%|█████████▊| 5040/5126 [1:55:28<01:56,  1.36s/it]"
     ]
    },
    {
     "name": "stdout",
     "output_type": "stream",
     "text": [
      "Loss: 0.1666776\n"
     ]
    },
    {
     "name": "stderr",
     "output_type": "stream",
     "text": [
      " 99%|█████████▊| 5060/5126 [1:55:54<01:38,  1.49s/it]"
     ]
    },
    {
     "name": "stdout",
     "output_type": "stream",
     "text": [
      "Loss: 0.1497626\n"
     ]
    },
    {
     "name": "stderr",
     "output_type": "stream",
     "text": [
      " 99%|█████████▉| 5080/5126 [1:56:23<01:05,  1.41s/it]"
     ]
    },
    {
     "name": "stdout",
     "output_type": "stream",
     "text": [
      "Loss: 0.1767452\n"
     ]
    },
    {
     "name": "stderr",
     "output_type": "stream",
     "text": [
      " 99%|█████████▉| 5100/5126 [1:56:51<00:32,  1.26s/it]"
     ]
    },
    {
     "name": "stdout",
     "output_type": "stream",
     "text": [
      "Loss: 0.1550209\n"
     ]
    },
    {
     "name": "stderr",
     "output_type": "stream",
     "text": [
      "100%|█████████▉| 5120/5126 [1:57:17<00:07,  1.26s/it]"
     ]
    },
    {
     "name": "stdout",
     "output_type": "stream",
     "text": [
      "Loss: 0.1575079\n"
     ]
    },
    {
     "name": "stderr",
     "output_type": "stream",
     "text": [
      "                                                     \r"
     ]
    }
   ],
   "source": [
    "optimizer = torch.optim.Adam(model.parameters(), lr=3e-4)\n",
    "scheduler = torch.optim.lr_scheduler.ReduceLROnPlateau(optimizer, patience=20, factor=0.5, verbose=True)\n",
    "\n",
    "model.train()\n",
    "for epoch in range(1):\n",
    "    print_loss = []\n",
    "    for i, (images, targets) in tqdm.tqdm(enumerate(train_loader), leave=False, position=0, total=len(train_loader)):\n",
    "        images = [image.to(device) for image in images]\n",
    "        targets = [{k: v.to(device) for k, v in t.items()} for t in targets]\n",
    "\n",
    "        loss_dict = model(images, targets)\n",
    "        losses = sum(loss_dict.values())\n",
    "\n",
    "        losses.backward()\n",
    "        optimizer.step()\n",
    "        optimizer.zero_grad()\n",
    "        \n",
    "        print_loss.append(losses.item())\n",
    "        if (i + 1) % 20 == 0:\n",
    "            mean_loss = np.mean(print_loss)\n",
    "            print(f'Loss: {mean_loss:.7f}')\n",
    "            scheduler.step(mean_loss)\n",
    "            print_loss = []"
   ]
  },
  {
   "cell_type": "code",
   "execution_count": null,
   "metadata": {},
   "outputs": [],
   "source": []
  },
  {
   "cell_type": "code",
   "execution_count": 9,
   "metadata": {},
   "outputs": [],
   "source": [
    "with open(\"C:/Users/krvet/Desktop/MADE/CV/HW2/contest02_data/runs/segmentation_baseline/CP-last.pth\", \"wb\") as fp:\n",
    "    torch.save(model.state_dict(), fp)"
   ]
  },
  {
   "cell_type": "code",
   "execution_count": null,
   "metadata": {},
   "outputs": [],
   "source": []
  },
  {
   "cell_type": "code",
   "execution_count": 14,
   "metadata": {},
   "outputs": [],
   "source": [
    "test_images = glob.glob(os.path.join(data_path, 'test/*'))"
   ]
  },
  {
   "cell_type": "code",
   "execution_count": null,
   "metadata": {},
   "outputs": [],
   "source": []
  },
  {
   "cell_type": "code",
   "execution_count": 15,
   "metadata": {},
   "outputs": [
    {
     "name": "stderr",
     "output_type": "stream",
     "text": [
      " 81%|████████  | 2548/3157 [05:50<01:38,  6.16it/s]"
     ]
    },
    {
     "name": "stdout",
     "output_type": "stream",
     "text": [
      "simplify_contour didnt coverege\n"
     ]
    },
    {
     "name": "stderr",
     "output_type": "stream",
     "text": [
      "100%|█████████▉| 3145/3157 [07:11<00:01,  7.51it/s]"
     ]
    },
    {
     "name": "stdout",
     "output_type": "stream",
     "text": [
      "simplify_contour didnt coverege\n"
     ]
    },
    {
     "name": "stderr",
     "output_type": "stream",
     "text": [
      "                                                   \r"
     ]
    },
    {
     "ename": "TypeError",
     "evalue": "Object of type intc is not JSON serializable",
     "output_type": "error",
     "traceback": [
      "\u001b[1;31m---------------------------------------------------------------------------\u001b[0m",
      "\u001b[1;31mTypeError\u001b[0m                                 Traceback (most recent call last)",
      "\u001b[1;32m<ipython-input-15-118990d73f5b>\u001b[0m in \u001b[0;36m<module>\u001b[1;34m\u001b[0m\n\u001b[0;32m     53\u001b[0m \u001b[1;33m\u001b[0m\u001b[0m\n\u001b[0;32m     54\u001b[0m \u001b[1;32mwith\u001b[0m \u001b[0mopen\u001b[0m\u001b[1;33m(\u001b[0m\u001b[0mos\u001b[0m\u001b[1;33m.\u001b[0m\u001b[0mpath\u001b[0m\u001b[1;33m.\u001b[0m\u001b[0mjoin\u001b[0m\u001b[1;33m(\u001b[0m\u001b[0mdata_path\u001b[0m\u001b[1;33m,\u001b[0m \u001b[1;34m'test.json'\u001b[0m\u001b[1;33m)\u001b[0m\u001b[1;33m,\u001b[0m \u001b[1;34m'w'\u001b[0m\u001b[1;33m)\u001b[0m \u001b[1;32mas\u001b[0m \u001b[0mjson_file\u001b[0m\u001b[1;33m:\u001b[0m\u001b[1;33m\u001b[0m\u001b[1;33m\u001b[0m\u001b[0m\n\u001b[1;32m---> 55\u001b[1;33m     \u001b[0mjson\u001b[0m\u001b[1;33m.\u001b[0m\u001b[0mdump\u001b[0m\u001b[1;33m(\u001b[0m\u001b[0mpreds\u001b[0m\u001b[1;33m,\u001b[0m \u001b[0mjson_file\u001b[0m\u001b[1;33m,\u001b[0m \u001b[0mcls\u001b[0m\u001b[1;33m=\u001b[0m\u001b[0mnpEncoder\u001b[0m\u001b[1;33m)\u001b[0m\u001b[1;33m\u001b[0m\u001b[1;33m\u001b[0m\u001b[0m\n\u001b[0m",
      "\u001b[1;32mC:\\ProgramData\\Anaconda3\\lib\\json\\__init__.py\u001b[0m in \u001b[0;36mdump\u001b[1;34m(obj, fp, skipkeys, ensure_ascii, check_circular, allow_nan, cls, indent, separators, default, sort_keys, **kw)\u001b[0m\n\u001b[0;32m    177\u001b[0m     \u001b[1;31m# could accelerate with writelines in some versions of Python, at\u001b[0m\u001b[1;33m\u001b[0m\u001b[1;33m\u001b[0m\u001b[1;33m\u001b[0m\u001b[0m\n\u001b[0;32m    178\u001b[0m     \u001b[1;31m# a debuggability cost\u001b[0m\u001b[1;33m\u001b[0m\u001b[1;33m\u001b[0m\u001b[1;33m\u001b[0m\u001b[0m\n\u001b[1;32m--> 179\u001b[1;33m     \u001b[1;32mfor\u001b[0m \u001b[0mchunk\u001b[0m \u001b[1;32min\u001b[0m \u001b[0miterable\u001b[0m\u001b[1;33m:\u001b[0m\u001b[1;33m\u001b[0m\u001b[1;33m\u001b[0m\u001b[0m\n\u001b[0m\u001b[0;32m    180\u001b[0m         \u001b[0mfp\u001b[0m\u001b[1;33m.\u001b[0m\u001b[0mwrite\u001b[0m\u001b[1;33m(\u001b[0m\u001b[0mchunk\u001b[0m\u001b[1;33m)\u001b[0m\u001b[1;33m\u001b[0m\u001b[1;33m\u001b[0m\u001b[0m\n\u001b[0;32m    181\u001b[0m \u001b[1;33m\u001b[0m\u001b[0m\n",
      "\u001b[1;32mC:\\ProgramData\\Anaconda3\\lib\\json\\encoder.py\u001b[0m in \u001b[0;36m_iterencode\u001b[1;34m(o, _current_indent_level)\u001b[0m\n\u001b[0;32m    427\u001b[0m             \u001b[1;32myield\u001b[0m \u001b[0m_floatstr\u001b[0m\u001b[1;33m(\u001b[0m\u001b[0mo\u001b[0m\u001b[1;33m)\u001b[0m\u001b[1;33m\u001b[0m\u001b[1;33m\u001b[0m\u001b[0m\n\u001b[0;32m    428\u001b[0m         \u001b[1;32melif\u001b[0m \u001b[0misinstance\u001b[0m\u001b[1;33m(\u001b[0m\u001b[0mo\u001b[0m\u001b[1;33m,\u001b[0m \u001b[1;33m(\u001b[0m\u001b[0mlist\u001b[0m\u001b[1;33m,\u001b[0m \u001b[0mtuple\u001b[0m\u001b[1;33m)\u001b[0m\u001b[1;33m)\u001b[0m\u001b[1;33m:\u001b[0m\u001b[1;33m\u001b[0m\u001b[1;33m\u001b[0m\u001b[0m\n\u001b[1;32m--> 429\u001b[1;33m             \u001b[1;32myield\u001b[0m \u001b[1;32mfrom\u001b[0m \u001b[0m_iterencode_list\u001b[0m\u001b[1;33m(\u001b[0m\u001b[0mo\u001b[0m\u001b[1;33m,\u001b[0m \u001b[0m_current_indent_level\u001b[0m\u001b[1;33m)\u001b[0m\u001b[1;33m\u001b[0m\u001b[1;33m\u001b[0m\u001b[0m\n\u001b[0m\u001b[0;32m    430\u001b[0m         \u001b[1;32melif\u001b[0m \u001b[0misinstance\u001b[0m\u001b[1;33m(\u001b[0m\u001b[0mo\u001b[0m\u001b[1;33m,\u001b[0m \u001b[0mdict\u001b[0m\u001b[1;33m)\u001b[0m\u001b[1;33m:\u001b[0m\u001b[1;33m\u001b[0m\u001b[1;33m\u001b[0m\u001b[0m\n\u001b[0;32m    431\u001b[0m             \u001b[1;32myield\u001b[0m \u001b[1;32mfrom\u001b[0m \u001b[0m_iterencode_dict\u001b[0m\u001b[1;33m(\u001b[0m\u001b[0mo\u001b[0m\u001b[1;33m,\u001b[0m \u001b[0m_current_indent_level\u001b[0m\u001b[1;33m)\u001b[0m\u001b[1;33m\u001b[0m\u001b[1;33m\u001b[0m\u001b[0m\n",
      "\u001b[1;32mC:\\ProgramData\\Anaconda3\\lib\\json\\encoder.py\u001b[0m in \u001b[0;36m_iterencode_list\u001b[1;34m(lst, _current_indent_level)\u001b[0m\n\u001b[0;32m    323\u001b[0m                 \u001b[1;32melse\u001b[0m\u001b[1;33m:\u001b[0m\u001b[1;33m\u001b[0m\u001b[1;33m\u001b[0m\u001b[0m\n\u001b[0;32m    324\u001b[0m                     \u001b[0mchunks\u001b[0m \u001b[1;33m=\u001b[0m \u001b[0m_iterencode\u001b[0m\u001b[1;33m(\u001b[0m\u001b[0mvalue\u001b[0m\u001b[1;33m,\u001b[0m \u001b[0m_current_indent_level\u001b[0m\u001b[1;33m)\u001b[0m\u001b[1;33m\u001b[0m\u001b[1;33m\u001b[0m\u001b[0m\n\u001b[1;32m--> 325\u001b[1;33m                 \u001b[1;32myield\u001b[0m \u001b[1;32mfrom\u001b[0m \u001b[0mchunks\u001b[0m\u001b[1;33m\u001b[0m\u001b[1;33m\u001b[0m\u001b[0m\n\u001b[0m\u001b[0;32m    326\u001b[0m         \u001b[1;32mif\u001b[0m \u001b[0mnewline_indent\u001b[0m \u001b[1;32mis\u001b[0m \u001b[1;32mnot\u001b[0m \u001b[1;32mNone\u001b[0m\u001b[1;33m:\u001b[0m\u001b[1;33m\u001b[0m\u001b[1;33m\u001b[0m\u001b[0m\n\u001b[0;32m    327\u001b[0m             \u001b[0m_current_indent_level\u001b[0m \u001b[1;33m-=\u001b[0m \u001b[1;36m1\u001b[0m\u001b[1;33m\u001b[0m\u001b[1;33m\u001b[0m\u001b[0m\n",
      "\u001b[1;32mC:\\ProgramData\\Anaconda3\\lib\\json\\encoder.py\u001b[0m in \u001b[0;36m_iterencode_dict\u001b[1;34m(dct, _current_indent_level)\u001b[0m\n\u001b[0;32m    403\u001b[0m                 \u001b[1;32melse\u001b[0m\u001b[1;33m:\u001b[0m\u001b[1;33m\u001b[0m\u001b[1;33m\u001b[0m\u001b[0m\n\u001b[0;32m    404\u001b[0m                     \u001b[0mchunks\u001b[0m \u001b[1;33m=\u001b[0m \u001b[0m_iterencode\u001b[0m\u001b[1;33m(\u001b[0m\u001b[0mvalue\u001b[0m\u001b[1;33m,\u001b[0m \u001b[0m_current_indent_level\u001b[0m\u001b[1;33m)\u001b[0m\u001b[1;33m\u001b[0m\u001b[1;33m\u001b[0m\u001b[0m\n\u001b[1;32m--> 405\u001b[1;33m                 \u001b[1;32myield\u001b[0m \u001b[1;32mfrom\u001b[0m \u001b[0mchunks\u001b[0m\u001b[1;33m\u001b[0m\u001b[1;33m\u001b[0m\u001b[0m\n\u001b[0m\u001b[0;32m    406\u001b[0m         \u001b[1;32mif\u001b[0m \u001b[0mnewline_indent\u001b[0m \u001b[1;32mis\u001b[0m \u001b[1;32mnot\u001b[0m \u001b[1;32mNone\u001b[0m\u001b[1;33m:\u001b[0m\u001b[1;33m\u001b[0m\u001b[1;33m\u001b[0m\u001b[0m\n\u001b[0;32m    407\u001b[0m             \u001b[0m_current_indent_level\u001b[0m \u001b[1;33m-=\u001b[0m \u001b[1;36m1\u001b[0m\u001b[1;33m\u001b[0m\u001b[1;33m\u001b[0m\u001b[0m\n",
      "\u001b[1;32mC:\\ProgramData\\Anaconda3\\lib\\json\\encoder.py\u001b[0m in \u001b[0;36m_iterencode_list\u001b[1;34m(lst, _current_indent_level)\u001b[0m\n\u001b[0;32m    323\u001b[0m                 \u001b[1;32melse\u001b[0m\u001b[1;33m:\u001b[0m\u001b[1;33m\u001b[0m\u001b[1;33m\u001b[0m\u001b[0m\n\u001b[0;32m    324\u001b[0m                     \u001b[0mchunks\u001b[0m \u001b[1;33m=\u001b[0m \u001b[0m_iterencode\u001b[0m\u001b[1;33m(\u001b[0m\u001b[0mvalue\u001b[0m\u001b[1;33m,\u001b[0m \u001b[0m_current_indent_level\u001b[0m\u001b[1;33m)\u001b[0m\u001b[1;33m\u001b[0m\u001b[1;33m\u001b[0m\u001b[0m\n\u001b[1;32m--> 325\u001b[1;33m                 \u001b[1;32myield\u001b[0m \u001b[1;32mfrom\u001b[0m \u001b[0mchunks\u001b[0m\u001b[1;33m\u001b[0m\u001b[1;33m\u001b[0m\u001b[0m\n\u001b[0m\u001b[0;32m    326\u001b[0m         \u001b[1;32mif\u001b[0m \u001b[0mnewline_indent\u001b[0m \u001b[1;32mis\u001b[0m \u001b[1;32mnot\u001b[0m \u001b[1;32mNone\u001b[0m\u001b[1;33m:\u001b[0m\u001b[1;33m\u001b[0m\u001b[1;33m\u001b[0m\u001b[0m\n\u001b[0;32m    327\u001b[0m             \u001b[0m_current_indent_level\u001b[0m \u001b[1;33m-=\u001b[0m \u001b[1;36m1\u001b[0m\u001b[1;33m\u001b[0m\u001b[1;33m\u001b[0m\u001b[0m\n",
      "\u001b[1;32mC:\\ProgramData\\Anaconda3\\lib\\json\\encoder.py\u001b[0m in \u001b[0;36m_iterencode_dict\u001b[1;34m(dct, _current_indent_level)\u001b[0m\n\u001b[0;32m    403\u001b[0m                 \u001b[1;32melse\u001b[0m\u001b[1;33m:\u001b[0m\u001b[1;33m\u001b[0m\u001b[1;33m\u001b[0m\u001b[0m\n\u001b[0;32m    404\u001b[0m                     \u001b[0mchunks\u001b[0m \u001b[1;33m=\u001b[0m \u001b[0m_iterencode\u001b[0m\u001b[1;33m(\u001b[0m\u001b[0mvalue\u001b[0m\u001b[1;33m,\u001b[0m \u001b[0m_current_indent_level\u001b[0m\u001b[1;33m)\u001b[0m\u001b[1;33m\u001b[0m\u001b[1;33m\u001b[0m\u001b[0m\n\u001b[1;32m--> 405\u001b[1;33m                 \u001b[1;32myield\u001b[0m \u001b[1;32mfrom\u001b[0m \u001b[0mchunks\u001b[0m\u001b[1;33m\u001b[0m\u001b[1;33m\u001b[0m\u001b[0m\n\u001b[0m\u001b[0;32m    406\u001b[0m         \u001b[1;32mif\u001b[0m \u001b[0mnewline_indent\u001b[0m \u001b[1;32mis\u001b[0m \u001b[1;32mnot\u001b[0m \u001b[1;32mNone\u001b[0m\u001b[1;33m:\u001b[0m\u001b[1;33m\u001b[0m\u001b[1;33m\u001b[0m\u001b[0m\n\u001b[0;32m    407\u001b[0m             \u001b[0m_current_indent_level\u001b[0m \u001b[1;33m-=\u001b[0m \u001b[1;36m1\u001b[0m\u001b[1;33m\u001b[0m\u001b[1;33m\u001b[0m\u001b[0m\n",
      "\u001b[1;32mC:\\ProgramData\\Anaconda3\\lib\\json\\encoder.py\u001b[0m in \u001b[0;36m_iterencode_list\u001b[1;34m(lst, _current_indent_level)\u001b[0m\n\u001b[0;32m    323\u001b[0m                 \u001b[1;32melse\u001b[0m\u001b[1;33m:\u001b[0m\u001b[1;33m\u001b[0m\u001b[1;33m\u001b[0m\u001b[0m\n\u001b[0;32m    324\u001b[0m                     \u001b[0mchunks\u001b[0m \u001b[1;33m=\u001b[0m \u001b[0m_iterencode\u001b[0m\u001b[1;33m(\u001b[0m\u001b[0mvalue\u001b[0m\u001b[1;33m,\u001b[0m \u001b[0m_current_indent_level\u001b[0m\u001b[1;33m)\u001b[0m\u001b[1;33m\u001b[0m\u001b[1;33m\u001b[0m\u001b[0m\n\u001b[1;32m--> 325\u001b[1;33m                 \u001b[1;32myield\u001b[0m \u001b[1;32mfrom\u001b[0m \u001b[0mchunks\u001b[0m\u001b[1;33m\u001b[0m\u001b[1;33m\u001b[0m\u001b[0m\n\u001b[0m\u001b[0;32m    326\u001b[0m         \u001b[1;32mif\u001b[0m \u001b[0mnewline_indent\u001b[0m \u001b[1;32mis\u001b[0m \u001b[1;32mnot\u001b[0m \u001b[1;32mNone\u001b[0m\u001b[1;33m:\u001b[0m\u001b[1;33m\u001b[0m\u001b[1;33m\u001b[0m\u001b[0m\n\u001b[0;32m    327\u001b[0m             \u001b[0m_current_indent_level\u001b[0m \u001b[1;33m-=\u001b[0m \u001b[1;36m1\u001b[0m\u001b[1;33m\u001b[0m\u001b[1;33m\u001b[0m\u001b[0m\n",
      "\u001b[1;32mC:\\ProgramData\\Anaconda3\\lib\\json\\encoder.py\u001b[0m in \u001b[0;36m_iterencode_list\u001b[1;34m(lst, _current_indent_level)\u001b[0m\n\u001b[0;32m    323\u001b[0m                 \u001b[1;32melse\u001b[0m\u001b[1;33m:\u001b[0m\u001b[1;33m\u001b[0m\u001b[1;33m\u001b[0m\u001b[0m\n\u001b[0;32m    324\u001b[0m                     \u001b[0mchunks\u001b[0m \u001b[1;33m=\u001b[0m \u001b[0m_iterencode\u001b[0m\u001b[1;33m(\u001b[0m\u001b[0mvalue\u001b[0m\u001b[1;33m,\u001b[0m \u001b[0m_current_indent_level\u001b[0m\u001b[1;33m)\u001b[0m\u001b[1;33m\u001b[0m\u001b[1;33m\u001b[0m\u001b[0m\n\u001b[1;32m--> 325\u001b[1;33m                 \u001b[1;32myield\u001b[0m \u001b[1;32mfrom\u001b[0m \u001b[0mchunks\u001b[0m\u001b[1;33m\u001b[0m\u001b[1;33m\u001b[0m\u001b[0m\n\u001b[0m\u001b[0;32m    326\u001b[0m         \u001b[1;32mif\u001b[0m \u001b[0mnewline_indent\u001b[0m \u001b[1;32mis\u001b[0m \u001b[1;32mnot\u001b[0m \u001b[1;32mNone\u001b[0m\u001b[1;33m:\u001b[0m\u001b[1;33m\u001b[0m\u001b[1;33m\u001b[0m\u001b[0m\n\u001b[0;32m    327\u001b[0m             \u001b[0m_current_indent_level\u001b[0m \u001b[1;33m-=\u001b[0m \u001b[1;36m1\u001b[0m\u001b[1;33m\u001b[0m\u001b[1;33m\u001b[0m\u001b[0m\n",
      "\u001b[1;32mC:\\ProgramData\\Anaconda3\\lib\\json\\encoder.py\u001b[0m in \u001b[0;36m_iterencode\u001b[1;34m(o, _current_indent_level)\u001b[0m\n\u001b[0;32m    436\u001b[0m                     \u001b[1;32mraise\u001b[0m \u001b[0mValueError\u001b[0m\u001b[1;33m(\u001b[0m\u001b[1;34m\"Circular reference detected\"\u001b[0m\u001b[1;33m)\u001b[0m\u001b[1;33m\u001b[0m\u001b[1;33m\u001b[0m\u001b[0m\n\u001b[0;32m    437\u001b[0m                 \u001b[0mmarkers\u001b[0m\u001b[1;33m[\u001b[0m\u001b[0mmarkerid\u001b[0m\u001b[1;33m]\u001b[0m \u001b[1;33m=\u001b[0m \u001b[0mo\u001b[0m\u001b[1;33m\u001b[0m\u001b[1;33m\u001b[0m\u001b[0m\n\u001b[1;32m--> 438\u001b[1;33m             \u001b[0mo\u001b[0m \u001b[1;33m=\u001b[0m \u001b[0m_default\u001b[0m\u001b[1;33m(\u001b[0m\u001b[0mo\u001b[0m\u001b[1;33m)\u001b[0m\u001b[1;33m\u001b[0m\u001b[1;33m\u001b[0m\u001b[0m\n\u001b[0m\u001b[0;32m    439\u001b[0m             \u001b[1;32myield\u001b[0m \u001b[1;32mfrom\u001b[0m \u001b[0m_iterencode\u001b[0m\u001b[1;33m(\u001b[0m\u001b[0mo\u001b[0m\u001b[1;33m,\u001b[0m \u001b[0m_current_indent_level\u001b[0m\u001b[1;33m)\u001b[0m\u001b[1;33m\u001b[0m\u001b[1;33m\u001b[0m\u001b[0m\n\u001b[0;32m    440\u001b[0m             \u001b[1;32mif\u001b[0m \u001b[0mmarkers\u001b[0m \u001b[1;32mis\u001b[0m \u001b[1;32mnot\u001b[0m \u001b[1;32mNone\u001b[0m\u001b[1;33m:\u001b[0m\u001b[1;33m\u001b[0m\u001b[1;33m\u001b[0m\u001b[0m\n",
      "\u001b[1;32m<ipython-input-2-109b236cfc83>\u001b[0m in \u001b[0;36mdefault\u001b[1;34m(self, obj)\u001b[0m\n\u001b[0;32m    183\u001b[0m         \u001b[1;32mif\u001b[0m \u001b[0misinstance\u001b[0m\u001b[1;33m(\u001b[0m\u001b[0mobj\u001b[0m\u001b[1;33m,\u001b[0m \u001b[0mnp\u001b[0m\u001b[1;33m.\u001b[0m\u001b[0mint32\u001b[0m\u001b[1;33m)\u001b[0m\u001b[1;33m:\u001b[0m\u001b[1;33m\u001b[0m\u001b[1;33m\u001b[0m\u001b[0m\n\u001b[0;32m    184\u001b[0m             \u001b[1;32mreturn\u001b[0m \u001b[0mint\u001b[0m\u001b[1;33m(\u001b[0m\u001b[0mobj\u001b[0m\u001b[1;33m)\u001b[0m\u001b[1;33m\u001b[0m\u001b[1;33m\u001b[0m\u001b[0m\n\u001b[1;32m--> 185\u001b[1;33m         \u001b[1;32mreturn\u001b[0m \u001b[0mjson\u001b[0m\u001b[1;33m.\u001b[0m\u001b[0mJSONEncoder\u001b[0m\u001b[1;33m.\u001b[0m\u001b[0mdefault\u001b[0m\u001b[1;33m(\u001b[0m\u001b[0mself\u001b[0m\u001b[1;33m,\u001b[0m \u001b[0mobj\u001b[0m\u001b[1;33m)\u001b[0m\u001b[1;33m\u001b[0m\u001b[1;33m\u001b[0m\u001b[0m\n\u001b[0m",
      "\u001b[1;32mC:\\ProgramData\\Anaconda3\\lib\\json\\encoder.py\u001b[0m in \u001b[0;36mdefault\u001b[1;34m(self, o)\u001b[0m\n\u001b[0;32m    177\u001b[0m \u001b[1;33m\u001b[0m\u001b[0m\n\u001b[0;32m    178\u001b[0m         \"\"\"\n\u001b[1;32m--> 179\u001b[1;33m         raise TypeError(f'Object of type {o.__class__.__name__} '\n\u001b[0m\u001b[0;32m    180\u001b[0m                         f'is not JSON serializable')\n\u001b[0;32m    181\u001b[0m \u001b[1;33m\u001b[0m\u001b[0m\n",
      "\u001b[1;31mTypeError\u001b[0m: Object of type intc is not JSON serializable"
     ]
    }
   ],
   "source": [
    "THRESHOLD_SCORE = 0.93\n",
    "TRESHOLD_MASK = 0.05\n",
    "\n",
    "preds = []\n",
    "model.eval()\n",
    "\n",
    "\n",
    "for file in tqdm.tqdm(test_images, position=0, leave=False):\n",
    "\n",
    "    img = Image.open(file).convert('RGB')\n",
    "    img_tensor = my_transforms(img)\n",
    "    with torch.no_grad():\n",
    "        predictions = model([img_tensor.to(device)])\n",
    "    prediction = predictions[0]\n",
    "\n",
    "    pred = dict()\n",
    "    pred['file'] = file\n",
    "    pred['nums'] = []\n",
    "\n",
    "    for i in range(len(prediction['boxes'])):\n",
    "        x_min, y_min, x_max, y_max = map(int, prediction['boxes'][i].tolist())\n",
    "        label = int(prediction['labels'][i].cpu())\n",
    "        score = float(prediction['scores'][i].cpu())\n",
    "        mask = prediction['masks'][i][0, :, :].cpu().numpy()\n",
    "\n",
    "        if score > THRESHOLD_SCORE:      \n",
    "            # В разных версиях opencv этот метод возвращает разное число параметров\n",
    "            # Оставил для версии colab\n",
    "            contours,_ = cv2.findContours((mask > TRESHOLD_MASK).astype(np.uint8), 1, 1)\n",
    "#             _,contours,_ = cv2.findContours((mask > TRESHOLD_MASK).astype(np.uint8), 1, 1)\n",
    "            approx = simplify_contour(contours[0], n_corners=4)\n",
    "            \n",
    "            if approx is None:\n",
    "                x0, y0 = x_min, y_min\n",
    "                x1, y1 = x_max, y_min\n",
    "                x2, y2 = x_min, y_max\n",
    "                x3, y3 = x_max, y_max\n",
    "            else:\n",
    "                x0, y0 = approx[0][0][0], approx[0][0][1]\n",
    "                x1, y1 = approx[1][0][0], approx[1][0][1]\n",
    "                x2, y2 = approx[2][0][0], approx[2][0][1]\n",
    "                x3, y3 = approx[3][0][0], approx[3][0][1]\n",
    "                \n",
    "            points = [[x0, y0], [x2, y2], [x1, y1],[x3, y3]]\n",
    "\n",
    "            pred['nums'].append({\n",
    "                'box': points,\n",
    "                'bbox': [x_min, y_min, x_max, y_max],\n",
    "            })\n",
    "\n",
    "    preds.append(pred)   \n",
    "\n",
    "    \n"
   ]
  },
  {
   "cell_type": "code",
   "execution_count": 28,
   "metadata": {},
   "outputs": [
    {
     "data": {
      "text/plain": [
       "[{'file': 'C:/Users/krvet/Desktop/MADE/CV/HW2/contest02_data/data/test\\\\0.jpg',\n",
       "  'nums': [{'box': [[485, 563], [775, 627], [487, 628], [772, 562]],\n",
       "    'bbox': [489, 560, 771, 628]}]},\n",
       " {'file': 'C:/Users/krvet/Desktop/MADE/CV/HW2/contest02_data/data/test\\\\1.jpg',\n",
       "  'nums': [{'box': [[220, 317], [135, 335], [136, 317], [219, 336]],\n",
       "    'bbox': [136, 317, 219, 335]},\n",
       "   {'box': [[511, 292], [588, 308], [511, 309], [583, 292]],\n",
       "    'bbox': [512, 293, 586, 308]}]},\n",
       " {'file': 'C:/Users/krvet/Desktop/MADE/CV/HW2/contest02_data/data/test\\\\10.jpg',\n",
       "  'nums': [{'box': [[225, 285], [388, 314], [226, 316], [386, 281]],\n",
       "    'bbox': [228, 281, 385, 316]}]},\n",
       " {'file': 'C:/Users/krvet/Desktop/MADE/CV/HW2/contest02_data/data/test\\\\100.jpg',\n",
       "  'nums': [{'box': [[537, 410], [320, 460], [326, 412], [531, 461]],\n",
       "    'bbox': [323, 409, 534, 461]}]},\n",
       " {'file': 'C:/Users/krvet/Desktop/MADE/CV/HW2/contest02_data/data/test\\\\1000.jpg',\n",
       "  'nums': [{'box': [[767, 552], [578, 595], [581, 554], [762, 594]],\n",
       "    'bbox': [581, 552, 765, 595]}]},\n",
       " {'file': 'C:/Users/krvet/Desktop/MADE/CV/HW2/contest02_data/data/test\\\\1001.jpg',\n",
       "  'nums': [{'box': [[650, 439], [895, 487], [652, 488], [888, 437]],\n",
       "    'bbox': [654, 438, 892, 488]},\n",
       "   {'box': [[448, 325], [282, 363], [286, 325], [443, 363]],\n",
       "    'bbox': [285, 324, 446, 364]}]},\n",
       " {'file': 'C:/Users/krvet/Desktop/MADE/CV/HW2/contest02_data/data/test\\\\1002.jpg',\n",
       "  'nums': [{'box': [[290, 555], [436, 584], [290, 584], [436, 554]],\n",
       "    'bbox': [292, 554, 434, 584]}]},\n",
       " {'file': 'C:/Users/krvet/Desktop/MADE/CV/HW2/contest02_data/data/test\\\\1003.jpeg',\n",
       "  'nums': [{'box': [[382, 674], [513, 723], [386, 710], [510, 688]],\n",
       "    'bbox': [384, 673, 512, 723]}]},\n",
       " {'file': 'C:/Users/krvet/Desktop/MADE/CV/HW2/contest02_data/data/test\\\\1004.jpg',\n",
       "  'nums': [{'box': [[837, 687], [603, 736], [610, 687], [836, 737]],\n",
       "    'bbox': [606, 687, 834, 736]}]},\n",
       " {'file': 'C:/Users/krvet/Desktop/MADE/CV/HW2/contest02_data/data/test\\\\1005.jpg',\n",
       "  'nums': [{'box': [[708, 773], [988, 835], [716, 837], [983, 771]],\n",
       "    'bbox': [712, 769, 983, 838]}]},\n",
       " {'file': 'C:/Users/krvet/Desktop/MADE/CV/HW2/contest02_data/data/test\\\\1006.jpg',\n",
       "  'nums': [{'box': [[587, 890], [436, 926], [444, 895], [583, 925]],\n",
       "    'bbox': [438, 889, 585, 926]}]},\n",
       " {'file': 'C:/Users/krvet/Desktop/MADE/CV/HW2/contest02_data/data/test\\\\1007.jpg',\n",
       "  'nums': [{'box': [[1141, 591], [844, 678], [849, 594], [1134, 679]],\n",
       "    'bbox': [849, 588, 1137, 679]}]},\n",
       " {'file': 'C:/Users/krvet/Desktop/MADE/CV/HW2/contest02_data/data/test\\\\1008.jpg',\n",
       "  'nums': [{'box': [[1169, 628], [991, 697], [993, 654], [1168, 672]],\n",
       "    'bbox': [991, 622, 1168, 704]}]},\n",
       " {'file': 'C:/Users/krvet/Desktop/MADE/CV/HW2/contest02_data/data/test\\\\1009.jpg',\n",
       "  'nums': [{'box': [[1288, 447], [1103, 513], [1104, 463], [1288, 496]],\n",
       "    'bbox': [1103, 443, 1290, 514]}]},\n",
       " {'file': 'C:/Users/krvet/Desktop/MADE/CV/HW2/contest02_data/data/test\\\\101.jpg',\n",
       "  'nums': [{'box': [[1478, 864], [1241, 996], [1244, 924], [1475, 939]],\n",
       "    'bbox': [1244, 860, 1476, 996]}]},\n",
       " {'file': 'C:/Users/krvet/Desktop/MADE/CV/HW2/contest02_data/data/test\\\\1010.jpg',\n",
       "  'nums': [{'box': [[459, 822], [755, 888], [466, 888], [752, 827]],\n",
       "    'bbox': [464, 820, 751, 888]}]},\n",
       " {'file': 'C:/Users/krvet/Desktop/MADE/CV/HW2/contest02_data/data/test\\\\1011.bmp',\n",
       "  'nums': [{'box': [[293, 163], [196, 194], [200, 169], [291, 191]],\n",
       "    'bbox': [197, 163, 292, 194]}]},\n",
       " {'file': 'C:/Users/krvet/Desktop/MADE/CV/HW2/contest02_data/data/test\\\\1012.bmp',\n",
       "  'nums': [{'box': [[16, 282], [98, 300], [16, 300], [98, 276]],\n",
       "    'bbox': [17, 276, 97, 300]}]},\n",
       " {'file': 'C:/Users/krvet/Desktop/MADE/CV/HW2/contest02_data/data/test\\\\1013.jpg',\n",
       "  'nums': [{'box': [[293, 628], [626, 695], [294, 700], [621, 624]],\n",
       "    'bbox': [297, 624, 620, 699]}]},\n",
       " {'file': 'C:/Users/krvet/Desktop/MADE/CV/HW2/contest02_data/data/test\\\\1014.jpg',\n",
       "  'nums': [{'box': [[362, 709], [560, 840], [371, 775], [554, 771]],\n",
       "    'bbox': [363, 710, 557, 841]}]},\n",
       " {'file': 'C:/Users/krvet/Desktop/MADE/CV/HW2/contest02_data/data/test\\\\1015.jpeg',\n",
       "  'nums': [{'box': [[235, 62], [23, 125], [33, 72], [229, 116]],\n",
       "    'bbox': [26, 61, 232, 125]}]},\n",
       " {'file': 'C:/Users/krvet/Desktop/MADE/CV/HW2/contest02_data/data/test\\\\1016.bmp',\n",
       "  'nums': [{'box': [[172, 203], [282, 228], [175, 228], [281, 205]],\n",
       "    'bbox': [174, 203, 280, 228]}]},\n",
       " {'file': 'C:/Users/krvet/Desktop/MADE/CV/HW2/contest02_data/data/test\\\\1017.jpg',\n",
       "  'nums': [{'box': [[263, 997], [473, 1038], [264, 1039], [467, 994]],\n",
       "    'bbox': [266, 995, 470, 1038]}]},\n",
       " {'file': 'C:/Users/krvet/Desktop/MADE/CV/HW2/contest02_data/data/test\\\\1018.jpg',\n",
       "  'nums': [{'box': [[1351, 695], [1227, 854], [1221, 787], [1350, 765]],\n",
       "    'bbox': [1220, 697, 1350, 855]}]},\n",
       " {'file': 'C:/Users/krvet/Desktop/MADE/CV/HW2/contest02_data/data/test\\\\1019.jpg',\n",
       "  'nums': [{'box': [[1474, 876], [1155, 954], [1163, 880], [1467, 949]],\n",
       "    'bbox': [1160, 874, 1469, 954]}]},\n",
       " {'file': 'C:/Users/krvet/Desktop/MADE/CV/HW2/contest02_data/data/test\\\\102.png',\n",
       "  'nums': [{'box': [[425, 751], [684, 853], [430, 813], [671, 787]],\n",
       "    'bbox': [428, 749, 681, 855]},\n",
       "   {'box': [[69, 530], [204, 581], [73, 570], [202, 542]],\n",
       "    'bbox': [70, 529, 202, 582]}]},\n",
       " {'file': 'C:/Users/krvet/Desktop/MADE/CV/HW2/contest02_data/data/test\\\\1020.bmp',\n",
       "  'nums': [{'box': [[323, 172], [484, 204], [324, 204], [479, 171]],\n",
       "    'bbox': [326, 170, 481, 204]}]},\n",
       " {'file': 'C:/Users/krvet/Desktop/MADE/CV/HW2/contest02_data/data/test\\\\1021.bmp',\n",
       "  'nums': [{'box': [[265, 243], [398, 297], [267, 273], [396, 263]],\n",
       "    'bbox': [265, 241, 396, 297]}]},\n",
       " {'file': 'C:/Users/krvet/Desktop/MADE/CV/HW2/contest02_data/data/test\\\\1022.bmp',\n",
       "  'nums': [{'box': [[164, 209], [453, 274], [172, 275], [437, 208]],\n",
       "    'bbox': [168, 207, 449, 275]}]},\n",
       " {'file': 'C:/Users/krvet/Desktop/MADE/CV/HW2/contest02_data/data/test\\\\1023.bmp',\n",
       "  'nums': [{'box': [[278, 231], [170, 259], [171, 239], [274, 257]],\n",
       "    'bbox': [172, 230, 276, 259]}]},\n",
       " {'file': 'C:/Users/krvet/Desktop/MADE/CV/HW2/contest02_data/data/test\\\\1024.jpg',\n",
       "  'nums': [{'box': [[667, 479], [627, 498], [629, 484], [667, 494]],\n",
       "    'bbox': [628, 479, 666, 499]}]},\n",
       " {'file': 'C:/Users/krvet/Desktop/MADE/CV/HW2/contest02_data/data/test\\\\1025.jpg',\n",
       "  'nums': [{'box': [[442, 636], [727, 699], [449, 701], [719, 638]],\n",
       "    'bbox': [446, 634, 722, 701]}]},\n",
       " {'file': 'C:/Users/krvet/Desktop/MADE/CV/HW2/contest02_data/data/test\\\\1026.jpg',\n",
       "  'nums': [{'box': [[584, 924], [859, 973], [587, 978], [856, 919]],\n",
       "    'bbox': [589, 920, 854, 977]}]},\n",
       " {'file': 'C:/Users/krvet/Desktop/MADE/CV/HW2/contest02_data/data/test\\\\1027.jpg',\n",
       "  'nums': [{'box': [[508, 336], [367, 375], [371, 343], [505, 368]],\n",
       "    'bbox': [369, 336, 506, 374]},\n",
       "   {'box': [[679, 303], [802, 340], [683, 332], [799, 311]],\n",
       "    'bbox': [681, 303, 801, 340]}]},\n",
       " {'file': 'C:/Users/krvet/Desktop/MADE/CV/HW2/contest02_data/data/test\\\\1028.jpg',\n",
       "  'nums': [{'box': [[338, 483], [508, 524], [344, 510], [505, 480]],\n",
       "    'bbox': [339, 470, 508, 525]}]},\n",
       " {'file': 'C:/Users/krvet/Desktop/MADE/CV/HW2/contest02_data/data/test\\\\1029.jpg',\n",
       "  'nums': [{'box': [[1880, 948], [1609, 1102], [1611, 1013], [1875, 1037]],\n",
       "    'bbox': [1611, 947, 1877, 1103]}]},\n",
       " {'file': 'C:/Users/krvet/Desktop/MADE/CV/HW2/contest02_data/data/test\\\\103.jpg',\n",
       "  'nums': [{'box': [[655, 722], [876, 769], [657, 769], [870, 721]],\n",
       "    'bbox': [657, 721, 873, 769]}]},\n",
       " {'file': 'C:/Users/krvet/Desktop/MADE/CV/HW2/contest02_data/data/test\\\\1030.jpeg',\n",
       "  'nums': [{'box': [[89, 140], [162, 154], [90, 155], [161, 139]],\n",
       "    'bbox': [90, 140, 161, 154]}]},\n",
       " {'file': 'C:/Users/krvet/Desktop/MADE/CV/HW2/contest02_data/data/test\\\\1031.bmp',\n",
       "  'nums': [{'box': [[181, 381], [276, 402], [181, 405], [273, 379]],\n",
       "    'bbox': [182, 379, 275, 405]}]},\n",
       " {'file': 'C:/Users/krvet/Desktop/MADE/CV/HW2/contest02_data/data/test\\\\1032.jpg',\n",
       "  'nums': [{'box': [[213, 547], [376, 637], [218, 599], [373, 582]],\n",
       "    'bbox': [214, 547, 373, 637]}]},\n",
       " {'file': 'C:/Users/krvet/Desktop/MADE/CV/HW2/contest02_data/data/test\\\\1033.bmp',\n",
       "  'nums': [{'box': [[287, 184], [381, 221], [289, 211], [380, 195]],\n",
       "    'bbox': [288, 184, 380, 221]}]},\n",
       " {'file': 'C:/Users/krvet/Desktop/MADE/CV/HW2/contest02_data/data/test\\\\1034.bmp',\n",
       "  'nums': [{'box': [[328, 172], [389, 185], [329, 186], [388, 170]],\n",
       "    'bbox': [329, 171, 388, 186]}]},\n",
       " {'file': 'C:/Users/krvet/Desktop/MADE/CV/HW2/contest02_data/data/test\\\\1035.jpg',\n",
       "  'nums': [{'box': [[319, 706], [539, 765], [323, 762], [534, 713]],\n",
       "    'bbox': [321, 704, 535, 768]}]},\n",
       " {'file': 'C:/Users/krvet/Desktop/MADE/CV/HW2/contest02_data/data/test\\\\1036.jpg',\n",
       "  'nums': [{'box': [[986, 714], [575, 796], [582, 712], [979, 798]],\n",
       "    'bbox': [581, 710, 980, 796]}]},\n",
       " {'file': 'C:/Users/krvet/Desktop/MADE/CV/HW2/contest02_data/data/test\\\\1037.bmp',\n",
       "  'nums': [{'box': [[235, 288], [34, 330], [39, 289], [230, 330]],\n",
       "    'bbox': [37, 287, 232, 330]}]},\n",
       " {'file': 'C:/Users/krvet/Desktop/MADE/CV/HW2/contest02_data/data/test\\\\1038.jpg',\n",
       "  'nums': [{'box': [[450, 748], [912, 840], [461, 840], [904, 748]],\n",
       "    'bbox': [456, 745, 905, 841]}]},\n",
       " {'file': 'C:/Users/krvet/Desktop/MADE/CV/HW2/contest02_data/data/test\\\\1039.bmp',\n",
       "  'nums': [{'box': [[401, 247], [306, 267], [308, 247], [399, 268]],\n",
       "    'bbox': [308, 247, 400, 267]}]},\n",
       " {'file': 'C:/Users/krvet/Desktop/MADE/CV/HW2/contest02_data/data/test\\\\104.jpg',\n",
       "  'nums': [{'box': [[595, 828], [459, 858], [465, 829], [593, 858]],\n",
       "    'bbox': [461, 827, 593, 858]}]},\n",
       " {'file': 'C:/Users/krvet/Desktop/MADE/CV/HW2/contest02_data/data/test\\\\1040.bmp',\n",
       "  'nums': [{'box': [[345, 230], [163, 328], [163, 280], [339, 275]],\n",
       "    'bbox': [158, 228, 344, 329]}]},\n",
       " {'file': 'C:/Users/krvet/Desktop/MADE/CV/HW2/contest02_data/data/test\\\\1041.bmp',\n",
       "  'nums': [{'box': [[153, 239], [43, 294], [44, 261], [150, 270]],\n",
       "    'bbox': [43, 239, 151, 295]}]},\n",
       " {'file': 'C:/Users/krvet/Desktop/MADE/CV/HW2/contest02_data/data/test\\\\1042.jpg',\n",
       "  'nums': [{'box': [[278, 268], [230, 281], [231, 269], [278, 280]],\n",
       "    'bbox': [231, 269, 278, 281]}]},\n",
       " {'file': 'C:/Users/krvet/Desktop/MADE/CV/HW2/contest02_data/data/test\\\\1043.jpg',\n",
       "  'nums': [{'box': [[653, 407], [542, 459], [544, 429], [651, 438]],\n",
       "    'bbox': [544, 406, 651, 459]}]},\n",
       " {'file': 'C:/Users/krvet/Desktop/MADE/CV/HW2/contest02_data/data/test\\\\1044.jpg',\n",
       "  'nums': [{'box': [[98, 582], [224, 638], [101, 629], [222, 589]],\n",
       "    'bbox': [100, 582, 223, 638]}]},\n",
       " {'file': 'C:/Users/krvet/Desktop/MADE/CV/HW2/contest02_data/data/test\\\\1045.bmp',\n",
       "  'nums': [{'box': [[318, 236], [531, 285], [324, 280], [529, 235]],\n",
       "    'bbox': [321, 235, 528, 285]}]},\n",
       " {'file': 'C:/Users/krvet/Desktop/MADE/CV/HW2/contest02_data/data/test\\\\1046.jpg',\n",
       "  'nums': [{'box': [[627, 835], [456, 879], [459, 842], [624, 882]],\n",
       "    'bbox': [459, 833, 624, 882]},\n",
       "   {'box': [[213, 751], [305, 771], [216, 772], [305, 749]],\n",
       "    'bbox': [215, 748, 303, 771]}]},\n",
       " {'file': 'C:/Users/krvet/Desktop/MADE/CV/HW2/contest02_data/data/test\\\\1047.bmp',\n",
       "  'nums': [{'box': [[301, 228], [454, 280], [305, 266], [451, 239]],\n",
       "    'bbox': [303, 224, 452, 280]}]},\n",
       " {'file': 'C:/Users/krvet/Desktop/MADE/CV/HW2/contest02_data/data/test\\\\1048.jpg',\n",
       "  'nums': [{'box': [[572, 453], [308, 511], [314, 457], [565, 516]],\n",
       "    'bbox': [312, 452, 568, 517]}]},\n",
       " {'file': 'C:/Users/krvet/Desktop/MADE/CV/HW2/contest02_data/data/test\\\\1049.jpg',\n",
       "  'nums': [{'box': [[354, 674], [532, 770], [359, 728], [529, 712]],\n",
       "    'bbox': [355, 674, 529, 770]}]},\n",
       " {'file': 'C:/Users/krvet/Desktop/MADE/CV/HW2/contest02_data/data/test\\\\105.jpg',\n",
       "  'nums': [{'box': [[100, 449], [202, 507], [102, 482], [201, 471]],\n",
       "    'bbox': [101, 449, 201, 507]}]},\n",
       " {'file': 'C:/Users/krvet/Desktop/MADE/CV/HW2/contest02_data/data/test\\\\1050.jpg',\n",
       "  'nums': [{'box': [[1491, 822], [1125, 903], [1135, 823], [1481, 902]],\n",
       "    'bbox': [1131, 818, 1485, 905]}]},\n",
       " {'file': 'C:/Users/krvet/Desktop/MADE/CV/HW2/contest02_data/data/test\\\\1051.bmp',\n",
       "  'nums': [{'box': [[258, 192], [153, 237], [154, 207], [253, 221]],\n",
       "    'bbox': [154, 190, 256, 237]}]},\n",
       " {'file': 'C:/Users/krvet/Desktop/MADE/CV/HW2/contest02_data/data/test\\\\1052.jpg',\n",
       "  'nums': [{'box': [[645, 366], [477, 415], [478, 373], [641, 408]],\n",
       "    'bbox': [479, 365, 642, 415]}]},\n",
       " {'file': 'C:/Users/krvet/Desktop/MADE/CV/HW2/contest02_data/data/test\\\\1053.bmp',\n",
       "  'nums': [{'box': [[428, 140], [313, 174], [316, 149], [426, 165]],\n",
       "    'bbox': [315, 139, 426, 174]},\n",
       "   {'box': [[70, 167], [3, 189], [6, 172], [68, 185]],\n",
       "    'bbox': [4, 167, 69, 189]}]},\n",
       " {'file': 'C:/Users/krvet/Desktop/MADE/CV/HW2/contest02_data/data/test\\\\1054.jpg',\n",
       "  'nums': [{'box': [[326, 540], [460, 605], [331, 593], [456, 542]],\n",
       "    'bbox': [324, 538, 458, 605]}]},\n",
       " {'file': 'C:/Users/krvet/Desktop/MADE/CV/HW2/contest02_data/data/test\\\\1055.jpeg',\n",
       "  'nums': [{'box': [[759, 351], [845, 370], [761, 371], [845, 349]],\n",
       "    'bbox': [760, 348, 844, 371]}]},\n",
       " {'file': 'C:/Users/krvet/Desktop/MADE/CV/HW2/contest02_data/data/test\\\\1056.jpg',\n",
       "  'nums': [{'box': [[336, 254], [280, 272], [281, 258], [332, 269]],\n",
       "    'bbox': [281, 254, 335, 272]}]},\n",
       " {'file': 'C:/Users/krvet/Desktop/MADE/CV/HW2/contest02_data/data/test\\\\1057.jpg',\n",
       "  'nums': [{'box': [[446, 487], [670, 531], [448, 532], [665, 485]],\n",
       "    'bbox': [449, 484, 668, 531]}]},\n",
       " {'file': 'C:/Users/krvet/Desktop/MADE/CV/HW2/contest02_data/data/test\\\\1058.jpg',\n",
       "  'nums': [{'box': [[1046, 1167], [609, 1287], [620, 1201], [1034, 1254]],\n",
       "    'bbox': [614, 1165, 1040, 1288]}]},\n",
       " {'file': 'C:/Users/krvet/Desktop/MADE/CV/HW2/contest02_data/data/test\\\\1059.bmp',\n",
       "  'nums': [{'box': [[82, 225], [219, 260], [85, 259], [218, 226]],\n",
       "    'bbox': [84, 225, 217, 259]}]},\n",
       " {'file': 'C:/Users/krvet/Desktop/MADE/CV/HW2/contest02_data/data/test\\\\106.jpg',\n",
       "  'nums': [{'box': [[249, 730], [449, 823], [255, 790], [442, 760]],\n",
       "    'bbox': [252, 727, 446, 824]}]},\n",
       " {'file': 'C:/Users/krvet/Desktop/MADE/CV/HW2/contest02_data/data/test\\\\1060.bmp',\n",
       "  'nums': [{'box': [[163, 179], [62, 219], [62, 191], [159, 206]],\n",
       "    'bbox': [63, 179, 161, 218]}]},\n",
       " {'file': 'C:/Users/krvet/Desktop/MADE/CV/HW2/contest02_data/data/test\\\\1061.jpg',\n",
       "  'nums': [{'box': [[533, 358], [635, 382], [536, 380], [632, 360]],\n",
       "    'bbox': [535, 358, 633, 382]},\n",
       "   {'box': [[49, 334], [121, 355], [51, 355], [120, 336]],\n",
       "    'bbox': [51, 334, 120, 355]}]},\n",
       " {'file': 'C:/Users/krvet/Desktop/MADE/CV/HW2/contest02_data/data/test\\\\1062.jpg',\n",
       "  'nums': [{'box': [[1047, 691], [877, 761], [882, 723], [1041, 731]],\n",
       "    'bbox': [879, 689, 1044, 762]}]},\n",
       " {'file': 'C:/Users/krvet/Desktop/MADE/CV/HW2/contest02_data/data/test\\\\1063.jpg',\n",
       "  'nums': [{'box': [[324, 762], [635, 866], [329, 830], [629, 794]],\n",
       "    'bbox': [329, 759, 631, 869]}]},\n",
       " {'file': 'C:/Users/krvet/Desktop/MADE/CV/HW2/contest02_data/data/test\\\\1064.jpg',\n",
       "  'nums': [{'box': [[1244, 542], [1064, 622], [1065, 567], [1243, 594]],\n",
       "    'bbox': [1066, 542, 1242, 622]}]},\n",
       " {'file': 'C:/Users/krvet/Desktop/MADE/CV/HW2/contest02_data/data/test\\\\1065.bmp',\n",
       "  'nums': [{'box': [[510, 232], [405, 257], [406, 238], [507, 259]],\n",
       "    'bbox': [406, 231, 509, 262]}]},\n",
       " {'file': 'C:/Users/krvet/Desktop/MADE/CV/HW2/contest02_data/data/test\\\\1066.bmp',\n",
       "  'nums': [{'box': [[176, 228], [250, 246], [178, 248], [246, 226]],\n",
       "    'bbox': [177, 227, 249, 247]}]},\n",
       " {'file': 'C:/Users/krvet/Desktop/MADE/CV/HW2/contest02_data/data/test\\\\1067.jpg',\n",
       "  'nums': [{'box': [[392, 557], [460, 573], [393, 574], [459, 556]],\n",
       "    'bbox': [393, 557, 459, 573]}]},\n",
       " {'file': 'C:/Users/krvet/Desktop/MADE/CV/HW2/contest02_data/data/test\\\\1068.jpg',\n",
       "  'nums': [{'box': [[52, 688], [174, 763], [57, 726], [174, 722]],\n",
       "    'bbox': [53, 688, 172, 762]}]},\n",
       " {'file': 'C:/Users/krvet/Desktop/MADE/CV/HW2/contest02_data/data/test\\\\1069.bmp',\n",
       "  'nums': [{'box': [[28, 223], [182, 256], [29, 256], [181, 221]],\n",
       "    'bbox': [31, 221, 179, 256]}]},\n",
       " {'file': 'C:/Users/krvet/Desktop/MADE/CV/HW2/contest02_data/data/test\\\\107.jpg',\n",
       "  'nums': [{'box': [[952, 491], [874, 522], [876, 497], [951, 518]],\n",
       "    'bbox': [874, 491, 952, 522]}]},\n",
       " {'file': 'C:/Users/krvet/Desktop/MADE/CV/HW2/contest02_data/data/test\\\\1070.jpg',\n",
       "  'nums': [{'box': [[578, 793], [744, 825], [579, 827], [743, 789]],\n",
       "    'bbox': [581, 790, 741, 827]}]},\n",
       " {'file': 'C:/Users/krvet/Desktop/MADE/CV/HW2/contest02_data/data/test\\\\1071.jpg',\n",
       "  'nums': [{'box': [[373, 478], [230, 521], [233, 490], [369, 510]],\n",
       "    'bbox': [232, 477, 371, 522]},\n",
       "   {'box': [[653, 303], [587, 321], [589, 304], [652, 321]],\n",
       "    'bbox': [588, 303, 652, 321]},\n",
       "   {'box': [[641, 494], [579, 517], [581, 502], [639, 511]],\n",
       "    'bbox': [580, 494, 639, 517]}]},\n",
       " {'file': 'C:/Users/krvet/Desktop/MADE/CV/HW2/contest02_data/data/test\\\\1072.jpg',\n",
       "  'nums': [{'box': [[1263, 694], [1123, 769], [1120, 717], [1264, 742]],\n",
       "    'bbox': [1120, 691, 1263, 771]}]},\n",
       " {'file': 'C:/Users/krvet/Desktop/MADE/CV/HW2/contest02_data/data/test\\\\1073.bmp',\n",
       "  'nums': [{'box': [[90, 182], [236, 212], [92, 212], [235, 181]],\n",
       "    'bbox': [92, 181, 234, 212]}]},\n",
       " {'file': 'C:/Users/krvet/Desktop/MADE/CV/HW2/contest02_data/data/test\\\\1074.jpg',\n",
       "  'nums': [{'box': [[347, 372], [582, 426], [354, 423], [572, 375]],\n",
       "    'bbox': [351, 372, 579, 426]}]},\n",
       " {'file': 'C:/Users/krvet/Desktop/MADE/CV/HW2/contest02_data/data/test\\\\1075.bmp',\n",
       "  'nums': [{'box': [[376, 322], [235, 379], [235, 346], [373, 353]],\n",
       "    'bbox': [232, 320, 374, 380]}]},\n",
       " {'file': 'C:/Users/krvet/Desktop/MADE/CV/HW2/contest02_data/data/test\\\\1076.jpg',\n",
       "  'nums': [{'box': [[1228, 728], [980, 834], [984, 770], [1225, 788]],\n",
       "    'bbox': [983, 724, 1226, 835]}]},\n",
       " {'file': 'C:/Users/krvet/Desktop/MADE/CV/HW2/contest02_data/data/test\\\\1077.bmp',\n",
       "  'nums': [{'box': [[166, 250], [56, 286], [55, 261], [162, 277]],\n",
       "    'bbox': [56, 249, 164, 287]}]},\n",
       " {'file': 'C:/Users/krvet/Desktop/MADE/CV/HW2/contest02_data/data/test\\\\1078.jpg',\n",
       "  'nums': [{'box': [[1236, 555], [958, 609], [964, 558], [1227, 612]],\n",
       "    'bbox': [963, 553, 1231, 613]}]},\n",
       " {'file': 'C:/Users/krvet/Desktop/MADE/CV/HW2/contest02_data/data/test\\\\1079.jpg',\n",
       "  'nums': [{'box': [[481, 262], [394, 287], [398, 267], [480, 284]],\n",
       "    'bbox': [395, 261, 480, 287]}]},\n",
       " {'file': 'C:/Users/krvet/Desktop/MADE/CV/HW2/contest02_data/data/test\\\\108.jpg',\n",
       "  'nums': [{'box': [[875, 1057], [1444, 1161], [878, 1167], [1436, 1044]],\n",
       "    'bbox': [884, 1045, 1435, 1166]}]},\n",
       " {'file': 'C:/Users/krvet/Desktop/MADE/CV/HW2/contest02_data/data/test\\\\1080.bmp',\n",
       "  'nums': [{'box': [[248, 175], [148, 223], [147, 197], [245, 201]],\n",
       "    'bbox': [146, 173, 248, 226]}]},\n",
       " {'file': 'C:/Users/krvet/Desktop/MADE/CV/HW2/contest02_data/data/test\\\\1081.bmp',\n",
       "  'nums': [{'box': [[15, 124], [227, 174], [21, 169], [222, 131]],\n",
       "    'bbox': [17, 122, 224, 174]}]},\n",
       " {'file': 'C:/Users/krvet/Desktop/MADE/CV/HW2/contest02_data/data/test\\\\1082.jpg',\n",
       "  'nums': [{'box': [[182, 338], [306, 367], [183, 367], [304, 340]],\n",
       "    'bbox': [183, 338, 304, 367]}]},\n",
       " {'file': 'C:/Users/krvet/Desktop/MADE/CV/HW2/contest02_data/data/test\\\\1083.bmp',\n",
       "  'nums': [{'box': [[174, 247], [286, 294], [177, 279], [283, 260]],\n",
       "    'bbox': [175, 244, 284, 296]}]},\n",
       " {'file': 'C:/Users/krvet/Desktop/MADE/CV/HW2/contest02_data/data/test\\\\1084.jpg',\n",
       "  'nums': [{'box': [[218, 366], [145, 382], [147, 366], [217, 383]],\n",
       "    'bbox': [146, 365, 216, 382]}]},\n",
       " {'file': 'C:/Users/krvet/Desktop/MADE/CV/HW2/contest02_data/data/test\\\\1085.jpg',\n",
       "  'nums': [{'box': [[1540, 496], [1689, 531], [1541, 531], [1688, 494]],\n",
       "    'bbox': [1542, 494, 1687, 530]},\n",
       "   {'box': [[607, 659], [963, 695], [614, 706], [953, 623]],\n",
       "    'bbox': [612, 623, 957, 706]}]},\n",
       " {'file': 'C:/Users/krvet/Desktop/MADE/CV/HW2/contest02_data/data/test\\\\1086.jpg',\n",
       "  'nums': [{'box': [[642, 383], [542, 448], [547, 417], [640, 415]],\n",
       "    'bbox': [544, 384, 640, 447]}]},\n",
       " {'file': 'C:/Users/krvet/Desktop/MADE/CV/HW2/contest02_data/data/test\\\\1087.bmp',\n",
       "  'nums': []},\n",
       " {'file': 'C:/Users/krvet/Desktop/MADE/CV/HW2/contest02_data/data/test\\\\1088.jpg',\n",
       "  'nums': [{'box': [[1065, 623], [730, 700], [737, 631], [1059, 690]],\n",
       "    'bbox': [735, 620, 1060, 701]}]},\n",
       " {'file': 'C:/Users/krvet/Desktop/MADE/CV/HW2/contest02_data/data/test\\\\1089.jpg',\n",
       "  'nums': [{'box': [[326, 486], [493, 510], [326, 515], [492, 480]],\n",
       "    'bbox': [328, 480, 490, 515]}]},\n",
       " {'file': 'C:/Users/krvet/Desktop/MADE/CV/HW2/contest02_data/data/test\\\\109.jpg',\n",
       "  'nums': [{'box': [[894, 421], [799, 475], [802, 440], [892, 457]],\n",
       "    'bbox': [801, 420, 892, 475]}]},\n",
       " {'file': 'C:/Users/krvet/Desktop/MADE/CV/HW2/contest02_data/data/test\\\\1090.jpg',\n",
       "  'nums': [{'box': [[407, 972], [762, 1071], [417, 1057], [756, 989]],\n",
       "    'bbox': [413, 969, 756, 1072]}]},\n",
       " {'file': 'C:/Users/krvet/Desktop/MADE/CV/HW2/contest02_data/data/test\\\\1091.jpg',\n",
       "  'nums': [{'box': [[491, 760], [620, 793], [492, 793], [616, 759]],\n",
       "    'bbox': [493, 759, 618, 792]},\n",
       "   {'box': [[1288, 645], [1384, 667], [1289, 667], [1383, 644]],\n",
       "    'bbox': [1289, 644, 1383, 667]}]},\n",
       " {'file': 'C:/Users/krvet/Desktop/MADE/CV/HW2/contest02_data/data/test\\\\1092.jpg',\n",
       "  'nums': [{'box': [[237, 625], [549, 806], [246, 709], [547, 721]],\n",
       "    'bbox': [240, 625, 545, 807]}]},\n",
       " {'file': 'C:/Users/krvet/Desktop/MADE/CV/HW2/contest02_data/data/test\\\\1093.jpg',\n",
       "  'nums': [{'box': [[695, 451], [1026, 517], [697, 520], [1020, 446]],\n",
       "    'bbox': [700, 446, 1021, 519]}]},\n",
       " {'file': 'C:/Users/krvet/Desktop/MADE/CV/HW2/contest02_data/data/test\\\\1094.jpg',\n",
       "  'nums': [{'box': [[578, 566], [836, 619], [584, 620], [829, 562]],\n",
       "    'bbox': [582, 562, 832, 619]}]},\n",
       " {'file': 'C:/Users/krvet/Desktop/MADE/CV/HW2/contest02_data/data/test\\\\1095.bmp',\n",
       "  'nums': [{'box': [[201, 253], [83, 300], [87, 266], [196, 284]],\n",
       "    'bbox': [84, 251, 201, 300]}]},\n",
       " {'file': 'C:/Users/krvet/Desktop/MADE/CV/HW2/contest02_data/data/test\\\\1096.bmp',\n",
       "  'nums': [{'box': [[297, 228], [374, 244], [297, 245], [373, 226]],\n",
       "    'bbox': [298, 227, 373, 244]}]},\n",
       " {'file': 'C:/Users/krvet/Desktop/MADE/CV/HW2/contest02_data/data/test\\\\1097.png',\n",
       "  'nums': [{'box': [[1497, 803], [1612, 830], [1497, 832], [1610, 801]],\n",
       "    'bbox': [1498, 801, 1610, 832]}]},\n",
       " {'file': 'C:/Users/krvet/Desktop/MADE/CV/HW2/contest02_data/data/test\\\\1098.jpg',\n",
       "  'nums': [{'box': [[890, 1000], [1139, 1048], [891, 1049], [1136, 999]],\n",
       "    'bbox': [894, 1000, 1135, 1049]}]},\n",
       " {'file': 'C:/Users/krvet/Desktop/MADE/CV/HW2/contest02_data/data/test\\\\1099.jpg',\n",
       "  'nums': [{'box': [[208, 830], [453, 913], [218, 892], [444, 850]],\n",
       "    'bbox': [211, 829, 449, 914]}]},\n",
       " {'file': 'C:/Users/krvet/Desktop/MADE/CV/HW2/contest02_data/data/test\\\\11.jpg',\n",
       "  'nums': [{'box': [[304, 296], [457, 326], [304, 327], [456, 293]],\n",
       "    'bbox': [306, 293, 454, 327]}]},\n",
       " {'file': 'C:/Users/krvet/Desktop/MADE/CV/HW2/contest02_data/data/test\\\\110.jpg',\n",
       "  'nums': [{'box': [[203, 583], [446, 680], [211, 642], [443, 620]],\n",
       "    'bbox': [206, 582, 442, 680]}]},\n",
       " {'file': 'C:/Users/krvet/Desktop/MADE/CV/HW2/contest02_data/data/test\\\\1100.jpg',\n",
       "  'nums': [{'box': [[1177, 555], [962, 649], [967, 585], [1170, 613]],\n",
       "    'bbox': [966, 555, 1175, 651]}]},\n",
       " {'file': 'C:/Users/krvet/Desktop/MADE/CV/HW2/contest02_data/data/test\\\\1101.bmp',\n",
       "  'nums': [{'box': [[202, 304], [310, 366], [205, 337], [308, 327]],\n",
       "    'bbox': [201, 302, 308, 367]}]},\n",
       " {'file': 'C:/Users/krvet/Desktop/MADE/CV/HW2/contest02_data/data/test\\\\1102.bmp',\n",
       "  'nums': [{'box': [[660, 1125], [393, 1188], [404, 1135], [648, 1180]],\n",
       "    'bbox': [396, 1123, 656, 1190]},\n",
       "   {'box': [[1571, 1013], [1428, 1055], [1429, 1015], [1569, 1057]],\n",
       "    'bbox': [1426, 1012, 1569, 1057]}]},\n",
       " {'file': 'C:/Users/krvet/Desktop/MADE/CV/HW2/contest02_data/data/test\\\\1103.bmp',\n",
       "  'nums': [{'box': [[213, 169], [89, 223], [85, 188], [214, 204]],\n",
       "    'bbox': [85, 169, 215, 224]}]},\n",
       " {'file': 'C:/Users/krvet/Desktop/MADE/CV/HW2/contest02_data/data/test\\\\1104.jpg',\n",
       "  'nums': [{'box': [[616, 929], [1141, 1026], [631, 1035], [1134, 923]],\n",
       "    'bbox': [625, 924, 1132, 1044]}]},\n",
       " {'file': 'C:/Users/krvet/Desktop/MADE/CV/HW2/contest02_data/data/test\\\\1105.jpg',\n",
       "  'nums': [{'box': [[280, 471], [163, 498], [165, 472], [277, 497]],\n",
       "    'bbox': [165, 468, 278, 498]}]},\n",
       " {'file': 'C:/Users/krvet/Desktop/MADE/CV/HW2/contest02_data/data/test\\\\1106.jpg',\n",
       "  'nums': [{'box': [[706, 360], [594, 399], [595, 375], [704, 385]],\n",
       "    'bbox': [596, 359, 704, 399]}]},\n",
       " {'file': 'C:/Users/krvet/Desktop/MADE/CV/HW2/contest02_data/data/test\\\\1107.jpg',\n",
       "  'nums': [{'box': [[486, 478], [612, 506], [488, 507], [609, 478]],\n",
       "    'bbox': [487, 478, 610, 507]}]},\n",
       " {'file': 'C:/Users/krvet/Desktop/MADE/CV/HW2/contest02_data/data/test\\\\1108.jpg',\n",
       "  'nums': [{'box': [[624, 872], [844, 916], [626, 917], [838, 867]],\n",
       "    'bbox': [627, 868, 840, 916]},\n",
       "   {'box': [[845, 635], [549, 701], [556, 641], [838, 689]],\n",
       "    'bbox': [553, 625, 841, 701]}]},\n",
       " {'file': 'C:/Users/krvet/Desktop/MADE/CV/HW2/contest02_data/data/test\\\\1109.jpg',\n",
       "  'nums': [{'box': [[1730, 1267], [1548, 1354], [1551, 1292], [1724, 1333]],\n",
       "    'bbox': [1550, 1266, 1728, 1356]}]},\n",
       " {'file': 'C:/Users/krvet/Desktop/MADE/CV/HW2/contest02_data/data/test\\\\111.jpg',\n",
       "  'nums': [{'box': [[1154, 456], [986, 508], [987, 466], [1149, 497]],\n",
       "    'bbox': [987, 451, 1152, 513]}]},\n",
       " {'file': 'C:/Users/krvet/Desktop/MADE/CV/HW2/contest02_data/data/test\\\\1110.jpg',\n",
       "  'nums': [{'box': [[833, 453], [689, 510], [692, 470], [829, 495]],\n",
       "    'bbox': [691, 451, 831, 510]}]},\n",
       " {'file': 'C:/Users/krvet/Desktop/MADE/CV/HW2/contest02_data/data/test\\\\1111.jpg',\n",
       "  'nums': [{'box': [[1224, 1364], [350, 1703], [358, 1502], [1216, 1546]],\n",
       "    'bbox': [363, 1356, 1213, 1706]},\n",
       "   {'box': [[3637, 541], [4090, 679], [3651, 662], [4063, 554]],\n",
       "    'bbox': [3643, 539, 4084, 681]}]},\n",
       " {'file': 'C:/Users/krvet/Desktop/MADE/CV/HW2/contest02_data/data/test\\\\1112.bmp',\n",
       "  'nums': [{'box': [[455, 202], [301, 244], [306, 211], [452, 234]],\n",
       "    'bbox': [303, 200, 453, 244]}]},\n",
       " {'file': 'C:/Users/krvet/Desktop/MADE/CV/HW2/contest02_data/data/test\\\\1113.jpg',\n",
       "  'nums': [{'box': [[1693, 682], [1417, 767], [1422, 701], [1686, 754]],\n",
       "    'bbox': [1418, 678, 1689, 776]}]},\n",
       " {'file': 'C:/Users/krvet/Desktop/MADE/CV/HW2/contest02_data/data/test\\\\1114.jpg',\n",
       "  'nums': [{'box': [[987, 433], [834, 485], [837, 446], [982, 472]],\n",
       "    'bbox': [836, 431, 985, 485]},\n",
       "   {'box': [[204, 282], [116, 306], [118, 285], [202, 307]],\n",
       "    'bbox': [117, 282, 203, 307]}]},\n",
       " {'file': 'C:/Users/krvet/Desktop/MADE/CV/HW2/contest02_data/data/test\\\\1115.jpg',\n",
       "  'nums': [{'box': [[451, 656], [728, 726], [458, 726], [720, 664]],\n",
       "    'bbox': [454, 652, 724, 731]}]},\n",
       " {'file': 'C:/Users/krvet/Desktop/MADE/CV/HW2/contest02_data/data/test\\\\1116.jpg',\n",
       "  'nums': [{'box': [[1380, 964], [1120, 1056], [1123, 996], [1375, 1025]],\n",
       "    'bbox': [1124, 962, 1376, 1059]}]},\n",
       " {'file': 'C:/Users/krvet/Desktop/MADE/CV/HW2/contest02_data/data/test\\\\1117.jpg',\n",
       "  'nums': [{'box': [[1471, 742], [1322, 833], [1329, 784], [1466, 794]],\n",
       "    'bbox': [1324, 741, 1469, 832]},\n",
       "   {'box': [[214, 796], [1, 877], [7, 831], [209, 842]],\n",
       "    'bbox': [3, 792, 210, 878]}]},\n",
       " {'file': 'C:/Users/krvet/Desktop/MADE/CV/HW2/contest02_data/data/test\\\\1118.bmp',\n",
       "  'nums': [{'box': [[405, 113], [280, 140], [286, 115], [404, 141]],\n",
       "    'bbox': [282, 112, 403, 141]}]},\n",
       " {'file': 'C:/Users/krvet/Desktop/MADE/CV/HW2/contest02_data/data/test\\\\1119.jpg',\n",
       "  'nums': [{'box': [[753, 814], [1090, 884], [758, 883], [1082, 819]],\n",
       "    'bbox': [758, 813, 1085, 887]}]},\n",
       " {'file': 'C:/Users/krvet/Desktop/MADE/CV/HW2/contest02_data/data/test\\\\112.bmp',\n",
       "  'nums': [{'box': [[412, 215], [322, 242], [323, 220], [411, 242]],\n",
       "    'bbox': [323, 215, 410, 242]}]},\n",
       " {'file': 'C:/Users/krvet/Desktop/MADE/CV/HW2/contest02_data/data/test\\\\1120.bmp',\n",
       "  'nums': [{'box': [[129, 281], [228, 311], [133, 311], [225, 281]],\n",
       "    'bbox': [130, 281, 227, 311]}]},\n",
       " {'file': 'C:/Users/krvet/Desktop/MADE/CV/HW2/contest02_data/data/test\\\\1121.jpg',\n",
       "  'nums': [{'box': [[230, 291], [393, 324], [241, 324], [392, 293]],\n",
       "    'bbox': [233, 289, 391, 325]}]},\n",
       " {'file': 'C:/Users/krvet/Desktop/MADE/CV/HW2/contest02_data/data/test\\\\1122.jpg',\n",
       "  'nums': [{'box': [[257, 428], [381, 456], [261, 456], [378, 429]],\n",
       "    'bbox': [258, 427, 379, 456]}]},\n",
       " {'file': 'C:/Users/krvet/Desktop/MADE/CV/HW2/contest02_data/data/test\\\\1123.jpg',\n",
       "  'nums': [{'box': [[616, 565], [937, 644], [627, 634], [928, 577]],\n",
       "    'bbox': [620, 564, 932, 645]}]},\n",
       " {'file': 'C:/Users/krvet/Desktop/MADE/CV/HW2/contest02_data/data/test\\\\1124.jpg',\n",
       "  'nums': [{'box': [[227, 361], [444, 402], [229, 403], [440, 359]],\n",
       "    'bbox': [231, 359, 441, 403]}]},\n",
       " {'file': 'C:/Users/krvet/Desktop/MADE/CV/HW2/contest02_data/data/test\\\\1125.jpg',\n",
       "  'nums': [{'box': [[596, 686], [893, 751], [602, 749], [886, 689]],\n",
       "    'bbox': [600, 685, 889, 751]}]},\n",
       " {'file': 'C:/Users/krvet/Desktop/MADE/CV/HW2/contest02_data/data/test\\\\1126.bmp',\n",
       "  'nums': [{'box': [[247, 220], [349, 196], [349, 220], [251, 196]],\n",
       "    'bbox': [249, 196, 347, 220]},\n",
       "   {'box': [[74, 173], [134, 185], [75, 186], [134, 172]],\n",
       "    'bbox': [75, 172, 133, 186]}]},\n",
       " {'file': 'C:/Users/krvet/Desktop/MADE/CV/HW2/contest02_data/data/test\\\\1127.jpg',\n",
       "  'nums': [{'box': [[501, 579], [373, 621], [376, 591], [500, 610]],\n",
       "    'bbox': [375, 580, 499, 621]}]},\n",
       " {'file': 'C:/Users/krvet/Desktop/MADE/CV/HW2/contest02_data/data/test\\\\1128.jpg',\n",
       "  'nums': [{'box': [[1481, 614], [1298, 664], [1303, 615], [1476, 665]],\n",
       "    'bbox': [1300, 609, 1479, 673]}]},\n",
       " {'file': 'C:/Users/krvet/Desktop/MADE/CV/HW2/contest02_data/data/test\\\\1129.jpg',\n",
       "  'nums': [{'box': [[1332, 767], [1076, 826], [1080, 767], [1324, 825]],\n",
       "    'bbox': [1080, 765, 1328, 827]}]},\n",
       " {'file': 'C:/Users/krvet/Desktop/MADE/CV/HW2/contest02_data/data/test\\\\113.bmp',\n",
       "  'nums': [{'box': [[464, 326], [628, 394], [467, 360], [625, 350]],\n",
       "    'bbox': [467, 325, 625, 395]}]},\n",
       " {'file': 'C:/Users/krvet/Desktop/MADE/CV/HW2/contest02_data/data/test\\\\1130.jpg',\n",
       "  'nums': [{'box': [[139, 615], [275, 661], [143, 653], [272, 621]],\n",
       "    'bbox': [141, 614, 274, 660]}]},\n",
       " {'file': 'C:/Users/krvet/Desktop/MADE/CV/HW2/contest02_data/data/test\\\\1131.jpg',\n",
       "  'nums': [{'box': [[252, 581], [532, 681], [255, 642], [528, 611]],\n",
       "    'bbox': [256, 578, 528, 682]}]},\n",
       " {'file': 'C:/Users/krvet/Desktop/MADE/CV/HW2/contest02_data/data/test\\\\1132.jpg',\n",
       "  'nums': [{'box': [[1814, 868], [1557, 1011], [1568, 934], [1810, 938]],\n",
       "    'bbox': [1560, 867, 1811, 1010]}]},\n",
       " {'file': 'C:/Users/krvet/Desktop/MADE/CV/HW2/contest02_data/data/test\\\\1133.jpg',\n",
       "  'nums': [{'box': [[2471, 1172], [1949, 1374], [1960, 1243], [2462, 1301]],\n",
       "    'bbox': [1956, 1168, 2464, 1376]}]},\n",
       " {'file': 'C:/Users/krvet/Desktop/MADE/CV/HW2/contest02_data/data/test\\\\1134.jpg',\n",
       "  'nums': [{'box': [[1621, 1143], [1215, 1294], [1231, 1199], [1611, 1235]],\n",
       "    'bbox': [1221, 1139, 1615, 1294]}]},\n",
       " {'file': 'C:/Users/krvet/Desktop/MADE/CV/HW2/contest02_data/data/test\\\\1135.jpg',\n",
       "  'nums': [{'box': [[549, 810], [970, 887], [556, 891], [965, 805]],\n",
       "    'bbox': [556, 806, 963, 890]}]},\n",
       " {'file': 'C:/Users/krvet/Desktop/MADE/CV/HW2/contest02_data/data/test\\\\1136.bmp',\n",
       "  'nums': [{'box': [[7, 198], [142, 224], [11, 228], [137, 196]],\n",
       "    'bbox': [9, 196, 141, 228]}]},\n",
       " {'file': 'C:/Users/krvet/Desktop/MADE/CV/HW2/contest02_data/data/test\\\\1137.bmp',\n",
       "  'nums': [{'box': [[193, 110], [90, 145], [92, 121], [190, 136]],\n",
       "    'bbox': [92, 109, 192, 146]}]},\n",
       " {'file': 'C:/Users/krvet/Desktop/MADE/CV/HW2/contest02_data/data/test\\\\1138.bmp',\n",
       "  'nums': [{'box': [[352, 121], [499, 161], [356, 151], [494, 126]],\n",
       "    'bbox': [354, 117, 497, 160]}]},\n",
       " {'file': 'C:/Users/krvet/Desktop/MADE/CV/HW2/contest02_data/data/test\\\\1139.jpg',\n",
       "  'nums': [{'box': [[1707, 969], [1343, 1102], [1352, 1021], [1697, 1051]],\n",
       "    'bbox': [1348, 966, 1702, 1106]}]},\n",
       " {'file': 'C:/Users/krvet/Desktop/MADE/CV/HW2/contest02_data/data/test\\\\114.jpg',\n",
       "  'nums': [{'box': [[593, 674], [866, 732], [599, 732], [858, 675]],\n",
       "    'bbox': [596, 673, 861, 733]}]},\n",
       " {'file': 'C:/Users/krvet/Desktop/MADE/CV/HW2/contest02_data/data/test\\\\1140.bmp',\n",
       "  'nums': [{'box': [[278, 206], [171, 247], [174, 222], [276, 230]],\n",
       "    'bbox': [173, 203, 276, 247]}]},\n",
       " {'file': 'C:/Users/krvet/Desktop/MADE/CV/HW2/contest02_data/data/test\\\\1141.jpg',\n",
       "  'nums': [{'box': [[279, 493], [396, 516], [281, 520], [394, 491]],\n",
       "    'bbox': [280, 491, 394, 520]}]},\n",
       " {'file': 'C:/Users/krvet/Desktop/MADE/CV/HW2/contest02_data/data/test\\\\1142.jpg',\n",
       "  'nums': [{'box': [[1402, 400], [1195, 472], [1196, 416], [1395, 458]],\n",
       "    'bbox': [1196, 398, 1399, 473]}]},\n",
       " {'file': 'C:/Users/krvet/Desktop/MADE/CV/HW2/contest02_data/data/test\\\\1144.jpg',\n",
       "  'nums': [{'box': [[229, 235], [339, 259], [229, 259], [338, 233]],\n",
       "    'bbox': [231, 232, 338, 259]}]},\n",
       " {'file': 'C:/Users/krvet/Desktop/MADE/CV/HW2/contest02_data/data/test\\\\1145.jpg',\n",
       "  'nums': [{'box': [[1163, 645], [758, 730], [766, 651], [1151, 733]],\n",
       "    'bbox': [760, 642, 1157, 734]}]},\n",
       " {'file': 'C:/Users/krvet/Desktop/MADE/CV/HW2/contest02_data/data/test\\\\1146.bmp',\n",
       "  'nums': [{'box': [[250, 167], [399, 218], [254, 203], [396, 179]],\n",
       "    'bbox': [253, 166, 397, 218]}]},\n",
       " {'file': 'C:/Users/krvet/Desktop/MADE/CV/HW2/contest02_data/data/test\\\\1147.bmp',\n",
       "  'nums': [{'box': [[356, 231], [262, 254], [263, 234], [354, 254]],\n",
       "    'bbox': [263, 231, 355, 254]}]},\n",
       " {'file': 'C:/Users/krvet/Desktop/MADE/CV/HW2/contest02_data/data/test\\\\1148.bmp',\n",
       "  'nums': [{'box': [[192, 201], [318, 230], [193, 232], [316, 198]],\n",
       "    'bbox': [193, 199, 315, 231]}]},\n",
       " {'file': 'C:/Users/krvet/Desktop/MADE/CV/HW2/contest02_data/data/test\\\\1149.jpg',\n",
       "  'nums': [{'box': [[664, 423], [456, 453], [463, 424], [596, 457]],\n",
       "    'bbox': [456, 417, 661, 464]}]},\n",
       " {'file': 'C:/Users/krvet/Desktop/MADE/CV/HW2/contest02_data/data/test\\\\115.bmp',\n",
       "  'nums': [{'box': [[125, 89], [226, 127], [128, 125], [223, 96]],\n",
       "    'bbox': [126, 90, 224, 127]}]},\n",
       " {'file': 'C:/Users/krvet/Desktop/MADE/CV/HW2/contest02_data/data/test\\\\1150.jpg',\n",
       "  'nums': [{'box': [[611, 308], [557, 336], [559, 316], [610, 326]],\n",
       "    'bbox': [558, 307, 610, 336]}]},\n",
       " {'file': 'C:/Users/krvet/Desktop/MADE/CV/HW2/contest02_data/data/test\\\\1151.bmp',\n",
       "  'nums': [{'box': [[901, 548], [1298, 618], [906, 632], [1294, 538]],\n",
       "    'bbox': [907, 539, 1292, 631]}]},\n",
       " {'file': 'C:/Users/krvet/Desktop/MADE/CV/HW2/contest02_data/data/test\\\\1152.jpg',\n",
       "  'nums': [{'box': [[322, 852], [655, 954], [331, 938], [648, 865]],\n",
       "    'bbox': [325, 847, 651, 955]}]},\n",
       " {'file': 'C:/Users/krvet/Desktop/MADE/CV/HW2/contest02_data/data/test\\\\1153.jpg',\n",
       "  'nums': [{'box': [[1787, 896], [1523, 1044], [1528, 960], [1785, 979]],\n",
       "    'bbox': [1526, 894, 1785, 1044]},\n",
       "   {'box': [[1217, 189], [1333, 218], [1223, 218], [1329, 188]],\n",
       "    'bbox': [1219, 186, 1331, 219]}]},\n",
       " {'file': 'C:/Users/krvet/Desktop/MADE/CV/HW2/contest02_data/data/test\\\\1154.jpg',\n",
       "  'nums': [{'box': [[571, 558], [841, 626], [579, 618], [835, 572]],\n",
       "    'bbox': [574, 556, 837, 626]}]},\n",
       " {'file': 'C:/Users/krvet/Desktop/MADE/CV/HW2/contest02_data/data/test\\\\1155.bmp',\n",
       "  'nums': [{'box': [[388, 173], [196, 264], [203, 217], [386, 207]],\n",
       "    'bbox': [198, 172, 392, 270]}]},\n",
       " {'file': 'C:/Users/krvet/Desktop/MADE/CV/HW2/contest02_data/data/test\\\\1156.jpg',\n",
       "  'nums': [{'box': [[366, 623], [748, 755], [377, 718], [744, 658]],\n",
       "    'bbox': [371, 619, 743, 757]}]},\n",
       " {'file': 'C:/Users/krvet/Desktop/MADE/CV/HW2/contest02_data/data/test\\\\1157.bmp',\n",
       "  'nums': [{'box': [[139, 321], [317, 377], [145, 363], [309, 334]],\n",
       "    'bbox': [141, 321, 314, 377]}]},\n",
       " {'file': 'C:/Users/krvet/Desktop/MADE/CV/HW2/contest02_data/data/test\\\\1158.bmp',\n",
       "  'nums': [{'box': [[94, 239], [236, 268], [94, 268], [236, 237]],\n",
       "    'bbox': [96, 237, 234, 268]}]},\n",
       " {'file': 'C:/Users/krvet/Desktop/MADE/CV/HW2/contest02_data/data/test\\\\1159.jpg',\n",
       "  'nums': [{'box': [[421, 290], [332, 310], [334, 291], [420, 318]],\n",
       "    'bbox': [333, 288, 420, 318]},\n",
       "   {'box': [[0, 303], [71, 334], [0, 334], [69, 302]],\n",
       "    'bbox': [0, 302, 70, 334]}]},\n",
       " {'file': 'C:/Users/krvet/Desktop/MADE/CV/HW2/contest02_data/data/test\\\\116.jpg',\n",
       "  'nums': [{'box': [[180, 625], [432, 720], [185, 683], [429, 655]],\n",
       "    'bbox': [183, 622, 428, 722]}]},\n",
       " {'file': 'C:/Users/krvet/Desktop/MADE/CV/HW2/contest02_data/data/test\\\\1160.jpg',\n",
       "  'nums': [{'box': [[439, 804], [538, 826], [439, 826], [538, 801]],\n",
       "    'bbox': [440, 800, 536, 826]}]},\n",
       " {'file': 'C:/Users/krvet/Desktop/MADE/CV/HW2/contest02_data/data/test\\\\1161.bmp',\n",
       "  'nums': [{'box': [[109, 232], [202, 250], [110, 251], [201, 232]],\n",
       "    'bbox': [110, 231, 201, 251]}]},\n",
       " {'file': 'C:/Users/krvet/Desktop/MADE/CV/HW2/contest02_data/data/test\\\\1162.jpg',\n",
       "  'nums': [{'box': [[486, 410], [286, 454], [289, 414], [480, 454]],\n",
       "    'bbox': [289, 409, 483, 454]}]},\n",
       " {'file': 'C:/Users/krvet/Desktop/MADE/CV/HW2/contest02_data/data/test\\\\1163.jpg',\n",
       "  'nums': [{'box': [[339, 456], [424, 473], [340, 473], [423, 455]],\n",
       "    'bbox': [340, 455, 423, 473]}]},\n",
       " {'file': 'C:/Users/krvet/Desktop/MADE/CV/HW2/contest02_data/data/test\\\\1164.jpg',\n",
       "  'nums': [{'box': [[214, 951], [556, 1073], [230, 1022], [550, 997]],\n",
       "    'bbox': [218, 947, 551, 1076]}]},\n",
       " {'file': 'C:/Users/krvet/Desktop/MADE/CV/HW2/contest02_data/data/test\\\\1165.jpg',\n",
       "  'nums': [{'box': [[175, 316], [301, 346], [178, 346], [298, 317]],\n",
       "    'bbox': [176, 315, 298, 347]}]},\n",
       " {'file': 'C:/Users/krvet/Desktop/MADE/CV/HW2/contest02_data/data/test\\\\1166.jpeg',\n",
       "  'nums': [{'box': [[654, 231], [535, 279], [538, 249], [652, 258]],\n",
       "    'bbox': [536, 229, 652, 280]}]},\n",
       " {'file': 'C:/Users/krvet/Desktop/MADE/CV/HW2/contest02_data/data/test\\\\1167.bmp',\n",
       "  'nums': [{'box': [[362, 154], [488, 181], [364, 183], [487, 154]],\n",
       "    'bbox': [363, 154, 486, 182]}]},\n",
       " {'file': 'C:/Users/krvet/Desktop/MADE/CV/HW2/contest02_data/data/test\\\\1168.jpg',\n",
       "  'nums': [{'box': [[1564, 533], [1309, 592], [1313, 535], [1561, 594]],\n",
       "    'bbox': [1313, 531, 1561, 592]}]},\n",
       " {'file': 'C:/Users/krvet/Desktop/MADE/CV/HW2/contest02_data/data/test\\\\1169.jpg',\n",
       "  'nums': [{'box': [[545, 817], [726, 849], [545, 853], [723, 810]],\n",
       "    'bbox': [547, 811, 724, 853]}]},\n",
       " {'file': 'C:/Users/krvet/Desktop/MADE/CV/HW2/contest02_data/data/test\\\\117.jpg',\n",
       "  'nums': [{'box': [[922, 662], [675, 713], [679, 661], [919, 715]],\n",
       "    'bbox': [679, 660, 919, 715]}]},\n",
       " {'file': 'C:/Users/krvet/Desktop/MADE/CV/HW2/contest02_data/data/test\\\\1170.bmp',\n",
       "  'nums': [{'box': [[1383, 891], [1044, 987], [1052, 915], [1377, 959]],\n",
       "    'bbox': [1048, 889, 1378, 988]}]},\n",
       " {'file': 'C:/Users/krvet/Desktop/MADE/CV/HW2/contest02_data/data/test\\\\1171.bmp',\n",
       "  'nums': [{'box': [[290, 224], [206, 243], [208, 224], [288, 244]],\n",
       "    'bbox': [207, 223, 289, 243]}]},\n",
       " {'file': 'C:/Users/krvet/Desktop/MADE/CV/HW2/contest02_data/data/test\\\\1172.jpg',\n",
       "  'nums': [{'box': [[149, 666], [368, 753], [154, 732], [363, 685]],\n",
       "    'bbox': [152, 664, 364, 754]}]},\n",
       " {'file': 'C:/Users/krvet/Desktop/MADE/CV/HW2/contest02_data/data/test\\\\1173.jpg',\n",
       "  'nums': [{'box': [[1390, 781], [1120, 880], [1126, 811], [1385, 849]],\n",
       "    'bbox': [1125, 779, 1387, 883]}]},\n",
       " {'file': 'C:/Users/krvet/Desktop/MADE/CV/HW2/contest02_data/data/test\\\\1174.jpg',\n",
       "  'nums': [{'box': [[162, 571], [218, 598], [165, 588], [215, 582]],\n",
       "    'bbox': [163, 571, 217, 598]}]},\n",
       " {'file': 'C:/Users/krvet/Desktop/MADE/CV/HW2/contest02_data/data/test\\\\1175.jpg',\n",
       "  'nums': [{'box': [[421, 822], [570, 855], [421, 855], [568, 818]],\n",
       "    'bbox': [423, 819, 568, 854]}]},\n",
       " {'file': 'C:/Users/krvet/Desktop/MADE/CV/HW2/contest02_data/data/test\\\\1176.jpg',\n",
       "  'nums': [{'box': [[1614, 509], [1230, 590], [1237, 513], [1608, 591]],\n",
       "    'bbox': [1235, 508, 1609, 591]}]},\n",
       " {'file': 'C:/Users/krvet/Desktop/MADE/CV/HW2/contest02_data/data/test\\\\1177.jpg',\n",
       "  'nums': [{'box': [[1568, 521], [1745, 549], [1570, 557], [1742, 513]],\n",
       "    'bbox': [1569, 514, 1742, 557]},\n",
       "   {'box': [[109, 621], [247, 647], [109, 649], [246, 614]],\n",
       "    'bbox': [111, 614, 246, 649]},\n",
       "   {'box': [[694, 632], [839, 658], [694, 660], [839, 627]],\n",
       "    'bbox': [696, 627, 837, 659]}]},\n",
       " {'file': 'C:/Users/krvet/Desktop/MADE/CV/HW2/contest02_data/data/test\\\\1178.jpg',\n",
       "  'nums': [{'box': [[902, 547], [530, 640], [537, 564], [889, 623]],\n",
       "    'bbox': [535, 542, 896, 640]}]},\n",
       " {'file': 'C:/Users/krvet/Desktop/MADE/CV/HW2/contest02_data/data/test\\\\1179.jpg',\n",
       "  'nums': [{'box': [[270, 622], [441, 713], [273, 676], [437, 657]],\n",
       "    'bbox': [272, 622, 438, 714]}]},\n",
       " {'file': 'C:/Users/krvet/Desktop/MADE/CV/HW2/contest02_data/data/test\\\\118.jpg',\n",
       "  'nums': [{'box': [[42, 458], [158, 561], [49, 506], [156, 512]],\n",
       "    'bbox': [40, 455, 157, 562]}]},\n",
       " {'file': 'C:/Users/krvet/Desktop/MADE/CV/HW2/contest02_data/data/test\\\\1180.jpg',\n",
       "  'nums': [{'box': [[910, 1037], [534, 1135], [540, 1060], [900, 1118]],\n",
       "    'bbox': [540, 1036, 905, 1136]}]},\n",
       " {'file': 'C:/Users/krvet/Desktop/MADE/CV/HW2/contest02_data/data/test\\\\1181.bmp',\n",
       "  'nums': [{'box': [[350, 215], [271, 273], [271, 240], [349, 244]],\n",
       "    'bbox': [272, 215, 349, 273]}]},\n",
       " {'file': 'C:/Users/krvet/Desktop/MADE/CV/HW2/contest02_data/data/test\\\\1182.jpg',\n",
       "  'nums': [{'box': [[1204, 720], [1678, 874], [1217, 824], [1668, 762]],\n",
       "    'bbox': [1210, 720, 1671, 875]}]},\n",
       " {'file': 'C:/Users/krvet/Desktop/MADE/CV/HW2/contest02_data/data/test\\\\1183.jpg',\n",
       "  'nums': [{'box': [[118, 618], [374, 733], [124, 685], [369, 659]],\n",
       "    'bbox': [122, 617, 370, 734]}]},\n",
       " {'file': 'C:/Users/krvet/Desktop/MADE/CV/HW2/contest02_data/data/test\\\\1184.jpg',\n",
       "  'nums': [{'box': [[748, 852], [466, 913], [474, 855], [739, 911]],\n",
       "    'bbox': [470, 847, 744, 918]}]},\n",
       " {'file': 'C:/Users/krvet/Desktop/MADE/CV/HW2/contest02_data/data/test\\\\1185.jpg',\n",
       "  'nums': [{'box': [[812, 340], [705, 380], [707, 352], [815, 373]],\n",
       "    'bbox': [707, 340, 817, 384]}]},\n",
       " {'file': 'C:/Users/krvet/Desktop/MADE/CV/HW2/contest02_data/data/test\\\\1186.jpg',\n",
       "  'nums': [{'box': [[522, 575], [861, 647], [531, 647], [851, 576]],\n",
       "    'bbox': [527, 573, 856, 647]}]},\n",
       " {'file': 'C:/Users/krvet/Desktop/MADE/CV/HW2/contest02_data/data/test\\\\1187.jpg',\n",
       "  'nums': [{'box': [[208, 384], [331, 408], [211, 406], [323, 383]],\n",
       "    'bbox': [210, 380, 329, 408]}]},\n",
       " {'file': 'C:/Users/krvet/Desktop/MADE/CV/HW2/contest02_data/data/test\\\\1188.jpg',\n",
       "  'nums': [{'box': [[912, 1364], [575, 1427], [585, 1363], [907, 1420]],\n",
       "    'bbox': [579, 1360, 906, 1430]}]},\n",
       " {'file': 'C:/Users/krvet/Desktop/MADE/CV/HW2/contest02_data/data/test\\\\1189.bmp',\n",
       "  'nums': [{'box': [[67, 252], [167, 279], [67, 279], [167, 251]],\n",
       "    'bbox': [69, 251, 166, 279]}]},\n",
       " {'file': 'C:/Users/krvet/Desktop/MADE/CV/HW2/contest02_data/data/test\\\\119.jpg',\n",
       "  'nums': [{'box': [[295, 744], [496, 793], [297, 793], [493, 744]],\n",
       "    'bbox': [298, 742, 493, 793]},\n",
       "   {'box': [[14, 654], [165, 692], [15, 692], [161, 652]],\n",
       "    'bbox': [16, 652, 163, 691]}]},\n",
       " {'file': 'C:/Users/krvet/Desktop/MADE/CV/HW2/contest02_data/data/test\\\\1190.jpg',\n",
       "  'nums': [{'box': [[1118, 496], [884, 556], [888, 496], [1114, 555]],\n",
       "    'bbox': [887, 492, 1114, 555]}]},\n",
       " {'file': 'C:/Users/krvet/Desktop/MADE/CV/HW2/contest02_data/data/test\\\\1191.jpg',\n",
       "  'nums': [{'box': [[180, 609], [348, 698], [184, 659], [346, 644]],\n",
       "    'bbox': [182, 609, 347, 697]}]},\n",
       " {'file': 'C:/Users/krvet/Desktop/MADE/CV/HW2/contest02_data/data/test\\\\1192.jpg',\n",
       "  'nums': [{'box': [[128, 176], [259, 205], [132, 203], [258, 179]],\n",
       "    'bbox': [129, 176, 257, 205]}]},\n",
       " {'file': 'C:/Users/krvet/Desktop/MADE/CV/HW2/contest02_data/data/test\\\\1193.jpg',\n",
       "  'nums': [{'box': [[410, 599], [637, 649], [415, 650], [631, 602]],\n",
       "    'bbox': [413, 599, 634, 650]}]},\n",
       " {'file': 'C:/Users/krvet/Desktop/MADE/CV/HW2/contest02_data/data/test\\\\1194.jpg',\n",
       "  'nums': [{'box': [[1070, 762], [916, 833], [922, 787], [1067, 808]],\n",
       "    'bbox': [917, 762, 1068, 833]}]},\n",
       " {'file': 'C:/Users/krvet/Desktop/MADE/CV/HW2/contest02_data/data/test\\\\1195.bmp',\n",
       "  'nums': [{'box': [[255, 141], [358, 162], [258, 159], [356, 131]],\n",
       "    'bbox': [257, 129, 356, 162]}]},\n",
       " {'file': 'C:/Users/krvet/Desktop/MADE/CV/HW2/contest02_data/data/test\\\\1196.jpg',\n",
       "  'nums': [{'box': [[908, 501], [1052, 536], [913, 537], [1045, 497]],\n",
       "    'bbox': [910, 497, 1050, 537]}]},\n",
       " {'file': 'C:/Users/krvet/Desktop/MADE/CV/HW2/contest02_data/data/test\\\\1197.bmp',\n",
       "  'nums': [{'box': [[119, 220], [274, 251], [119, 251], [274, 214]],\n",
       "    'bbox': [121, 214, 272, 250]}]},\n",
       " {'file': 'C:/Users/krvet/Desktop/MADE/CV/HW2/contest02_data/data/test\\\\1198.jpg',\n",
       "  'nums': [{'box': [[437, 277], [275, 315], [279, 284], [432, 309]],\n",
       "    'bbox': [276, 275, 435, 316]}]},\n",
       " {'file': 'C:/Users/krvet/Desktop/MADE/CV/HW2/contest02_data/data/test\\\\1199.jpg',\n",
       "  'nums': [{'box': [[420, 1268], [638, 1310], [421, 1311], [635, 1266]],\n",
       "    'bbox': [424, 1266, 635, 1311]}]},\n",
       " {'file': 'C:/Users/krvet/Desktop/MADE/CV/HW2/contest02_data/data/test\\\\12.bmp',\n",
       "  'nums': [{'box': [[171, 323], [55, 397], [55, 360], [171, 358]],\n",
       "    'bbox': [53, 324, 169, 397]}]},\n",
       " {'file': 'C:/Users/krvet/Desktop/MADE/CV/HW2/contest02_data/data/test\\\\120.jpg',\n",
       "  'nums': [{'box': [[482, 426], [343, 472], [345, 436], [477, 456]],\n",
       "    'bbox': [345, 425, 480, 472]}]},\n",
       " {'file': 'C:/Users/krvet/Desktop/MADE/CV/HW2/contest02_data/data/test\\\\1200.jpg',\n",
       "  'nums': [{'box': [[518, 523], [286, 575], [290, 523], [516, 579]],\n",
       "    'bbox': [290, 522, 515, 579]}]},\n",
       " {'file': 'C:/Users/krvet/Desktop/MADE/CV/HW2/contest02_data/data/test\\\\1201.jpg',\n",
       "  'nums': [{'box': [[547, 661], [799, 727], [552, 720], [795, 667]],\n",
       "    'bbox': [551, 659, 795, 727]}]},\n",
       " {'file': 'C:/Users/krvet/Desktop/MADE/CV/HW2/contest02_data/data/test\\\\1202.bmp',\n",
       "  'nums': [{'box': [[64, 225], [252, 302], [65, 269], [248, 253]],\n",
       "    'bbox': [67, 226, 249, 302]}]},\n",
       " {'file': 'C:/Users/krvet/Desktop/MADE/CV/HW2/contest02_data/data/test\\\\1203.jpg',\n",
       "  'nums': [{'box': [[1538, 1333], [983, 1440], [996, 1343], [1527, 1431]],\n",
       "    'bbox': [991, 1330, 1530, 1446]}]},\n",
       " {'file': 'C:/Users/krvet/Desktop/MADE/CV/HW2/contest02_data/data/test\\\\1204.bmp',\n",
       "  'nums': [{'box': [[278, 209], [344, 226], [279, 227], [341, 209]],\n",
       "    'bbox': [280, 209, 343, 226]}]},\n",
       " {'file': 'C:/Users/krvet/Desktop/MADE/CV/HW2/contest02_data/data/test\\\\1205.jpg',\n",
       "  'nums': [{'box': [[1501, 528], [1151, 636], [1157, 548], [1496, 605]],\n",
       "    'bbox': [1156, 519, 1498, 638]}]},\n",
       " {'file': 'C:/Users/krvet/Desktop/MADE/CV/HW2/contest02_data/data/test\\\\1206.jpg',\n",
       "  'nums': [{'box': [[617, 724], [918, 790], [628, 788], [911, 723]],\n",
       "    'bbox': [622, 721, 914, 790]}]},\n",
       " {'file': 'C:/Users/krvet/Desktop/MADE/CV/HW2/contest02_data/data/test\\\\1207.bmp',\n",
       "  'nums': [{'box': [[232, 260], [336, 292], [236, 289], [333, 258]],\n",
       "    'bbox': [234, 257, 334, 291]}]},\n",
       " {'file': 'C:/Users/krvet/Desktop/MADE/CV/HW2/contest02_data/data/test\\\\1208.jpeg',\n",
       "  'nums': [{'box': [[22, 109], [90, 132], [23, 125], [89, 114]],\n",
       "    'bbox': [23, 108, 88, 132]}]},\n",
       " {'file': 'C:/Users/krvet/Desktop/MADE/CV/HW2/contest02_data/data/test\\\\1209.jpg',\n",
       "  'nums': [{'box': [[1651, 945], [1363, 1026], [1367, 963], [1643, 1013]],\n",
       "    'bbox': [1367, 943, 1647, 1027]}]},\n",
       " {'file': 'C:/Users/krvet/Desktop/MADE/CV/HW2/contest02_data/data/test\\\\121.jpg',\n",
       "  'nums': [{'box': [[1346, 767], [1043, 888], [1047, 814], [1342, 837]],\n",
       "    'bbox': [1047, 766, 1341, 889]}]},\n",
       " {'file': 'C:/Users/krvet/Desktop/MADE/CV/HW2/contest02_data/data/test\\\\1210.jpg',\n",
       "  'nums': [{'box': [[183, 472], [317, 514], [188, 507], [316, 480]],\n",
       "    'bbox': [185, 471, 315, 514]}]},\n",
       " {'file': 'C:/Users/krvet/Desktop/MADE/CV/HW2/contest02_data/data/test\\\\1211.jpg',\n",
       "  'nums': [{'box': [[632, 817], [797, 851], [633, 852], [793, 815]],\n",
       "    'bbox': [635, 814, 794, 852]}]},\n",
       " {'file': 'C:/Users/krvet/Desktop/MADE/CV/HW2/contest02_data/data/test\\\\1212.jpg',\n",
       "  'nums': [{'box': [[418, 788], [648, 822], [420, 833], [644, 781]],\n",
       "    'bbox': [421, 781, 644, 832]},\n",
       "   {'box': [[1528, 652], [1731, 686], [1528, 693], [1729, 648]],\n",
       "    'bbox': [1523, 649, 1728, 693]}]},\n",
       " {'file': 'C:/Users/krvet/Desktop/MADE/CV/HW2/contest02_data/data/test\\\\1213.jpg',\n",
       "  'nums': [{'box': [[494, 409], [694, 456], [499, 456], [688, 409]],\n",
       "    'bbox': [497, 408, 691, 456]}]},\n",
       " {'file': 'C:/Users/krvet/Desktop/MADE/CV/HW2/contest02_data/data/test\\\\1214.jpg',\n",
       "  'nums': [{'box': [[271, 528], [493, 604], [274, 584], [488, 547]],\n",
       "    'bbox': [274, 526, 489, 606]}]},\n",
       " {'file': 'C:/Users/krvet/Desktop/MADE/CV/HW2/contest02_data/data/test\\\\1215.jpg',\n",
       "  'nums': [{'box': [[454, 599], [812, 669], [456, 670], [803, 594]],\n",
       "    'bbox': [459, 595, 807, 669]}]},\n",
       " {'file': 'C:/Users/krvet/Desktop/MADE/CV/HW2/contest02_data/data/test\\\\1216.jpg',\n",
       "  'nums': [{'box': [[95, 434], [185, 481], [96, 461], [184, 450]],\n",
       "    'bbox': [96, 434, 184, 481]}]},\n",
       " {'file': 'C:/Users/krvet/Desktop/MADE/CV/HW2/contest02_data/data/test\\\\1217.jpg',\n",
       "  'nums': [{'box': [[272, 1114], [417, 1141], [273, 1141], [413, 1113]],\n",
       "    'bbox': [274, 1113, 415, 1141]}]},\n",
       " {'file': 'C:/Users/krvet/Desktop/MADE/CV/HW2/contest02_data/data/test\\\\1218.jpg',\n",
       "  'nums': [{'box': [[1659, 679], [1422, 741], [1425, 694], [1653, 731]],\n",
       "    'bbox': [1424, 677, 1655, 742]},\n",
       "   {'box': [[649, 384], [771, 404], [649, 410], [770, 380]],\n",
       "    'bbox': [651, 380, 769, 410]}]},\n",
       " {'file': 'C:/Users/krvet/Desktop/MADE/CV/HW2/contest02_data/data/test\\\\1219.png',\n",
       "  'nums': [{'box': [[1035, 726], [837, 779], [841, 732], [1029, 772]],\n",
       "    'bbox': [840, 725, 1032, 779]}]},\n",
       " {'file': 'C:/Users/krvet/Desktop/MADE/CV/HW2/contest02_data/data/test\\\\122.bmp',\n",
       "  'nums': [{'box': [[585, 203], [380, 283], [383, 237], [581, 249]],\n",
       "    'bbox': [384, 200, 583, 285]}]},\n",
       " {'file': 'C:/Users/krvet/Desktop/MADE/CV/HW2/contest02_data/data/test\\\\1220.jpg',\n",
       "  'nums': [{'box': [[85, 725], [231, 878], [88, 791], [231, 806]],\n",
       "    'bbox': [79, 726, 231, 877]}]},\n",
       " {'file': 'C:/Users/krvet/Desktop/MADE/CV/HW2/contest02_data/data/test\\\\1221.jpg',\n",
       "  'nums': [{'box': [[364, 719], [659, 814], [378, 793], [651, 741]],\n",
       "    'bbox': [368, 717, 655, 813]}]},\n",
       " {'file': 'C:/Users/krvet/Desktop/MADE/CV/HW2/contest02_data/data/test\\\\1222.bmp',\n",
       "  'nums': [{'box': [[299, 217], [214, 255], [215, 228], [297, 244]],\n",
       "    'bbox': [215, 217, 298, 254]}]},\n",
       " {'file': 'C:/Users/krvet/Desktop/MADE/CV/HW2/contest02_data/data/test\\\\1223.bmp',\n",
       "  'nums': [{'box': [[479, 304], [325, 349], [327, 317], [476, 335]],\n",
       "    'bbox': [326, 302, 476, 349]}]},\n",
       " {'file': 'C:/Users/krvet/Desktop/MADE/CV/HW2/contest02_data/data/test\\\\1224.bmp',\n",
       "  'nums': [{'box': [[196, 308], [70, 354], [71, 324], [193, 343]],\n",
       "    'bbox': [71, 308, 195, 354]}]},\n",
       " {'file': 'C:/Users/krvet/Desktop/MADE/CV/HW2/contest02_data/data/test\\\\1225.jpg',\n",
       "  'nums': [{'box': [[209, 378], [316, 420], [211, 408], [313, 387]],\n",
       "    'bbox': [211, 376, 314, 420]}]},\n",
       " {'file': 'C:/Users/krvet/Desktop/MADE/CV/HW2/contest02_data/data/test\\\\1226.jpg',\n",
       "  'nums': [{'box': [[767, 536], [472, 609], [478, 542], [761, 609]],\n",
       "    'bbox': [476, 536, 763, 609]}]},\n",
       " {'file': 'C:/Users/krvet/Desktop/MADE/CV/HW2/contest02_data/data/test\\\\1227.jpeg',\n",
       "  'nums': [{'box': [[85, 139], [166, 155], [85, 155], [166, 138]],\n",
       "    'bbox': [85, 139, 165, 155]}]},\n",
       " {'file': 'C:/Users/krvet/Desktop/MADE/CV/HW2/contest02_data/data/test\\\\1228.bmp',\n",
       "  'nums': [{'box': [[251, 164], [154, 192], [156, 170], [247, 188]],\n",
       "    'bbox': [156, 163, 249, 192]}]},\n",
       " {'file': 'C:/Users/krvet/Desktop/MADE/CV/HW2/contest02_data/data/test\\\\1229.jpg',\n",
       "  'nums': [{'box': [[1032, 421], [940, 495], [942, 448], [1029, 463]],\n",
       "    'bbox': [941, 419, 1031, 496]}]},\n",
       " {'file': 'C:/Users/krvet/Desktop/MADE/CV/HW2/contest02_data/data/test\\\\123.bmp',\n",
       "  'nums': [{'box': [[6, 117], [190, 160], [6, 162], [190, 116]],\n",
       "    'bbox': [8, 117, 187, 161]}]},\n",
       " {'file': 'C:/Users/krvet/Desktop/MADE/CV/HW2/contest02_data/data/test\\\\1230.jpg',\n",
       "  'nums': [{'box': [[626, 219], [502, 261], [504, 232], [623, 249]],\n",
       "    'bbox': [503, 219, 624, 262]}]},\n",
       " {'file': 'C:/Users/krvet/Desktop/MADE/CV/HW2/contest02_data/data/test\\\\1231.jpg',\n",
       "  'nums': [{'box': [[711, 934], [895, 973], [711, 974], [894, 933]],\n",
       "    'bbox': [714, 934, 893, 973]}]},\n",
       " {'file': 'C:/Users/krvet/Desktop/MADE/CV/HW2/contest02_data/data/test\\\\1232.bmp',\n",
       "  'nums': [{'box': [[113, 169], [246, 202], [117, 202], [244, 174]],\n",
       "    'bbox': [114, 169, 245, 202]}]},\n",
       " {'file': 'C:/Users/krvet/Desktop/MADE/CV/HW2/contest02_data/data/test\\\\1233.jpg',\n",
       "  'nums': [{'box': [[431, 721], [741, 789], [439, 788], [735, 720]],\n",
       "    'bbox': [436, 718, 736, 793]}]},\n",
       " {'file': 'C:/Users/krvet/Desktop/MADE/CV/HW2/contest02_data/data/test\\\\1234.jpg',\n",
       "  'nums': [{'box': [[354, 679], [635, 731], [357, 733], [629, 672]],\n",
       "    'bbox': [359, 673, 631, 732]}]},\n",
       " {'file': 'C:/Users/krvet/Desktop/MADE/CV/HW2/contest02_data/data/test\\\\1235.jpg',\n",
       "  'nums': [{'box': [[395, 687], [634, 770], [411, 746], [630, 712]],\n",
       "    'bbox': [398, 686, 631, 770]}]},\n",
       " {'file': 'C:/Users/krvet/Desktop/MADE/CV/HW2/contest02_data/data/test\\\\1236.jpg',\n",
       "  'nums': [{'box': [[720, 944], [1007, 1027], [736, 1013], [1004, 956]],\n",
       "    'bbox': [722, 942, 1004, 1028]}]},\n",
       " {'file': 'C:/Users/krvet/Desktop/MADE/CV/HW2/contest02_data/data/test\\\\1237.bmp',\n",
       "  'nums': [{'box': [[298, 116], [406, 155], [304, 148], [404, 124]],\n",
       "    'bbox': [299, 115, 404, 155]}]},\n",
       " {'file': 'C:/Users/krvet/Desktop/MADE/CV/HW2/contest02_data/data/test\\\\1238.bmp',\n",
       "  'nums': [{'box': [[267, 225], [370, 247], [271, 247], [369, 223]],\n",
       "    'bbox': [269, 223, 369, 247]}]},\n",
       " {'file': 'C:/Users/krvet/Desktop/MADE/CV/HW2/contest02_data/data/test\\\\1239.jpg',\n",
       "  'nums': [{'box': [[826, 824], [648, 866], [651, 825], [826, 866]],\n",
       "    'bbox': [650, 824, 824, 866]}]},\n",
       " {'file': 'C:/Users/krvet/Desktop/MADE/CV/HW2/contest02_data/data/test\\\\124.jpg',\n",
       "  'nums': [{'box': [[262, 842], [388, 904], [268, 881], [385, 861]],\n",
       "    'bbox': [263, 839, 387, 904]}]},\n",
       " {'file': 'C:/Users/krvet/Desktop/MADE/CV/HW2/contest02_data/data/test\\\\1240.jpg',\n",
       "  'nums': [{'box': [[1666, 542], [1245, 632], [1254, 541], [1661, 635]],\n",
       "    'bbox': [1251, 537, 1661, 634]}]},\n",
       " {'file': 'C:/Users/krvet/Desktop/MADE/CV/HW2/contest02_data/data/test\\\\1241.jpg',\n",
       "  'nums': [{'box': [[739, 606], [1010, 664], [743, 664], [1001, 607]],\n",
       "    'bbox': [742, 606, 1006, 666]}]},\n",
       " {'file': 'C:/Users/krvet/Desktop/MADE/CV/HW2/contest02_data/data/test\\\\1242.bmp',\n",
       "  'nums': [{'box': [[234, 238], [312, 272], [238, 264], [311, 248]],\n",
       "    'bbox': [234, 237, 311, 272]}]},\n",
       " {'file': 'C:/Users/krvet/Desktop/MADE/CV/HW2/contest02_data/data/test\\\\1243.jpg',\n",
       "  'nums': [{'box': [[890, 925], [622, 979], [628, 922], [888, 984]],\n",
       "    'bbox': [626, 922, 886, 984]}]},\n",
       " {'file': 'C:/Users/krvet/Desktop/MADE/CV/HW2/contest02_data/data/test\\\\1244.jpg',\n",
       "  'nums': [{'box': [[539, 565], [726, 600], [539, 600], [725, 562]],\n",
       "    'bbox': [541, 562, 724, 599]}]},\n",
       " {'file': 'C:/Users/krvet/Desktop/MADE/CV/HW2/contest02_data/data/test\\\\1245.bmp',\n",
       "  'nums': [{'box': [[1560, 1093], [1331, 1157], [1338, 1109], [1554, 1141]],\n",
       "    'bbox': [1334, 1090, 1557, 1158]}]},\n",
       " {'file': 'C:/Users/krvet/Desktop/MADE/CV/HW2/contest02_data/data/test\\\\1246.jpg',\n",
       "  'nums': [{'box': [[470, 143], [411, 167], [412, 150], [468, 161]],\n",
       "    'bbox': [412, 142, 469, 167]}]},\n",
       " {'file': 'C:/Users/krvet/Desktop/MADE/CV/HW2/contest02_data/data/test\\\\1247.jpg',\n",
       "  'nums': [{'box': [[1002, 469], [820, 515], [822, 468], [1001, 516]],\n",
       "    'bbox': [822, 467, 1001, 515]}]},\n",
       " {'file': 'C:/Users/krvet/Desktop/MADE/CV/HW2/contest02_data/data/test\\\\1248.jpg',\n",
       "  'nums': [{'box': [[429, 735], [809, 806], [432, 809], [802, 729]],\n",
       "    'bbox': [435, 729, 803, 809]}]},\n",
       " {'file': 'C:/Users/krvet/Desktop/MADE/CV/HW2/contest02_data/data/test\\\\1249.jpg',\n",
       "  'nums': [{'box': [[1398, 972], [995, 1081], [1001, 988], [1390, 1057]],\n",
       "    'bbox': [1000, 967, 1392, 1082]}]},\n",
       " {'file': 'C:/Users/krvet/Desktop/MADE/CV/HW2/contest02_data/data/test\\\\125.bmp',\n",
       "  'nums': [{'box': [[43, 218], [173, 260], [46, 250], [171, 230]],\n",
       "    'bbox': [45, 217, 172, 260]}]},\n",
       " {'file': 'C:/Users/krvet/Desktop/MADE/CV/HW2/contest02_data/data/test\\\\1250.jpg',\n",
       "  'nums': [{'box': [[554, 929], [764, 974], [566, 974], [759, 929]],\n",
       "    'bbox': [557, 928, 761, 974]}]},\n",
       " {'file': 'C:/Users/krvet/Desktop/MADE/CV/HW2/contest02_data/data/test\\\\1251.jpg',\n",
       "  'nums': [{'box': [[355, 483], [536, 518], [355, 520], [534, 483]],\n",
       "    'bbox': [357, 483, 533, 520]}]},\n",
       " {'file': 'C:/Users/krvet/Desktop/MADE/CV/HW2/contest02_data/data/test\\\\1252.bmp',\n",
       "  'nums': [{'box': [[254, 239], [459, 302], [260, 285], [456, 254]],\n",
       "    'bbox': [257, 238, 456, 303]}]},\n",
       " {'file': 'C:/Users/krvet/Desktop/MADE/CV/HW2/contest02_data/data/test\\\\1253.bmp',\n",
       "  'nums': [{'box': [[283, 267], [199, 305], [198, 280], [281, 290]],\n",
       "    'bbox': [198, 266, 282, 305]}]},\n",
       " {'file': 'C:/Users/krvet/Desktop/MADE/CV/HW2/contest02_data/data/test\\\\1254.bmp',\n",
       "  'nums': [{'box': [[192, 274], [325, 305], [198, 304], [323, 274]],\n",
       "    'bbox': [193, 274, 323, 305]}]},\n",
       " {'file': 'C:/Users/krvet/Desktop/MADE/CV/HW2/contest02_data/data/test\\\\1255.jpg',\n",
       "  'nums': [{'box': [[1907, 997], [1670, 1138], [1673, 1056], [1905, 1078]],\n",
       "    'bbox': [1673, 997, 1904, 1138]}]},\n",
       " {'file': 'C:/Users/krvet/Desktop/MADE/CV/HW2/contest02_data/data/test\\\\1256.jpg',\n",
       "  'nums': [{'box': [[365, 288], [491, 314], [365, 315], [490, 288]],\n",
       "    'bbox': [367, 288, 488, 315]}]},\n",
       " {'file': 'C:/Users/krvet/Desktop/MADE/CV/HW2/contest02_data/data/test\\\\1257.jpg',\n",
       "  'nums': [{'box': [[504, 737], [808, 808], [507, 809], [805, 733]],\n",
       "    'bbox': [508, 734, 803, 808]}]},\n",
       " {'file': 'C:/Users/krvet/Desktop/MADE/CV/HW2/contest02_data/data/test\\\\1258.jpg',\n",
       "  'nums': [{'box': [[931, 819], [626, 880], [634, 822], [921, 878]],\n",
       "    'bbox': [630, 818, 926, 880]}]},\n",
       " {'file': 'C:/Users/krvet/Desktop/MADE/CV/HW2/contest02_data/data/test\\\\1259.jpg',\n",
       "  'nums': [{'box': [[288, 695], [454, 787], [289, 741], [451, 734]],\n",
       "    'bbox': [290, 696, 452, 787]}]},\n",
       " {'file': 'C:/Users/krvet/Desktop/MADE/CV/HW2/contest02_data/data/test\\\\126.jpg',\n",
       "  'nums': [{'box': [[544, 893], [773, 942], [546, 944], [772, 888]],\n",
       "    'bbox': [547, 888, 770, 943]}]},\n",
       " {'file': 'C:/Users/krvet/Desktop/MADE/CV/HW2/contest02_data/data/test\\\\1260.jpg',\n",
       "  'nums': [{'box': [[465, 856], [722, 918], [471, 918], [711, 859]],\n",
       "    'bbox': [468, 855, 718, 919]}]},\n",
       " {'file': 'C:/Users/krvet/Desktop/MADE/CV/HW2/contest02_data/data/test\\\\1261.bmp',\n",
       "  'nums': [{'box': [[279, 198], [415, 226], [279, 226], [415, 194]],\n",
       "    'bbox': [280, 194, 414, 226]}]},\n",
       " {'file': 'C:/Users/krvet/Desktop/MADE/CV/HW2/contest02_data/data/test\\\\1262.jpg',\n",
       "  'nums': [{'box': [[186, 294], [288, 317], [189, 317], [287, 294]],\n",
       "    'bbox': [187, 294, 287, 317]}]},\n",
       " {'file': 'C:/Users/krvet/Desktop/MADE/CV/HW2/contest02_data/data/test\\\\1263.bmp',\n",
       "  'nums': [{'box': [[243, 240], [352, 263], [244, 264], [350, 235]],\n",
       "    'bbox': [243, 235, 350, 264]}]},\n",
       " {'file': 'C:/Users/krvet/Desktop/MADE/CV/HW2/contest02_data/data/test\\\\1264.jpeg',\n",
       "  'nums': [{'box': [[49, 79], [107, 91], [49, 92], [107, 78]],\n",
       "    'bbox': [50, 79, 106, 91]}]},\n",
       " {'file': 'C:/Users/krvet/Desktop/MADE/CV/HW2/contest02_data/data/test\\\\1265.bmp',\n",
       "  'nums': [{'box': [[423, 270], [300, 322], [304, 293], [420, 295]],\n",
       "    'bbox': [302, 265, 422, 324]}]},\n",
       " {'file': 'C:/Users/krvet/Desktop/MADE/CV/HW2/contest02_data/data/test\\\\1266.jpg',\n",
       "  'nums': [{'box': [[1160, 867], [670, 978], [676, 879], [1145, 964]],\n",
       "    'bbox': [677, 864, 1153, 980]}]},\n",
       " {'file': 'C:/Users/krvet/Desktop/MADE/CV/HW2/contest02_data/data/test\\\\1267.bmp',\n",
       "  'nums': [{'box': [[212, 304], [385, 367], [214, 342], [383, 325]],\n",
       "    'bbox': [215, 301, 382, 368]}]},\n",
       " {'file': 'C:/Users/krvet/Desktop/MADE/CV/HW2/contest02_data/data/test\\\\1268.jpg',\n",
       "  'nums': [{'box': [[339, 419], [505, 460], [342, 458], [500, 422]],\n",
       "    'bbox': [341, 419, 502, 461]}]},\n",
       " {'file': 'C:/Users/krvet/Desktop/MADE/CV/HW2/contest02_data/data/test\\\\1269.bmp',\n",
       "  'nums': [{'box': [[153, 108], [274, 134], [155, 134], [271, 107]],\n",
       "    'bbox': [155, 106, 272, 134]}]},\n",
       " {'file': 'C:/Users/krvet/Desktop/MADE/CV/HW2/contest02_data/data/test\\\\127.jpg',\n",
       "  'nums': [{'box': [[545, 372], [652, 393], [545, 395], [652, 369]],\n",
       "    'bbox': [547, 369, 651, 395]}]},\n",
       " {'file': 'C:/Users/krvet/Desktop/MADE/CV/HW2/contest02_data/data/test\\\\1270.jpg',\n",
       "  'nums': [{'box': [[217, 269], [141, 302], [145, 275], [215, 300]],\n",
       "    'bbox': [141, 269, 216, 302]}]},\n",
       " {'file': 'C:/Users/krvet/Desktop/MADE/CV/HW2/contest02_data/data/test\\\\1271.jpg',\n",
       "  'nums': [{'box': [[449, 755], [564, 786], [450, 786], [563, 753]],\n",
       "    'bbox': [451, 753, 562, 786]}]},\n",
       " {'file': 'C:/Users/krvet/Desktop/MADE/CV/HW2/contest02_data/data/test\\\\1272.bmp',\n",
       "  'nums': [{'box': [[469, 163], [385, 187], [386, 174], [467, 182]],\n",
       "    'bbox': [386, 161, 468, 193]}]},\n",
       " {'file': 'C:/Users/krvet/Desktop/MADE/CV/HW2/contest02_data/data/test\\\\1273.jpg',\n",
       "  'nums': [{'box': [[614, 704], [850, 752], [618, 752], [844, 705]],\n",
       "    'bbox': [618, 703, 847, 752]}]},\n",
       " {'file': 'C:/Users/krvet/Desktop/MADE/CV/HW2/contest02_data/data/test\\\\1274.jpg',\n",
       "  'nums': [{'box': [[350, 528], [635, 585], [353, 589], [629, 528]],\n",
       "    'bbox': [354, 527, 630, 588]}]},\n",
       " {'file': 'C:/Users/krvet/Desktop/MADE/CV/HW2/contest02_data/data/test\\\\1275.jpg',\n",
       "  'nums': [{'box': [[162, 715], [356, 825], [164, 775], [351, 758]],\n",
       "    'bbox': [165, 715, 354, 824]}]},\n",
       " {'file': 'C:/Users/krvet/Desktop/MADE/CV/HW2/contest02_data/data/test\\\\1276.bmp',\n",
       "  'nums': [{'box': [[223, 201], [372, 244], [229, 238], [367, 205]],\n",
       "    'bbox': [225, 201, 370, 244]}]},\n",
       " {'file': 'C:/Users/krvet/Desktop/MADE/CV/HW2/contest02_data/data/test\\\\1277.jpg',\n",
       "  'nums': [{'box': [[698, 753], [820, 774], [698, 777], [820, 749]],\n",
       "    'bbox': [699, 749, 818, 777]}]},\n",
       " {'file': 'C:/Users/krvet/Desktop/MADE/CV/HW2/contest02_data/data/test\\\\1278.jpg',\n",
       "  'nums': [{'box': [[404, 560], [714, 648], [417, 636], [706, 568]],\n",
       "    'bbox': [408, 556, 709, 651]}]},\n",
       " {'file': 'C:/Users/krvet/Desktop/MADE/CV/HW2/contest02_data/data/test\\\\1279.jpg',\n",
       "  'nums': [{'box': [[654, 728], [480, 763], [484, 727], [648, 764]],\n",
       "    'bbox': [483, 725, 651, 764]}]},\n",
       " {'file': 'C:/Users/krvet/Desktop/MADE/CV/HW2/contest02_data/data/test\\\\128.jpg',\n",
       "  'nums': [{'box': [[196, 576], [339, 685], [201, 628], [333, 630]],\n",
       "    'bbox': [197, 568, 337, 685]}]},\n",
       " {'file': 'C:/Users/krvet/Desktop/MADE/CV/HW2/contest02_data/data/test\\\\1280.jpg',\n",
       "  'nums': [{'box': [[668, 459], [416, 513], [420, 461], [663, 513]],\n",
       "    'bbox': [419, 457, 664, 514]}]},\n",
       " {'file': 'C:/Users/krvet/Desktop/MADE/CV/HW2/contest02_data/data/test\\\\1281.bmp',\n",
       "  'nums': [{'box': [[189, 271], [318, 293], [190, 295], [317, 269]],\n",
       "    'bbox': [191, 269, 316, 295]}]},\n",
       " {'file': 'C:/Users/krvet/Desktop/MADE/CV/HW2/contest02_data/data/test\\\\1282.jpg',\n",
       "  'nums': [{'box': [[1142, 870], [855, 957], [858, 895], [1137, 932]],\n",
       "    'bbox': [858, 867, 1138, 958]}]},\n",
       " {'file': 'C:/Users/krvet/Desktop/MADE/CV/HW2/contest02_data/data/test\\\\1283.jpg',\n",
       "  'nums': [{'box': [[541, 556], [811, 650], [547, 628], [805, 579]],\n",
       "    'bbox': [544, 556, 807, 652]}]},\n",
       " {'file': 'C:/Users/krvet/Desktop/MADE/CV/HW2/contest02_data/data/test\\\\1284.jpg',\n",
       "  'nums': [{'box': [[1322, 652], [1129, 796], [1132, 730], [1319, 720]],\n",
       "    'bbox': [1131, 652, 1319, 797]}]},\n",
       " {'file': 'C:/Users/krvet/Desktop/MADE/CV/HW2/contest02_data/data/test\\\\1285.bmp',\n",
       "  'nums': [{'box': [[250, 89], [401, 126], [253, 125], [400, 87]],\n",
       "    'bbox': [252, 87, 399, 125]}]},\n",
       " {'file': 'C:/Users/krvet/Desktop/MADE/CV/HW2/contest02_data/data/test\\\\1286.bmp',\n",
       "  'nums': [{'box': [[253, 186], [24, 236], [31, 193], [249, 230]],\n",
       "    'bbox': [28, 184, 249, 237]}]},\n",
       " {'file': 'C:/Users/krvet/Desktop/MADE/CV/HW2/contest02_data/data/test\\\\1287.jpg',\n",
       "  'nums': [{'box': [[389, 722], [608, 769], [395, 770], [602, 719]],\n",
       "    'bbox': [392, 720, 604, 770]},\n",
       "   {'box': [[1002, 541], [1171, 573], [1003, 574], [1167, 533]],\n",
       "    'bbox': [1004, 533, 1168, 573]}]},\n",
       " {'file': 'C:/Users/krvet/Desktop/MADE/CV/HW2/contest02_data/data/test\\\\1288.jpg',\n",
       "  'nums': [{'box': [[984, 544], [1186, 593], [995, 593], [1180, 542]],\n",
       "    'bbox': [986, 540, 1183, 593]}]},\n",
       " {'file': 'C:/Users/krvet/Desktop/MADE/CV/HW2/contest02_data/data/test\\\\1289.bmp',\n",
       "  'nums': [{'box': [[343, 176], [208, 232], [209, 201], [342, 205]],\n",
       "    'bbox': [210, 174, 342, 232]}]},\n",
       " {'file': 'C:/Users/krvet/Desktop/MADE/CV/HW2/contest02_data/data/test\\\\129.bmp',\n",
       "  'nums': [{'box': [[70, 131], [207, 157], [70, 159], [207, 127]],\n",
       "    'bbox': [71, 127, 206, 159]}]},\n",
       " {'file': 'C:/Users/krvet/Desktop/MADE/CV/HW2/contest02_data/data/test\\\\1290.bmp',\n",
       "  'nums': [{'box': [[170, 145], [285, 183], [174, 175], [282, 151]],\n",
       "    'bbox': [172, 144, 283, 183]}]},\n",
       " {'file': 'C:/Users/krvet/Desktop/MADE/CV/HW2/contest02_data/data/test\\\\1291.bmp',\n",
       "  'nums': [{'box': [[279, 334], [375, 376], [284, 362], [374, 345]],\n",
       "    'bbox': [281, 334, 374, 376]}]},\n",
       " {'file': 'C:/Users/krvet/Desktop/MADE/CV/HW2/contest02_data/data/test\\\\1292.jpg',\n",
       "  'nums': [{'box': [[499, 862], [819, 927], [507, 931], [814, 858]],\n",
       "    'bbox': [504, 858, 814, 930]},\n",
       "   {'box': [[446, 325], [510, 348], [449, 351], [508, 321]],\n",
       "    'bbox': [447, 321, 510, 351]}]},\n",
       " {'file': 'C:/Users/krvet/Desktop/MADE/CV/HW2/contest02_data/data/test\\\\1293.jpg',\n",
       "  'nums': [{'box': [[198, 257], [392, 294], [199, 297], [390, 256]],\n",
       "    'bbox': [201, 256, 390, 297]}]},\n",
       " {'file': 'C:/Users/krvet/Desktop/MADE/CV/HW2/contest02_data/data/test\\\\1294.jpg',\n",
       "  'nums': [{'box': [[790, 520], [661, 560], [662, 531], [787, 560]],\n",
       "    'bbox': [663, 519, 788, 567]}]},\n",
       " {'file': 'C:/Users/krvet/Desktop/MADE/CV/HW2/contest02_data/data/test\\\\1295.bmp',\n",
       "  'nums': [{'box': [[601, 979], [845, 1128], [594, 1047], [844, 1050]],\n",
       "    'bbox': [592, 973, 843, 1130]}]},\n",
       " {'file': 'C:/Users/krvet/Desktop/MADE/CV/HW2/contest02_data/data/test\\\\1296.jpg',\n",
       "  'nums': [{'box': [[503, 883], [792, 949], [510, 942], [784, 878]],\n",
       "    'bbox': [507, 878, 788, 950]}]},\n",
       " {'file': 'C:/Users/krvet/Desktop/MADE/CV/HW2/contest02_data/data/test\\\\1297.jpg',\n",
       "  'nums': [{'box': [[519, 327], [640, 351], [519, 353], [639, 327]],\n",
       "    'bbox': [520, 327, 638, 353]}]},\n",
       " {'file': 'C:/Users/krvet/Desktop/MADE/CV/HW2/contest02_data/data/test\\\\1298.jpg',\n",
       "  'nums': [{'box': [[362, 263], [506, 296], [365, 295], [502, 265]],\n",
       "    'bbox': [364, 263, 504, 296]}]},\n",
       " {'file': 'C:/Users/krvet/Desktop/MADE/CV/HW2/contest02_data/data/test\\\\1299.jpg',\n",
       "  'nums': [{'box': [[657, 545], [586, 564], [590, 546], [653, 562]],\n",
       "    'bbox': [584, 542, 655, 564]}]},\n",
       " {'file': 'C:/Users/krvet/Desktop/MADE/CV/HW2/contest02_data/data/test\\\\13.jpg',\n",
       "  'nums': [{'box': [[1746, 895], [1527, 1035], [1531, 956], [1742, 976]],\n",
       "    'bbox': [1526, 894, 1743, 1037]}]},\n",
       " {'file': 'C:/Users/krvet/Desktop/MADE/CV/HW2/contest02_data/data/test\\\\130.jpg',\n",
       "  'nums': [{'box': [[743, 405], [622, 458], [624, 421], [740, 442]],\n",
       "    'bbox': [623, 404, 742, 458]}]},\n",
       " {'file': 'C:/Users/krvet/Desktop/MADE/CV/HW2/contest02_data/data/test\\\\1300.jpg',\n",
       "  'nums': [{'box': [[414, 576], [503, 595], [417, 596], [503, 574]],\n",
       "    'bbox': [415, 574, 502, 595]}]},\n",
       " {'file': 'C:/Users/krvet/Desktop/MADE/CV/HW2/contest02_data/data/test\\\\1301.jpg',\n",
       "  'nums': [{'box': [[336, 749], [504, 788], [339, 788], [499, 752]],\n",
       "    'bbox': [337, 749, 501, 788]},\n",
       "   {'box': [[1039, 788], [1278, 846], [1046, 841], [1270, 797]],\n",
       "    'bbox': [1042, 787, 1274, 847]}]},\n",
       " {'file': 'C:/Users/krvet/Desktop/MADE/CV/HW2/contest02_data/data/test\\\\1302.jpg',\n",
       "  'nums': [{'box': [[51, 661], [173, 703], [51, 704], [169, 661]],\n",
       "    'bbox': [52, 661, 171, 703]}]},\n",
       " {'file': 'C:/Users/krvet/Desktop/MADE/CV/HW2/contest02_data/data/test\\\\1303.jpg',\n",
       "  'nums': [{'box': [[275, 465], [478, 505], [276, 505], [474, 463]],\n",
       "    'bbox': [278, 464, 475, 505]}]},\n",
       " {'file': 'C:/Users/krvet/Desktop/MADE/CV/HW2/contest02_data/data/test\\\\1304.jpeg',\n",
       "  'nums': [{'box': [[804, 493], [923, 515], [805, 516], [922, 492]],\n",
       "    'bbox': [806, 492, 921, 516]},\n",
       "   {'box': [[109, 493], [222, 518], [113, 518], [220, 493]],\n",
       "    'bbox': [111, 491, 220, 518]}]},\n",
       " {'file': 'C:/Users/krvet/Desktop/MADE/CV/HW2/contest02_data/data/test\\\\1305.jpg',\n",
       "  'nums': [{'box': [[478, 625], [566, 658], [480, 652], [562, 629]],\n",
       "    'bbox': [479, 624, 565, 659]}]},\n",
       " {'file': 'C:/Users/krvet/Desktop/MADE/CV/HW2/contest02_data/data/test\\\\1306.jpg',\n",
       "  'nums': [{'box': [[519, 300], [415, 331], [417, 304], [516, 328]],\n",
       "    'bbox': [416, 300, 517, 331]}]},\n",
       " {'file': 'C:/Users/krvet/Desktop/MADE/CV/HW2/contest02_data/data/test\\\\1307.bmp',\n",
       "  'nums': [{'box': [[155, 267], [257, 296], [157, 293], [255, 269]],\n",
       "    'bbox': [156, 267, 256, 296]}]},\n",
       " {'file': 'C:/Users/krvet/Desktop/MADE/CV/HW2/contest02_data/data/test\\\\1309.jpg',\n",
       "  'nums': [{'box': [[388, 817], [654, 874], [395, 872], [645, 817]],\n",
       "    'bbox': [392, 813, 651, 875]}]},\n",
       " {'file': 'C:/Users/krvet/Desktop/MADE/CV/HW2/contest02_data/data/test\\\\131.jpg',\n",
       "  'nums': [{'box': [[284, 652], [516, 717], [291, 713], [511, 658]],\n",
       "    'bbox': [287, 650, 513, 717]}]},\n",
       " {'file': 'C:/Users/krvet/Desktop/MADE/CV/HW2/contest02_data/data/test\\\\1310.jpg',\n",
       "  'nums': [{'box': [[376, 481], [675, 544], [384, 541], [665, 480]],\n",
       "    'bbox': [380, 476, 671, 545]},\n",
       "   {'box': [[0, 333], [184, 382], [0, 383], [182, 333]],\n",
       "    'bbox': [0, 334, 181, 382]}]},\n",
       " {'file': 'C:/Users/krvet/Desktop/MADE/CV/HW2/contest02_data/data/test\\\\1311.jpg',\n",
       "  'nums': [{'box': [[229, 261], [356, 292], [232, 291], [353, 261]],\n",
       "    'bbox': [231, 261, 353, 293]}]},\n",
       " {'file': 'C:/Users/krvet/Desktop/MADE/CV/HW2/contest02_data/data/test\\\\1312.jpg',\n",
       "  'nums': [{'box': [[242, 696], [517, 769], [250, 755], [511, 713]],\n",
       "    'bbox': [245, 695, 513, 772]}]},\n",
       " {'file': 'C:/Users/krvet/Desktop/MADE/CV/HW2/contest02_data/data/test\\\\1314.jpg',\n",
       "  'nums': [{'box': [[940, 1180], [640, 1246], [648, 1180], [935, 1247]],\n",
       "    'bbox': [644, 1176, 936, 1247]}]},\n",
       " {'file': 'C:/Users/krvet/Desktop/MADE/CV/HW2/contest02_data/data/test\\\\1315.bmp',\n",
       "  'nums': [{'box': [[374, 248], [182, 301], [183, 264], [370, 287]],\n",
       "    'bbox': [183, 246, 372, 302]}]},\n",
       " {'file': 'C:/Users/krvet/Desktop/MADE/CV/HW2/contest02_data/data/test\\\\1316.jpg',\n",
       "  'nums': [{'box': [[1723, 1004], [1392, 1126], [1407, 1046], [1718, 1082]],\n",
       "    'bbox': [1396, 1001, 1718, 1126]}]},\n",
       " {'file': 'C:/Users/krvet/Desktop/MADE/CV/HW2/contest02_data/data/test\\\\1317.jpg',\n",
       "  'nums': [{'box': [[280, 377], [399, 409], [282, 402], [396, 383]],\n",
       "    'bbox': [282, 376, 397, 409]}]},\n",
       " {'file': 'C:/Users/krvet/Desktop/MADE/CV/HW2/contest02_data/data/test\\\\1318.jpg',\n",
       "  'nums': [{'box': [[76, 383], [155, 408], [77, 406], [154, 384]],\n",
       "    'bbox': [77, 383, 155, 408]}]},\n",
       " {'file': 'C:/Users/krvet/Desktop/MADE/CV/HW2/contest02_data/data/test\\\\1319.jpg',\n",
       "  'nums': [{'box': [[756, 566], [1220, 653], [761, 655], [1211, 562]],\n",
       "    'bbox': [763, 561, 1213, 654]}]},\n",
       " {'file': 'C:/Users/krvet/Desktop/MADE/CV/HW2/contest02_data/data/test\\\\132.jpeg',\n",
       "  'nums': [{'box': [[450, 297], [524, 310], [451, 312], [522, 294]],\n",
       "    'bbox': [452, 295, 523, 311]}]},\n",
       " {'file': 'C:/Users/krvet/Desktop/MADE/CV/HW2/contest02_data/data/test\\\\1320.bmp',\n",
       "  'nums': [{'box': [[290, 173], [442, 210], [296, 209], [436, 172]],\n",
       "    'bbox': [292, 173, 439, 209]}]},\n",
       " {'file': 'C:/Users/krvet/Desktop/MADE/CV/HW2/contest02_data/data/test\\\\1321.bmp',\n",
       "  'nums': [{'box': [[426, 266], [356, 284], [357, 267], [425, 284]],\n",
       "    'bbox': [356, 264, 425, 284]}]},\n",
       " {'file': 'C:/Users/krvet/Desktop/MADE/CV/HW2/contest02_data/data/test\\\\1322.jpg',\n",
       "  'nums': [{'box': [[586, 1013], [936, 1107], [596, 1090], [929, 1029]],\n",
       "    'bbox': [590, 1009, 931, 1107]}]},\n",
       " {'file': 'C:/Users/krvet/Desktop/MADE/CV/HW2/contest02_data/data/test\\\\1323.jpg',\n",
       "  'nums': [{'box': [[39, 195], [166, 217], [39, 217], [166, 193]],\n",
       "    'bbox': [40, 193, 165, 217]}]},\n",
       " {'file': 'C:/Users/krvet/Desktop/MADE/CV/HW2/contest02_data/data/test\\\\1324.jpg',\n",
       "  'nums': [{'box': [[302, 544], [632, 611], [306, 612], [629, 539]],\n",
       "    'bbox': [305, 540, 626, 612]}]},\n",
       " {'file': 'C:/Users/krvet/Desktop/MADE/CV/HW2/contest02_data/data/test\\\\1325.jpg',\n",
       "  'nums': [{'box': [[1324, 596], [1141, 679], [1143, 622], [1318, 652]],\n",
       "    'bbox': [1144, 596, 1322, 679]}]},\n",
       " {'file': 'C:/Users/krvet/Desktop/MADE/CV/HW2/contest02_data/data/test\\\\1326.bmp',\n",
       "  'nums': [{'box': [[556, 285], [445, 321], [448, 295], [554, 310]],\n",
       "    'bbox': [447, 284, 555, 320]}]},\n",
       " {'file': 'C:/Users/krvet/Desktop/MADE/CV/HW2/contest02_data/data/test\\\\1327.jpg',\n",
       "  'nums': [{'box': [[341, 447], [589, 522], [353, 507], [585, 464]],\n",
       "    'bbox': [344, 442, 588, 528]}]},\n",
       " {'file': 'C:/Users/krvet/Desktop/MADE/CV/HW2/contest02_data/data/test\\\\1328.jpg',\n",
       "  'nums': [{'box': [[429, 583], [699, 636], [431, 638], [695, 577]],\n",
       "    'bbox': [433, 578, 695, 638]}]},\n",
       " {'file': 'C:/Users/krvet/Desktop/MADE/CV/HW2/contest02_data/data/test\\\\1329.jpg',\n",
       "  'nums': [{'box': [[259, 415], [483, 466], [264, 466], [479, 416]],\n",
       "    'bbox': [262, 415, 479, 466]}]},\n",
       " {'file': 'C:/Users/krvet/Desktop/MADE/CV/HW2/contest02_data/data/test\\\\133.jpg',\n",
       "  'nums': [{'box': [[1537, 1290], [1177, 1391], [1183, 1316], [1525, 1369]],\n",
       "    'bbox': [1182, 1287, 1531, 1391]},\n",
       "   {'box': [[285, 920], [118, 965], [122, 923], [276, 964]],\n",
       "    'bbox': [119, 914, 282, 965]}]},\n",
       " {'file': 'C:/Users/krvet/Desktop/MADE/CV/HW2/contest02_data/data/test\\\\1330.bmp',\n",
       "  'nums': [{'box': [[272, 203], [433, 236], [272, 237], [432, 200]],\n",
       "    'bbox': [275, 200, 430, 236]}]},\n",
       " {'file': 'C:/Users/krvet/Desktop/MADE/CV/HW2/contest02_data/data/test\\\\1331.jpg',\n",
       "  'nums': [{'box': [[1652, 1018], [1316, 1128], [1324, 1045], [1649, 1097]],\n",
       "    'bbox': [1321, 1017, 1647, 1128]}]},\n",
       " {'file': 'C:/Users/krvet/Desktop/MADE/CV/HW2/contest02_data/data/test\\\\1332.jpg',\n",
       "  'nums': [{'box': [[924, 724], [737, 765], [743, 726], [921, 766]],\n",
       "    'bbox': [740, 722, 921, 765]}]},\n",
       " {'file': 'C:/Users/krvet/Desktop/MADE/CV/HW2/contest02_data/data/test\\\\1333.jpg',\n",
       "  'nums': [{'box': [[294, 611], [548, 664], [296, 664], [545, 610]],\n",
       "    'bbox': [297, 611, 544, 664]}]},\n",
       " {'file': 'C:/Users/krvet/Desktop/MADE/CV/HW2/contest02_data/data/test\\\\1334.jpg',\n",
       "  'nums': [{'box': [[192, 280], [126, 301], [128, 284], [190, 298]],\n",
       "    'bbox': [127, 280, 191, 301]}]},\n",
       " {'file': 'C:/Users/krvet/Desktop/MADE/CV/HW2/contest02_data/data/test\\\\1335.jpg',\n",
       "  'nums': [{'box': [[203, 571], [357, 706], [203, 644], [357, 629]],\n",
       "    'bbox': [197, 567, 358, 708]}]},\n",
       " {'file': 'C:/Users/krvet/Desktop/MADE/CV/HW2/contest02_data/data/test\\\\1336.jpg',\n",
       "  'nums': [{'box': [[597, 444], [721, 473], [598, 473], [721, 441]],\n",
       "    'bbox': [599, 441, 719, 473]}]},\n",
       " {'file': 'C:/Users/krvet/Desktop/MADE/CV/HW2/contest02_data/data/test\\\\1337.png',\n",
       "  'nums': []},\n",
       " {'file': 'C:/Users/krvet/Desktop/MADE/CV/HW2/contest02_data/data/test\\\\1339.jpg',\n",
       "  'nums': [{'box': [[1559, 825], [1190, 912], [1199, 830], [1547, 910]],\n",
       "    'bbox': [1196, 822, 1553, 913]}]},\n",
       " {'file': 'C:/Users/krvet/Desktop/MADE/CV/HW2/contest02_data/data/test\\\\134.jpg',\n",
       "  'nums': [{'box': [[294, 721], [621, 787], [297, 789], [618, 715]],\n",
       "    'bbox': [299, 715, 616, 788]}]},\n",
       " {'file': 'C:/Users/krvet/Desktop/MADE/CV/HW2/contest02_data/data/test\\\\1340.jpg',\n",
       "  'nums': [{'box': [[173, 840], [270, 931], [178, 890], [269, 882]],\n",
       "    'bbox': [174, 840, 268, 932]}]},\n",
       " {'file': 'C:/Users/krvet/Desktop/MADE/CV/HW2/contest02_data/data/test\\\\1341.jpg',\n",
       "  'nums': [{'box': [[1272, 880], [1583, 937], [1273, 945], [1580, 866]],\n",
       "    'bbox': [1277, 867, 1579, 944]}]},\n",
       " {'file': 'C:/Users/krvet/Desktop/MADE/CV/HW2/contest02_data/data/test\\\\1342.jpg',\n",
       "  'nums': [{'box': [[290, 599], [479, 640], [292, 640], [476, 598]],\n",
       "    'bbox': [293, 597, 476, 640]}]},\n",
       " {'file': 'C:/Users/krvet/Desktop/MADE/CV/HW2/contest02_data/data/test\\\\1343.bmp',\n",
       "  'nums': [{'box': [[25, 167], [108, 186], [27, 187], [108, 164]],\n",
       "    'bbox': [25, 164, 107, 187]}]},\n",
       " {'file': 'C:/Users/krvet/Desktop/MADE/CV/HW2/contest02_data/data/test\\\\1344.jpg',\n",
       "  'nums': [{'box': [[309, 783], [572, 880], [313, 835], [566, 824]],\n",
       "    'bbox': [312, 781, 569, 881]}]},\n",
       " {'file': 'C:/Users/krvet/Desktop/MADE/CV/HW2/contest02_data/data/test\\\\1345.jpg',\n",
       "  'nums': [{'box': [[281, 369], [410, 396], [281, 399], [407, 369]],\n",
       "    'bbox': [283, 369, 407, 399]}]},\n",
       " {'file': 'C:/Users/krvet/Desktop/MADE/CV/HW2/contest02_data/data/test\\\\1346.jpg',\n",
       "  'nums': [{'box': [[728, 726], [952, 769], [735, 771], [948, 721]],\n",
       "    'bbox': [732, 720, 948, 771]}]},\n",
       " {'file': 'C:/Users/krvet/Desktop/MADE/CV/HW2/contest02_data/data/test\\\\1347.bmp',\n",
       "  'nums': [{'box': [[215, 253], [357, 290], [218, 284], [352, 257]],\n",
       "    'bbox': [217, 252, 355, 289]}]},\n",
       " {'file': 'C:/Users/krvet/Desktop/MADE/CV/HW2/contest02_data/data/test\\\\1348.bmp',\n",
       "  'nums': [{'box': [[301, 239], [120, 283], [122, 244], [297, 281]],\n",
       "    'bbox': [122, 239, 299, 282]}]},\n",
       " {'file': 'C:/Users/krvet/Desktop/MADE/CV/HW2/contest02_data/data/test\\\\1349.bmp',\n",
       "  'nums': [{'box': [[182, 235], [275, 267], [185, 262], [272, 240]],\n",
       "    'bbox': [183, 235, 274, 267]}]},\n",
       " {'file': 'C:/Users/krvet/Desktop/MADE/CV/HW2/contest02_data/data/test\\\\135.bmp',\n",
       "  'nums': [{'box': [[431, 161], [237, 208], [238, 170], [426, 206]],\n",
       "    'bbox': [240, 159, 428, 208]}]},\n",
       " {'file': 'C:/Users/krvet/Desktop/MADE/CV/HW2/contest02_data/data/test\\\\1350.jpg',\n",
       "  'nums': [{'box': [[1219, 732], [1018, 825], [1022, 768], [1211, 787]],\n",
       "    'bbox': [1021, 725, 1216, 826]}]},\n",
       " {'file': 'C:/Users/krvet/Desktop/MADE/CV/HW2/contest02_data/data/test\\\\1351.jpg',\n",
       "  'nums': [{'box': [[694, 444], [876, 479], [695, 482], [873, 443]],\n",
       "    'bbox': [697, 443, 873, 481]}]},\n",
       " {'file': 'C:/Users/krvet/Desktop/MADE/CV/HW2/contest02_data/data/test\\\\1352.jpg',\n",
       "  'nums': [{'box': [[1258, 895], [842, 979], [853, 895], [1246, 982]],\n",
       "    'bbox': [849, 893, 1252, 982]}]},\n",
       " {'file': 'C:/Users/krvet/Desktop/MADE/CV/HW2/contest02_data/data/test\\\\1353.jpg',\n",
       "  'nums': [{'box': [[240, 539], [399, 593], [243, 575], [395, 555]],\n",
       "    'bbox': [243, 537, 396, 593]}]},\n",
       " {'file': 'C:/Users/krvet/Desktop/MADE/CV/HW2/contest02_data/data/test\\\\1354.bmp',\n",
       "  'nums': [{'box': [[549, 261], [352, 348], [350, 298], [545, 307]],\n",
       "    'bbox': [348, 259, 546, 349]}]},\n",
       " {'file': 'C:/Users/krvet/Desktop/MADE/CV/HW2/contest02_data/data/test\\\\1355.jpg',\n",
       "  'nums': [{'box': [[151, 547], [272, 583], [155, 576], [268, 553]],\n",
       "    'bbox': [153, 545, 270, 584]}]},\n",
       " {'file': 'C:/Users/krvet/Desktop/MADE/CV/HW2/contest02_data/data/test\\\\1356.jpg',\n",
       "  'nums': [{'box': [[1158, 766], [907, 849], [914, 785], [1155, 825]],\n",
       "    'bbox': [910, 764, 1154, 849]}]},\n",
       " {'file': 'C:/Users/krvet/Desktop/MADE/CV/HW2/contest02_data/data/test\\\\1357.jpg',\n",
       "  'nums': [{'box': [[846, 323], [714, 365], [727, 327], [843, 361]],\n",
       "    'bbox': [715, 323, 845, 365]}]},\n",
       " {'file': 'C:/Users/krvet/Desktop/MADE/CV/HW2/contest02_data/data/test\\\\1358.bmp',\n",
       "  'nums': [{'box': [[352, 274], [238, 362], [237, 316], [354, 319]],\n",
       "    'bbox': [233, 274, 355, 363]}]},\n",
       " {'file': 'C:/Users/krvet/Desktop/MADE/CV/HW2/contest02_data/data/test\\\\1359.jpg',\n",
       "  'nums': [{'box': [[211, 601], [464, 690], [218, 663], [461, 625]],\n",
       "    'bbox': [213, 594, 462, 691]}]},\n",
       " {'file': 'C:/Users/krvet/Desktop/MADE/CV/HW2/contest02_data/data/test\\\\136.jpg',\n",
       "  'nums': [{'box': [[231, 407], [459, 536], [235, 472], [457, 461]],\n",
       "    'bbox': [234, 407, 456, 535]},\n",
       "   {'box': [[173, 255], [238, 274], [175, 280], [233, 257]],\n",
       "    'bbox': [174, 255, 237, 280]}]},\n",
       " {'file': 'C:/Users/krvet/Desktop/MADE/CV/HW2/contest02_data/data/test\\\\1360.jpg',\n",
       "  'nums': [{'box': [[882, 543], [669, 586], [675, 544], [877, 586]],\n",
       "    'bbox': [672, 539, 879, 587]}]},\n",
       " {'file': 'C:/Users/krvet/Desktop/MADE/CV/HW2/contest02_data/data/test\\\\1361.bmp',\n",
       "  'nums': [{'box': [[557, 238], [381, 305], [382, 267], [554, 280]],\n",
       "    'bbox': [383, 238, 555, 307]}]},\n",
       " {'file': 'C:/Users/krvet/Desktop/MADE/CV/HW2/contest02_data/data/test\\\\1362.png',\n",
       "  'nums': [{'box': [[970, 635], [1068, 658], [970, 659], [1068, 630]],\n",
       "    'bbox': [971, 630, 1066, 659]}]},\n",
       " {'file': 'C:/Users/krvet/Desktop/MADE/CV/HW2/contest02_data/data/test\\\\1363.jpg',\n",
       "  'nums': [{'box': [[248, 262], [370, 285], [248, 285], [369, 259]],\n",
       "    'bbox': [250, 259, 368, 285]}]},\n",
       " {'file': 'C:/Users/krvet/Desktop/MADE/CV/HW2/contest02_data/data/test\\\\1364.jpg',\n",
       "  'nums': [{'box': [[528, 622], [663, 661], [531, 661], [660, 620]],\n",
       "    'bbox': [529, 620, 662, 661]}]},\n",
       " {'file': 'C:/Users/krvet/Desktop/MADE/CV/HW2/contest02_data/data/test\\\\1365.jpg',\n",
       "  'nums': [{'box': [[125, 777], [322, 817], [125, 817], [321, 775]],\n",
       "    'bbox': [128, 775, 319, 816]}]},\n",
       " {'file': 'C:/Users/krvet/Desktop/MADE/CV/HW2/contest02_data/data/test\\\\1366.jpg',\n",
       "  'nums': [{'box': [[1382, 611], [1118, 666], [1125, 611], [1381, 667]],\n",
       "    'bbox': [1122, 608, 1379, 667]},\n",
       "   {'box': [[38, 554], [235, 585], [40, 594], [229, 552]],\n",
       "    'bbox': [41, 552, 232, 593]}]},\n",
       " {'file': 'C:/Users/krvet/Desktop/MADE/CV/HW2/contest02_data/data/test\\\\1367.bmp',\n",
       "  'nums': [{'box': [[192, 98], [304, 125], [193, 129], [298, 97]],\n",
       "    'bbox': [194, 97, 302, 129]}]},\n",
       " {'file': 'C:/Users/krvet/Desktop/MADE/CV/HW2/contest02_data/data/test\\\\1368.jpg',\n",
       "  'nums': [{'box': [[770, 379], [642, 453], [644, 418], [768, 415]],\n",
       "    'bbox': [643, 378, 769, 452]}]},\n",
       " {'file': 'C:/Users/krvet/Desktop/MADE/CV/HW2/contest02_data/data/test\\\\1369.jpg',\n",
       "  'nums': [{'box': [[411, 288], [334, 309], [336, 293], [409, 306]],\n",
       "    'bbox': [335, 287, 410, 309]},\n",
       "   {'box': [[539, 206], [483, 221], [484, 207], [538, 221]],\n",
       "    'bbox': [484, 206, 538, 221]}]},\n",
       " {'file': 'C:/Users/krvet/Desktop/MADE/CV/HW2/contest02_data/data/test\\\\137.JPG',\n",
       "  'nums': [{'box': [[1553, 1478], [2463, 1674], [1579, 1668], [2444, 1483]],\n",
       "    'bbox': [1566, 1471, 2449, 1678]}]},\n",
       " {'file': 'C:/Users/krvet/Desktop/MADE/CV/HW2/contest02_data/data/test\\\\1370.jpg',\n",
       "  'nums': [{'box': [[813, 832], [1166, 894], [816, 895], [1156, 828]],\n",
       "    'bbox': [818, 829, 1161, 895]}]},\n",
       " {'file': 'C:/Users/krvet/Desktop/MADE/CV/HW2/contest02_data/data/test\\\\1371.jpg',\n",
       "  'nums': [{'box': [[453, 521], [646, 559], [454, 560], [644, 519]],\n",
       "    'bbox': [456, 520, 643, 560]}]},\n",
       " {'file': 'C:/Users/krvet/Desktop/MADE/CV/HW2/contest02_data/data/test\\\\1372.jpg',\n",
       "  'nums': [{'box': [[1098, 569], [1330, 624], [1105, 624], [1325, 569]],\n",
       "    'bbox': [1101, 568, 1327, 624]}]},\n",
       " {'file': 'C:/Users/krvet/Desktop/MADE/CV/HW2/contest02_data/data/test\\\\1373.bmp',\n",
       "  'nums': [{'box': [[120, 154], [235, 184], [120, 184], [232, 155]],\n",
       "    'bbox': [122, 154, 233, 184]}]},\n",
       " {'file': 'C:/Users/krvet/Desktop/MADE/CV/HW2/contest02_data/data/test\\\\1374.jpg',\n",
       "  'nums': [{'box': [[398, 494], [628, 542], [400, 543], [622, 493]],\n",
       "    'bbox': [401, 494, 625, 542]}]},\n",
       " {'file': 'C:/Users/krvet/Desktop/MADE/CV/HW2/contest02_data/data/test\\\\1375.jpg',\n",
       "  'nums': [{'box': [[139, 889], [267, 997], [145, 947], [263, 934]],\n",
       "    'bbox': [141, 889, 265, 996]}]},\n",
       " {'file': 'C:/Users/krvet/Desktop/MADE/CV/HW2/contest02_data/data/test\\\\1376.jpg',\n",
       "  'nums': [{'box': [[3970, 876], [3519, 1001], [3531, 887], [3959, 984]],\n",
       "    'bbox': [3526, 874, 3964, 1001]},\n",
       "   {'box': [[1205, 1172], [435, 1358], [451, 1200], [1185, 1321]],\n",
       "    'bbox': [446, 1167, 1193, 1361]}]},\n",
       " {'file': 'C:/Users/krvet/Desktop/MADE/CV/HW2/contest02_data/data/test\\\\1377.bmp',\n",
       "  'nums': [{'box': [[147, 200], [241, 226], [146, 226], [241, 195]],\n",
       "    'bbox': [147, 195, 240, 226]}]},\n",
       " {'file': 'C:/Users/krvet/Desktop/MADE/CV/HW2/contest02_data/data/test\\\\1378.jpg',\n",
       "  'nums': [{'box': [[175, 219], [250, 234], [176, 235], [247, 218]],\n",
       "    'bbox': [176, 219, 249, 235]}]},\n",
       " {'file': 'C:/Users/krvet/Desktop/MADE/CV/HW2/contest02_data/data/test\\\\1379.bmp',\n",
       "  'nums': [{'box': [[444, 324], [249, 404], [255, 358], [441, 365]],\n",
       "    'bbox': [251, 317, 441, 404]}]},\n",
       " {'file': 'C:/Users/krvet/Desktop/MADE/CV/HW2/contest02_data/data/test\\\\138.jpg',\n",
       "  'nums': [{'box': [[115, 963], [418, 1196], [126, 1063], [415, 1093]],\n",
       "    'bbox': [116, 962, 415, 1196]}]},\n",
       " {'file': 'C:/Users/krvet/Desktop/MADE/CV/HW2/contest02_data/data/test\\\\1380.bmp',\n",
       "  'nums': [{'box': [[140, 292], [311, 363], [142, 330], [308, 319]],\n",
       "    'bbox': [143, 290, 309, 364]}]},\n",
       " {'file': 'C:/Users/krvet/Desktop/MADE/CV/HW2/contest02_data/data/test\\\\1381.jpg',\n",
       "  'nums': [{'box': [[1367, 720], [1230, 816], [1229, 746], [1364, 781]],\n",
       "    'bbox': [1227, 718, 1366, 815]}]},\n",
       " {'file': 'C:/Users/krvet/Desktop/MADE/CV/HW2/contest02_data/data/test\\\\1382.bmp',\n",
       "  'nums': [{'box': [[890, 944], [1436, 1072], [903, 1060], [1428, 959]],\n",
       "    'bbox': [898, 943, 1428, 1072]}]},\n",
       " {'file': 'C:/Users/krvet/Desktop/MADE/CV/HW2/contest02_data/data/test\\\\1383.jpg',\n",
       "  'nums': [{'box': [[156, 940], [389, 1015], [162, 1006], [381, 943]],\n",
       "    'bbox': [159, 937, 386, 1016]}]},\n",
       " {'file': 'C:/Users/krvet/Desktop/MADE/CV/HW2/contest02_data/data/test\\\\1384.jpg',\n",
       "  'nums': [{'box': [[889, 645], [644, 694], [651, 643], [885, 695]],\n",
       "    'bbox': [647, 642, 885, 694]},\n",
       "   {'box': [[1466, 543], [1591, 570], [1470, 572], [1590, 542]],\n",
       "    'bbox': [1467, 542, 1588, 572]}]},\n",
       " {'file': 'C:/Users/krvet/Desktop/MADE/CV/HW2/contest02_data/data/test\\\\1385.jpg',\n",
       "  'nums': [{'box': [[539, 535], [492, 566], [493, 547], [537, 555]],\n",
       "    'bbox': [492, 535, 539, 566]}]},\n",
       " {'file': 'C:/Users/krvet/Desktop/MADE/CV/HW2/contest02_data/data/test\\\\1386.jpg',\n",
       "  'nums': [{'box': [[348, 506], [589, 594], [351, 565], [586, 531]],\n",
       "    'bbox': [352, 501, 586, 594]}]},\n",
       " {'file': 'C:/Users/krvet/Desktop/MADE/CV/HW2/contest02_data/data/test\\\\1387.jpg',\n",
       "  'nums': [{'box': [[224, 536], [450, 598], [232, 584], [447, 547]],\n",
       "    'bbox': [228, 533, 446, 600]}]},\n",
       " {'file': 'C:/Users/krvet/Desktop/MADE/CV/HW2/contest02_data/data/test\\\\1388.bmp',\n",
       "  'nums': [{'box': [[175, 293], [43, 334], [45, 305], [171, 320]],\n",
       "    'bbox': [45, 292, 173, 334]}]},\n",
       " {'file': 'C:/Users/krvet/Desktop/MADE/CV/HW2/contest02_data/data/test\\\\1389.jpg',\n",
       "  'nums': [{'box': [[631, 219], [751, 242], [631, 242], [750, 218]],\n",
       "    'bbox': [633, 218, 749, 242]},\n",
       "   {'box': [[259, 359], [99, 502], [103, 416], [257, 435]],\n",
       "    'bbox': [96, 353, 259, 503]}]},\n",
       " {'file': 'C:/Users/krvet/Desktop/MADE/CV/HW2/contest02_data/data/test\\\\139.jpg',\n",
       "  'nums': [{'box': [[457, 714], [625, 742], [458, 746], [624, 708]],\n",
       "    'bbox': [459, 708, 622, 746]}]},\n",
       " {'file': 'C:/Users/krvet/Desktop/MADE/CV/HW2/contest02_data/data/test\\\\1390.jpg',\n",
       "  'nums': [{'box': [[1606, 739], [1379, 856], [1381, 792], [1604, 806]],\n",
       "    'bbox': [1381, 739, 1604, 856]}]},\n",
       " {'file': 'C:/Users/krvet/Desktop/MADE/CV/HW2/contest02_data/data/test\\\\1391.jpg',\n",
       "  'nums': [{'box': [[140, 488], [331, 532], [144, 529], [325, 486]],\n",
       "    'bbox': [143, 486, 328, 533]}]},\n",
       " {'file': 'C:/Users/krvet/Desktop/MADE/CV/HW2/contest02_data/data/test\\\\1392.bmp',\n",
       "  'nums': [{'box': [[143, 387], [286, 417], [143, 418], [286, 382]],\n",
       "    'bbox': [145, 382, 284, 418]}]},\n",
       " {'file': 'C:/Users/krvet/Desktop/MADE/CV/HW2/contest02_data/data/test\\\\1393.jpg',\n",
       "  'nums': [{'box': [[152, 692], [402, 813], [156, 753], [399, 747]],\n",
       "    'bbox': [155, 691, 399, 815]}]},\n",
       " {'file': 'C:/Users/krvet/Desktop/MADE/CV/HW2/contest02_data/data/test\\\\1394.jpg',\n",
       "  'nums': [{'box': [[1113, 754], [849, 808], [856, 753], [1105, 809]],\n",
       "    'bbox': [853, 749, 1109, 809]}]},\n",
       " {'file': 'C:/Users/krvet/Desktop/MADE/CV/HW2/contest02_data/data/test\\\\1395.jpg',\n",
       "  'nums': [{'box': [[551, 505], [659, 523], [551, 525], [658, 499]],\n",
       "    'bbox': [553, 499, 658, 525]}]},\n",
       " {'file': 'C:/Users/krvet/Desktop/MADE/CV/HW2/contest02_data/data/test\\\\1396.jpg',\n",
       "  'nums': [{'box': [[1329, 657], [1211, 721], [1213, 677], [1325, 698]],\n",
       "    'bbox': [1212, 657, 1327, 721]}]},\n",
       " {'file': 'C:/Users/krvet/Desktop/MADE/CV/HW2/contest02_data/data/test\\\\1397.bmp',\n",
       "  'nums': [{'box': [[541, 165], [392, 211], [393, 176], [540, 196]],\n",
       "    'bbox': [394, 161, 540, 211]}]},\n",
       " {'file': 'C:/Users/krvet/Desktop/MADE/CV/HW2/contest02_data/data/test\\\\1398.bmp',\n",
       "  'nums': [{'box': [[923, 805], [1280, 903], [935, 885], [1267, 824]],\n",
       "    'bbox': [928, 801, 1275, 903]}]},\n",
       " {'file': 'C:/Users/krvet/Desktop/MADE/CV/HW2/contest02_data/data/test\\\\1399.bmp',\n",
       "  'nums': [{'box': [[271, 288], [365, 315], [271, 315], [365, 288]],\n",
       "    'bbox': [272, 288, 363, 315]}]},\n",
       " {'file': 'C:/Users/krvet/Desktop/MADE/CV/HW2/contest02_data/data/test\\\\14.jpg',\n",
       "  'nums': [{'box': [[802, 230], [746, 270], [742, 242], [804, 259]],\n",
       "    'bbox': [742, 230, 804, 271]}]},\n",
       " {'file': 'C:/Users/krvet/Desktop/MADE/CV/HW2/contest02_data/data/test\\\\140.jpg',\n",
       "  'nums': [{'box': [[615, 691], [382, 740], [384, 690], [614, 741]],\n",
       "    'bbox': [386, 688, 612, 740]}]},\n",
       " {'file': 'C:/Users/krvet/Desktop/MADE/CV/HW2/contest02_data/data/test\\\\1400.jpg',\n",
       "  'nums': [{'box': [[1075, 696], [951, 782], [957, 736], [1069, 740]],\n",
       "    'bbox': [953, 697, 1073, 782]}]},\n",
       " {'file': 'C:/Users/krvet/Desktop/MADE/CV/HW2/contest02_data/data/test\\\\1401.jpg',\n",
       "  'nums': [{'box': [[1293, 717], [1055, 796], [1065, 733], [1287, 779]],\n",
       "    'bbox': [1058, 716, 1290, 797]}]},\n",
       " {'file': 'C:/Users/krvet/Desktop/MADE/CV/HW2/contest02_data/data/test\\\\1402.jpg',\n",
       "  'nums': [{'box': [[429, 546], [623, 587], [432, 587], [619, 545]],\n",
       "    'bbox': [432, 546, 621, 586]}]},\n",
       " {'file': 'C:/Users/krvet/Desktop/MADE/CV/HW2/contest02_data/data/test\\\\1403.jpg',\n",
       "  'nums': [{'box': [[957, 932], [675, 1058], [679, 994], [952, 1000]],\n",
       "    'bbox': [678, 932, 953, 1059]}]},\n",
       " {'file': 'C:/Users/krvet/Desktop/MADE/CV/HW2/contest02_data/data/test\\\\1404.jpg',\n",
       "  'nums': [{'box': [[1056, 662], [747, 742], [754, 675], [1052, 732]],\n",
       "    'bbox': [752, 660, 1051, 743]}]},\n",
       " {'file': 'C:/Users/krvet/Desktop/MADE/CV/HW2/contest02_data/data/test\\\\1405.png',\n",
       "  'nums': [{'box': [[1099, 642], [1227, 670], [1099, 671], [1227, 640]],\n",
       "    'bbox': [1100, 640, 1225, 671]}]},\n",
       " {'file': 'C:/Users/krvet/Desktop/MADE/CV/HW2/contest02_data/data/test\\\\1406.bmp',\n",
       "  'nums': [{'box': [[233, 236], [320, 258], [234, 258], [320, 235]],\n",
       "    'bbox': [234, 235, 319, 258]}]},\n",
       " {'file': 'C:/Users/krvet/Desktop/MADE/CV/HW2/contest02_data/data/test\\\\1407.jpg',\n",
       "  'nums': [{'box': [[476, 683], [850, 767], [483, 760], [841, 682]],\n",
       "    'bbox': [482, 678, 844, 769]}]},\n",
       " {'file': 'C:/Users/krvet/Desktop/MADE/CV/HW2/contest02_data/data/test\\\\1408.jpg',\n",
       "  'nums': [{'box': [[1007, 685], [741, 743], [745, 688], [1000, 745]],\n",
       "    'bbox': [745, 684, 1002, 745]}]},\n",
       " {'file': 'C:/Users/krvet/Desktop/MADE/CV/HW2/contest02_data/data/test\\\\1409.bmp',\n",
       "  'nums': [{'box': [[292, 190], [180, 224], [181, 200], [290, 214]],\n",
       "    'bbox': [180, 188, 290, 225]}]},\n",
       " {'file': 'C:/Users/krvet/Desktop/MADE/CV/HW2/contest02_data/data/test\\\\141.jpg',\n",
       "  'nums': [{'box': [[1281, 581], [1055, 631], [1061, 583], [1277, 631]],\n",
       "    'bbox': [1059, 578, 1277, 632]},\n",
       "   {'box': [[1498, 476], [1625, 502], [1498, 503], [1624, 472]],\n",
       "    'bbox': [1499, 472, 1624, 503]}]},\n",
       " {'file': 'C:/Users/krvet/Desktop/MADE/CV/HW2/contest02_data/data/test\\\\1410.jpg',\n",
       "  'nums': [{'box': [[320, 301], [239, 321], [241, 302], [319, 321]],\n",
       "    'bbox': [240, 301, 319, 322]}]},\n",
       " {'file': 'C:/Users/krvet/Desktop/MADE/CV/HW2/contest02_data/data/test\\\\1411.jpg',\n",
       "  'nums': [{'box': [[1228, 1023], [862, 1128], [868, 1049], [1221, 1099]],\n",
       "    'bbox': [868, 1019, 1222, 1129]}]},\n",
       " {'file': 'C:/Users/krvet/Desktop/MADE/CV/HW2/contest02_data/data/test\\\\1412.jpg',\n",
       "  'nums': [{'box': [[298, 272], [464, 329], [300, 310], [462, 283]],\n",
       "    'bbox': [299, 268, 462, 330]}]},\n",
       " {'file': 'C:/Users/krvet/Desktop/MADE/CV/HW2/contest02_data/data/test\\\\1413.jpg',\n",
       "  'nums': [{'box': [[1472, 389], [1351, 464], [1346, 401], [1473, 450]],\n",
       "    'bbox': [1346, 387, 1476, 465]}]},\n",
       " {'file': 'C:/Users/krvet/Desktop/MADE/CV/HW2/contest02_data/data/test\\\\1414.bmp',\n",
       "  'nums': [{'box': [[350, 212], [489, 250], [355, 245], [486, 218]],\n",
       "    'bbox': [352, 212, 487, 250]}]},\n",
       " {'file': 'C:/Users/krvet/Desktop/MADE/CV/HW2/contest02_data/data/test\\\\1415.jpg',\n",
       "  'nums': [{'box': [[271, 748], [465, 783], [271, 784], [464, 743]],\n",
       "    'bbox': [274, 743, 462, 784]}]},\n",
       " {'file': 'C:/Users/krvet/Desktop/MADE/CV/HW2/contest02_data/data/test\\\\1416.jpg',\n",
       "  'nums': [{'box': [[294, 736], [462, 776], [296, 778], [461, 729]],\n",
       "    'bbox': [297, 730, 460, 777]}]},\n",
       " {'file': 'C:/Users/krvet/Desktop/MADE/CV/HW2/contest02_data/data/test\\\\1417.jpg',\n",
       "  'nums': [{'box': [[1344, 579], [1009, 645], [1013, 575], [1341, 646]],\n",
       "    'bbox': [1013, 576, 1338, 645]},\n",
       "   {'box': [[7, 421], [114, 455], [8, 456], [112, 419]],\n",
       "    'bbox': [9, 419, 112, 455]}]},\n",
       " {'file': 'C:/Users/krvet/Desktop/MADE/CV/HW2/contest02_data/data/test\\\\1418.jpg',\n",
       "  'nums': [{'box': [[308, 451], [488, 496], [313, 493], [486, 455]],\n",
       "    'bbox': [310, 451, 486, 496]}]},\n",
       " {'file': 'C:/Users/krvet/Desktop/MADE/CV/HW2/contest02_data/data/test\\\\1419.jpg',\n",
       "  'nums': [{'box': [[732, 561], [953, 605], [733, 607], [951, 559]],\n",
       "    'bbox': [735, 559, 949, 606]}]},\n",
       " {'file': 'C:/Users/krvet/Desktop/MADE/CV/HW2/contest02_data/data/test\\\\142.jpg',\n",
       "  'nums': [{'box': [[296, 1058], [513, 1139], [308, 1122], [508, 1069]],\n",
       "    'bbox': [299, 1058, 511, 1139]}]},\n",
       " {'file': 'C:/Users/krvet/Desktop/MADE/CV/HW2/contest02_data/data/test\\\\1420.jpg',\n",
       "  'nums': [{'box': [[469, 944], [740, 999], [471, 1002], [737, 938]],\n",
       "    'bbox': [474, 939, 736, 1002]}]},\n",
       " {'file': 'C:/Users/krvet/Desktop/MADE/CV/HW2/contest02_data/data/test\\\\1421.jpg',\n",
       "  'nums': [{'box': [[283, 312], [395, 338], [286, 338], [393, 311]],\n",
       "    'bbox': [285, 311, 393, 338]}]},\n",
       " {'file': 'C:/Users/krvet/Desktop/MADE/CV/HW2/contest02_data/data/test\\\\1422.jpg',\n",
       "  'nums': [{'box': [[297, 307], [417, 334], [298, 334], [414, 305]],\n",
       "    'bbox': [299, 305, 415, 333]}]},\n",
       " {'file': 'C:/Users/krvet/Desktop/MADE/CV/HW2/contest02_data/data/test\\\\1423.jpg',\n",
       "  'nums': [{'box': [[728, 284], [664, 324], [664, 298], [726, 310]],\n",
       "    'bbox': [664, 283, 727, 323]}]},\n",
       " {'file': 'C:/Users/krvet/Desktop/MADE/CV/HW2/contest02_data/data/test\\\\1424.bmp',\n",
       "  'nums': [{'box': [[223, 258], [596, 326], [233, 327], [592, 245]],\n",
       "    'bbox': [228, 246, 590, 327]}]},\n",
       " {'file': 'C:/Users/krvet/Desktop/MADE/CV/HW2/contest02_data/data/test\\\\1425.bmp',\n",
       "  'nums': [{'box': [[461, 113], [322, 149], [325, 118], [460, 149]],\n",
       "    'bbox': [323, 113, 460, 149]}]},\n",
       " {'file': 'C:/Users/krvet/Desktop/MADE/CV/HW2/contest02_data/data/test\\\\1426.jpg',\n",
       "  'nums': [{'box': [[183, 750], [442, 875], [193, 818], [436, 807]],\n",
       "    'bbox': [186, 749, 438, 877]}]},\n",
       " {'file': 'C:/Users/krvet/Desktop/MADE/CV/HW2/contest02_data/data/test\\\\1427.jpg',\n",
       "  'nums': [{'box': [[445, 418], [335, 445], [339, 420], [443, 443]],\n",
       "    'bbox': [337, 417, 443, 446]}]},\n",
       " {'file': 'C:/Users/krvet/Desktop/MADE/CV/HW2/contest02_data/data/test\\\\1428.jpg',\n",
       "  'nums': [{'box': [[1072, 714], [665, 833], [667, 755], [1060, 796]],\n",
       "    'bbox': [663, 712, 1067, 835]}]},\n",
       " {'file': 'C:/Users/krvet/Desktop/MADE/CV/HW2/contest02_data/data/test\\\\1429.bmp',\n",
       "  'nums': [{'box': [[266, 244], [115, 285], [117, 253], [263, 277]],\n",
       "    'bbox': [117, 242, 264, 284]}]},\n",
       " {'file': 'C:/Users/krvet/Desktop/MADE/CV/HW2/contest02_data/data/test\\\\143.jpg',\n",
       "  'nums': [{'box': [[282, 948], [558, 1126], [291, 1025], [556, 1035]],\n",
       "    'bbox': [285, 948, 555, 1125]}]},\n",
       " {'file': 'C:/Users/krvet/Desktop/MADE/CV/HW2/contest02_data/data/test\\\\1430.jpg',\n",
       "  'nums': [{'box': [[386, 305], [497, 328], [386, 328], [495, 304]],\n",
       "    'bbox': [388, 304, 495, 328]}]},\n",
       " {'file': 'C:/Users/krvet/Desktop/MADE/CV/HW2/contest02_data/data/test\\\\1431.jpg',\n",
       "  'nums': [{'box': [[809, 786], [1052, 839], [812, 840], [1050, 785]],\n",
       "    'bbox': [812, 785, 1048, 839]}]},\n",
       " {'file': 'C:/Users/krvet/Desktop/MADE/CV/HW2/contest02_data/data/test\\\\1432.bmp',\n",
       "  'nums': [{'box': [[171, 279], [261, 318], [175, 306], [258, 287]],\n",
       "    'bbox': [173, 278, 260, 317]}]},\n",
       " {'file': 'C:/Users/krvet/Desktop/MADE/CV/HW2/contest02_data/data/test\\\\1433.bmp',\n",
       "  'nums': [{'box': [[343, 253], [441, 287], [347, 280], [439, 261]],\n",
       "    'bbox': [345, 253, 439, 287]}]},\n",
       " {'file': 'C:/Users/krvet/Desktop/MADE/CV/HW2/contest02_data/data/test\\\\1434.jpg',\n",
       "  'nums': [{'box': [[608, 623], [1031, 700], [611, 702], [1025, 615]],\n",
       "    'bbox': [615, 615, 1025, 701]}]},\n",
       " {'file': 'C:/Users/krvet/Desktop/MADE/CV/HW2/contest02_data/data/test\\\\1435.bmp',\n",
       "  'nums': [{'box': [[118, 159], [330, 199], [119, 200], [327, 155]],\n",
       "    'bbox': [122, 155, 326, 199]}]},\n",
       " {'file': 'C:/Users/krvet/Desktop/MADE/CV/HW2/contest02_data/data/test\\\\1436.jpg',\n",
       "  'nums': [{'box': [[154, 697], [359, 832], [165, 759], [351, 759]],\n",
       "    'bbox': [156, 695, 357, 831]}]},\n",
       " {'file': 'C:/Users/krvet/Desktop/MADE/CV/HW2/contest02_data/data/test\\\\1437.jpg',\n",
       "  'nums': [{'box': [[487, 228], [382, 253], [387, 231], [485, 251]],\n",
       "    'bbox': [383, 227, 485, 255]}]},\n",
       " {'file': 'C:/Users/krvet/Desktop/MADE/CV/HW2/contest02_data/data/test\\\\1439.jpg',\n",
       "  'nums': [{'box': [[314, 599], [705, 674], [318, 675], [701, 591]],\n",
       "    'bbox': [316, 591, 699, 674]}]},\n",
       " {'file': 'C:/Users/krvet/Desktop/MADE/CV/HW2/contest02_data/data/test\\\\144.bmp',\n",
       "  'nums': [{'box': [[294, 193], [153, 226], [155, 197], [291, 226]],\n",
       "    'bbox': [155, 192, 292, 226]}]},\n",
       " {'file': 'C:/Users/krvet/Desktop/MADE/CV/HW2/contest02_data/data/test\\\\1440.bmp',\n",
       "  'nums': [{'box': [[301, 202], [228, 226], [230, 203], [300, 228]],\n",
       "    'bbox': [230, 201, 300, 228]}]},\n",
       " {'file': 'C:/Users/krvet/Desktop/MADE/CV/HW2/contest02_data/data/test\\\\1441.bmp',\n",
       "  'nums': [{'box': [[168, 269], [247, 298], [170, 294], [244, 271]],\n",
       "    'bbox': [168, 267, 246, 297]}]},\n",
       " {'file': 'C:/Users/krvet/Desktop/MADE/CV/HW2/contest02_data/data/test\\\\1442.jpg',\n",
       "  'nums': [{'box': [[229, 313], [463, 360], [233, 362], [460, 311]],\n",
       "    'bbox': [232, 312, 460, 361]}]},\n",
       " {'file': 'C:/Users/krvet/Desktop/MADE/CV/HW2/contest02_data/data/test\\\\1443.bmp',\n",
       "  'nums': [{'box': [[254, 433], [424, 498], [262, 466], [421, 463]],\n",
       "    'bbox': [257, 431, 421, 501]}]},\n",
       " {'file': 'C:/Users/krvet/Desktop/MADE/CV/HW2/contest02_data/data/test\\\\1444.bmp',\n",
       "  'nums': [{'box': [[82, 123], [270, 168], [89, 167], [268, 120]],\n",
       "    'bbox': [85, 121, 267, 168]}]},\n",
       " {'file': 'C:/Users/krvet/Desktop/MADE/CV/HW2/contest02_data/data/test\\\\1445.jpg',\n",
       "  'nums': [{'box': [[511, 635], [778, 690], [513, 691], [772, 631]],\n",
       "    'bbox': [515, 630, 774, 691]}]},\n",
       " {'file': 'C:/Users/krvet/Desktop/MADE/CV/HW2/contest02_data/data/test\\\\1446.jpg',\n",
       "  'nums': [{'box': [[1301, 687], [973, 789], [977, 714], [1295, 764]],\n",
       "    'bbox': [977, 686, 1297, 790]}]},\n",
       " {'file': 'C:/Users/krvet/Desktop/MADE/CV/HW2/contest02_data/data/test\\\\1447.jpg',\n",
       "  'nums': [{'box': [[661, 856], [787, 877], [661, 881], [786, 854]],\n",
       "    'bbox': [663, 854, 785, 881]}]},\n",
       " {'file': 'C:/Users/krvet/Desktop/MADE/CV/HW2/contest02_data/data/test\\\\1448.jpg',\n",
       "  'nums': [{'box': [[299, 738], [610, 808], [306, 809], [606, 734]],\n",
       "    'bbox': [304, 734, 605, 809]}]},\n",
       " {'file': 'C:/Users/krvet/Desktop/MADE/CV/HW2/contest02_data/data/test\\\\1449.jpg',\n",
       "  'nums': [{'box': [[1258, 407], [1098, 453], [1101, 410], [1254, 453]],\n",
       "    'bbox': [1101, 405, 1255, 453]}]},\n",
       " {'file': 'C:/Users/krvet/Desktop/MADE/CV/HW2/contest02_data/data/test\\\\145.jpg',\n",
       "  'nums': [{'box': [[388, 173], [200, 288], [208, 201], [371, 289]],\n",
       "    'bbox': [202, 173, 385, 291]}]},\n",
       " {'file': 'C:/Users/krvet/Desktop/MADE/CV/HW2/contest02_data/data/test\\\\1450.jpg',\n",
       "  'nums': [{'box': [[1227, 604], [1380, 704], [1229, 646], [1377, 668]],\n",
       "    'bbox': [1223, 604, 1378, 705]}]},\n",
       " {'file': 'C:/Users/krvet/Desktop/MADE/CV/HW2/contest02_data/data/test\\\\1451.bmp',\n",
       "  'nums': [{'box': [[233, 167], [342, 201], [235, 200], [339, 166]],\n",
       "    'bbox': [235, 167, 340, 201]}]},\n",
       " {'file': 'C:/Users/krvet/Desktop/MADE/CV/HW2/contest02_data/data/test\\\\1452.jpg',\n",
       "  'nums': [{'box': [[865, 508], [637, 575], [641, 521], [861, 563]],\n",
       "    'bbox': [641, 506, 863, 577]}]},\n",
       " {'file': 'C:/Users/krvet/Desktop/MADE/CV/HW2/contest02_data/data/test\\\\1453.bmp',\n",
       "  'nums': [{'box': [[318, 284], [457, 353], [319, 321], [455, 310]],\n",
       "    'bbox': [320, 283, 459, 353]}]},\n",
       " {'file': 'C:/Users/krvet/Desktop/MADE/CV/HW2/contest02_data/data/test\\\\1454.jpg',\n",
       "  'nums': [{'box': [[345, 715], [519, 797], [348, 766], [516, 747]],\n",
       "    'bbox': [347, 714, 516, 798]}]},\n",
       " {'file': 'C:/Users/krvet/Desktop/MADE/CV/HW2/contest02_data/data/test\\\\1455.bmp',\n",
       "  'nums': [{'box': [[220, 184], [349, 215], [222, 215], [349, 184]],\n",
       "    'bbox': [222, 184, 347, 215]}]},\n",
       " {'file': 'C:/Users/krvet/Desktop/MADE/CV/HW2/contest02_data/data/test\\\\1456.jpg',\n",
       "  'nums': [{'box': [[370, 458], [691, 518], [379, 518], [684, 458]],\n",
       "    'bbox': [375, 455, 686, 519]}]},\n",
       " {'file': 'C:/Users/krvet/Desktop/MADE/CV/HW2/contest02_data/data/test\\\\1457.jpg',\n",
       "  'nums': [{'box': [[634, 408], [505, 437], [506, 413], [633, 435]],\n",
       "    'bbox': [507, 408, 632, 437]}]},\n",
       " {'file': 'C:/Users/krvet/Desktop/MADE/CV/HW2/contest02_data/data/test\\\\1458.bmp',\n",
       "  'nums': [{'box': [[181, 232], [344, 304], [183, 274], [340, 258]],\n",
       "    'bbox': [183, 232, 341, 305]}]},\n",
       " {'file': 'C:/Users/krvet/Desktop/MADE/CV/HW2/contest02_data/data/test\\\\1459.jpg',\n",
       "  'nums': [{'box': [[295, 418], [512, 473], [303, 473], [506, 418]],\n",
       "    'bbox': [297, 416, 508, 474]}]},\n",
       " {'file': 'C:/Users/krvet/Desktop/MADE/CV/HW2/contest02_data/data/test\\\\146.jpg',\n",
       "  'nums': [{'box': [[228, 382], [313, 416], [229, 408], [311, 391]],\n",
       "    'bbox': [229, 382, 312, 416]}]},\n",
       " {'file': 'C:/Users/krvet/Desktop/MADE/CV/HW2/contest02_data/data/test\\\\1460.jpg',\n",
       "  'nums': [{'box': [[538, 677], [790, 731], [543, 731], [784, 675]],\n",
       "    'bbox': [542, 673, 787, 731]}]},\n",
       " {'file': 'C:/Users/krvet/Desktop/MADE/CV/HW2/contest02_data/data/test\\\\1461.jpg',\n",
       "  'nums': [{'box': [[535, 639], [952, 708], [552, 709], [942, 638]],\n",
       "    'bbox': [542, 636, 946, 715]}]},\n",
       " {'file': 'C:/Users/krvet/Desktop/MADE/CV/HW2/contest02_data/data/test\\\\1462.jpg',\n",
       "  'nums': [{'box': [[375, 913], [541, 955], [382, 955], [537, 913]],\n",
       "    'bbox': [377, 909, 539, 955]}]},\n",
       " {'file': 'C:/Users/krvet/Desktop/MADE/CV/HW2/contest02_data/data/test\\\\1463.jpg',\n",
       "  'nums': [{'box': [[469, 804], [654, 840], [469, 843], [654, 802]],\n",
       "    'bbox': [471, 803, 652, 843]}]},\n",
       " {'file': 'C:/Users/krvet/Desktop/MADE/CV/HW2/contest02_data/data/test\\\\1464.bmp',\n",
       "  'nums': [{'box': [[220, 133], [136, 174], [136, 147], [218, 162]],\n",
       "    'bbox': [134, 132, 219, 174]}]},\n",
       " {'file': 'C:/Users/krvet/Desktop/MADE/CV/HW2/contest02_data/data/test\\\\1465.png',\n",
       "  'nums': [{'box': [[521, 734], [614, 756], [520, 756], [612, 733]],\n",
       "    'bbox': [521, 733, 612, 756]}]},\n",
       " {'file': 'C:/Users/krvet/Desktop/MADE/CV/HW2/contest02_data/data/test\\\\1466.jpg',\n",
       "  'nums': [{'box': [[117, 452], [288, 541], [120, 509], [285, 476]],\n",
       "    'bbox': [119, 451, 286, 541]}]},\n",
       " {'file': 'C:/Users/krvet/Desktop/MADE/CV/HW2/contest02_data/data/test\\\\1467.jpg',\n",
       "  'nums': [{'box': [[778, 1373], [1067, 1444], [784, 1434], [1061, 1383]],\n",
       "    'bbox': [782, 1370, 1063, 1444]}]},\n",
       " {'file': 'C:/Users/krvet/Desktop/MADE/CV/HW2/contest02_data/data/test\\\\1468.jpg',\n",
       "  'nums': [{'box': [[366, 407], [568, 453], [369, 453], [562, 411]],\n",
       "    'bbox': [369, 406, 565, 453]}]},\n",
       " {'file': 'C:/Users/krvet/Desktop/MADE/CV/HW2/contest02_data/data/test\\\\1469.bmp',\n",
       "  'nums': [{'box': [[330, 284], [475, 344], [333, 320], [473, 302]],\n",
       "    'bbox': [332, 283, 473, 344]}]},\n",
       " {'file': 'C:/Users/krvet/Desktop/MADE/CV/HW2/contest02_data/data/test\\\\147.jpg',\n",
       "  'nums': [{'box': [[887, 546], [523, 623], [535, 552], [875, 619]],\n",
       "    'bbox': [529, 544, 881, 624]}]},\n",
       " {'file': 'C:/Users/krvet/Desktop/MADE/CV/HW2/contest02_data/data/test\\\\1470.png',\n",
       "  'nums': [{'box': [[1076, 692], [881, 746], [888, 702], [1069, 733]],\n",
       "    'bbox': [884, 690, 1074, 747]},\n",
       "   {'box': [[1265, 468], [1160, 501], [1163, 471], [1261, 498]],\n",
       "    'bbox': [1161, 466, 1264, 500]},\n",
       "   {'box': [[1427, 398], [1512, 420], [1428, 420], [1511, 395]],\n",
       "    'bbox': [1428, 395, 1511, 420]}]},\n",
       " {'file': 'C:/Users/krvet/Desktop/MADE/CV/HW2/contest02_data/data/test\\\\1471.jpg',\n",
       "  'nums': [{'box': [[382, 695], [605, 741], [385, 742], [599, 691]],\n",
       "    'bbox': [386, 692, 602, 742]}]},\n",
       " {'file': 'C:/Users/krvet/Desktop/MADE/CV/HW2/contest02_data/data/test\\\\1472.jpg',\n",
       "  'nums': [{'box': [[816, 736], [1050, 779], [821, 783], [1049, 732]],\n",
       "    'bbox': [819, 733, 1047, 783]}]},\n",
       " {'file': 'C:/Users/krvet/Desktop/MADE/CV/HW2/contest02_data/data/test\\\\1473.jpg',\n",
       "  'nums': [{'box': [[1019, 635], [810, 704], [815, 652], [1012, 694]],\n",
       "    'bbox': [812, 634, 1016, 704]}]},\n",
       " {'file': 'C:/Users/krvet/Desktop/MADE/CV/HW2/contest02_data/data/test\\\\1474.jpg',\n",
       "  'nums': [{'box': [[886, 545], [488, 642], [500, 560], [877, 629]],\n",
       "    'bbox': [494, 542, 880, 643]}]},\n",
       " {'file': 'C:/Users/krvet/Desktop/MADE/CV/HW2/contest02_data/data/test\\\\1475.jpg',\n",
       "  'nums': [{'box': [[265, 539], [396, 596], [270, 582], [395, 556]],\n",
       "    'bbox': [266, 538, 395, 596]}]},\n",
       " {'file': 'C:/Users/krvet/Desktop/MADE/CV/HW2/contest02_data/data/test\\\\1476.jpg',\n",
       "  'nums': [{'box': [[439, 529], [748, 587], [440, 588], [742, 526]],\n",
       "    'bbox': [443, 526, 743, 587]}]},\n",
       " {'file': 'C:/Users/krvet/Desktop/MADE/CV/HW2/contest02_data/data/test\\\\1477.jpg',\n",
       "  'nums': [{'box': [[491, 606], [908, 684], [495, 686], [904, 603]],\n",
       "    'bbox': [497, 604, 902, 685]}]},\n",
       " {'file': 'C:/Users/krvet/Desktop/MADE/CV/HW2/contest02_data/data/test\\\\1478.jpg',\n",
       "  'nums': [{'box': [[729, 1204], [916, 1247], [737, 1243], [913, 1206]],\n",
       "    'bbox': [731, 1201, 913, 1247]}]},\n",
       " {'file': 'C:/Users/krvet/Desktop/MADE/CV/HW2/contest02_data/data/test\\\\1479.jpg',\n",
       "  'nums': [{'box': [[510, 569], [656, 600], [510, 600], [654, 569]],\n",
       "    'bbox': [512, 569, 654, 600]}]},\n",
       " {'file': 'C:/Users/krvet/Desktop/MADE/CV/HW2/contest02_data/data/test\\\\148.jpg',\n",
       "  'nums': [{'box': [[713, 929], [1027, 977], [720, 983], [1022, 918]],\n",
       "    'bbox': [718, 919, 1022, 982]},\n",
       "   {'box': [[1432, 686], [1551, 708], [1432, 713], [1551, 685]],\n",
       "    'bbox': [1433, 685, 1549, 713]}]},\n",
       " {'file': 'C:/Users/krvet/Desktop/MADE/CV/HW2/contest02_data/data/test\\\\1480.bmp',\n",
       "  'nums': [{'box': [[287, 264], [63, 312], [68, 269], [281, 305]],\n",
       "    'bbox': [65, 262, 283, 312]}]},\n",
       " {'file': 'C:/Users/krvet/Desktop/MADE/CV/HW2/contest02_data/data/test\\\\1481.jpg',\n",
       "  'nums': [{'box': [[1556, 838], [1360, 930], [1370, 871], [1553, 894]],\n",
       "    'bbox': [1363, 839, 1553, 930]},\n",
       "   {'box': [[12, 432], [174, 460], [13, 465], [172, 426]],\n",
       "    'bbox': [15, 427, 171, 465]}]},\n",
       " {'file': 'C:/Users/krvet/Desktop/MADE/CV/HW2/contest02_data/data/test\\\\1482.bmp',\n",
       "  'nums': [{'box': [[348, 236], [226, 282], [229, 252], [347, 264]],\n",
       "    'bbox': [227, 234, 347, 283]}]},\n",
       " {'file': 'C:/Users/krvet/Desktop/MADE/CV/HW2/contest02_data/data/test\\\\1483.bmp',\n",
       "  'nums': [{'box': [[584, 154], [374, 228], [381, 182], [581, 196]],\n",
       "    'bbox': [376, 153, 581, 229]}]},\n",
       " {'file': 'C:/Users/krvet/Desktop/MADE/CV/HW2/contest02_data/data/test\\\\1484.jpg',\n",
       "  'nums': [{'box': [[665, 696], [530, 730], [534, 696], [663, 730]],\n",
       "    'bbox': [531, 695, 663, 730]}]},\n",
       " {'file': 'C:/Users/krvet/Desktop/MADE/CV/HW2/contest02_data/data/test\\\\1485.jpg',\n",
       "  'nums': [{'box': [[637, 1061], [1167, 1156], [639, 1161], [1161, 1057]],\n",
       "    'bbox': [645, 1058, 1159, 1160]}]},\n",
       " {'file': 'C:/Users/krvet/Desktop/MADE/CV/HW2/contest02_data/data/test\\\\1486.jpg',\n",
       "  'nums': [{'box': [[326, 612], [609, 677], [330, 673], [601, 609]],\n",
       "    'bbox': [326, 606, 605, 677]}]},\n",
       " {'file': 'C:/Users/krvet/Desktop/MADE/CV/HW2/contest02_data/data/test\\\\1487.jpg',\n",
       "  'nums': [{'box': [[227, 451], [408, 492], [229, 494], [405, 450]],\n",
       "    'bbox': [230, 451, 405, 493]}]},\n",
       " {'file': 'C:/Users/krvet/Desktop/MADE/CV/HW2/contest02_data/data/test\\\\1488.jpg',\n",
       "  'nums': [{'box': [[635, 576], [330, 641], [334, 578], [629, 638]],\n",
       "    'bbox': [335, 574, 630, 642]}]},\n",
       " {'file': 'C:/Users/krvet/Desktop/MADE/CV/HW2/contest02_data/data/test\\\\1489.jpg',\n",
       "  'nums': [{'box': [[129, 830], [349, 909], [138, 899], [345, 841]],\n",
       "    'bbox': [132, 830, 345, 910]}]},\n",
       " {'file': 'C:/Users/krvet/Desktop/MADE/CV/HW2/contest02_data/data/test\\\\149.png',\n",
       "  'nums': [{'box': [[509, 726], [614, 749], [509, 749], [614, 724]],\n",
       "    'bbox': [511, 724, 613, 749]},\n",
       "   {'box': [[1342, 785], [1438, 805], [1341, 808], [1437, 779]],\n",
       "    'bbox': [1342, 779, 1437, 808]}]},\n",
       " {'file': 'C:/Users/krvet/Desktop/MADE/CV/HW2/contest02_data/data/test\\\\1490.bmp',\n",
       "  'nums': [{'box': [[269, 206], [178, 232], [181, 214], [267, 229]],\n",
       "    'bbox': [178, 205, 268, 237]}]},\n",
       " {'file': 'C:/Users/krvet/Desktop/MADE/CV/HW2/contest02_data/data/test\\\\1491.bmp',\n",
       "  'nums': [{'box': [[243, 177], [167, 208], [168, 186], [239, 201]],\n",
       "    'bbox': [167, 177, 242, 209]}]},\n",
       " {'file': 'C:/Users/krvet/Desktop/MADE/CV/HW2/contest02_data/data/test\\\\1492.jpg',\n",
       "  'nums': [{'box': [[260, 253], [448, 294], [264, 294], [444, 253]],\n",
       "    'bbox': [263, 253, 446, 294]}]},\n",
       " {'file': 'C:/Users/krvet/Desktop/MADE/CV/HW2/contest02_data/data/test\\\\1493.jpg',\n",
       "  'nums': [{'box': [[639, 643], [402, 693], [408, 644], [634, 692]],\n",
       "    'bbox': [405, 643, 635, 693]}]},\n",
       " {'file': 'C:/Users/krvet/Desktop/MADE/CV/HW2/contest02_data/data/test\\\\1494.jpg',\n",
       "  'nums': [{'box': [[299, 810], [670, 939], [305, 883], [662, 858]],\n",
       "    'bbox': [304, 806, 664, 941]}]},\n",
       " {'file': 'C:/Users/krvet/Desktop/MADE/CV/HW2/contest02_data/data/test\\\\1495.jpg',\n",
       "  'nums': [{'box': [[704, 1182], [1008, 1245], [710, 1245], [1002, 1180]],\n",
       "    'bbox': [708, 1178, 1004, 1246]}]},\n",
       " {'file': 'C:/Users/krvet/Desktop/MADE/CV/HW2/contest02_data/data/test\\\\1496.jpg',\n",
       "  'nums': [{'box': [[174, 203], [341, 236], [179, 237], [340, 202]],\n",
       "    'bbox': [177, 202, 338, 238]}]},\n",
       " {'file': 'C:/Users/krvet/Desktop/MADE/CV/HW2/contest02_data/data/test\\\\1497.jpg',\n",
       "  'nums': [{'box': [[653, 1160], [845, 1201], [653, 1202], [844, 1159]],\n",
       "    'bbox': [655, 1160, 843, 1202]}]},\n",
       " {'file': 'C:/Users/krvet/Desktop/MADE/CV/HW2/contest02_data/data/test\\\\1498.jpg',\n",
       "  'nums': [{'box': [[149, 845], [308, 907], [154, 891], [299, 858]],\n",
       "    'bbox': [152, 843, 307, 907]}]},\n",
       " {'file': 'C:/Users/krvet/Desktop/MADE/CV/HW2/contest02_data/data/test\\\\1499.jpg',\n",
       "  'nums': [{'box': [[1269, 789], [1041, 877], [1046, 815], [1266, 846]],\n",
       "    'bbox': [1044, 785, 1266, 879]}]},\n",
       " {'file': 'C:/Users/krvet/Desktop/MADE/CV/HW2/contest02_data/data/test\\\\15.jpg',\n",
       "  'nums': [{'box': [[229, 766], [410, 848], [236, 823], [405, 791]],\n",
       "    'bbox': [232, 764, 407, 848]}]},\n",
       " {'file': 'C:/Users/krvet/Desktop/MADE/CV/HW2/contest02_data/data/test\\\\150.bmp',\n",
       "  'nums': [{'box': [[1517, 688], [1248, 820], [1257, 748], [1508, 761]],\n",
       "    'bbox': [1251, 685, 1514, 820]}]},\n",
       " {'file': 'C:/Users/krvet/Desktop/MADE/CV/HW2/contest02_data/data/test\\\\1500.jpg',\n",
       "  'nums': []},\n",
       " {'file': 'C:/Users/krvet/Desktop/MADE/CV/HW2/contest02_data/data/test\\\\1501.bmp',\n",
       "  'nums': [{'box': [[174, 161], [252, 195], [175, 187], [251, 166]],\n",
       "    'bbox': [174, 160, 251, 194]}]},\n",
       " {'file': 'C:/Users/krvet/Desktop/MADE/CV/HW2/contest02_data/data/test\\\\1502.bmp',\n",
       "  'nums': [{'box': [[174, 225], [251, 255], [176, 249], [250, 232]],\n",
       "    'bbox': [174, 225, 251, 255]}]},\n",
       " {'file': 'C:/Users/krvet/Desktop/MADE/CV/HW2/contest02_data/data/test\\\\1503.jpg',\n",
       "  'nums': [{'box': [[120, 700], [373, 790], [128, 773], [370, 721]],\n",
       "    'bbox': [124, 700, 370, 790]}]},\n",
       " {'file': 'C:/Users/krvet/Desktop/MADE/CV/HW2/contest02_data/data/test\\\\1504.jpg',\n",
       "  'nums': [{'box': [[111, 636], [292, 751], [114, 689], [290, 690]],\n",
       "    'bbox': [113, 635, 289, 751]}]},\n",
       " {'file': 'C:/Users/krvet/Desktop/MADE/CV/HW2/contest02_data/data/test\\\\1505.jpg',\n",
       "  'nums': [{'box': [[1045, 648], [623, 749], [628, 662], [1021, 741]],\n",
       "    'bbox': [629, 644, 1038, 753]}]},\n",
       " {'file': 'C:/Users/krvet/Desktop/MADE/CV/HW2/contest02_data/data/test\\\\1506.bmp',\n",
       "  'nums': [{'box': [[203, 262], [310, 295], [205, 289], [307, 262]],\n",
       "    'bbox': [204, 261, 308, 295]}]},\n",
       " {'file': 'C:/Users/krvet/Desktop/MADE/CV/HW2/contest02_data/data/test\\\\1507.jpg',\n",
       "  'nums': [{'box': [[638, 613], [867, 662], [644, 661], [864, 615]],\n",
       "    'bbox': [641, 610, 864, 662]}]},\n",
       " {'file': 'C:/Users/krvet/Desktop/MADE/CV/HW2/contest02_data/data/test\\\\1508.bmp',\n",
       "  'nums': [{'box': [[51, 228], [150, 255], [51, 255], [149, 228]],\n",
       "    'bbox': [53, 228, 148, 255]}]},\n",
       " {'file': 'C:/Users/krvet/Desktop/MADE/CV/HW2/contest02_data/data/test\\\\1509.bmp',\n",
       "  'nums': [{'box': [[263, 260], [175, 281], [176, 260], [263, 281]],\n",
       "    'bbox': [176, 260, 262, 281]},\n",
       "   {'box': [[554, 240], [622, 256], [556, 259], [621, 237]],\n",
       "    'bbox': [555, 237, 621, 258]}]},\n",
       " {'file': 'C:/Users/krvet/Desktop/MADE/CV/HW2/contest02_data/data/test\\\\151.bmp',\n",
       "  'nums': [{'box': [[179, 195], [327, 249], [183, 232], [324, 205]],\n",
       "    'bbox': [181, 193, 325, 249]}]},\n",
       " {'file': 'C:/Users/krvet/Desktop/MADE/CV/HW2/contest02_data/data/test\\\\1510.jpg',\n",
       "  'nums': [{'box': [[673, 761], [1055, 848], [684, 841], [1043, 769]],\n",
       "    'bbox': [679, 760, 1050, 850]},\n",
       "   {'box': [[24, 587], [204, 627], [26, 632], [198, 586]],\n",
       "    'bbox': [26, 586, 201, 631]}]},\n",
       " {'file': 'C:/Users/krvet/Desktop/MADE/CV/HW2/contest02_data/data/test\\\\1511.jpg',\n",
       "  'nums': [{'box': [[1034, 465], [709, 581], [713, 509], [1031, 527]],\n",
       "    'bbox': [713, 454, 1033, 583]}]},\n",
       " {'file': 'C:/Users/krvet/Desktop/MADE/CV/HW2/contest02_data/data/test\\\\1512.jpg',\n",
       "  'nums': [{'box': [[300, 443], [349, 456], [300, 456], [349, 443]],\n",
       "    'bbox': [300, 443, 348, 455]},\n",
       "   {'box': [[408, 517], [458, 533], [410, 532], [455, 519]],\n",
       "    'bbox': [408, 516, 457, 533]},\n",
       "   {'box': [[950, 303], [994, 313], [950, 313], [994, 302]],\n",
       "    'bbox': [951, 303, 994, 313]},\n",
       "   {'box': [[561, 329], [604, 340], [563, 340], [604, 329]],\n",
       "    'bbox': [562, 329, 603, 340]},\n",
       "   {'box': [[431, 252], [466, 262], [432, 262], [466, 252]],\n",
       "    'bbox': [431, 253, 466, 262]},\n",
       "   {'box': [[62, 322], [99, 332], [62, 332], [99, 322]],\n",
       "    'bbox': [62, 322, 98, 332]},\n",
       "   {'box': [[807, 206], [841, 216], [807, 216], [841, 206]],\n",
       "    'bbox': [807, 206, 841, 215]}]},\n",
       " {'file': 'C:/Users/krvet/Desktop/MADE/CV/HW2/contest02_data/data/test\\\\1513.jpg',\n",
       "  'nums': [{'box': [[225, 495], [433, 532], [227, 533], [431, 493]],\n",
       "    'bbox': [228, 492, 430, 533]}]},\n",
       " {'file': 'C:/Users/krvet/Desktop/MADE/CV/HW2/contest02_data/data/test\\\\1514.jpg',\n",
       "  'nums': [{'box': [[900, 611], [614, 679], [621, 615], [896, 674]],\n",
       "    'bbox': [618, 611, 896, 678]}]},\n",
       " {'file': 'C:/Users/krvet/Desktop/MADE/CV/HW2/contest02_data/data/test\\\\1515.jpg',\n",
       "  'nums': [{'box': [[230, 406], [464, 488], [230, 475], [461, 418]],\n",
       "    'bbox': [226, 404, 461, 489]}]},\n",
       " {'file': 'C:/Users/krvet/Desktop/MADE/CV/HW2/contest02_data/data/test\\\\1516.jpg',\n",
       "  'nums': [{'box': [[1500, 1118], [1167, 1208], [1174, 1136], [1492, 1188]],\n",
       "    'bbox': [1171, 1116, 1495, 1208]}]},\n",
       " {'file': 'C:/Users/krvet/Desktop/MADE/CV/HW2/contest02_data/data/test\\\\1517.jpg',\n",
       "  'nums': [{'box': [[552, 491], [368, 537], [372, 493], [549, 536]],\n",
       "    'bbox': [363, 488, 550, 536]},\n",
       "   {'box': [[208, 445], [84, 476], [88, 447], [206, 476]],\n",
       "    'bbox': [85, 443, 205, 476]}]},\n",
       " {'file': 'C:/Users/krvet/Desktop/MADE/CV/HW2/contest02_data/data/test\\\\1518.jpg',\n",
       "  'nums': [{'box': [[467, 639], [663, 675], [468, 676], [662, 635]],\n",
       "    'bbox': [470, 635, 661, 676]}]},\n",
       " {'file': 'C:/Users/krvet/Desktop/MADE/CV/HW2/contest02_data/data/test\\\\1519.bmp',\n",
       "  'nums': [{'box': [[117, 269], [286, 326], [123, 311], [281, 281]],\n",
       "    'bbox': [120, 268, 283, 327]}]},\n",
       " {'file': 'C:/Users/krvet/Desktop/MADE/CV/HW2/contest02_data/data/test\\\\152.jpg',\n",
       "  'nums': [{'box': [[685, 819], [502, 866], [506, 823], [681, 866]],\n",
       "    'bbox': [505, 818, 682, 866]}]},\n",
       " {'file': 'C:/Users/krvet/Desktop/MADE/CV/HW2/contest02_data/data/test\\\\1520.jpg',\n",
       "  'nums': [{'box': [[285, 744], [617, 819], [289, 820], [610, 742]],\n",
       "    'bbox': [290, 743, 611, 820]}]},\n",
       " {'file': 'C:/Users/krvet/Desktop/MADE/CV/HW2/contest02_data/data/test\\\\1521.jpg',\n",
       "  'nums': [{'box': [[710, 410], [994, 471], [713, 475], [992, 406]],\n",
       "    'bbox': [714, 406, 990, 474]}]},\n",
       " {'file': 'C:/Users/krvet/Desktop/MADE/CV/HW2/contest02_data/data/test\\\\1522.jpg',\n",
       "  'nums': [{'box': [[234, 406], [156, 420], [157, 404], [232, 424]],\n",
       "    'bbox': [158, 404, 232, 423]}]},\n",
       " {'file': 'C:/Users/krvet/Desktop/MADE/CV/HW2/contest02_data/data/test\\\\1523.bmp',\n",
       "  'nums': [{'box': [[284, 267], [428, 308], [288, 298], [427, 276]],\n",
       "    'bbox': [286, 265, 426, 308]}]},\n",
       " {'file': 'C:/Users/krvet/Desktop/MADE/CV/HW2/contest02_data/data/test\\\\1524.jpg',\n",
       "  'nums': [{'box': [[516, 656], [605, 674], [517, 674], [602, 655]],\n",
       "    'bbox': [517, 656, 604, 674]}]},\n",
       " {'file': 'C:/Users/krvet/Desktop/MADE/CV/HW2/contest02_data/data/test\\\\1525.jpg',\n",
       "  'nums': [{'box': [[283, 1066], [372, 1115], [286, 1105], [370, 1073]],\n",
       "    'bbox': [284, 1065, 371, 1114]}]},\n",
       " {'file': 'C:/Users/krvet/Desktop/MADE/CV/HW2/contest02_data/data/test\\\\1526.bmp',\n",
       "  'nums': [{'box': [[358, 200], [240, 231], [245, 204], [355, 227]],\n",
       "    'bbox': [242, 199, 356, 231]}]},\n",
       " {'file': 'C:/Users/krvet/Desktop/MADE/CV/HW2/contest02_data/data/test\\\\1527.jpg',\n",
       "  'nums': [{'box': [[288, 470], [498, 508], [289, 513], [497, 466]],\n",
       "    'bbox': [291, 467, 495, 513]}]},\n",
       " {'file': 'C:/Users/krvet/Desktop/MADE/CV/HW2/contest02_data/data/test\\\\1528.jpg',\n",
       "  'nums': [{'box': [[443, 460], [694, 508], [445, 512], [690, 457]],\n",
       "    'bbox': [447, 456, 690, 511]}]},\n",
       " {'file': 'C:/Users/krvet/Desktop/MADE/CV/HW2/contest02_data/data/test\\\\1529.jpg',\n",
       "  'nums': [{'box': [[622, 484], [487, 522], [490, 491], [618, 518]],\n",
       "    'bbox': [489, 484, 620, 522]}]},\n",
       " {'file': 'C:/Users/krvet/Desktop/MADE/CV/HW2/contest02_data/data/test\\\\153.JPG',\n",
       "  'nums': [{'box': [[1396, 1356], [2230, 1529], [1416, 1520], [2213, 1364]],\n",
       "    'bbox': [1409, 1346, 2218, 1533]}]},\n",
       " {'file': 'C:/Users/krvet/Desktop/MADE/CV/HW2/contest02_data/data/test\\\\1530.jpg',\n",
       "  'nums': [{'box': [[1073, 203], [955, 247], [953, 210], [1069, 239]],\n",
       "    'bbox': [952, 200, 1072, 247]}]},\n",
       " {'file': 'C:/Users/krvet/Desktop/MADE/CV/HW2/contest02_data/data/test\\\\1531.jpg',\n",
       "  'nums': [{'box': [[1820, 629], [1534, 714], [1539, 642], [1812, 701]],\n",
       "    'bbox': [1538, 627, 1816, 714]}]},\n",
       " {'file': 'C:/Users/krvet/Desktop/MADE/CV/HW2/contest02_data/data/test\\\\1532.jpg',\n",
       "  'nums': [{'box': [[1271, 797], [1083, 851], [1087, 803], [1267, 849]],\n",
       "    'bbox': [1086, 797, 1268, 851]}]},\n",
       " {'file': 'C:/Users/krvet/Desktop/MADE/CV/HW2/contest02_data/data/test\\\\1533.jpg',\n",
       "  'nums': [{'box': [[207, 580], [490, 629], [217, 630], [481, 578]],\n",
       "    'bbox': [212, 577, 485, 632]}]},\n",
       " {'file': 'C:/Users/krvet/Desktop/MADE/CV/HW2/contest02_data/data/test\\\\1534.jpg',\n",
       "  'nums': [{'box': [[229, 485], [528, 545], [229, 546], [522, 479]],\n",
       "    'bbox': [233, 479, 524, 546]}]},\n",
       " {'file': 'C:/Users/krvet/Desktop/MADE/CV/HW2/contest02_data/data/test\\\\1535.bmp',\n",
       "  'nums': [{'box': [[295, 192], [177, 223], [180, 197], [293, 219]],\n",
       "    'bbox': [178, 190, 293, 222]}]},\n",
       " {'file': 'C:/Users/krvet/Desktop/MADE/CV/HW2/contest02_data/data/test\\\\1536.jpg',\n",
       "  'nums': [{'box': [[959, 901], [1057, 921], [960, 924], [1057, 896]],\n",
       "    'bbox': [960, 896, 1056, 924]}]},\n",
       " {'file': 'C:/Users/krvet/Desktop/MADE/CV/HW2/contest02_data/data/test\\\\1537.jpg',\n",
       "  'nums': [{'box': [[470, 647], [591, 673], [470, 673], [590, 645]],\n",
       "    'bbox': [472, 645, 589, 673]}]},\n",
       " {'file': 'C:/Users/krvet/Desktop/MADE/CV/HW2/contest02_data/data/test\\\\1538.jpg',\n",
       "  'nums': [{'box': [[21, 325], [171, 412], [31, 381], [165, 346]],\n",
       "    'bbox': [22, 324, 169, 412]}]},\n",
       " {'file': 'C:/Users/krvet/Desktop/MADE/CV/HW2/contest02_data/data/test\\\\1539.bmp',\n",
       "  'nums': [{'box': [[62, 213], [305, 263], [67, 264], [303, 212]],\n",
       "    'bbox': [66, 212, 302, 263]}]},\n",
       " {'file': 'C:/Users/krvet/Desktop/MADE/CV/HW2/contest02_data/data/test\\\\154.bmp',\n",
       "  'nums': [{'box': [[126, 192], [290, 229], [134, 228], [284, 192]],\n",
       "    'bbox': [129, 191, 287, 229]}]},\n",
       " {'file': 'C:/Users/krvet/Desktop/MADE/CV/HW2/contest02_data/data/test\\\\1540.jpg',\n",
       "  'nums': [{'box': [[72, 268], [135, 281], [73, 282], [135, 267]],\n",
       "    'bbox': [73, 268, 134, 282]},\n",
       "   {'box': [[288, 226], [330, 236], [288, 236], [329, 225]],\n",
       "    'bbox': [288, 225, 331, 236]}]},\n",
       " {'file': 'C:/Users/krvet/Desktop/MADE/CV/HW2/contest02_data/data/test\\\\1541.jpg',\n",
       "  'nums': [{'box': [[1265, 603], [1119, 663], [1122, 616], [1261, 648]],\n",
       "    'bbox': [1120, 601, 1263, 663]}]},\n",
       " {'file': 'C:/Users/krvet/Desktop/MADE/CV/HW2/contest02_data/data/test\\\\1542.jpg',\n",
       "  'nums': [{'box': [[1352, 625], [1137, 782], [1148, 704], [1348, 694]],\n",
       "    'bbox': [1139, 625, 1349, 782]}]},\n",
       " {'file': 'C:/Users/krvet/Desktop/MADE/CV/HW2/contest02_data/data/test\\\\1543.jpg',\n",
       "  'nums': [{'box': [[318, 712], [594, 767], [324, 769], [587, 708]],\n",
       "    'bbox': [321, 708, 589, 768]}]},\n",
       " {'file': 'C:/Users/krvet/Desktop/MADE/CV/HW2/contest02_data/data/test\\\\1544.jpg',\n",
       "  'nums': [{'box': [[324, 979], [669, 1078], [338, 1054], [655, 996]],\n",
       "    'bbox': [329, 975, 664, 1080]}]},\n",
       " {'file': 'C:/Users/krvet/Desktop/MADE/CV/HW2/contest02_data/data/test\\\\1545.jpg',\n",
       "  'nums': [{'box': [[632, 401], [538, 452], [540, 423], [629, 430]],\n",
       "    'bbox': [540, 400, 631, 451]}]},\n",
       " {'file': 'C:/Users/krvet/Desktop/MADE/CV/HW2/contest02_data/data/test\\\\1546.jpg',\n",
       "  'nums': [{'box': [[170, 430], [325, 460], [174, 460], [320, 421]],\n",
       "    'bbox': [171, 420, 322, 461]}]},\n",
       " {'file': 'C:/Users/krvet/Desktop/MADE/CV/HW2/contest02_data/data/test\\\\1547.jpg',\n",
       "  'nums': [{'box': [[274, 353], [413, 382], [274, 382], [413, 352]],\n",
       "    'bbox': [276, 352, 411, 382]}]},\n",
       " {'file': 'C:/Users/krvet/Desktop/MADE/CV/HW2/contest02_data/data/test\\\\1548.bmp',\n",
       "  'nums': [{'box': [[217, 130], [76, 167], [78, 136], [215, 166]],\n",
       "    'bbox': [78, 130, 215, 166]}]},\n",
       " {'file': 'C:/Users/krvet/Desktop/MADE/CV/HW2/contest02_data/data/test\\\\1549.bmp',\n",
       "  'nums': [{'box': [[131, 252], [330, 280], [132, 290], [329, 248]],\n",
       "    'bbox': [134, 249, 327, 289]}]},\n",
       " {'file': 'C:/Users/krvet/Desktop/MADE/CV/HW2/contest02_data/data/test\\\\155.jpg',\n",
       "  'nums': [{'box': [[356, 291], [257, 311], [259, 292], [353, 312]],\n",
       "    'bbox': [258, 290, 355, 311]},\n",
       "   {'box': [[39, 249], [87, 259], [39, 259], [87, 247]],\n",
       "    'bbox': [39, 247, 87, 258]}]},\n",
       " {'file': 'C:/Users/krvet/Desktop/MADE/CV/HW2/contest02_data/data/test\\\\1551.jpg',\n",
       "  'nums': [{'box': [[1617, 777], [1367, 862], [1368, 799], [1610, 840]],\n",
       "    'bbox': [1370, 774, 1613, 862]}]},\n",
       " {'file': 'C:/Users/krvet/Desktop/MADE/CV/HW2/contest02_data/data/test\\\\1552.jpg',\n",
       "  'nums': [{'box': [[821, 694], [1031, 733], [822, 734], [1029, 687]],\n",
       "    'bbox': [824, 687, 1028, 733]}]},\n",
       " {'file': 'C:/Users/krvet/Desktop/MADE/CV/HW2/contest02_data/data/test\\\\1553.jpg',\n",
       "  'nums': [{'box': [[408, 836], [693, 895], [412, 899], [684, 834]],\n",
       "    'bbox': [412, 835, 688, 899]}]},\n",
       " {'file': 'C:/Users/krvet/Desktop/MADE/CV/HW2/contest02_data/data/test\\\\1554.jpg',\n",
       "  'nums': [{'box': [[1039, 651], [1376, 708], [1040, 718], [1375, 640]],\n",
       "    'bbox': [1044, 640, 1371, 718]}]},\n",
       " {'file': 'C:/Users/krvet/Desktop/MADE/CV/HW2/contest02_data/data/test\\\\1555.jpg',\n",
       "  'nums': [{'box': [[444, 542], [812, 614], [455, 615], [803, 543]],\n",
       "    'bbox': [449, 540, 806, 616]}]},\n",
       " {'file': 'C:/Users/krvet/Desktop/MADE/CV/HW2/contest02_data/data/test\\\\1556.jpg',\n",
       "  'nums': [{'box': [[327, 198], [155, 233], [159, 197], [326, 235]],\n",
       "    'bbox': [158, 197, 325, 235]}]},\n",
       " {'file': 'C:/Users/krvet/Desktop/MADE/CV/HW2/contest02_data/data/test\\\\1557.jpg',\n",
       "  'nums': [{'box': [[690, 572], [824, 605], [690, 605], [824, 572]],\n",
       "    'bbox': [692, 572, 823, 605]}]},\n",
       " {'file': 'C:/Users/krvet/Desktop/MADE/CV/HW2/contest02_data/data/test\\\\1558.jpg',\n",
       "  'nums': [{'box': [[135, 480], [226, 505], [136, 505], [225, 480]],\n",
       "    'bbox': [136, 480, 225, 505]}]},\n",
       " {'file': 'C:/Users/krvet/Desktop/MADE/CV/HW2/contest02_data/data/test\\\\1559.bmp',\n",
       "  'nums': [{'box': [[1570, 1211], [1340, 1298], [1349, 1242], [1563, 1268]],\n",
       "    'bbox': [1343, 1211, 1567, 1299]}]},\n",
       " {'file': 'C:/Users/krvet/Desktop/MADE/CV/HW2/contest02_data/data/test\\\\156.jpg',\n",
       "  'nums': [{'box': [[206, 435], [423, 477], [208, 478], [421, 432]],\n",
       "    'bbox': [210, 433, 419, 478]}]},\n",
       " {'file': 'C:/Users/krvet/Desktop/MADE/CV/HW2/contest02_data/data/test\\\\1560.jpg',\n",
       "  'nums': [{'box': [[1782, 1173], [2303, 1271], [1785, 1274], [2300, 1164]],\n",
       "    'bbox': [1789, 1165, 2295, 1273]}]},\n",
       " {'file': 'C:/Users/krvet/Desktop/MADE/CV/HW2/contest02_data/data/test\\\\1561.jpg',\n",
       "  'nums': [{'box': [[713, 409], [535, 458], [539, 417], [706, 447]],\n",
       "    'bbox': [538, 407, 710, 460]}]},\n",
       " {'file': 'C:/Users/krvet/Desktop/MADE/CV/HW2/contest02_data/data/test\\\\1562.jpg',\n",
       "  'nums': [{'box': [[79, 617], [400, 681], [88, 682], [393, 614]],\n",
       "    'bbox': [84, 613, 395, 682]}]},\n",
       " {'file': 'C:/Users/krvet/Desktop/MADE/CV/HW2/contest02_data/data/test\\\\1564.bmp',\n",
       "  'nums': [{'box': [[176, 229], [65, 265], [68, 229], [173, 263]],\n",
       "    'bbox': [66, 228, 174, 264]}]},\n",
       " {'file': 'C:/Users/krvet/Desktop/MADE/CV/HW2/contest02_data/data/test\\\\1565.jpg',\n",
       "  'nums': [{'box': [[327, 512], [594, 564], [330, 566], [589, 507]],\n",
       "    'bbox': [331, 508, 590, 565]}]},\n",
       " {'file': 'C:/Users/krvet/Desktop/MADE/CV/HW2/contest02_data/data/test\\\\1566.jpg',\n",
       "  'nums': [{'box': [[209, 240], [339, 267], [209, 267], [336, 240]],\n",
       "    'bbox': [211, 240, 337, 267]}]},\n",
       " {'file': 'C:/Users/krvet/Desktop/MADE/CV/HW2/contest02_data/data/test\\\\1567.bmp',\n",
       "  'nums': [{'box': [[226, 178], [117, 216], [118, 190], [223, 208]],\n",
       "    'bbox': [119, 177, 224, 215]}]},\n",
       " {'file': 'C:/Users/krvet/Desktop/MADE/CV/HW2/contest02_data/data/test\\\\1568.jpg',\n",
       "  'nums': [{'box': [[82, 332], [201, 356], [82, 356], [200, 332]],\n",
       "    'bbox': [84, 332, 199, 356]},\n",
       "   {'box': [[748, 352], [867, 372], [748, 373], [867, 349]],\n",
       "    'bbox': [750, 349, 865, 374]}]},\n",
       " {'file': 'C:/Users/krvet/Desktop/MADE/CV/HW2/contest02_data/data/test\\\\1569.jpg',\n",
       "  'nums': [{'box': [[885, 888], [1086, 933], [890, 934], [1081, 887]],\n",
       "    'bbox': [888, 888, 1083, 933]}]},\n",
       " {'file': 'C:/Users/krvet/Desktop/MADE/CV/HW2/contest02_data/data/test\\\\157.bmp',\n",
       "  'nums': [{'box': [[47, 237], [178, 259], [47, 262], [178, 234]],\n",
       "    'bbox': [49, 234, 176, 262]}]},\n",
       " {'file': 'C:/Users/krvet/Desktop/MADE/CV/HW2/contest02_data/data/test\\\\1570.jpg',\n",
       "  'nums': [{'box': [[396, 374], [580, 410], [396, 410], [580, 371]],\n",
       "    'bbox': [398, 371, 577, 409]}]},\n",
       " {'file': 'C:/Users/krvet/Desktop/MADE/CV/HW2/contest02_data/data/test\\\\1571.bmp',\n",
       "  'nums': [{'box': [[144, 244], [292, 276], [145, 276], [292, 244]],\n",
       "    'bbox': [146, 245, 290, 276]}]},\n",
       " {'file': 'C:/Users/krvet/Desktop/MADE/CV/HW2/contest02_data/data/test\\\\1572.jpg',\n",
       "  'nums': [{'box': [[196, 569], [280, 593], [199, 592], [278, 569]],\n",
       "    'bbox': [197, 569, 279, 593]},\n",
       "   {'box': [[344, 607], [420, 635], [345, 632], [419, 610]],\n",
       "    'bbox': [345, 607, 419, 635]},\n",
       "   {'box': [[74, 494], [151, 512], [74, 514], [150, 494]],\n",
       "    'bbox': [74, 494, 149, 514]}]},\n",
       " {'file': 'C:/Users/krvet/Desktop/MADE/CV/HW2/contest02_data/data/test\\\\1573.jpg',\n",
       "  'nums': [{'box': [[1176, 640], [1583, 724], [1183, 725], [1573, 640]],\n",
       "    'bbox': [1182, 637, 1577, 725]}]},\n",
       " {'file': 'C:/Users/krvet/Desktop/MADE/CV/HW2/contest02_data/data/test\\\\1574.jpg',\n",
       "  'nums': [{'box': [[647, 747], [838, 784], [647, 786], [837, 743]],\n",
       "    'bbox': [650, 743, 836, 786]}]},\n",
       " {'file': 'C:/Users/krvet/Desktop/MADE/CV/HW2/contest02_data/data/test\\\\1575.jpg',\n",
       "  'nums': [{'box': [[392, 588], [528, 643], [395, 629], [523, 602]],\n",
       "    'bbox': [393, 586, 528, 646]}]},\n",
       " {'file': 'C:/Users/krvet/Desktop/MADE/CV/HW2/contest02_data/data/test\\\\1576.jpg',\n",
       "  'nums': [{'box': [[1279, 908], [1625, 972], [1281, 979], [1616, 899]],\n",
       "    'bbox': [1284, 900, 1620, 978]}]},\n",
       " {'file': 'C:/Users/krvet/Desktop/MADE/CV/HW2/contest02_data/data/test\\\\1577.jpg',\n",
       "  'nums': [{'box': [[1725, 1014], [1366, 1180], [1374, 1090], [1720, 1099]],\n",
       "    'bbox': [1371, 1013, 1721, 1181]}]},\n",
       " {'file': 'C:/Users/krvet/Desktop/MADE/CV/HW2/contest02_data/data/test\\\\1578.jpg',\n",
       "  'nums': [{'box': [[451, 260], [383, 287], [385, 268], [450, 278]],\n",
       "    'bbox': [383, 260, 450, 287]},\n",
       "   {'box': [[547, 217], [510, 233], [511, 220], [547, 232]],\n",
       "    'bbox': [511, 218, 547, 232]}]},\n",
       " {'file': 'C:/Users/krvet/Desktop/MADE/CV/HW2/contest02_data/data/test\\\\1579.jpg',\n",
       "  'nums': [{'box': [[849, 1007], [505, 1112], [512, 1041], [841, 1078]],\n",
       "    'bbox': [510, 1004, 844, 1112]}]},\n",
       " {'file': 'C:/Users/krvet/Desktop/MADE/CV/HW2/contest02_data/data/test\\\\158.jpg',\n",
       "  'nums': [{'box': [[382, 488], [586, 533], [384, 533], [583, 485]],\n",
       "    'bbox': [385, 485, 583, 534]}]},\n",
       " {'file': 'C:/Users/krvet/Desktop/MADE/CV/HW2/contest02_data/data/test\\\\1580.jpg',\n",
       "  'nums': [{'box': [[604, 540], [932, 621], [615, 615], [924, 553]],\n",
       "    'bbox': [608, 538, 927, 623]}]},\n",
       " {'file': 'C:/Users/krvet/Desktop/MADE/CV/HW2/contest02_data/data/test\\\\1581.jpg',\n",
       "  'nums': [{'box': [[132, 866], [468, 1030], [158, 962], [464, 940]],\n",
       "    'bbox': [136, 864, 463, 1033]}]},\n",
       " {'file': 'C:/Users/krvet/Desktop/MADE/CV/HW2/contest02_data/data/test\\\\1583.bmp',\n",
       "  'nums': [{'box': [[1489, 665], [1069, 819], [1075, 725], [1479, 757]],\n",
       "    'bbox': [1074, 663, 1483, 819]}]},\n",
       " {'file': 'C:/Users/krvet/Desktop/MADE/CV/HW2/contest02_data/data/test\\\\1584.jpg',\n",
       "  'nums': [{'box': [[825, 723], [554, 774], [560, 725], [822, 776]],\n",
       "    'bbox': [557, 720, 821, 775]},\n",
       "   {'box': [[1356, 549], [1480, 573], [1357, 574], [1479, 546]],\n",
       "    'bbox': [1358, 546, 1478, 574]}]},\n",
       " {'file': 'C:/Users/krvet/Desktop/MADE/CV/HW2/contest02_data/data/test\\\\1585.bmp',\n",
       "  'nums': [{'box': [[659, 145], [486, 311], [484, 252], [652, 212]],\n",
       "    'bbox': [482, 146, 657, 313]}]},\n",
       " {'file': 'C:/Users/krvet/Desktop/MADE/CV/HW2/contest02_data/data/test\\\\1586.jpg',\n",
       "  'nums': [{'box': [[2013, 1490], [2192, 1527], [2016, 1531], [2186, 1487]],\n",
       "    'bbox': [2015, 1487, 2190, 1531]}]},\n",
       " {'file': 'C:/Users/krvet/Desktop/MADE/CV/HW2/contest02_data/data/test\\\\1587.jpg',\n",
       "  'nums': [{'box': [[495, 516], [717, 561], [500, 563], [712, 516]],\n",
       "    'bbox': [497, 516, 713, 563]}]},\n",
       " {'file': 'C:/Users/krvet/Desktop/MADE/CV/HW2/contest02_data/data/test\\\\1588.jpg',\n",
       "  'nums': [{'box': [[249, 744], [526, 826], [258, 807], [521, 758]],\n",
       "    'bbox': [254, 740, 522, 829]}]},\n",
       " {'file': 'C:/Users/krvet/Desktop/MADE/CV/HW2/contest02_data/data/test\\\\1589.jpg',\n",
       "  'nums': [{'box': [[736, 916], [874, 945], [736, 945], [874, 916]],\n",
       "    'bbox': [737, 916, 872, 945]}]},\n",
       " {'file': 'C:/Users/krvet/Desktop/MADE/CV/HW2/contest02_data/data/test\\\\159.jpg',\n",
       "  'nums': [{'box': [[459, 678], [722, 780], [465, 743], [721, 707]],\n",
       "    'bbox': [462, 674, 720, 781]}]},\n",
       " {'file': 'C:/Users/krvet/Desktop/MADE/CV/HW2/contest02_data/data/test\\\\1590.jpg',\n",
       "  'nums': [{'box': [[601, 671], [949, 748], [609, 743], [940, 670]],\n",
       "    'bbox': [606, 667, 944, 748]}]},\n",
       " {'file': 'C:/Users/krvet/Desktop/MADE/CV/HW2/contest02_data/data/test\\\\1591.bmp',\n",
       "  'nums': [{'box': [[210, 269], [324, 289], [210, 291], [323, 266]],\n",
       "    'bbox': [212, 266, 322, 291]}]},\n",
       " {'file': 'C:/Users/krvet/Desktop/MADE/CV/HW2/contest02_data/data/test\\\\1592.jpg',\n",
       "  'nums': [{'box': [[488, 617], [231, 682], [237, 632], [482, 668]],\n",
       "    'bbox': [235, 614, 485, 683]}]},\n",
       " {'file': 'C:/Users/krvet/Desktop/MADE/CV/HW2/contest02_data/data/test\\\\1593.jpg',\n",
       "  'nums': [{'box': [[330, 389], [447, 414], [330, 414], [443, 388]],\n",
       "    'bbox': [331, 388, 445, 414]}]},\n",
       " {'file': 'C:/Users/krvet/Desktop/MADE/CV/HW2/contest02_data/data/test\\\\1594.bmp',\n",
       "  'nums': [{'box': [[293, 155], [395, 181], [294, 186], [391, 152]],\n",
       "    'bbox': [295, 152, 393, 186]}]},\n",
       " {'file': 'C:/Users/krvet/Desktop/MADE/CV/HW2/contest02_data/data/test\\\\1595.jpg',\n",
       "  'nums': [{'box': [[259, 465], [423, 496], [260, 497], [421, 459]],\n",
       "    'bbox': [262, 459, 420, 497]}]},\n",
       " {'file': 'C:/Users/krvet/Desktop/MADE/CV/HW2/contest02_data/data/test\\\\1596.jpg',\n",
       "  'nums': [{'box': [[239, 287], [460, 334], [242, 334], [455, 286]],\n",
       "    'bbox': [243, 286, 457, 334]}]},\n",
       " {'file': 'C:/Users/krvet/Desktop/MADE/CV/HW2/contest02_data/data/test\\\\1597.jpg',\n",
       "  'nums': [{'box': [[421, 472], [650, 521], [423, 522], [642, 475]],\n",
       "    'bbox': [424, 472, 646, 522]}]},\n",
       " {'file': 'C:/Users/krvet/Desktop/MADE/CV/HW2/contest02_data/data/test\\\\1598.bmp',\n",
       "  'nums': [{'box': [[142, 142], [291, 173], [142, 173], [291, 141]],\n",
       "    'bbox': [144, 141, 289, 173]}]},\n",
       " {'file': 'C:/Users/krvet/Desktop/MADE/CV/HW2/contest02_data/data/test\\\\1599.jpg',\n",
       "  'nums': [{'box': [[287, 633], [513, 676], [289, 679], [507, 628]],\n",
       "    'bbox': [291, 629, 509, 679]}]},\n",
       " {'file': 'C:/Users/krvet/Desktop/MADE/CV/HW2/contest02_data/data/test\\\\16.jpg',\n",
       "  'nums': [{'box': [[989, 585], [849, 624], [852, 586], [985, 624]],\n",
       "    'bbox': [851, 585, 988, 623]}]},\n",
       " {'file': 'C:/Users/krvet/Desktop/MADE/CV/HW2/contest02_data/data/test\\\\160.jpg',\n",
       "  'nums': [{'box': [[106, 421], [228, 463], [110, 456], [227, 430]],\n",
       "    'bbox': [109, 418, 226, 464]}]},\n",
       " {'file': 'C:/Users/krvet/Desktop/MADE/CV/HW2/contest02_data/data/test\\\\1600.jpeg',\n",
       "  'nums': [{'box': [[78, 144], [176, 164], [79, 161], [175, 144]],\n",
       "    'bbox': [79, 143, 175, 165]}]},\n",
       " {'file': 'C:/Users/krvet/Desktop/MADE/CV/HW2/contest02_data/data/test\\\\1601.bmp',\n",
       "  'nums': [{'box': [[1048, 1009], [1388, 1089], [1059, 1078], [1378, 1021]],\n",
       "    'bbox': [1052, 1008, 1383, 1089]}]},\n",
       " {'file': 'C:/Users/krvet/Desktop/MADE/CV/HW2/contest02_data/data/test\\\\1602.jpg',\n",
       "  'nums': [{'box': [[67, 470], [151, 521], [67, 503], [152, 487]],\n",
       "    'bbox': [67, 469, 151, 521]}]},\n",
       " {'file': 'C:/Users/krvet/Desktop/MADE/CV/HW2/contest02_data/data/test\\\\1603.bmp',\n",
       "  'nums': [{'box': [[390, 268], [512, 315], [392, 297], [510, 280]],\n",
       "    'bbox': [391, 266, 509, 317]},\n",
       "   {'box': [[19, 214], [64, 238], [21, 236], [63, 215]],\n",
       "    'bbox': [19, 214, 63, 238]}]},\n",
       " {'file': 'C:/Users/krvet/Desktop/MADE/CV/HW2/contest02_data/data/test\\\\1604.jpg',\n",
       "  'nums': [{'box': [[1264, 624], [1588, 688], [1265, 693], [1585, 617]],\n",
       "    'bbox': [1268, 617, 1582, 693]}]},\n",
       " {'file': 'C:/Users/krvet/Desktop/MADE/CV/HW2/contest02_data/data/test\\\\1605.jpg',\n",
       "  'nums': [{'box': [[264, 351], [526, 399], [266, 401], [522, 344]],\n",
       "    'bbox': [268, 345, 522, 400]}]},\n",
       " {'file': 'C:/Users/krvet/Desktop/MADE/CV/HW2/contest02_data/data/test\\\\1606.bmp',\n",
       "  'nums': [{'box': [[216, 244], [298, 266], [218, 267], [298, 244]],\n",
       "    'bbox': [217, 244, 297, 266]}]},\n",
       " {'file': 'C:/Users/krvet/Desktop/MADE/CV/HW2/contest02_data/data/test\\\\1607.jpg',\n",
       "  'nums': [{'box': [[623, 570], [765, 616], [626, 603], [763, 583]],\n",
       "    'bbox': [625, 569, 763, 616]}]},\n",
       " {'file': 'C:/Users/krvet/Desktop/MADE/CV/HW2/contest02_data/data/test\\\\1608.jpg',\n",
       "  'nums': [{'box': [[283, 1032], [548, 1229], [295, 1116], [546, 1143]],\n",
       "    'bbox': [286, 1032, 546, 1228]}]},\n",
       " {'file': 'C:/Users/krvet/Desktop/MADE/CV/HW2/contest02_data/data/test\\\\1609.jpg',\n",
       "  'nums': [{'box': [[378, 541], [668, 599], [386, 597], [664, 540]],\n",
       "    'bbox': [382, 540, 664, 599]}]},\n",
       " {'file': 'C:/Users/krvet/Desktop/MADE/CV/HW2/contest02_data/data/test\\\\161.jpg',\n",
       "  'nums': [{'box': [[320, 560], [596, 615], [325, 617], [590, 554]],\n",
       "    'bbox': [324, 554, 592, 616]}]},\n",
       " {'file': 'C:/Users/krvet/Desktop/MADE/CV/HW2/contest02_data/data/test\\\\1610.bmp',\n",
       "  'nums': [{'box': [[520, 1129], [596, 1153], [520, 1153], [596, 1128]],\n",
       "    'bbox': [521, 1128, 595, 1153]}]},\n",
       " {'file': 'C:/Users/krvet/Desktop/MADE/CV/HW2/contest02_data/data/test\\\\1611.bmp',\n",
       "  'nums': [{'box': [[284, 191], [189, 200], [200, 184], [281, 208]],\n",
       "    'bbox': [190, 181, 283, 209]}]},\n",
       " {'file': 'C:/Users/krvet/Desktop/MADE/CV/HW2/contest02_data/data/test\\\\1612.bmp',\n",
       "  'nums': [{'box': [[483, 216], [383, 239], [386, 218], [480, 239]],\n",
       "    'bbox': [385, 215, 482, 239]}]},\n",
       " {'file': 'C:/Users/krvet/Desktop/MADE/CV/HW2/contest02_data/data/test\\\\1613.jpg',\n",
       "  'nums': [{'box': [[419, 533], [632, 575], [419, 576], [629, 532]],\n",
       "    'bbox': [421, 532, 629, 576]},\n",
       "   {'box': [[49, 374], [146, 399], [50, 399], [144, 373]],\n",
       "    'bbox': [51, 373, 145, 399]}]},\n",
       " {'file': 'C:/Users/krvet/Desktop/MADE/CV/HW2/contest02_data/data/test\\\\1614.jpg',\n",
       "  'nums': [{'box': [[1297, 331], [1209, 426], [1203, 375], [1300, 381]],\n",
       "    'bbox': [1202, 332, 1301, 426]}]},\n",
       " {'file': 'C:/Users/krvet/Desktop/MADE/CV/HW2/contest02_data/data/test\\\\1615.jpg',\n",
       "  'nums': [{'box': [[531, 741], [668, 771], [531, 771], [668, 740]],\n",
       "    'bbox': [533, 740, 667, 771]}]},\n",
       " {'file': 'C:/Users/krvet/Desktop/MADE/CV/HW2/contest02_data/data/test\\\\1616.bmp',\n",
       "  'nums': [{'box': [[315, 320], [392, 342], [316, 341], [390, 322]],\n",
       "    'bbox': [316, 319, 390, 343]}]},\n",
       " {'file': 'C:/Users/krvet/Desktop/MADE/CV/HW2/contest02_data/data/test\\\\1617.jpg',\n",
       "  'nums': [{'box': [[885, 395], [770, 442], [774, 411], [879, 427]],\n",
       "    'bbox': [772, 394, 883, 442]}]},\n",
       " {'file': 'C:/Users/krvet/Desktop/MADE/CV/HW2/contest02_data/data/test\\\\1618.jpg',\n",
       "  'nums': [{'box': [[619, 885], [928, 945], [630, 937], [921, 890]],\n",
       "    'bbox': [623, 882, 923, 946]},\n",
       "   {'box': [[137, 532], [262, 558], [140, 558], [260, 533]],\n",
       "    'bbox': [139, 532, 259, 561]}]},\n",
       " {'file': 'C:/Users/krvet/Desktop/MADE/CV/HW2/contest02_data/data/test\\\\1619.png',\n",
       "  'nums': [{'box': [[1258, 736], [1391, 764], [1258, 764], [1390, 732]],\n",
       "    'bbox': [1260, 732, 1389, 764]}]},\n",
       " {'file': 'C:/Users/krvet/Desktop/MADE/CV/HW2/contest02_data/data/test\\\\162.bmp',\n",
       "  'nums': [{'box': [[590, 332], [411, 423], [414, 373], [588, 382]],\n",
       "    'bbox': [413, 333, 588, 424]}]},\n",
       " {'file': 'C:/Users/krvet/Desktop/MADE/CV/HW2/contest02_data/data/test\\\\1620.jpg',\n",
       "  'nums': [{'box': [[295, 668], [387, 689], [298, 690], [387, 668]],\n",
       "    'bbox': [296, 668, 386, 689]}]},\n",
       " {'file': 'C:/Users/krvet/Desktop/MADE/CV/HW2/contest02_data/data/test\\\\1621.bmp',\n",
       "  'nums': [{'box': [[278, 211], [380, 246], [281, 236], [379, 218]],\n",
       "    'bbox': [280, 209, 378, 245]},\n",
       "   {'box': [[64, 180], [129, 195], [65, 196], [126, 179]],\n",
       "    'bbox': [65, 180, 128, 196]}]},\n",
       " {'file': 'C:/Users/krvet/Desktop/MADE/CV/HW2/contest02_data/data/test\\\\1622.jpg',\n",
       "  'nums': [{'box': [[1536, 952], [1190, 1088], [1199, 1009], [1520, 1032]],\n",
       "    'bbox': [1195, 947, 1531, 1094]}]},\n",
       " {'file': 'C:/Users/krvet/Desktop/MADE/CV/HW2/contest02_data/data/test\\\\1623.jpg',\n",
       "  'nums': [{'box': [[465, 655], [717, 704], [468, 706], [714, 649]],\n",
       "    'bbox': [469, 650, 713, 705]}]},\n",
       " {'file': 'C:/Users/krvet/Desktop/MADE/CV/HW2/contest02_data/data/test\\\\1624.bmp',\n",
       "  'nums': [{'box': [[272, 239], [396, 268], [275, 269], [394, 235]],\n",
       "    'bbox': [274, 236, 394, 269]}]},\n",
       " {'file': 'C:/Users/krvet/Desktop/MADE/CV/HW2/contest02_data/data/test\\\\1625.jpg',\n",
       "  'nums': [{'box': [[1034, 692], [727, 773], [732, 707], [1027, 756]],\n",
       "    'bbox': [732, 690, 1029, 774]}]},\n",
       " {'file': 'C:/Users/krvet/Desktop/MADE/CV/HW2/contest02_data/data/test\\\\1626.jpg',\n",
       "  'nums': [{'box': [[416, 537], [873, 624], [419, 626], [866, 526]],\n",
       "    'bbox': [423, 526, 866, 625]}]},\n",
       " {'file': 'C:/Users/krvet/Desktop/MADE/CV/HW2/contest02_data/data/test\\\\1627.jpg',\n",
       "  'nums': [{'box': [[138, 603], [286, 668], [141, 643], [284, 625]],\n",
       "    'bbox': [140, 603, 284, 668]}]},\n",
       " {'file': 'C:/Users/krvet/Desktop/MADE/CV/HW2/contest02_data/data/test\\\\1628.bmp',\n",
       "  'nums': [{'box': [[241, 279], [336, 312], [243, 305], [333, 286]],\n",
       "    'bbox': [242, 279, 335, 312]}]},\n",
       " {'file': 'C:/Users/krvet/Desktop/MADE/CV/HW2/contest02_data/data/test\\\\1629.jpg',\n",
       "  'nums': [{'box': [[269, 345], [346, 372], [271, 365], [345, 355]],\n",
       "    'bbox': [269, 345, 344, 374]}]},\n",
       " {'file': 'C:/Users/krvet/Desktop/MADE/CV/HW2/contest02_data/data/test\\\\163.jpg',\n",
       "  'nums': [{'box': [[288, 543], [440, 591], [295, 586], [436, 549]],\n",
       "    'bbox': [291, 541, 438, 594]},\n",
       "   {'box': [[1440, 498], [1571, 533], [1444, 533], [1568, 499]],\n",
       "    'bbox': [1441, 498, 1569, 533]}]},\n",
       " {'file': 'C:/Users/krvet/Desktop/MADE/CV/HW2/contest02_data/data/test\\\\1630.jpg',\n",
       "  'nums': [{'box': [[352, 737], [500, 777], [353, 778], [499, 733]],\n",
       "    'bbox': [354, 733, 498, 778]}]},\n",
       " {'file': 'C:/Users/krvet/Desktop/MADE/CV/HW2/contest02_data/data/test\\\\1631.bmp',\n",
       "  'nums': [{'box': [[817, 787], [1012, 850], [823, 830], [1008, 802]],\n",
       "    'bbox': [819, 787, 1010, 850]},\n",
       "   {'box': [[135, 732], [264, 781], [141, 769], [262, 742]],\n",
       "    'bbox': [137, 731, 263, 780]}]},\n",
       " {'file': 'C:/Users/krvet/Desktop/MADE/CV/HW2/contest02_data/data/test\\\\1632.jpg',\n",
       "  'nums': [{'box': [[400, 678], [781, 760], [412, 761], [771, 673]],\n",
       "    'bbox': [405, 672, 775, 763]}]},\n",
       " {'file': 'C:/Users/krvet/Desktop/MADE/CV/HW2/contest02_data/data/test\\\\1633.jpg',\n",
       "  'nums': [{'box': [[284, 455], [481, 506], [291, 497], [476, 463]],\n",
       "    'bbox': [286, 454, 478, 509]}]},\n",
       " {'file': 'C:/Users/krvet/Desktop/MADE/CV/HW2/contest02_data/data/test\\\\1634.bmp',\n",
       "  'nums': [{'box': [[271, 192], [377, 217], [271, 218], [376, 190]],\n",
       "    'bbox': [272, 190, 375, 218]}]},\n",
       " {'file': 'C:/Users/krvet/Desktop/MADE/CV/HW2/contest02_data/data/test\\\\1635.jpg',\n",
       "  'nums': [{'box': [[760, 674], [1050, 737], [767, 731], [1044, 680]],\n",
       "    'bbox': [762, 671, 1047, 738]}]},\n",
       " {'file': 'C:/Users/krvet/Desktop/MADE/CV/HW2/contest02_data/data/test\\\\1636.jpg',\n",
       "  'nums': [{'box': [[590, 627], [759, 664], [596, 663], [755, 628]],\n",
       "    'bbox': [592, 626, 756, 666]},\n",
       "   {'box': [[313, 608], [412, 631], [313, 631], [412, 607]],\n",
       "    'bbox': [315, 606, 411, 631]}]},\n",
       " {'file': 'C:/Users/krvet/Desktop/MADE/CV/HW2/contest02_data/data/test\\\\1637.jpg',\n",
       "  'nums': [{'box': [[1401, 809], [1135, 907], [1138, 837], [1394, 877]],\n",
       "    'bbox': [1137, 805, 1397, 909]}]},\n",
       " {'file': 'C:/Users/krvet/Desktop/MADE/CV/HW2/contest02_data/data/test\\\\1638.jpg',\n",
       "  'nums': [{'box': [[166, 759], [402, 819], [179, 812], [393, 770]],\n",
       "    'bbox': [169, 757, 398, 820]}]},\n",
       " {'file': 'C:/Users/krvet/Desktop/MADE/CV/HW2/contest02_data/data/test\\\\1639.jpg',\n",
       "  'nums': [{'box': [[178, 598], [287, 638], [181, 626], [283, 605]],\n",
       "    'bbox': [180, 597, 285, 638]}]},\n",
       " {'file': 'C:/Users/krvet/Desktop/MADE/CV/HW2/contest02_data/data/test\\\\164.jpg',\n",
       "  'nums': [{'box': [[584, 628], [386, 688], [390, 641], [581, 674]],\n",
       "    'bbox': [389, 626, 582, 689]}]},\n",
       " {'file': 'C:/Users/krvet/Desktop/MADE/CV/HW2/contest02_data/data/test\\\\1640.jpg',\n",
       "  'nums': [{'box': [[1418, 680], [1634, 718], [1420, 725], [1631, 671]],\n",
       "    'bbox': [1422, 672, 1630, 724]},\n",
       "   {'box': [[547, 711], [689, 738], [548, 741], [679, 705]],\n",
       "    'bbox': [549, 704, 687, 740]}]},\n",
       " {'file': 'C:/Users/krvet/Desktop/MADE/CV/HW2/contest02_data/data/test\\\\1641.jpg',\n",
       "  'nums': [{'box': [[436, 580], [640, 620], [437, 623], [639, 577]],\n",
       "    'bbox': [439, 577, 637, 622]}]},\n",
       " {'file': 'C:/Users/krvet/Desktop/MADE/CV/HW2/contest02_data/data/test\\\\1642.jpeg',\n",
       "  'nums': [{'box': [[701, 344], [393, 417], [401, 360], [699, 408]],\n",
       "    'bbox': [397, 340, 698, 418]},\n",
       "   {'box': [[889, 434], [807, 452], [808, 439], [887, 448]],\n",
       "    'bbox': [808, 434, 888, 451]}]},\n",
       " {'file': 'C:/Users/krvet/Desktop/MADE/CV/HW2/contest02_data/data/test\\\\1643.jpg',\n",
       "  'nums': [{'box': [[154, 775], [317, 870], [160, 835], [313, 803]],\n",
       "    'bbox': [156, 773, 314, 870]}]},\n",
       " {'file': 'C:/Users/krvet/Desktop/MADE/CV/HW2/contest02_data/data/test\\\\1644.jpg',\n",
       "  'nums': [{'box': [[569, 745], [826, 883], [573, 813], [821, 814]],\n",
       "    'bbox': [572, 745, 823, 884]}]},\n",
       " {'file': 'C:/Users/krvet/Desktop/MADE/CV/HW2/contest02_data/data/test\\\\1645.jpg',\n",
       "  'nums': [{'box': [[1129, 660], [907, 781], [908, 720], [1124, 720]],\n",
       "    'bbox': [909, 659, 1126, 781]}]},\n",
       " {'file': 'C:/Users/krvet/Desktop/MADE/CV/HW2/contest02_data/data/test\\\\1646.bmp',\n",
       "  'nums': [{'box': [[345, 156], [209, 213], [210, 177], [342, 193]],\n",
       "    'bbox': [210, 155, 343, 213]}]},\n",
       " {'file': 'C:/Users/krvet/Desktop/MADE/CV/HW2/contest02_data/data/test\\\\1647.jpg',\n",
       "  'nums': [{'box': [[1376, 496], [1111, 588], [1115, 521], [1383, 562]],\n",
       "    'bbox': [1114, 493, 1381, 589]}]},\n",
       " {'file': 'C:/Users/krvet/Desktop/MADE/CV/HW2/contest02_data/data/test\\\\1648.jpg',\n",
       "  'nums': [{'box': [[383, 585], [598, 649], [394, 641], [592, 591]],\n",
       "    'bbox': [384, 583, 594, 649]}]},\n",
       " {'file': 'C:/Users/krvet/Desktop/MADE/CV/HW2/contest02_data/data/test\\\\1649.jpg',\n",
       "  'nums': [{'box': [[440, 1082], [593, 1109], [441, 1112], [591, 1077]],\n",
       "    'bbox': [442, 1077, 590, 1112]}]},\n",
       " {'file': 'C:/Users/krvet/Desktop/MADE/CV/HW2/contest02_data/data/test\\\\165.bmp',\n",
       "  'nums': [{'box': [[536, 102], [630, 126], [540, 125], [627, 104]],\n",
       "    'bbox': [538, 102, 629, 126]}]},\n",
       " {'file': 'C:/Users/krvet/Desktop/MADE/CV/HW2/contest02_data/data/test\\\\1650.jpg',\n",
       "  'nums': [{'box': [[614, 541], [887, 591], [617, 594], [881, 538]],\n",
       "    'bbox': [618, 539, 882, 593]}]},\n",
       " {'file': 'C:/Users/krvet/Desktop/MADE/CV/HW2/contest02_data/data/test\\\\1651.jpg',\n",
       "  'nums': [{'box': [[1196, 508], [988, 568], [993, 524], [1191, 558]],\n",
       "    'bbox': [989, 501, 1193, 581]}]},\n",
       " {'file': 'C:/Users/krvet/Desktop/MADE/CV/HW2/contest02_data/data/test\\\\1652.jpg',\n",
       "  'nums': [{'box': [[293, 477], [548, 523], [297, 529], [545, 472]],\n",
       "    'bbox': [297, 473, 544, 529]}]},\n",
       " {'file': 'C:/Users/krvet/Desktop/MADE/CV/HW2/contest02_data/data/test\\\\1653.jpg',\n",
       "  'nums': [{'box': [[71, 490], [212, 563], [73, 532], [210, 518]],\n",
       "    'bbox': [72, 491, 211, 562]}]},\n",
       " {'file': 'C:/Users/krvet/Desktop/MADE/CV/HW2/contest02_data/data/test\\\\1654.jpg',\n",
       "  'nums': [{'box': [[521, 926], [871, 856], [878, 935], [517, 834]],\n",
       "    'bbox': [501, 836, 873, 935]}]},\n",
       " {'file': 'C:/Users/krvet/Desktop/MADE/CV/HW2/contest02_data/data/test\\\\1655.jpg',\n",
       "  'nums': [{'box': [[1120, 569], [982, 608], [986, 571], [1117, 612]],\n",
       "    'bbox': [983, 566, 1119, 614]},\n",
       "   {'box': [[1544, 576], [1472, 610], [1476, 582], [1540, 605]],\n",
       "    'bbox': [1472, 574, 1543, 610]}]},\n",
       " {'file': 'C:/Users/krvet/Desktop/MADE/CV/HW2/contest02_data/data/test\\\\1656.jpg',\n",
       "  'nums': [{'box': [[42, 482], [227, 519], [43, 519], [227, 481]],\n",
       "    'bbox': [44, 481, 225, 518]}]},\n",
       " {'file': 'C:/Users/krvet/Desktop/MADE/CV/HW2/contest02_data/data/test\\\\1657.bmp',\n",
       "  'nums': [{'box': [[122, 210], [225, 255], [124, 236], [223, 224]],\n",
       "    'bbox': [124, 210, 223, 254]}]},\n",
       " {'file': 'C:/Users/krvet/Desktop/MADE/CV/HW2/contest02_data/data/test\\\\1658.jpg',\n",
       "  'nums': [{'box': [[980, 586], [696, 646], [703, 589], [973, 650]],\n",
       "    'bbox': [701, 585, 977, 651]}]},\n",
       " {'file': 'C:/Users/krvet/Desktop/MADE/CV/HW2/contest02_data/data/test\\\\1659.jpg',\n",
       "  'nums': [{'box': [[1352, 688], [1179, 790], [1183, 732], [1349, 747]],\n",
       "    'bbox': [1181, 687, 1350, 792]}]},\n",
       " {'file': 'C:/Users/krvet/Desktop/MADE/CV/HW2/contest02_data/data/test\\\\166.jpg',\n",
       "  'nums': []},\n",
       " {'file': 'C:/Users/krvet/Desktop/MADE/CV/HW2/contest02_data/data/test\\\\1660.jpg',\n",
       "  'nums': [{'box': [[439, 434], [663, 531], [452, 485], [659, 473]],\n",
       "    'bbox': [442, 430, 660, 530]}]},\n",
       " {'file': 'C:/Users/krvet/Desktop/MADE/CV/HW2/contest02_data/data/test\\\\1661.jpg',\n",
       "  'nums': [{'box': [[319, 1040], [568, 1157], [330, 1120], [555, 1080]],\n",
       "    'bbox': [323, 1037, 564, 1158]}]},\n",
       " {'file': 'C:/Users/krvet/Desktop/MADE/CV/HW2/contest02_data/data/test\\\\1663.bmp',\n",
       "  'nums': [{'box': [[334, 197], [408, 217], [337, 217], [407, 197]],\n",
       "    'bbox': [334, 195, 407, 217]}]},\n",
       " {'file': 'C:/Users/krvet/Desktop/MADE/CV/HW2/contest02_data/data/test\\\\1664.png',\n",
       "  'nums': []},\n",
       " {'file': 'C:/Users/krvet/Desktop/MADE/CV/HW2/contest02_data/data/test\\\\1665.jpg',\n",
       "  'nums': [{'box': [[372, 502], [749, 587], [395, 587], [742, 506]],\n",
       "    'bbox': [378, 497, 743, 588]}]},\n",
       " {'file': 'C:/Users/krvet/Desktop/MADE/CV/HW2/contest02_data/data/test\\\\1666.jpg',\n",
       "  'nums': [{'box': [[177, 615], [448, 684], [182, 671], [439, 623]],\n",
       "    'bbox': [182, 612, 444, 689]}]},\n",
       " {'file': 'C:/Users/krvet/Desktop/MADE/CV/HW2/contest02_data/data/test\\\\1667.bmp',\n",
       "  'nums': [{'box': [[47, 194], [183, 232], [51, 225], [181, 204]],\n",
       "    'bbox': [49, 194, 182, 231]}]},\n",
       " {'file': 'C:/Users/krvet/Desktop/MADE/CV/HW2/contest02_data/data/test\\\\1668.jpg',\n",
       "  'nums': [{'box': [[495, 818], [804, 890], [508, 887], [795, 827]],\n",
       "    'bbox': [499, 815, 800, 891]}]},\n",
       " {'file': 'C:/Users/krvet/Desktop/MADE/CV/HW2/contest02_data/data/test\\\\1669.jpg',\n",
       "  'nums': [{'box': [[542, 315], [664, 333], [543, 337], [663, 309]],\n",
       "    'bbox': [544, 309, 662, 337]}]},\n",
       " {'file': 'C:/Users/krvet/Desktop/MADE/CV/HW2/contest02_data/data/test\\\\167.jpg',\n",
       "  'nums': [{'box': [[500, 282], [377, 314], [380, 285], [497, 307]],\n",
       "    'bbox': [378, 279, 498, 314]}]},\n",
       " {'file': 'C:/Users/krvet/Desktop/MADE/CV/HW2/contest02_data/data/test\\\\1670.jpg',\n",
       "  'nums': [{'box': [[289, 203], [194, 223], [196, 205], [288, 229]],\n",
       "    'bbox': [195, 202, 288, 229]},\n",
       "   {'box': [[189, 453], [300, 570], [190, 506], [297, 519]],\n",
       "    'bbox': [188, 450, 304, 568]}]},\n",
       " {'file': 'C:/Users/krvet/Desktop/MADE/CV/HW2/contest02_data/data/test\\\\1671.jpg',\n",
       "  'nums': [{'box': [[234, 625], [529, 758], [240, 696], [517, 679]],\n",
       "    'bbox': [238, 620, 526, 760]},\n",
       "   {'box': [[49, 382], [173, 431], [54, 428], [171, 401]],\n",
       "    'bbox': [50, 381, 172, 444]}]},\n",
       " {'file': 'C:/Users/krvet/Desktop/MADE/CV/HW2/contest02_data/data/test\\\\1672.jpg',\n",
       "  'nums': [{'box': [[71, 668], [266, 815], [79, 732], [257, 745]],\n",
       "    'bbox': [72, 667, 264, 814]}]},\n",
       " {'file': 'C:/Users/krvet/Desktop/MADE/CV/HW2/contest02_data/data/test\\\\1673.bmp',\n",
       "  'nums': [{'box': [[183, 225], [316, 288], [191, 266], [311, 243]],\n",
       "    'bbox': [185, 225, 314, 288]}]},\n",
       " {'file': 'C:/Users/krvet/Desktop/MADE/CV/HW2/contest02_data/data/test\\\\1674.jpg',\n",
       "  'nums': [{'box': [[211, 570], [438, 618], [216, 619], [430, 570]],\n",
       "    'bbox': [213, 569, 434, 621]}]},\n",
       " {'file': 'C:/Users/krvet/Desktop/MADE/CV/HW2/contest02_data/data/test\\\\1675.jpg',\n",
       "  'nums': [{'box': [[826, 310], [761, 353], [764, 332], [825, 335]],\n",
       "    'bbox': [761, 311, 826, 354]}]},\n",
       " {'file': 'C:/Users/krvet/Desktop/MADE/CV/HW2/contest02_data/data/test\\\\1676.jpg',\n",
       "  'nums': [{'box': [[678, 614], [940, 668], [681, 669], [938, 611]],\n",
       "    'bbox': [682, 611, 936, 668]},\n",
       "   {'box': [[1207, 500], [1417, 549], [1215, 549], [1413, 495]],\n",
       "    'bbox': [1208, 495, 1413, 549]}]},\n",
       " {'file': 'C:/Users/krvet/Desktop/MADE/CV/HW2/contest02_data/data/test\\\\1677.jpg',\n",
       "  'nums': [{'box': [[1038, 547], [821, 602], [824, 550], [1032, 601]],\n",
       "    'bbox': [824, 544, 1034, 603]}]},\n",
       " {'file': 'C:/Users/krvet/Desktop/MADE/CV/HW2/contest02_data/data/test\\\\1678.jpg',\n",
       "  'nums': [{'box': [[484, 832], [750, 890], [489, 890], [743, 830]],\n",
       "    'bbox': [488, 830, 746, 891]}]},\n",
       " {'file': 'C:/Users/krvet/Desktop/MADE/CV/HW2/contest02_data/data/test\\\\1679.jpg',\n",
       "  'nums': [{'box': [[219, 520], [431, 557], [220, 563], [429, 515]],\n",
       "    'bbox': [222, 516, 428, 562]}]},\n",
       " {'file': 'C:/Users/krvet/Desktop/MADE/CV/HW2/contest02_data/data/test\\\\168.jpg',\n",
       "  'nums': [{'box': [[851, 613], [648, 799], [657, 711], [849, 705]],\n",
       "    'bbox': [651, 612, 852, 799]}]},\n",
       " {'file': 'C:/Users/krvet/Desktop/MADE/CV/HW2/contest02_data/data/test\\\\1680.bmp',\n",
       "  'nums': [{'box': [[1951, 1077], [2294, 1156], [1958, 1159], [2284, 1076]],\n",
       "    'bbox': [1956, 1075, 2289, 1159]},\n",
       "   {'box': [[353, 867], [638, 928], [354, 928], [632, 866]],\n",
       "    'bbox': [357, 864, 634, 927]}]},\n",
       " {'file': 'C:/Users/krvet/Desktop/MADE/CV/HW2/contest02_data/data/test\\\\1681.bmp',\n",
       "  'nums': [{'box': [[240, 148], [373, 191], [243, 178], [369, 161]],\n",
       "    'bbox': [241, 148, 371, 192]}]},\n",
       " {'file': 'C:/Users/krvet/Desktop/MADE/CV/HW2/contest02_data/data/test\\\\1682.jpg',\n",
       "  'nums': [{'box': [[96, 637], [249, 693], [103, 677], [243, 649]],\n",
       "    'bbox': [98, 635, 246, 693]}]},\n",
       " {'file': 'C:/Users/krvet/Desktop/MADE/CV/HW2/contest02_data/data/test\\\\1683.bmp',\n",
       "  'nums': [{'box': [[438, 257], [361, 299], [360, 270], [438, 287]],\n",
       "    'bbox': [361, 256, 438, 299]}]},\n",
       " {'file': 'C:/Users/krvet/Desktop/MADE/CV/HW2/contest02_data/data/test\\\\1684.bmp',\n",
       "  'nums': [{'box': [[405, 174], [264, 213], [269, 180], [401, 213]],\n",
       "    'bbox': [266, 174, 403, 212]}]},\n",
       " {'file': 'C:/Users/krvet/Desktop/MADE/CV/HW2/contest02_data/data/test\\\\1685.jpg',\n",
       "  'nums': [{'box': [[600, 429], [309, 490], [314, 428], [595, 491]],\n",
       "    'bbox': [313, 429, 595, 490]}]},\n",
       " {'file': 'C:/Users/krvet/Desktop/MADE/CV/HW2/contest02_data/data/test\\\\1686.jpg',\n",
       "  'nums': [{'box': [[147, 758], [266, 853], [147, 804], [265, 807]],\n",
       "    'bbox': [141, 755, 264, 853]}]},\n",
       " {'file': 'C:/Users/krvet/Desktop/MADE/CV/HW2/contest02_data/data/test\\\\1687.bmp',\n",
       "  'nums': [{'box': [[337, 225], [486, 261], [345, 260], [483, 225]],\n",
       "    'bbox': [339, 224, 484, 261]}]},\n",
       " {'file': 'C:/Users/krvet/Desktop/MADE/CV/HW2/contest02_data/data/test\\\\1688.bmp',\n",
       "  'nums': [{'box': [[290, 244], [202, 272], [205, 249], [287, 269]],\n",
       "    'bbox': [203, 244, 289, 272]}]},\n",
       " {'file': 'C:/Users/krvet/Desktop/MADE/CV/HW2/contest02_data/data/test\\\\1689.bmp',\n",
       "  'nums': [{'box': [[242, 96], [121, 129], [128, 98], [236, 129]],\n",
       "    'bbox': [122, 95, 240, 129]}]},\n",
       " {'file': 'C:/Users/krvet/Desktop/MADE/CV/HW2/contest02_data/data/test\\\\169.jpg',\n",
       "  'nums': [{'box': [[351, 359], [174, 406], [180, 366], [349, 408]],\n",
       "    'bbox': [178, 359, 349, 408]}]},\n",
       " {'file': 'C:/Users/krvet/Desktop/MADE/CV/HW2/contest02_data/data/test\\\\1690.bmp',\n",
       "  'nums': [{'box': [[261, 195], [160, 230], [161, 209], [259, 217]],\n",
       "    'bbox': [160, 193, 260, 233]}]},\n",
       " {'file': 'C:/Users/krvet/Desktop/MADE/CV/HW2/contest02_data/data/test\\\\1691.jpg',\n",
       "  'nums': [{'box': [[163, 293], [248, 315], [163, 315], [248, 292]],\n",
       "    'bbox': [164, 292, 247, 315]}]},\n",
       " {'file': 'C:/Users/krvet/Desktop/MADE/CV/HW2/contest02_data/data/test\\\\1692.jpg',\n",
       "  'nums': [{'box': [[1834, 976], [1527, 1133], [1530, 1043], [1831, 1062]],\n",
       "    'bbox': [1531, 975, 1830, 1134]}]},\n",
       " {'file': 'C:/Users/krvet/Desktop/MADE/CV/HW2/contest02_data/data/test\\\\1693.bmp',\n",
       "  'nums': [{'box': [[33, 182], [195, 230], [41, 221], [190, 185]],\n",
       "    'bbox': [36, 178, 192, 230]}]},\n",
       " {'file': 'C:/Users/krvet/Desktop/MADE/CV/HW2/contest02_data/data/test\\\\1694.png',\n",
       "  'nums': [{'box': [[904, 483], [1042, 517], [905, 517], [1042, 481]],\n",
       "    'bbox': [905, 482, 1040, 516]}]},\n",
       " {'file': 'C:/Users/krvet/Desktop/MADE/CV/HW2/contest02_data/data/test\\\\1695.bmp',\n",
       "  'nums': [{'box': [[55, 285], [197, 328], [58, 317], [193, 292]],\n",
       "    'bbox': [57, 284, 195, 328]}]},\n",
       " {'file': 'C:/Users/krvet/Desktop/MADE/CV/HW2/contest02_data/data/test\\\\1696.bmp',\n",
       "  'nums': [{'box': [[199, 266], [379, 301], [199, 302], [376, 266]],\n",
       "    'bbox': [202, 266, 376, 302]}]},\n",
       " {'file': 'C:/Users/krvet/Desktop/MADE/CV/HW2/contest02_data/data/test\\\\1697.jpg',\n",
       "  'nums': [{'box': [[531, 468], [407, 494], [410, 471], [529, 493]],\n",
       "    'bbox': [409, 466, 529, 494]}]},\n",
       " {'file': 'C:/Users/krvet/Desktop/MADE/CV/HW2/contest02_data/data/test\\\\1698.jpg',\n",
       "  'nums': [{'box': [[759, 721], [643, 791], [646, 756], [758, 752]],\n",
       "    'bbox': [645, 722, 758, 792]}]},\n",
       " {'file': 'C:/Users/krvet/Desktop/MADE/CV/HW2/contest02_data/data/test\\\\1699.jpg',\n",
       "  'nums': [{'box': [[922, 497], [653, 561], [660, 505], [915, 552]],\n",
       "    'bbox': [657, 494, 917, 562]}]},\n",
       " {'file': 'C:/Users/krvet/Desktop/MADE/CV/HW2/contest02_data/data/test\\\\17.jpg',\n",
       "  'nums': [{'box': [[337, 630], [561, 726], [334, 691], [560, 660]],\n",
       "    'bbox': [332, 623, 564, 728]}]},\n",
       " {'file': 'C:/Users/krvet/Desktop/MADE/CV/HW2/contest02_data/data/test\\\\170.jpg',\n",
       "  'nums': [{'box': [[428, 665], [571, 719], [432, 706], [570, 680]],\n",
       "    'bbox': [430, 665, 569, 719]},\n",
       "   {'box': [[130, 457], [218, 475], [132, 476], [218, 456]],\n",
       "    'bbox': [131, 456, 217, 476]}]},\n",
       " {'file': 'C:/Users/krvet/Desktop/MADE/CV/HW2/contest02_data/data/test\\\\1700.jpg',\n",
       "  'nums': [{'box': [[1327, 530], [1127, 585], [1268, 506], [1179, 619]],\n",
       "    'bbox': [1130, 506, 1325, 619]}]},\n",
       " {'file': 'C:/Users/krvet/Desktop/MADE/CV/HW2/contest02_data/data/test\\\\1701.bmp',\n",
       "  'nums': [{'box': [[825, 724], [1115, 778], [832, 778], [1112, 723]],\n",
       "    'bbox': [829, 724, 1111, 779]}]},\n",
       " {'file': 'C:/Users/krvet/Desktop/MADE/CV/HW2/contest02_data/data/test\\\\1702.jpg',\n",
       "  'nums': [{'box': [[77, 452], [159, 492], [79, 482], [157, 462]],\n",
       "    'bbox': [78, 450, 158, 491]}]},\n",
       " {'file': 'C:/Users/krvet/Desktop/MADE/CV/HW2/contest02_data/data/test\\\\1703.jpg',\n",
       "  'nums': [{'box': [[415, 1204], [678, 1256], [417, 1257], [672, 1201]],\n",
       "    'bbox': [419, 1202, 674, 1256]}]},\n",
       " {'file': 'C:/Users/krvet/Desktop/MADE/CV/HW2/contest02_data/data/test\\\\1704.jpg',\n",
       "  'nums': [{'box': [[1609, 948], [1290, 1073], [1303, 981], [1600, 1034]],\n",
       "    'bbox': [1292, 943, 1604, 1076]}]},\n",
       " {'file': 'C:/Users/krvet/Desktop/MADE/CV/HW2/contest02_data/data/test\\\\1705.jpg',\n",
       "  'nums': [{'box': [[242, 1119], [564, 1273], [255, 1201], [558, 1187]],\n",
       "    'bbox': [246, 1114, 560, 1273]}]},\n",
       " {'file': 'C:/Users/krvet/Desktop/MADE/CV/HW2/contest02_data/data/test\\\\1706.bmp',\n",
       "  'nums': [{'box': [[301, 221], [424, 254], [304, 249], [422, 223]],\n",
       "    'bbox': [302, 218, 423, 253]}]},\n",
       " {'file': 'C:/Users/krvet/Desktop/MADE/CV/HW2/contest02_data/data/test\\\\1707.bmp',\n",
       "  'nums': [{'box': [[419, 200], [581, 242], [426, 236], [578, 207]],\n",
       "    'bbox': [420, 197, 578, 244]}]},\n",
       " {'file': 'C:/Users/krvet/Desktop/MADE/CV/HW2/contest02_data/data/test\\\\1708.bmp',\n",
       "  'nums': [{'box': [[169, 258], [383, 357], [180, 310], [382, 298]],\n",
       "    'bbox': [165, 255, 380, 357]}]},\n",
       " {'file': 'C:/Users/krvet/Desktop/MADE/CV/HW2/contest02_data/data/test\\\\1709.jpg',\n",
       "  'nums': [{'box': [[140, 498], [228, 538], [141, 531], [227, 504]],\n",
       "    'bbox': [141, 498, 227, 538]}]},\n",
       " {'file': 'C:/Users/krvet/Desktop/MADE/CV/HW2/contest02_data/data/test\\\\171.jpg',\n",
       "  'nums': [{'box': [[1089, 747], [840, 830], [849, 773], [1080, 800]],\n",
       "    'bbox': [843, 745, 1085, 831]}]},\n",
       " {'file': 'C:/Users/krvet/Desktop/MADE/CV/HW2/contest02_data/data/test\\\\1710.bmp',\n",
       "  'nums': [{'box': [[476, 224], [634, 258], [483, 254], [630, 223]],\n",
       "    'bbox': [478, 221, 631, 258]}]},\n",
       " {'file': 'C:/Users/krvet/Desktop/MADE/CV/HW2/contest02_data/data/test\\\\1711.bmp',\n",
       "  'nums': [{'box': [[633, 258], [540, 296], [542, 270], [631, 287]],\n",
       "    'bbox': [541, 259, 632, 297]}]},\n",
       " {'file': 'C:/Users/krvet/Desktop/MADE/CV/HW2/contest02_data/data/test\\\\1712.bmp',\n",
       "  'nums': [{'box': [[1330, 582], [1052, 684], [1055, 620], [1322, 649]],\n",
       "    'bbox': [1056, 579, 1326, 685]}]},\n",
       " {'file': 'C:/Users/krvet/Desktop/MADE/CV/HW2/contest02_data/data/test\\\\1713.bmp',\n",
       "  'nums': [{'box': [[38, 179], [149, 200], [38, 202], [149, 174]],\n",
       "    'bbox': [40, 174, 147, 202]}]},\n",
       " {'file': 'C:/Users/krvet/Desktop/MADE/CV/HW2/contest02_data/data/test\\\\1714.bmp',\n",
       "  'nums': [{'box': [[61, 117], [162, 138], [61, 139], [159, 115]],\n",
       "    'bbox': [63, 115, 160, 139]}]},\n",
       " {'file': 'C:/Users/krvet/Desktop/MADE/CV/HW2/contest02_data/data/test\\\\1715.jpg',\n",
       "  'nums': [{'box': [[324, 548], [471, 602], [327, 585], [469, 562]],\n",
       "    'bbox': [326, 546, 469, 602]}]},\n",
       " {'file': 'C:/Users/krvet/Desktop/MADE/CV/HW2/contest02_data/data/test\\\\1716.jpg',\n",
       "  'nums': [{'box': [[237, 271], [426, 310], [241, 309], [424, 271]],\n",
       "    'bbox': [240, 270, 423, 310]}]},\n",
       " {'file': 'C:/Users/krvet/Desktop/MADE/CV/HW2/contest02_data/data/test\\\\1717.jpg',\n",
       "  'nums': [{'box': [[331, 491], [526, 518], [334, 529], [525, 485]],\n",
       "    'bbox': [334, 485, 523, 529]}]},\n",
       " {'file': 'C:/Users/krvet/Desktop/MADE/CV/HW2/contest02_data/data/test\\\\1718.jpg',\n",
       "  'nums': [{'box': [[806, 736], [450, 827], [454, 757], [802, 809]],\n",
       "    'bbox': [452, 734, 801, 828]}]},\n",
       " {'file': 'C:/Users/krvet/Desktop/MADE/CV/HW2/contest02_data/data/test\\\\1719.bmp',\n",
       "  'nums': [{'box': [[274, 231], [199, 259], [200, 236], [269, 254]],\n",
       "    'bbox': [201, 230, 273, 261]}]},\n",
       " {'file': 'C:/Users/krvet/Desktop/MADE/CV/HW2/contest02_data/data/test\\\\172.jpg',\n",
       "  'nums': [{'box': [[581, 651], [913, 721], [593, 721], [905, 652]],\n",
       "    'bbox': [586, 647, 907, 726]}]},\n",
       " {'file': 'C:/Users/krvet/Desktop/MADE/CV/HW2/contest02_data/data/test\\\\1720.bmp',\n",
       "  'nums': [{'box': [[274, 234], [207, 250], [208, 235], [272, 251]],\n",
       "    'bbox': [208, 233, 273, 251]}]},\n",
       " {'file': 'C:/Users/krvet/Desktop/MADE/CV/HW2/contest02_data/data/test\\\\1721.jpg',\n",
       "  'nums': [{'box': [[1098, 670], [702, 779], [707, 695], [1090, 751]],\n",
       "    'bbox': [708, 667, 1093, 780]}]},\n",
       " {'file': 'C:/Users/krvet/Desktop/MADE/CV/HW2/contest02_data/data/test\\\\1722.jpeg',\n",
       "  'nums': [{'box': [[658, 524], [525, 588], [527, 555], [657, 556]],\n",
       "    'bbox': [527, 523, 656, 587]}]},\n",
       " {'file': 'C:/Users/krvet/Desktop/MADE/CV/HW2/contest02_data/data/test\\\\1723.bmp',\n",
       "  'nums': [{'box': [[2403, 1012], [2082, 1077], [2088, 1010], [2397, 1078]],\n",
       "    'bbox': [2087, 1010, 2398, 1078]},\n",
       "   {'box': [[543, 1064], [257, 1127], [265, 1072], [536, 1116]],\n",
       "    'bbox': [261, 1061, 539, 1128]}]},\n",
       " {'file': 'C:/Users/krvet/Desktop/MADE/CV/HW2/contest02_data/data/test\\\\1724.jpg',\n",
       "  'nums': [{'box': [[1076, 562], [557, 664], [565, 559], [1066, 666]],\n",
       "    'bbox': [565, 557, 1068, 665]}]},\n",
       " {'file': 'C:/Users/krvet/Desktop/MADE/CV/HW2/contest02_data/data/test\\\\1725.jpeg',\n",
       "  'nums': [{'box': [[801, 376], [704, 406], [705, 380], [799, 403]],\n",
       "    'bbox': [706, 376, 800, 406]}]},\n",
       " {'file': 'C:/Users/krvet/Desktop/MADE/CV/HW2/contest02_data/data/test\\\\1726.jpg',\n",
       "  'nums': [{'box': [[188, 964], [403, 1015], [195, 1016], [396, 964]],\n",
       "    'bbox': [192, 962, 400, 1017]},\n",
       "   {'box': [[1508, 1056], [1637, 1085], [1510, 1085], [1632, 1054]],\n",
       "    'bbox': [1509, 1052, 1635, 1085]}]},\n",
       " {'file': 'C:/Users/krvet/Desktop/MADE/CV/HW2/contest02_data/data/test\\\\1727.jpg',\n",
       "  'nums': [{'box': [[196, 698], [486, 787], [204, 772], [479, 711]],\n",
       "    'bbox': [200, 696, 482, 787]}]},\n",
       " {'file': 'C:/Users/krvet/Desktop/MADE/CV/HW2/contest02_data/data/test\\\\1728.jpg',\n",
       "  'nums': [{'box': [[859, 703], [1024, 734], [860, 735], [1023, 697]],\n",
       "    'bbox': [861, 698, 1021, 735]}]},\n",
       " {'file': 'C:/Users/krvet/Desktop/MADE/CV/HW2/contest02_data/data/test\\\\1729.bmp',\n",
       "  'nums': [{'box': [[933, 784], [770, 827], [774, 791], [929, 821]],\n",
       "    'bbox': [773, 783, 931, 827]}]},\n",
       " {'file': 'C:/Users/krvet/Desktop/MADE/CV/HW2/contest02_data/data/test\\\\173.bmp',\n",
       "  'nums': [{'box': [[392, 239], [274, 269], [277, 244], [390, 265]],\n",
       "    'bbox': [276, 238, 390, 269]}]},\n",
       " {'file': 'C:/Users/krvet/Desktop/MADE/CV/HW2/contest02_data/data/test\\\\1730.jpg',\n",
       "  'nums': [{'box': [[200, 368], [335, 335], [338, 373], [202, 331]],\n",
       "    'bbox': [198, 331, 336, 373]}]},\n",
       " {'file': 'C:/Users/krvet/Desktop/MADE/CV/HW2/contest02_data/data/test\\\\1731.bmp',\n",
       "  'nums': [{'box': [[279, 292], [188, 343], [187, 312], [279, 320]],\n",
       "    'bbox': [186, 290, 278, 344]}]},\n",
       " {'file': 'C:/Users/krvet/Desktop/MADE/CV/HW2/contest02_data/data/test\\\\1732.jpeg',\n",
       "  'nums': [{'box': [[539, 424], [623, 443], [539, 442], [622, 424]],\n",
       "    'bbox': [540, 424, 623, 443]},\n",
       "   {'box': [[330, 401], [396, 415], [331, 416], [394, 400]],\n",
       "    'bbox': [331, 401, 395, 415]},\n",
       "   {'box': [[18, 369], [73, 381], [19, 381], [72, 367]],\n",
       "    'bbox': [19, 367, 72, 381]}]},\n",
       " {'file': 'C:/Users/krvet/Desktop/MADE/CV/HW2/contest02_data/data/test\\\\1733.bmp',\n",
       "  'nums': [{'box': [[211, 181], [352, 213], [211, 213], [350, 180]],\n",
       "    'bbox': [213, 180, 350, 213]}]},\n",
       " {'file': 'C:/Users/krvet/Desktop/MADE/CV/HW2/contest02_data/data/test\\\\1734.jpg',\n",
       "  'nums': [{'box': [[1172, 634], [1016, 726], [1016, 673], [1169, 684]],\n",
       "    'bbox': [1016, 633, 1171, 725]}]},\n",
       " {'file': 'C:/Users/krvet/Desktop/MADE/CV/HW2/contest02_data/data/test\\\\1735.jpg',\n",
       "  'nums': [{'box': [[249, 251], [383, 280], [249, 280], [382, 251]],\n",
       "    'bbox': [250, 251, 381, 280]}]},\n",
       " {'file': 'C:/Users/krvet/Desktop/MADE/CV/HW2/contest02_data/data/test\\\\1736.jpg',\n",
       "  'nums': [{'box': [[1699, 1001], [1444, 1131], [1447, 1052], [1690, 1078]],\n",
       "    'bbox': [1446, 998, 1697, 1131]}]},\n",
       " {'file': 'C:/Users/krvet/Desktop/MADE/CV/HW2/contest02_data/data/test\\\\1737.jpg',\n",
       "  'nums': [{'box': [[526, 1209], [717, 1252], [527, 1252], [716, 1209]],\n",
       "    'bbox': [529, 1210, 715, 1252]}]},\n",
       " {'file': 'C:/Users/krvet/Desktop/MADE/CV/HW2/contest02_data/data/test\\\\1738.jpg',\n",
       "  'nums': [{'box': [[453, 564], [706, 614], [456, 615], [702, 563]],\n",
       "    'bbox': [457, 562, 702, 614]}]},\n",
       " {'file': 'C:/Users/krvet/Desktop/MADE/CV/HW2/contest02_data/data/test\\\\1739.jpg',\n",
       "  'nums': [{'box': [[786, 471], [716, 550], [716, 503], [785, 516]],\n",
       "    'bbox': [717, 472, 785, 549]}]},\n",
       " {'file': 'C:/Users/krvet/Desktop/MADE/CV/HW2/contest02_data/data/test\\\\174.jpg',\n",
       "  'nums': [{'box': [[188, 397], [395, 439], [192, 439], [390, 396]],\n",
       "    'bbox': [191, 395, 392, 440]}]},\n",
       " {'file': 'C:/Users/krvet/Desktop/MADE/CV/HW2/contest02_data/data/test\\\\1740.jpg',\n",
       "  'nums': [{'box': [[1182, 758], [979, 842], [984, 790], [1177, 809]],\n",
       "    'bbox': [982, 756, 1179, 843]}]},\n",
       " {'file': 'C:/Users/krvet/Desktop/MADE/CV/HW2/contest02_data/data/test\\\\1741.jpg',\n",
       "  'nums': [{'box': [[379, 926], [640, 976], [381, 977], [637, 924]],\n",
       "    'bbox': [383, 925, 636, 976]}]},\n",
       " {'file': 'C:/Users/krvet/Desktop/MADE/CV/HW2/contest02_data/data/test\\\\1742.jpg',\n",
       "  'nums': [{'box': [[701, 661], [941, 706], [707, 707], [939, 659]],\n",
       "    'bbox': [705, 659, 938, 706]}]},\n",
       " {'file': 'C:/Users/krvet/Desktop/MADE/CV/HW2/contest02_data/data/test\\\\1743.jpg',\n",
       "  'nums': [{'box': [[114, 580], [243, 639], [117, 630], [240, 588]],\n",
       "    'bbox': [115, 578, 242, 639]}]},\n",
       " {'file': 'C:/Users/krvet/Desktop/MADE/CV/HW2/contest02_data/data/test\\\\1744.jpg',\n",
       "  'nums': [{'box': [[540, 594], [949, 672], [545, 673], [938, 587]],\n",
       "    'bbox': [546, 587, 943, 673]}]},\n",
       " {'file': 'C:/Users/krvet/Desktop/MADE/CV/HW2/contest02_data/data/test\\\\1745.jpg',\n",
       "  'nums': [{'box': [[698, 958], [982, 1034], [712, 1024], [976, 962]],\n",
       "    'bbox': [699, 943, 978, 1034]}]},\n",
       " {'file': 'C:/Users/krvet/Desktop/MADE/CV/HW2/contest02_data/data/test\\\\1746.jpg',\n",
       "  'nums': [{'box': [[213, 1194], [416, 1249], [216, 1250], [412, 1191]],\n",
       "    'bbox': [216, 1192, 413, 1249]}]},\n",
       " {'file': 'C:/Users/krvet/Desktop/MADE/CV/HW2/contest02_data/data/test\\\\1747.bmp',\n",
       "  'nums': [{'box': [[289, 453], [465, 517], [300, 501], [461, 471]],\n",
       "    'bbox': [291, 454, 461, 519]}]},\n",
       " {'file': 'C:/Users/krvet/Desktop/MADE/CV/HW2/contest02_data/data/test\\\\1748.jpg',\n",
       "  'nums': [{'box': [[384, 614], [649, 674], [390, 666], [644, 619]],\n",
       "    'bbox': [387, 614, 645, 675]}]},\n",
       " {'file': 'C:/Users/krvet/Desktop/MADE/CV/HW2/contest02_data/data/test\\\\1749.jpg',\n",
       "  'nums': [{'box': [[664, 606], [763, 630], [666, 630], [761, 606]],\n",
       "    'bbox': [665, 606, 761, 630]}]},\n",
       " {'file': 'C:/Users/krvet/Desktop/MADE/CV/HW2/contest02_data/data/test\\\\175.jpg',\n",
       "  'nums': [{'box': [[292, 475], [494, 511], [293, 512], [490, 471]],\n",
       "    'bbox': [295, 471, 491, 511]}]},\n",
       " {'file': 'C:/Users/krvet/Desktop/MADE/CV/HW2/contest02_data/data/test\\\\1750.jpg',\n",
       "  'nums': [{'box': [[265, 594], [527, 670], [271, 655], [520, 612]],\n",
       "    'bbox': [268, 592, 523, 671]}]},\n",
       " {'file': 'C:/Users/krvet/Desktop/MADE/CV/HW2/contest02_data/data/test\\\\1751.jpg',\n",
       "  'nums': [{'box': [[276, 598], [601, 738], [286, 690], [595, 631]],\n",
       "    'bbox': [280, 595, 596, 740]}]},\n",
       " {'file': 'C:/Users/krvet/Desktop/MADE/CV/HW2/contest02_data/data/test\\\\1752.jpg',\n",
       "  'nums': [{'box': [[185, 592], [415, 647], [190, 647], [402, 593]],\n",
       "    'bbox': [188, 592, 411, 648]}]},\n",
       " {'file': 'C:/Users/krvet/Desktop/MADE/CV/HW2/contest02_data/data/test\\\\1753.jpg',\n",
       "  'nums': [{'box': [[404, 562], [522, 589], [405, 590], [521, 560]],\n",
       "    'bbox': [406, 560, 520, 590]}]},\n",
       " {'file': 'C:/Users/krvet/Desktop/MADE/CV/HW2/contest02_data/data/test\\\\1754.bmp',\n",
       "  'nums': [{'box': [[202, 209], [270, 226], [204, 228], [269, 207]],\n",
       "    'bbox': [204, 207, 269, 228]}]},\n",
       " {'file': 'C:/Users/krvet/Desktop/MADE/CV/HW2/contest02_data/data/test\\\\1755.jpg',\n",
       "  'nums': [{'box': [[347, 222], [460, 245], [347, 245], [460, 221]],\n",
       "    'bbox': [349, 220, 458, 245]}]},\n",
       " {'file': 'C:/Users/krvet/Desktop/MADE/CV/HW2/contest02_data/data/test\\\\1756.jpg',\n",
       "  'nums': [{'box': [[1079, 770], [792, 841], [800, 779], [1072, 833]],\n",
       "    'bbox': [796, 769, 1075, 842]}]},\n",
       " {'file': 'C:/Users/krvet/Desktop/MADE/CV/HW2/contest02_data/data/test\\\\1757.jpg',\n",
       "  'nums': [{'box': [[976, 836], [1296, 902], [983, 903], [1288, 836]],\n",
       "    'bbox': [981, 835, 1291, 904]}]},\n",
       " {'file': 'C:/Users/krvet/Desktop/MADE/CV/HW2/contest02_data/data/test\\\\1758.bmp',\n",
       "  'nums': [{'box': [[205, 263], [130, 299], [130, 275], [203, 284]],\n",
       "    'bbox': [130, 262, 203, 299]}]},\n",
       " {'file': 'C:/Users/krvet/Desktop/MADE/CV/HW2/contest02_data/data/test\\\\1759.jpg',\n",
       "  'nums': [{'box': [[760, 459], [1029, 514], [765, 517], [1022, 455]],\n",
       "    'bbox': [764, 455, 1025, 517]}]},\n",
       " {'file': 'C:/Users/krvet/Desktop/MADE/CV/HW2/contest02_data/data/test\\\\176.jpg',\n",
       "  'nums': [{'box': [[1076, 736], [857, 829], [866, 770], [1071, 793]],\n",
       "    'bbox': [859, 733, 1073, 830]}]},\n",
       " {'file': 'C:/Users/krvet/Desktop/MADE/CV/HW2/contest02_data/data/test\\\\1760.bmp',\n",
       "  'nums': [{'box': [[348, 185], [127, 257], [140, 205], [342, 243]],\n",
       "    'bbox': [130, 183, 345, 258]}]},\n",
       " {'file': 'C:/Users/krvet/Desktop/MADE/CV/HW2/contest02_data/data/test\\\\1761.jpg',\n",
       "  'nums': [{'box': [[1214, 734], [1032, 845], [1034, 792], [1210, 792]],\n",
       "    'bbox': [1034, 733, 1212, 844]}]},\n",
       " {'file': 'C:/Users/krvet/Desktop/MADE/CV/HW2/contest02_data/data/test\\\\1762.jpg',\n",
       "  'nums': [{'box': [[506, 726], [262, 779], [268, 728], [503, 779]],\n",
       "    'bbox': [266, 724, 503, 779]},\n",
       "   {'box': [[1477, 650], [1372, 679], [1377, 654], [1475, 680]],\n",
       "    'bbox': [1373, 649, 1475, 680]}]},\n",
       " {'file': 'C:/Users/krvet/Desktop/MADE/CV/HW2/contest02_data/data/test\\\\1763.jpg',\n",
       "  'nums': [{'box': [[540, 784], [277, 837], [291, 783], [532, 839]],\n",
       "    'bbox': [281, 782, 536, 839]},\n",
       "   {'box': [[1181, 652], [1317, 677], [1181, 678], [1316, 648]],\n",
       "    'bbox': [1183, 649, 1315, 678]}]},\n",
       " {'file': 'C:/Users/krvet/Desktop/MADE/CV/HW2/contest02_data/data/test\\\\1764.jpg',\n",
       "  'nums': [{'box': [[841, 496], [472, 582], [476, 508], [837, 574]],\n",
       "    'bbox': [477, 492, 835, 583]}]},\n",
       " {'file': 'C:/Users/krvet/Desktop/MADE/CV/HW2/contest02_data/data/test\\\\1765.jpg',\n",
       "  'nums': [{'box': [[231, 1023], [634, 1231], [245, 1106], [632, 1133]],\n",
       "    'bbox': [233, 1019, 630, 1235]}]},\n",
       " {'file': 'C:/Users/krvet/Desktop/MADE/CV/HW2/contest02_data/data/test\\\\1766.jpg',\n",
       "  'nums': [{'box': [[500, 412], [622, 435], [501, 435], [621, 409]],\n",
       "    'bbox': [502, 409, 619, 435]}]},\n",
       " {'file': 'C:/Users/krvet/Desktop/MADE/CV/HW2/contest02_data/data/test\\\\1767.jpg',\n",
       "  'nums': [{'box': [[657, 841], [478, 885], [483, 844], [652, 884]],\n",
       "    'bbox': [481, 841, 655, 885]}]},\n",
       " {'file': 'C:/Users/krvet/Desktop/MADE/CV/HW2/contest02_data/data/test\\\\1768.jpg',\n",
       "  'nums': [{'box': [[203, 214], [295, 259], [206, 238], [292, 231]],\n",
       "    'bbox': [204, 214, 294, 259]}]},\n",
       " {'file': 'C:/Users/krvet/Desktop/MADE/CV/HW2/contest02_data/data/test\\\\1769.bmp',\n",
       "  'nums': [{'box': [[241, 236], [150, 260], [151, 243], [237, 263]],\n",
       "    'bbox': [151, 235, 240, 267]}]},\n",
       " {'file': 'C:/Users/krvet/Desktop/MADE/CV/HW2/contest02_data/data/test\\\\177.jpg',\n",
       "  'nums': [{'box': [[423, 625], [742, 685], [424, 686], [735, 619]],\n",
       "    'bbox': [428, 619, 737, 686]}]},\n",
       " {'file': 'C:/Users/krvet/Desktop/MADE/CV/HW2/contest02_data/data/test\\\\1770.jpeg',\n",
       "  'nums': [{'box': [[131, 166], [186, 178], [131, 178], [185, 165]],\n",
       "    'bbox': [132, 165, 185, 177]}]},\n",
       " {'file': 'C:/Users/krvet/Desktop/MADE/CV/HW2/contest02_data/data/test\\\\1771.bmp',\n",
       "  'nums': [{'box': [[374, 165], [187, 211], [189, 166], [373, 217]],\n",
       "    'bbox': [190, 165, 372, 216]}]},\n",
       " {'file': 'C:/Users/krvet/Desktop/MADE/CV/HW2/contest02_data/data/test\\\\1772.jpg',\n",
       "  'nums': [{'box': [[323, 741], [610, 806], [330, 803], [604, 741]],\n",
       "    'bbox': [327, 739, 606, 806]}]},\n",
       " {'file': 'C:/Users/krvet/Desktop/MADE/CV/HW2/contest02_data/data/test\\\\1773.bmp',\n",
       "  'nums': [{'box': [[416, 169], [272, 216], [274, 185], [414, 201]],\n",
       "    'bbox': [274, 168, 415, 217]}]},\n",
       " {'file': 'C:/Users/krvet/Desktop/MADE/CV/HW2/contest02_data/data/test\\\\1774.jpg',\n",
       "  'nums': [{'box': [[619, 839], [941, 910], [627, 911], [931, 841]],\n",
       "    'bbox': [623, 839, 936, 912]}]},\n",
       " {'file': 'C:/Users/krvet/Desktop/MADE/CV/HW2/contest02_data/data/test\\\\1775.jpg',\n",
       "  'nums': [{'box': [[178, 321], [243, 362], [177, 350], [243, 334]],\n",
       "    'bbox': [175, 320, 243, 363]}]},\n",
       " {'file': 'C:/Users/krvet/Desktop/MADE/CV/HW2/contest02_data/data/test\\\\1776.jpg',\n",
       "  'nums': [{'box': [[330, 668], [577, 727], [337, 722], [572, 674]],\n",
       "    'bbox': [333, 666, 573, 727]}]},\n",
       " {'file': 'C:/Users/krvet/Desktop/MADE/CV/HW2/contest02_data/data/test\\\\1777.bmp',\n",
       "  'nums': [{'box': [[293, 131], [451, 167], [297, 165], [448, 129]],\n",
       "    'bbox': [295, 130, 448, 167]}]},\n",
       " {'file': 'C:/Users/krvet/Desktop/MADE/CV/HW2/contest02_data/data/test\\\\1779.jpg',\n",
       "  'nums': [{'box': [[3898, 1409], [3401, 1572], [3411, 1456], [3887, 1548]],\n",
       "    'bbox': [3406, 1408, 3892, 1575]},\n",
       "   {'box': [[967, 1031], [744, 1098], [750, 1044], [962, 1086]],\n",
       "    'bbox': [748, 1027, 964, 1098]}]},\n",
       " {'file': 'C:/Users/krvet/Desktop/MADE/CV/HW2/contest02_data/data/test\\\\178.png',\n",
       "  'nums': [{'box': [[1713, 399], [1623, 426], [1625, 402], [1712, 426]],\n",
       "    'bbox': [1624, 399, 1712, 426]},\n",
       "   {'box': [[692, 368], [769, 386], [694, 387], [769, 364]],\n",
       "    'bbox': [692, 363, 768, 386]}]},\n",
       " {'file': 'C:/Users/krvet/Desktop/MADE/CV/HW2/contest02_data/data/test\\\\1780.jpg',\n",
       "  'nums': [{'box': [[1421, 641], [1204, 710], [1190, 654], [1433, 708]],\n",
       "    'bbox': [1193, 643, 1435, 708]}]},\n",
       " {'file': 'C:/Users/krvet/Desktop/MADE/CV/HW2/contest02_data/data/test\\\\1781.bmp',\n",
       "  'nums': [{'box': [[286, 200], [230, 241], [228, 214], [285, 225]],\n",
       "    'bbox': [228, 200, 285, 241]},\n",
       "   {'box': [[346, 128], [279, 145], [282, 130], [345, 146]],\n",
       "    'bbox': [281, 128, 344, 146]}]},\n",
       " {'file': 'C:/Users/krvet/Desktop/MADE/CV/HW2/contest02_data/data/test\\\\1782.jpg',\n",
       "  'nums': [{'box': [[1024, 530], [783, 588], [787, 537], [1017, 583]],\n",
       "    'bbox': [786, 530, 1021, 588]}]},\n",
       " {'file': 'C:/Users/krvet/Desktop/MADE/CV/HW2/contest02_data/data/test\\\\1783.jpg',\n",
       "  'nums': [{'box': [[851, 525], [720, 595], [721, 554], [850, 563]],\n",
       "    'bbox': [722, 525, 849, 595]}]},\n",
       " {'file': 'C:/Users/krvet/Desktop/MADE/CV/HW2/contest02_data/data/test\\\\1784.bmp',\n",
       "  'nums': [{'box': [[59, 55], [231, 114], [64, 91], [229, 71]],\n",
       "    'bbox': [61, 51, 229, 114]}]},\n",
       " {'file': 'C:/Users/krvet/Desktop/MADE/CV/HW2/contest02_data/data/test\\\\1785.jpg',\n",
       "  'nums': [{'box': [[558, 556], [681, 577], [559, 580], [679, 551]],\n",
       "    'bbox': [560, 551, 679, 580]}]},\n",
       " {'file': 'C:/Users/krvet/Desktop/MADE/CV/HW2/contest02_data/data/test\\\\1786.jpg',\n",
       "  'nums': [{'box': [[1071, 739], [735, 826], [740, 754], [1063, 806]],\n",
       "    'bbox': [740, 736, 1066, 826]}]},\n",
       " {'file': 'C:/Users/krvet/Desktop/MADE/CV/HW2/contest02_data/data/test\\\\1787.jpg',\n",
       "  'nums': [{'box': [[310, 889], [496, 928], [311, 930], [494, 886]],\n",
       "    'bbox': [313, 886, 493, 929]}]},\n",
       " {'file': 'C:/Users/krvet/Desktop/MADE/CV/HW2/contest02_data/data/test\\\\1788.bmp',\n",
       "  'nums': [{'box': [[306, 293], [409, 342], [310, 328], [409, 305]],\n",
       "    'bbox': [308, 293, 408, 342]}]},\n",
       " {'file': 'C:/Users/krvet/Desktop/MADE/CV/HW2/contest02_data/data/test\\\\1789.jpg',\n",
       "  'nums': [{'box': [[1364, 626], [1202, 674], [1209, 629], [1356, 673]],\n",
       "    'bbox': [1205, 624, 1361, 674]}]},\n",
       " {'file': 'C:/Users/krvet/Desktop/MADE/CV/HW2/contest02_data/data/test\\\\179.jpg',\n",
       "  'nums': [{'box': [[159, 368], [363, 420], [170, 411], [362, 376]],\n",
       "    'bbox': [162, 366, 360, 420]},\n",
       "   {'box': [[79, 105], [6, 127], [10, 107], [77, 127]],\n",
       "    'bbox': [7, 104, 77, 127]}]},\n",
       " {'file': 'C:/Users/krvet/Desktop/MADE/CV/HW2/contest02_data/data/test\\\\1790.bmp',\n",
       "  'nums': [{'box': [[244, 250], [427, 311], [255, 296], [424, 264]],\n",
       "    'bbox': [246, 250, 424, 311]}]},\n",
       " {'file': 'C:/Users/krvet/Desktop/MADE/CV/HW2/contest02_data/data/test\\\\1791.jpg',\n",
       "  'nums': [{'box': [[653, 851], [1010, 949], [658, 950], [1000, 850]],\n",
       "    'bbox': [659, 846, 1005, 949]}]},\n",
       " {'file': 'C:/Users/krvet/Desktop/MADE/CV/HW2/contest02_data/data/test\\\\1792.jpg',\n",
       "  'nums': [{'box': [[556, 809], [912, 880], [568, 877], [903, 810]],\n",
       "    'bbox': [560, 805, 907, 881]}]},\n",
       " {'file': 'C:/Users/krvet/Desktop/MADE/CV/HW2/contest02_data/data/test\\\\1793.jpg',\n",
       "  'nums': [{'box': [[534, 677], [864, 743], [537, 745], [857, 674]],\n",
       "    'bbox': [539, 674, 859, 745]}]},\n",
       " {'file': 'C:/Users/krvet/Desktop/MADE/CV/HW2/contest02_data/data/test\\\\1794.jpg',\n",
       "  'nums': [{'box': [[589, 816], [411, 887], [412, 846], [586, 862]],\n",
       "    'bbox': [414, 816, 586, 888]}]},\n",
       " {'file': 'C:/Users/krvet/Desktop/MADE/CV/HW2/contest02_data/data/test\\\\1795.jpg',\n",
       "  'nums': []},\n",
       " {'file': 'C:/Users/krvet/Desktop/MADE/CV/HW2/contest02_data/data/test\\\\1796.jpg',\n",
       "  'nums': [{'box': [[185, 601], [261, 619], [185, 619], [259, 600]],\n",
       "    'bbox': [186, 601, 260, 618]}]},\n",
       " {'file': 'C:/Users/krvet/Desktop/MADE/CV/HW2/contest02_data/data/test\\\\1797.jpg',\n",
       "  'nums': [{'box': [[1172, 1238], [895, 1288], [905, 1234], [1168, 1294]],\n",
       "    'bbox': [900, 1233, 1168, 1293]},\n",
       "   {'box': [[943, 669], [1221, 723], [945, 725], [1215, 668]],\n",
       "    'bbox': [946, 667, 1217, 725]}]},\n",
       " {'file': 'C:/Users/krvet/Desktop/MADE/CV/HW2/contest02_data/data/test\\\\1798.bmp',\n",
       "  'nums': [{'box': [[238, 184], [145, 231], [142, 205], [237, 211]],\n",
       "    'bbox': [142, 183, 238, 232]}]},\n",
       " {'file': 'C:/Users/krvet/Desktop/MADE/CV/HW2/contest02_data/data/test\\\\1799.jpg',\n",
       "  'nums': [{'box': [[1401, 894], [1171, 944], [1179, 892], [1396, 943]],\n",
       "    'bbox': [1174, 891, 1397, 945]}]},\n",
       " {'file': 'C:/Users/krvet/Desktop/MADE/CV/HW2/contest02_data/data/test\\\\18.jpg',\n",
       "  'nums': [{'box': [[1917, 608], [1747, 721], [1751, 645], [1914, 681]],\n",
       "    'bbox': [1748, 609, 1916, 721]}]},\n",
       " {'file': 'C:/Users/krvet/Desktop/MADE/CV/HW2/contest02_data/data/test\\\\180.jpg',\n",
       "  'nums': [{'box': [[253, 906], [710, 968], [282, 975], [705, 899]],\n",
       "    'bbox': [259, 899, 703, 975]}]},\n",
       " {'file': 'C:/Users/krvet/Desktop/MADE/CV/HW2/contest02_data/data/test\\\\1800.jpg',\n",
       "  'nums': [{'box': [[651, 679], [914, 742], [659, 738], [905, 686]],\n",
       "    'bbox': [655, 678, 910, 743]}]},\n",
       " {'file': 'C:/Users/krvet/Desktop/MADE/CV/HW2/contest02_data/data/test\\\\1801.jpg',\n",
       "  'nums': [{'box': [[697, 919], [810, 949], [700, 945], [806, 922]],\n",
       "    'bbox': [699, 917, 808, 948]}]},\n",
       " {'file': 'C:/Users/krvet/Desktop/MADE/CV/HW2/contest02_data/data/test\\\\1802.jpg',\n",
       "  'nums': [{'box': [[700, 518], [547, 566], [550, 529], [695, 556]],\n",
       "    'bbox': [549, 517, 698, 566]}]},\n",
       " {'file': 'C:/Users/krvet/Desktop/MADE/CV/HW2/contest02_data/data/test\\\\1803.jpg',\n",
       "  'nums': [{'box': [[1462, 799], [1275, 841], [1279, 797], [1459, 842]],\n",
       "    'bbox': [1278, 797, 1460, 841]}]},\n",
       " {'file': 'C:/Users/krvet/Desktop/MADE/CV/HW2/contest02_data/data/test\\\\1804.jpg',\n",
       "  'nums': [{'box': [[398, 1036], [552, 1069], [398, 1069], [550, 1034]],\n",
       "    'bbox': [400, 1034, 549, 1068]}]},\n",
       " {'file': 'C:/Users/krvet/Desktop/MADE/CV/HW2/contest02_data/data/test\\\\1805.jpg',\n",
       "  'nums': [{'box': [[318, 523], [577, 576], [325, 577], [571, 523]],\n",
       "    'bbox': [322, 520, 573, 577]}]},\n",
       " {'file': 'C:/Users/krvet/Desktop/MADE/CV/HW2/contest02_data/data/test\\\\1806.jpg',\n",
       "  'nums': [{'box': [[1134, 813], [758, 892], [766, 813], [1129, 893]],\n",
       "    'bbox': [763, 808, 1128, 893]}]},\n",
       " {'file': 'C:/Users/krvet/Desktop/MADE/CV/HW2/contest02_data/data/test\\\\1807.bmp',\n",
       "  'nums': [{'box': [[262, 224], [109, 272], [114, 239], [259, 258]],\n",
       "    'bbox': [111, 224, 260, 273]}]},\n",
       " {'file': 'C:/Users/krvet/Desktop/MADE/CV/HW2/contest02_data/data/test\\\\1808.jpg',\n",
       "  'nums': [{'box': [[575, 643], [902, 714], [583, 714], [894, 641]],\n",
       "    'bbox': [579, 641, 898, 714]}]},\n",
       " {'file': 'C:/Users/krvet/Desktop/MADE/CV/HW2/contest02_data/data/test\\\\1809.jpg',\n",
       "  'nums': [{'box': [[821, 366], [726, 442], [729, 406], [819, 401]],\n",
       "    'bbox': [728, 367, 820, 441]}]},\n",
       " {'file': 'C:/Users/krvet/Desktop/MADE/CV/HW2/contest02_data/data/test\\\\181.jpg',\n",
       "  'nums': [{'box': [[628, 144], [718, 164], [630, 165], [716, 143]],\n",
       "    'bbox': [630, 144, 717, 165]},\n",
       "   {'box': [[130, 511], [204, 527], [133, 529], [203, 510]],\n",
       "    'bbox': [130, 511, 202, 528]},\n",
       "   {'box': [[103, 192], [189, 216], [106, 216], [186, 195]],\n",
       "    'bbox': [104, 191, 188, 216]},\n",
       "   {'box': [[830, 509], [878, 523], [832, 523], [877, 508]],\n",
       "    'bbox': [831, 508, 877, 522]}]},\n",
       " {'file': 'C:/Users/krvet/Desktop/MADE/CV/HW2/contest02_data/data/test\\\\1810.bmp',\n",
       "  'nums': [{'box': [[315, 579], [473, 687], [317, 647], [472, 620]],\n",
       "    'bbox': [316, 578, 472, 687]}]},\n",
       " {'file': 'C:/Users/krvet/Desktop/MADE/CV/HW2/contest02_data/data/test\\\\1811.jpg',\n",
       "  'nums': [{'box': [[573, 507], [787, 549], [575, 550], [784, 506]],\n",
       "    'bbox': [577, 507, 784, 549]}]},\n",
       " {'file': 'C:/Users/krvet/Desktop/MADE/CV/HW2/contest02_data/data/test\\\\1812.jpg',\n",
       "  'nums': [{'box': [[717, 698], [939, 749], [723, 746], [932, 696]],\n",
       "    'bbox': [719, 695, 935, 750]}]},\n",
       " {'file': 'C:/Users/krvet/Desktop/MADE/CV/HW2/contest02_data/data/test\\\\1813.jpg',\n",
       "  'nums': [{'box': [[358, 545], [682, 608], [361, 610], [678, 543]],\n",
       "    'bbox': [364, 543, 677, 610]}]},\n",
       " {'file': 'C:/Users/krvet/Desktop/MADE/CV/HW2/contest02_data/data/test\\\\1814.JPG',\n",
       "  'nums': [{'box': [[2608, 2895], [1917, 3087], [1937, 2934], [2590, 3047]],\n",
       "    'bbox': [1927, 2893, 2598, 3088]}]},\n",
       " {'file': 'C:/Users/krvet/Desktop/MADE/CV/HW2/contest02_data/data/test\\\\1815.jpeg',\n",
       "  'nums': [{'box': [[75, 156], [128, 169], [77, 169], [127, 155]],\n",
       "    'bbox': [76, 156, 127, 168]}]},\n",
       " {'file': 'C:/Users/krvet/Desktop/MADE/CV/HW2/contest02_data/data/test\\\\1816.jpg',\n",
       "  'nums': [{'box': [[561, 778], [971, 860], [586, 855], [959, 779]],\n",
       "    'bbox': [566, 774, 965, 861]}]},\n",
       " {'file': 'C:/Users/krvet/Desktop/MADE/CV/HW2/contest02_data/data/test\\\\1817.bmp',\n",
       "  'nums': [{'box': [[981, 1012], [1299, 1120], [990, 1102], [1295, 1030]],\n",
       "    'bbox': [985, 1010, 1296, 1121]}]},\n",
       " {'file': 'C:/Users/krvet/Desktop/MADE/CV/HW2/contest02_data/data/test\\\\1818.jpg',\n",
       "  'nums': [{'box': [[1247, 728], [1476, 782], [1253, 792], [1465, 720]],\n",
       "    'bbox': [1250, 721, 1472, 792]}]},\n",
       " {'file': 'C:/Users/krvet/Desktop/MADE/CV/HW2/contest02_data/data/test\\\\1819.bmp',\n",
       "  'nums': [{'box': [[62, 205], [296, 276], [64, 258], [290, 214]],\n",
       "    'bbox': [65, 203, 293, 275]}]},\n",
       " {'file': 'C:/Users/krvet/Desktop/MADE/CV/HW2/contest02_data/data/test\\\\182.jpg',\n",
       "  'nums': [{'box': [[422, 664], [654, 712], [425, 713], [648, 663]],\n",
       "    'bbox': [425, 663, 650, 713]}]},\n",
       " {'file': 'C:/Users/krvet/Desktop/MADE/CV/HW2/contest02_data/data/test\\\\1820.bmp',\n",
       "  'nums': [{'box': [[100, 266], [191, 301], [102, 293], [189, 273]],\n",
       "    'bbox': [101, 266, 190, 301]}]},\n",
       " {'file': 'C:/Users/krvet/Desktop/MADE/CV/HW2/contest02_data/data/test\\\\1821.jpg',\n",
       "  'nums': [{'box': [[446, 418], [279, 460], [283, 425], [442, 454]],\n",
       "    'bbox': [282, 417, 443, 461]}]},\n",
       " {'file': 'C:/Users/krvet/Desktop/MADE/CV/HW2/contest02_data/data/test\\\\1822.jpg',\n",
       "  'nums': [{'box': [[317, 512], [520, 552], [320, 554], [519, 508]],\n",
       "    'bbox': [320, 509, 517, 553]}]},\n",
       " {'file': 'C:/Users/krvet/Desktop/MADE/CV/HW2/contest02_data/data/test\\\\1823.jpg',\n",
       "  'nums': [{'box': [[358, 416], [503, 452], [359, 453], [501, 413]],\n",
       "    'bbox': [360, 414, 501, 453]}]},\n",
       " {'file': 'C:/Users/krvet/Desktop/MADE/CV/HW2/contest02_data/data/test\\\\1824.bmp',\n",
       "  'nums': [{'box': [[929, 925], [1413, 1025], [943, 1026], [1402, 926]],\n",
       "    'bbox': [936, 924, 1405, 1030]}]},\n",
       " {'file': 'C:/Users/krvet/Desktop/MADE/CV/HW2/contest02_data/data/test\\\\1825.jpg',\n",
       "  'nums': [{'box': [[417, 788], [746, 884], [433, 855], [738, 811]],\n",
       "    'bbox': [421, 787, 741, 886]}]},\n",
       " {'file': 'C:/Users/krvet/Desktop/MADE/CV/HW2/contest02_data/data/test\\\\1826.jpg',\n",
       "  'nums': [{'box': [[324, 610], [525, 685], [332, 667], [519, 622]],\n",
       "    'bbox': [327, 609, 522, 685]}]},\n",
       " {'file': 'C:/Users/krvet/Desktop/MADE/CV/HW2/contest02_data/data/test\\\\1827.jpg',\n",
       "  'nums': [{'box': [[928, 690], [524, 780], [533, 699], [916, 774]],\n",
       "    'bbox': [530, 689, 922, 781]}]},\n",
       " {'file': 'C:/Users/krvet/Desktop/MADE/CV/HW2/contest02_data/data/test\\\\1828.jpg',\n",
       "  'nums': [{'box': [[404, 660], [658, 722], [412, 718], [653, 665]],\n",
       "    'bbox': [407, 658, 655, 723]}]},\n",
       " {'file': 'C:/Users/krvet/Desktop/MADE/CV/HW2/contest02_data/data/test\\\\1829.jpg',\n",
       "  'nums': [{'box': [[1161, 596], [988, 706], [993, 651], [1161, 650]],\n",
       "    'bbox': [990, 593, 1160, 707]}]},\n",
       " {'file': 'C:/Users/krvet/Desktop/MADE/CV/HW2/contest02_data/data/test\\\\183.jpeg',\n",
       "  'nums': [{'box': [[250, 284], [334, 301], [250, 302], [333, 283]],\n",
       "    'bbox': [251, 283, 333, 302]}]},\n",
       " {'file': 'C:/Users/krvet/Desktop/MADE/CV/HW2/contest02_data/data/test\\\\1830.jpg',\n",
       "  'nums': [{'box': [[263, 901], [535, 1112], [308, 1016], [526, 1020]],\n",
       "    'bbox': [243, 896, 532, 1119]}]},\n",
       " {'file': 'C:/Users/krvet/Desktop/MADE/CV/HW2/contest02_data/data/test\\\\1831.bmp',\n",
       "  'nums': [{'box': [[60, 278], [242, 313], [61, 313], [241, 276]],\n",
       "    'bbox': [62, 276, 239, 312]}]},\n",
       " {'file': 'C:/Users/krvet/Desktop/MADE/CV/HW2/contest02_data/data/test\\\\1832.jpg',\n",
       "  'nums': [{'box': [[463, 273], [608, 301], [463, 301], [607, 270]],\n",
       "    'bbox': [465, 270, 606, 301]}]},\n",
       " {'file': 'C:/Users/krvet/Desktop/MADE/CV/HW2/contest02_data/data/test\\\\1833.jpg',\n",
       "  'nums': [{'box': [[824, 396], [722, 430], [723, 400], [821, 425]],\n",
       "    'bbox': [723, 394, 822, 431]}]},\n",
       " {'file': 'C:/Users/krvet/Desktop/MADE/CV/HW2/contest02_data/data/test\\\\1834.jpg',\n",
       "  'nums': [{'box': [[271, 457], [555, 519], [280, 516], [548, 463]],\n",
       "    'bbox': [275, 455, 550, 522]}]},\n",
       " {'file': 'C:/Users/krvet/Desktop/MADE/CV/HW2/contest02_data/data/test\\\\1835.jpg',\n",
       "  'nums': [{'box': [[614, 219], [542, 234], [545, 218], [613, 235]],\n",
       "    'bbox': [543, 217, 613, 235]},\n",
       "   {'box': [[379, 212], [311, 228], [315, 212], [378, 229]],\n",
       "    'bbox': [312, 211, 378, 228]},\n",
       "   {'box': [[64, 218], [124, 232], [65, 233], [123, 216]],\n",
       "    'bbox': [65, 216, 123, 232]},\n",
       "   {'box': [[50, 508], [104, 520], [50, 521], [103, 507]],\n",
       "    'bbox': [51, 508, 103, 520]},\n",
       "   {'box': [[499, 509], [545, 519], [499, 520], [544, 508]],\n",
       "    'bbox': [499, 509, 545, 519]}]},\n",
       " {'file': 'C:/Users/krvet/Desktop/MADE/CV/HW2/contest02_data/data/test\\\\1836.jpg',\n",
       "  'nums': [{'box': [[184, 870], [373, 992], [195, 930], [364, 930]],\n",
       "    'bbox': [185, 868, 371, 992]}]},\n",
       " {'file': 'C:/Users/krvet/Desktop/MADE/CV/HW2/contest02_data/data/test\\\\1837.jpg',\n",
       "  'nums': [{'box': [[319, 794], [513, 831], [320, 834], [511, 789]],\n",
       "    'bbox': [322, 789, 511, 834]}]},\n",
       " {'file': 'C:/Users/krvet/Desktop/MADE/CV/HW2/contest02_data/data/test\\\\1838.bmp',\n",
       "  'nums': [{'box': [[251, 289], [123, 324], [125, 293], [249, 307]],\n",
       "    'bbox': [124, 276, 250, 324]}]},\n",
       " {'file': 'C:/Users/krvet/Desktop/MADE/CV/HW2/contest02_data/data/test\\\\1839.bmp',\n",
       "  'nums': [{'box': [[680, 128], [416, 372], [419, 275], [669, 206]],\n",
       "    'bbox': [412, 124, 680, 377]}]},\n",
       " {'file': 'C:/Users/krvet/Desktop/MADE/CV/HW2/contest02_data/data/test\\\\184.bmp',\n",
       "  'nums': [{'box': [[527, 177], [371, 215], [374, 183], [524, 215]],\n",
       "    'bbox': [373, 176, 525, 216]}]},\n",
       " {'file': 'C:/Users/krvet/Desktop/MADE/CV/HW2/contest02_data/data/test\\\\1840.bmp',\n",
       "  'nums': [{'box': [[129, 213], [267, 245], [130, 245], [264, 217]],\n",
       "    'bbox': [131, 212, 265, 245]}]},\n",
       " {'file': 'C:/Users/krvet/Desktop/MADE/CV/HW2/contest02_data/data/test\\\\1841.jpg',\n",
       "  'nums': [{'box': [[121, 422], [208, 459], [125, 448], [205, 431]],\n",
       "    'bbox': [122, 421, 206, 458]}]},\n",
       " {'file': 'C:/Users/krvet/Desktop/MADE/CV/HW2/contest02_data/data/test\\\\1842.jpg',\n",
       "  'nums': [{'box': [[377, 349], [626, 400], [380, 400], [623, 348]],\n",
       "    'bbox': [381, 347, 622, 400]}]},\n",
       " {'file': 'C:/Users/krvet/Desktop/MADE/CV/HW2/contest02_data/data/test\\\\1843.bmp',\n",
       "  'nums': [{'box': [[323, 130], [410, 163], [325, 150], [407, 141]],\n",
       "    'bbox': [324, 130, 409, 163]}]},\n",
       " {'file': 'C:/Users/krvet/Desktop/MADE/CV/HW2/contest02_data/data/test\\\\1844.jpg',\n",
       "  'nums': [{'box': [[819, 903], [1015, 947], [821, 948], [1011, 901]],\n",
       "    'bbox': [822, 902, 1012, 947]}]},\n",
       " {'file': 'C:/Users/krvet/Desktop/MADE/CV/HW2/contest02_data/data/test\\\\1845.jpg',\n",
       "  'nums': [{'box': [[310, 407], [520, 446], [311, 447], [519, 406]],\n",
       "    'bbox': [313, 406, 516, 447]}]},\n",
       " {'file': 'C:/Users/krvet/Desktop/MADE/CV/HW2/contest02_data/data/test\\\\1846.jpg',\n",
       "  'nums': [{'box': [[357, 580], [561, 635], [362, 635], [556, 578]],\n",
       "    'bbox': [357, 575, 557, 636]}]},\n",
       " {'file': 'C:/Users/krvet/Desktop/MADE/CV/HW2/contest02_data/data/test\\\\1847.jpg',\n",
       "  'nums': [{'box': [[145, 727], [350, 768], [147, 773], [346, 721]],\n",
       "    'bbox': [148, 721, 347, 772]}]},\n",
       " {'file': 'C:/Users/krvet/Desktop/MADE/CV/HW2/contest02_data/data/test\\\\1848.bmp',\n",
       "  'nums': [{'box': [[238, 141], [335, 175], [237, 171], [334, 144]],\n",
       "    'bbox': [236, 140, 336, 174]},\n",
       "   {'box': [[8, 125], [50, 143], [8, 143], [49, 124]],\n",
       "    'bbox': [8, 124, 50, 143]}]},\n",
       " {'file': 'C:/Users/krvet/Desktop/MADE/CV/HW2/contest02_data/data/test\\\\1849.png',\n",
       "  'nums': [{'box': [[598, 741], [731, 769], [599, 769], [730, 740]],\n",
       "    'bbox': [600, 740, 730, 769]}]},\n",
       " {'file': 'C:/Users/krvet/Desktop/MADE/CV/HW2/contest02_data/data/test\\\\185.jpeg',\n",
       "  'nums': []},\n",
       " {'file': 'C:/Users/krvet/Desktop/MADE/CV/HW2/contest02_data/data/test\\\\1850.jpg',\n",
       "  'nums': [{'box': [[916, 744], [702, 793], [709, 746], [911, 794]],\n",
       "    'bbox': [705, 741, 912, 794]},\n",
       "   {'box': [[1072, 721], [1232, 752], [1078, 753], [1231, 717]],\n",
       "    'bbox': [1072, 717, 1229, 753]}]},\n",
       " {'file': 'C:/Users/krvet/Desktop/MADE/CV/HW2/contest02_data/data/test\\\\1851.jpg',\n",
       "  'nums': [{'box': [[208, 285], [417, 327], [209, 329], [416, 282]],\n",
       "    'bbox': [212, 283, 413, 328]}]},\n",
       " {'file': 'C:/Users/krvet/Desktop/MADE/CV/HW2/contest02_data/data/test\\\\1852.bmp',\n",
       "  'nums': [{'box': [[46, 208], [212, 251], [50, 247], [209, 213]],\n",
       "    'bbox': [49, 207, 209, 251]}]},\n",
       " {'file': 'C:/Users/krvet/Desktop/MADE/CV/HW2/contest02_data/data/test\\\\1853.jpg',\n",
       "  'nums': [{'box': [[1162, 471], [931, 519], [935, 468], [1156, 520]],\n",
       "    'bbox': [934, 467, 1158, 519]}]},\n",
       " {'file': 'C:/Users/krvet/Desktop/MADE/CV/HW2/contest02_data/data/test\\\\1854.jpg',\n",
       "  'nums': [{'box': [[216, 472], [381, 508], [217, 509], [379, 471]],\n",
       "    'bbox': [218, 471, 378, 509]}]},\n",
       " {'file': 'C:/Users/krvet/Desktop/MADE/CV/HW2/contest02_data/data/test\\\\1855.jpg',\n",
       "  'nums': [{'box': [[845, 514], [791, 538], [794, 520], [843, 532]],\n",
       "    'bbox': [792, 514, 844, 539]}]},\n",
       " {'file': 'C:/Users/krvet/Desktop/MADE/CV/HW2/contest02_data/data/test\\\\1856.jpg',\n",
       "  'nums': [{'box': [[77, 629], [189, 739], [82, 681], [187, 680]],\n",
       "    'bbox': [78, 630, 188, 738]}]},\n",
       " {'file': 'C:/Users/krvet/Desktop/MADE/CV/HW2/contest02_data/data/test\\\\1857.jpg',\n",
       "  'nums': [{'box': [[695, 544], [372, 607], [379, 547], [687, 611]],\n",
       "    'bbox': [377, 540, 690, 612]}]},\n",
       " {'file': 'C:/Users/krvet/Desktop/MADE/CV/HW2/contest02_data/data/test\\\\1858.jpg',\n",
       "  'nums': [{'box': [[689, 1207], [944, 1258], [692, 1259], [941, 1203]],\n",
       "    'bbox': [692, 1203, 940, 1258]}]},\n",
       " {'file': 'C:/Users/krvet/Desktop/MADE/CV/HW2/contest02_data/data/test\\\\1859.jpg',\n",
       "  'nums': [{'box': [[674, 521], [478, 567], [483, 525], [670, 564]],\n",
       "    'bbox': [481, 521, 671, 567]}]},\n",
       " {'file': 'C:/Users/krvet/Desktop/MADE/CV/HW2/contest02_data/data/test\\\\186.jpg',\n",
       "  'nums': [{'box': [[306, 621], [535, 676], [311, 672], [530, 630]],\n",
       "    'bbox': [309, 620, 531, 677]}]},\n",
       " {'file': 'C:/Users/krvet/Desktop/MADE/CV/HW2/contest02_data/data/test\\\\1860.jpg',\n",
       "  'nums': [{'box': [[385, 842], [561, 877], [390, 879], [557, 837]],\n",
       "    'bbox': [388, 838, 558, 879]}]},\n",
       " {'file': 'C:/Users/krvet/Desktop/MADE/CV/HW2/contest02_data/data/test\\\\1861.bmp',\n",
       "  'nums': [{'box': [[1228, 1396], [1542, 1482], [1242, 1467], [1534, 1417]],\n",
       "    'bbox': [1232, 1392, 1537, 1482]}]},\n",
       " {'file': 'C:/Users/krvet/Desktop/MADE/CV/HW2/contest02_data/data/test\\\\1862.jpg',\n",
       "  'nums': [{'box': [[693, 425], [883, 465], [694, 466], [881, 424]],\n",
       "    'bbox': [696, 425, 880, 466]}]},\n",
       " {'file': 'C:/Users/krvet/Desktop/MADE/CV/HW2/contest02_data/data/test\\\\1863.jpg',\n",
       "  'nums': [{'box': [[532, 528], [790, 587], [539, 586], [785, 528]],\n",
       "    'bbox': [536, 526, 786, 587]}]},\n",
       " {'file': 'C:/Users/krvet/Desktop/MADE/CV/HW2/contest02_data/data/test\\\\1864.bmp',\n",
       "  'nums': [{'box': [[317, 219], [256, 243], [256, 224], [316, 239]],\n",
       "    'bbox': [256, 219, 315, 243]}]},\n",
       " {'file': 'C:/Users/krvet/Desktop/MADE/CV/HW2/contest02_data/data/test\\\\1865.jpg',\n",
       "  'nums': [{'box': [[1080, 578], [897, 672], [899, 616], [1079, 630]],\n",
       "    'bbox': [900, 579, 1078, 675]}]},\n",
       " {'file': 'C:/Users/krvet/Desktop/MADE/CV/HW2/contest02_data/data/test\\\\1866.jpg',\n",
       "  'nums': [{'box': [[157, 464], [326, 505], [157, 506], [324, 463]],\n",
       "    'bbox': [159, 463, 323, 506]}]},\n",
       " {'file': 'C:/Users/krvet/Desktop/MADE/CV/HW2/contest02_data/data/test\\\\1867.jpg',\n",
       "  'nums': [{'box': [[279, 740], [437, 824], [284, 786], [434, 776]],\n",
       "    'bbox': [281, 740, 435, 824]}]},\n",
       " {'file': 'C:/Users/krvet/Desktop/MADE/CV/HW2/contest02_data/data/test\\\\1868.jpg',\n",
       "  'nums': [{'box': [[634, 779], [919, 838], [638, 839], [913, 778]],\n",
       "    'bbox': [638, 778, 914, 840]}]},\n",
       " {'file': 'C:/Users/krvet/Desktop/MADE/CV/HW2/contest02_data/data/test\\\\1869.bmp',\n",
       "  'nums': [{'box': [[92, 243], [289, 286], [98, 282], [285, 244]],\n",
       "    'bbox': [95, 243, 286, 287]}]},\n",
       " {'file': 'C:/Users/krvet/Desktop/MADE/CV/HW2/contest02_data/data/test\\\\187.jpg',\n",
       "  'nums': [{'box': [[1780, 806], [1651, 926], [1656, 859], [1763, 874]],\n",
       "    'bbox': [1653, 802, 1783, 927]}]},\n",
       " {'file': 'C:/Users/krvet/Desktop/MADE/CV/HW2/contest02_data/data/test\\\\1870.jpg',\n",
       "  'nums': [{'box': [[262, 221], [399, 250], [263, 250], [397, 221]],\n",
       "    'bbox': [264, 221, 397, 250]}]},\n",
       " {'file': 'C:/Users/krvet/Desktop/MADE/CV/HW2/contest02_data/data/test\\\\1871.jpg',\n",
       "  'nums': [{'box': [[576, 483], [383, 529], [385, 487], [573, 529]],\n",
       "    'bbox': [386, 483, 573, 528]}]},\n",
       " {'file': 'C:/Users/krvet/Desktop/MADE/CV/HW2/contest02_data/data/test\\\\1872.bmp',\n",
       "  'nums': [{'box': [[758, 411], [650, 439], [654, 413], [755, 438]],\n",
       "    'bbox': [652, 410, 756, 440]}]},\n",
       " {'file': 'C:/Users/krvet/Desktop/MADE/CV/HW2/contest02_data/data/test\\\\1873.bmp',\n",
       "  'nums': [{'box': [[560, 337], [426, 376], [428, 344], [556, 369]],\n",
       "    'bbox': [427, 336, 558, 376]},\n",
       "   {'box': [[577, 369], [620, 382], [577, 382], [620, 366]],\n",
       "    'bbox': [578, 366, 619, 382]},\n",
       "   {'box': [[348, 387], [401, 401], [348, 402], [400, 386]],\n",
       "    'bbox': [349, 386, 400, 402]}]},\n",
       " {'file': 'C:/Users/krvet/Desktop/MADE/CV/HW2/contest02_data/data/test\\\\1874.jpg',\n",
       "  'nums': [{'box': [[298, 635], [570, 708], [306, 687], [566, 652]],\n",
       "    'bbox': [302, 631, 566, 708]}]},\n",
       " {'file': 'C:/Users/krvet/Desktop/MADE/CV/HW2/contest02_data/data/test\\\\1875.jpg',\n",
       "  'nums': [{'box': [[430, 497], [535, 519], [433, 519], [530, 498]],\n",
       "    'bbox': [432, 495, 534, 520]}]},\n",
       " {'file': 'C:/Users/krvet/Desktop/MADE/CV/HW2/contest02_data/data/test\\\\1876.jpg',\n",
       "  'nums': [{'box': [[681, 744], [840, 778], [682, 778], [839, 743]],\n",
       "    'bbox': [684, 744, 837, 778]}]},\n",
       " {'file': 'C:/Users/krvet/Desktop/MADE/CV/HW2/contest02_data/data/test\\\\1877.jpg',\n",
       "  'nums': [{'box': [[199, 426], [368, 460], [200, 461], [367, 424]],\n",
       "    'bbox': [201, 425, 365, 461]}]},\n",
       " {'file': 'C:/Users/krvet/Desktop/MADE/CV/HW2/contest02_data/data/test\\\\1878.jpg',\n",
       "  'nums': [{'box': [[605, 524], [682, 542], [605, 542], [682, 524]],\n",
       "    'bbox': [606, 524, 681, 542]}]},\n",
       " {'file': 'C:/Users/krvet/Desktop/MADE/CV/HW2/contest02_data/data/test\\\\1879.jpg',\n",
       "  'nums': [{'box': [[837, 396], [612, 465], [619, 412], [834, 444]],\n",
       "    'bbox': [615, 394, 833, 466]}]},\n",
       " {'file': 'C:/Users/krvet/Desktop/MADE/CV/HW2/contest02_data/data/test\\\\188.jpg',\n",
       "  'nums': [{'box': [[731, 511], [948, 556], [733, 557], [943, 509]],\n",
       "    'bbox': [735, 510, 945, 557]}]},\n",
       " {'file': 'C:/Users/krvet/Desktop/MADE/CV/HW2/contest02_data/data/test\\\\1880.jpg',\n",
       "  'nums': [{'box': [[430, 391], [579, 422], [430, 422], [578, 390]],\n",
       "    'bbox': [432, 390, 576, 421]}]},\n",
       " {'file': 'C:/Users/krvet/Desktop/MADE/CV/HW2/contest02_data/data/test\\\\1881.jpg',\n",
       "  'nums': [{'box': [[662, 668], [795, 700], [662, 700], [794, 668]],\n",
       "    'bbox': [663, 668, 794, 700]}]},\n",
       " {'file': 'C:/Users/krvet/Desktop/MADE/CV/HW2/contest02_data/data/test\\\\1882.jpg',\n",
       "  'nums': [{'box': [[272, 322], [553, 385], [280, 380], [545, 329]],\n",
       "    'bbox': [276, 319, 549, 385]}]},\n",
       " {'file': 'C:/Users/krvet/Desktop/MADE/CV/HW2/contest02_data/data/test\\\\1883.bmp',\n",
       "  'nums': [{'box': [[493, 743], [589, 799], [495, 779], [587, 763]],\n",
       "    'bbox': [493, 743, 588, 800]}]},\n",
       " {'file': 'C:/Users/krvet/Desktop/MADE/CV/HW2/contest02_data/data/test\\\\1884.jpg',\n",
       "  'nums': [{'box': [[397, 414], [520, 439], [403, 438], [518, 413]],\n",
       "    'bbox': [399, 410, 518, 439]}]},\n",
       " {'file': 'C:/Users/krvet/Desktop/MADE/CV/HW2/contest02_data/data/test\\\\1885.jpg',\n",
       "  'nums': [{'box': [[291, 637], [496, 727], [304, 702], [493, 661]],\n",
       "    'bbox': [294, 636, 493, 728]}]},\n",
       " {'file': 'C:/Users/krvet/Desktop/MADE/CV/HW2/contest02_data/data/test\\\\1886.jpg',\n",
       "  'nums': [{'box': [[272, 467], [455, 512], [277, 510], [451, 469]],\n",
       "    'bbox': [275, 467, 453, 512]}]},\n",
       " {'file': 'C:/Users/krvet/Desktop/MADE/CV/HW2/contest02_data/data/test\\\\1887.bmp',\n",
       "  'nums': [{'box': [[361, 180], [188, 233], [192, 189], [357, 232]],\n",
       "    'bbox': [189, 180, 359, 234]}]},\n",
       " {'file': 'C:/Users/krvet/Desktop/MADE/CV/HW2/contest02_data/data/test\\\\1888.bmp',\n",
       "  'nums': [{'box': [[291, 766], [428, 812], [288, 813], [426, 763]],\n",
       "    'bbox': [288, 764, 426, 813]},\n",
       "   {'box': [[1636, 696], [1756, 724], [1637, 725], [1750, 693]],\n",
       "    'bbox': [1638, 693, 1754, 725]}]},\n",
       " {'file': 'C:/Users/krvet/Desktop/MADE/CV/HW2/contest02_data/data/test\\\\1889.jpg',\n",
       "  'nums': [{'box': [[552, 543], [455, 558], [456, 543], [552, 564]],\n",
       "    'bbox': [457, 543, 550, 564]},\n",
       "   {'box': [[545, 245], [658, 262], [547, 263], [646, 243]],\n",
       "    'bbox': [547, 244, 657, 262]}]},\n",
       " {'file': 'C:/Users/krvet/Desktop/MADE/CV/HW2/contest02_data/data/test\\\\189.jpg',\n",
       "  'nums': [{'box': [[260, 464], [449, 517], [267, 508], [444, 475]],\n",
       "    'bbox': [263, 463, 446, 517]}]},\n",
       " {'file': 'C:/Users/krvet/Desktop/MADE/CV/HW2/contest02_data/data/test\\\\1890.jpg',\n",
       "  'nums': [{'box': [[1350, 693], [1208, 757], [1212, 710], [1346, 742]],\n",
       "    'bbox': [1209, 691, 1348, 758]}]},\n",
       " {'file': 'C:/Users/krvet/Desktop/MADE/CV/HW2/contest02_data/data/test\\\\1891.jpg',\n",
       "  'nums': [{'box': [[586, 556], [879, 676], [590, 625], [871, 593]],\n",
       "    'bbox': [589, 553, 874, 679]}]},\n",
       " {'file': 'C:/Users/krvet/Desktop/MADE/CV/HW2/contest02_data/data/test\\\\1892.jpg',\n",
       "  'nums': [{'box': [[1598, 1058], [1301, 1116], [1310, 1055], [1597, 1121]],\n",
       "    'bbox': [1305, 1049, 1594, 1121]}]},\n",
       " {'file': 'C:/Users/krvet/Desktop/MADE/CV/HW2/contest02_data/data/test\\\\1893.jpg',\n",
       "  'nums': [{'box': [[1198, 683], [990, 746], [997, 692], [1191, 739]],\n",
       "    'bbox': [993, 682, 1196, 748]}]},\n",
       " {'file': 'C:/Users/krvet/Desktop/MADE/CV/HW2/contest02_data/data/test\\\\1894.jpg',\n",
       "  'nums': [{'box': [[385, 730], [497, 754], [385, 754], [496, 730]],\n",
       "    'bbox': [387, 730, 495, 754]}]},\n",
       " {'file': 'C:/Users/krvet/Desktop/MADE/CV/HW2/contest02_data/data/test\\\\1895.bmp',\n",
       "  'nums': [{'box': [[229, 94], [127, 137], [128, 108], [228, 121]],\n",
       "    'bbox': [128, 91, 229, 140]}]},\n",
       " {'file': 'C:/Users/krvet/Desktop/MADE/CV/HW2/contest02_data/data/test\\\\1896.bmp',\n",
       "  'nums': [{'box': [[254, 221], [446, 259], [254, 261], [438, 217]],\n",
       "    'bbox': [256, 217, 443, 261]}]},\n",
       " {'file': 'C:/Users/krvet/Desktop/MADE/CV/HW2/contest02_data/data/test\\\\1897.jpg',\n",
       "  'nums': [{'box': [[248, 365], [483, 415], [250, 416], [482, 364]],\n",
       "    'bbox': [251, 365, 480, 415]}]},\n",
       " {'file': 'C:/Users/krvet/Desktop/MADE/CV/HW2/contest02_data/data/test\\\\1898.jpg',\n",
       "  'nums': [{'box': [[579, 408], [762, 455], [583, 450], [758, 414]],\n",
       "    'bbox': [582, 407, 759, 455]}]},\n",
       " {'file': 'C:/Users/krvet/Desktop/MADE/CV/HW2/contest02_data/data/test\\\\1899.jpg',\n",
       "  'nums': [{'box': [[957, 461], [882, 502], [883, 470], [956, 493]],\n",
       "    'bbox': [883, 460, 956, 501]}]},\n",
       " {'file': 'C:/Users/krvet/Desktop/MADE/CV/HW2/contest02_data/data/test\\\\19.jpg',\n",
       "  'nums': [{'box': [[50, 484], [219, 522], [51, 523], [218, 482]],\n",
       "    'bbox': [53, 482, 216, 523]}]},\n",
       " {'file': 'C:/Users/krvet/Desktop/MADE/CV/HW2/contest02_data/data/test\\\\190.jpg',\n",
       "  'nums': [{'box': [[851, 662], [1193, 727], [853, 728], [1188, 654]],\n",
       "    'bbox': [856, 654, 1188, 727]}]},\n",
       " {'file': 'C:/Users/krvet/Desktop/MADE/CV/HW2/contest02_data/data/test\\\\1900.jpg',\n",
       "  'nums': [{'box': [[547, 617], [427, 648], [432, 619], [544, 646]],\n",
       "    'bbox': [429, 615, 545, 649]}]},\n",
       " {'file': 'C:/Users/krvet/Desktop/MADE/CV/HW2/contest02_data/data/test\\\\1901.bmp',\n",
       "  'nums': [{'box': [[442, 316], [300, 374], [302, 340], [439, 348]],\n",
       "    'bbox': [302, 315, 440, 374]}]},\n",
       " {'file': 'C:/Users/krvet/Desktop/MADE/CV/HW2/contest02_data/data/test\\\\1902.jpg',\n",
       "  'nums': [{'box': [[362, 858], [628, 930], [370, 917], [620, 867]],\n",
       "    'bbox': [366, 857, 624, 930]}]},\n",
       " {'file': 'C:/Users/krvet/Desktop/MADE/CV/HW2/contest02_data/data/test\\\\1903.jpg',\n",
       "  'nums': [{'box': [[1804, 815], [1807, 815], [1805, 814], [1806, 816]],\n",
       "    'bbox': [1625, 723, 1859, 842]}]},\n",
       " {'file': 'C:/Users/krvet/Desktop/MADE/CV/HW2/contest02_data/data/test\\\\1904.jpg',\n",
       "  'nums': [{'box': [[543, 220], [671, 245], [544, 247], [670, 216]],\n",
       "    'bbox': [545, 216, 669, 247]}]},\n",
       " {'file': 'C:/Users/krvet/Desktop/MADE/CV/HW2/contest02_data/data/test\\\\1905.bmp',\n",
       "  'nums': [{'box': [[462, 217], [336, 263], [338, 235], [459, 243]],\n",
       "    'bbox': [337, 213, 460, 264]}]},\n",
       " {'file': 'C:/Users/krvet/Desktop/MADE/CV/HW2/contest02_data/data/test\\\\1906.png',\n",
       "  'nums': [{'box': [[283, 386], [386, 417], [287, 410], [384, 393]],\n",
       "    'bbox': [285, 385, 385, 417]}]},\n",
       " ...]"
      ]
     },
     "execution_count": 28,
     "metadata": {},
     "output_type": "execute_result"
    }
   ],
   "source": [
    "preds"
   ]
  },
  {
   "cell_type": "code",
   "execution_count": 47,
   "metadata": {},
   "outputs": [],
   "source": [
    "with open(os.path.join(data_path, 'test.json'), 'wb') as json_file:\n",
    "    pickle.dump(preds, json_file)"
   ]
  },
  {
   "cell_type": "code",
   "execution_count": null,
   "metadata": {},
   "outputs": [],
   "source": []
  },
  {
   "cell_type": "code",
   "execution_count": null,
   "metadata": {},
   "outputs": [],
   "source": []
  },
  {
   "cell_type": "code",
   "execution_count": null,
   "metadata": {},
   "outputs": [],
   "source": []
  },
  {
   "cell_type": "code",
   "execution_count": 4,
   "metadata": {},
   "outputs": [],
   "source": [
    "with open(os.path.join(data_path, 'test.json'), 'rb') as json_file:\n",
    "    a = pickle.load(json_file)"
   ]
  },
  {
   "cell_type": "code",
   "execution_count": 5,
   "metadata": {},
   "outputs": [
    {
     "data": {
      "text/plain": [
       "[{'file': 'C:/Users/krvet/Desktop/MADE/CV/HW2/contest02_data/data/test\\\\0.jpg',\n",
       "  'nums': [{'box': [[485, 563], [775, 627], [487, 628], [772, 562]],\n",
       "    'bbox': [489, 560, 771, 628]}]},\n",
       " {'file': 'C:/Users/krvet/Desktop/MADE/CV/HW2/contest02_data/data/test\\\\1.jpg',\n",
       "  'nums': [{'box': [[220, 317], [135, 335], [136, 317], [219, 336]],\n",
       "    'bbox': [136, 317, 219, 335]},\n",
       "   {'box': [[511, 292], [588, 308], [511, 309], [583, 292]],\n",
       "    'bbox': [512, 293, 586, 308]}]},\n",
       " {'file': 'C:/Users/krvet/Desktop/MADE/CV/HW2/contest02_data/data/test\\\\10.jpg',\n",
       "  'nums': [{'box': [[225, 285], [388, 314], [226, 316], [386, 281]],\n",
       "    'bbox': [228, 281, 385, 316]}]},\n",
       " {'file': 'C:/Users/krvet/Desktop/MADE/CV/HW2/contest02_data/data/test\\\\100.jpg',\n",
       "  'nums': [{'box': [[537, 410], [320, 460], [326, 412], [531, 461]],\n",
       "    'bbox': [323, 409, 534, 461]}]},\n",
       " {'file': 'C:/Users/krvet/Desktop/MADE/CV/HW2/contest02_data/data/test\\\\1000.jpg',\n",
       "  'nums': [{'box': [[767, 552], [578, 595], [581, 554], [762, 594]],\n",
       "    'bbox': [581, 552, 765, 595]}]},\n",
       " {'file': 'C:/Users/krvet/Desktop/MADE/CV/HW2/contest02_data/data/test\\\\1001.jpg',\n",
       "  'nums': [{'box': [[650, 439], [895, 487], [652, 488], [888, 437]],\n",
       "    'bbox': [654, 438, 892, 488]},\n",
       "   {'box': [[448, 325], [282, 363], [286, 325], [443, 363]],\n",
       "    'bbox': [285, 324, 446, 364]}]},\n",
       " {'file': 'C:/Users/krvet/Desktop/MADE/CV/HW2/contest02_data/data/test\\\\1002.jpg',\n",
       "  'nums': [{'box': [[290, 555], [436, 584], [290, 584], [436, 554]],\n",
       "    'bbox': [292, 554, 434, 584]}]},\n",
       " {'file': 'C:/Users/krvet/Desktop/MADE/CV/HW2/contest02_data/data/test\\\\1003.jpeg',\n",
       "  'nums': [{'box': [[382, 674], [513, 723], [386, 710], [510, 688]],\n",
       "    'bbox': [384, 673, 512, 723]}]},\n",
       " {'file': 'C:/Users/krvet/Desktop/MADE/CV/HW2/contest02_data/data/test\\\\1004.jpg',\n",
       "  'nums': [{'box': [[837, 687], [603, 736], [610, 687], [836, 737]],\n",
       "    'bbox': [606, 687, 834, 736]}]},\n",
       " {'file': 'C:/Users/krvet/Desktop/MADE/CV/HW2/contest02_data/data/test\\\\1005.jpg',\n",
       "  'nums': [{'box': [[708, 773], [988, 835], [716, 837], [983, 771]],\n",
       "    'bbox': [712, 769, 983, 838]}]},\n",
       " {'file': 'C:/Users/krvet/Desktop/MADE/CV/HW2/contest02_data/data/test\\\\1006.jpg',\n",
       "  'nums': [{'box': [[587, 890], [436, 926], [444, 895], [583, 925]],\n",
       "    'bbox': [438, 889, 585, 926]}]},\n",
       " {'file': 'C:/Users/krvet/Desktop/MADE/CV/HW2/contest02_data/data/test\\\\1007.jpg',\n",
       "  'nums': [{'box': [[1141, 591], [844, 678], [849, 594], [1134, 679]],\n",
       "    'bbox': [849, 588, 1137, 679]}]},\n",
       " {'file': 'C:/Users/krvet/Desktop/MADE/CV/HW2/contest02_data/data/test\\\\1008.jpg',\n",
       "  'nums': [{'box': [[1169, 628], [991, 697], [993, 654], [1168, 672]],\n",
       "    'bbox': [991, 622, 1168, 704]}]},\n",
       " {'file': 'C:/Users/krvet/Desktop/MADE/CV/HW2/contest02_data/data/test\\\\1009.jpg',\n",
       "  'nums': [{'box': [[1288, 447], [1103, 513], [1104, 463], [1288, 496]],\n",
       "    'bbox': [1103, 443, 1290, 514]}]},\n",
       " {'file': 'C:/Users/krvet/Desktop/MADE/CV/HW2/contest02_data/data/test\\\\101.jpg',\n",
       "  'nums': [{'box': [[1478, 864], [1241, 996], [1244, 924], [1475, 939]],\n",
       "    'bbox': [1244, 860, 1476, 996]}]},\n",
       " {'file': 'C:/Users/krvet/Desktop/MADE/CV/HW2/contest02_data/data/test\\\\1010.jpg',\n",
       "  'nums': [{'box': [[459, 822], [755, 888], [466, 888], [752, 827]],\n",
       "    'bbox': [464, 820, 751, 888]}]},\n",
       " {'file': 'C:/Users/krvet/Desktop/MADE/CV/HW2/contest02_data/data/test\\\\1011.bmp',\n",
       "  'nums': [{'box': [[293, 163], [196, 194], [200, 169], [291, 191]],\n",
       "    'bbox': [197, 163, 292, 194]}]},\n",
       " {'file': 'C:/Users/krvet/Desktop/MADE/CV/HW2/contest02_data/data/test\\\\1012.bmp',\n",
       "  'nums': [{'box': [[16, 282], [98, 300], [16, 300], [98, 276]],\n",
       "    'bbox': [17, 276, 97, 300]}]},\n",
       " {'file': 'C:/Users/krvet/Desktop/MADE/CV/HW2/contest02_data/data/test\\\\1013.jpg',\n",
       "  'nums': [{'box': [[293, 628], [626, 695], [294, 700], [621, 624]],\n",
       "    'bbox': [297, 624, 620, 699]}]},\n",
       " {'file': 'C:/Users/krvet/Desktop/MADE/CV/HW2/contest02_data/data/test\\\\1014.jpg',\n",
       "  'nums': [{'box': [[362, 709], [560, 840], [371, 775], [554, 771]],\n",
       "    'bbox': [363, 710, 557, 841]}]},\n",
       " {'file': 'C:/Users/krvet/Desktop/MADE/CV/HW2/contest02_data/data/test\\\\1015.jpeg',\n",
       "  'nums': [{'box': [[235, 62], [23, 125], [33, 72], [229, 116]],\n",
       "    'bbox': [26, 61, 232, 125]}]},\n",
       " {'file': 'C:/Users/krvet/Desktop/MADE/CV/HW2/contest02_data/data/test\\\\1016.bmp',\n",
       "  'nums': [{'box': [[172, 203], [282, 228], [175, 228], [281, 205]],\n",
       "    'bbox': [174, 203, 280, 228]}]},\n",
       " {'file': 'C:/Users/krvet/Desktop/MADE/CV/HW2/contest02_data/data/test\\\\1017.jpg',\n",
       "  'nums': [{'box': [[263, 997], [473, 1038], [264, 1039], [467, 994]],\n",
       "    'bbox': [266, 995, 470, 1038]}]},\n",
       " {'file': 'C:/Users/krvet/Desktop/MADE/CV/HW2/contest02_data/data/test\\\\1018.jpg',\n",
       "  'nums': [{'box': [[1351, 695], [1227, 854], [1221, 787], [1350, 765]],\n",
       "    'bbox': [1220, 697, 1350, 855]}]},\n",
       " {'file': 'C:/Users/krvet/Desktop/MADE/CV/HW2/contest02_data/data/test\\\\1019.jpg',\n",
       "  'nums': [{'box': [[1474, 876], [1155, 954], [1163, 880], [1467, 949]],\n",
       "    'bbox': [1160, 874, 1469, 954]}]},\n",
       " {'file': 'C:/Users/krvet/Desktop/MADE/CV/HW2/contest02_data/data/test\\\\102.png',\n",
       "  'nums': [{'box': [[425, 751], [684, 853], [430, 813], [671, 787]],\n",
       "    'bbox': [428, 749, 681, 855]},\n",
       "   {'box': [[69, 530], [204, 581], [73, 570], [202, 542]],\n",
       "    'bbox': [70, 529, 202, 582]}]},\n",
       " {'file': 'C:/Users/krvet/Desktop/MADE/CV/HW2/contest02_data/data/test\\\\1020.bmp',\n",
       "  'nums': [{'box': [[323, 172], [484, 204], [324, 204], [479, 171]],\n",
       "    'bbox': [326, 170, 481, 204]}]},\n",
       " {'file': 'C:/Users/krvet/Desktop/MADE/CV/HW2/contest02_data/data/test\\\\1021.bmp',\n",
       "  'nums': [{'box': [[265, 243], [398, 297], [267, 273], [396, 263]],\n",
       "    'bbox': [265, 241, 396, 297]}]},\n",
       " {'file': 'C:/Users/krvet/Desktop/MADE/CV/HW2/contest02_data/data/test\\\\1022.bmp',\n",
       "  'nums': [{'box': [[164, 209], [453, 274], [172, 275], [437, 208]],\n",
       "    'bbox': [168, 207, 449, 275]}]},\n",
       " {'file': 'C:/Users/krvet/Desktop/MADE/CV/HW2/contest02_data/data/test\\\\1023.bmp',\n",
       "  'nums': [{'box': [[278, 231], [170, 259], [171, 239], [274, 257]],\n",
       "    'bbox': [172, 230, 276, 259]}]},\n",
       " {'file': 'C:/Users/krvet/Desktop/MADE/CV/HW2/contest02_data/data/test\\\\1024.jpg',\n",
       "  'nums': [{'box': [[667, 479], [627, 498], [629, 484], [667, 494]],\n",
       "    'bbox': [628, 479, 666, 499]}]},\n",
       " {'file': 'C:/Users/krvet/Desktop/MADE/CV/HW2/contest02_data/data/test\\\\1025.jpg',\n",
       "  'nums': [{'box': [[442, 636], [727, 699], [449, 701], [719, 638]],\n",
       "    'bbox': [446, 634, 722, 701]}]},\n",
       " {'file': 'C:/Users/krvet/Desktop/MADE/CV/HW2/contest02_data/data/test\\\\1026.jpg',\n",
       "  'nums': [{'box': [[584, 924], [859, 973], [587, 978], [856, 919]],\n",
       "    'bbox': [589, 920, 854, 977]}]},\n",
       " {'file': 'C:/Users/krvet/Desktop/MADE/CV/HW2/contest02_data/data/test\\\\1027.jpg',\n",
       "  'nums': [{'box': [[508, 336], [367, 375], [371, 343], [505, 368]],\n",
       "    'bbox': [369, 336, 506, 374]},\n",
       "   {'box': [[679, 303], [802, 340], [683, 332], [799, 311]],\n",
       "    'bbox': [681, 303, 801, 340]}]},\n",
       " {'file': 'C:/Users/krvet/Desktop/MADE/CV/HW2/contest02_data/data/test\\\\1028.jpg',\n",
       "  'nums': [{'box': [[338, 483], [508, 524], [344, 510], [505, 480]],\n",
       "    'bbox': [339, 470, 508, 525]}]},\n",
       " {'file': 'C:/Users/krvet/Desktop/MADE/CV/HW2/contest02_data/data/test\\\\1029.jpg',\n",
       "  'nums': [{'box': [[1880, 948], [1609, 1102], [1611, 1013], [1875, 1037]],\n",
       "    'bbox': [1611, 947, 1877, 1103]}]},\n",
       " {'file': 'C:/Users/krvet/Desktop/MADE/CV/HW2/contest02_data/data/test\\\\103.jpg',\n",
       "  'nums': [{'box': [[655, 722], [876, 769], [657, 769], [870, 721]],\n",
       "    'bbox': [657, 721, 873, 769]}]},\n",
       " {'file': 'C:/Users/krvet/Desktop/MADE/CV/HW2/contest02_data/data/test\\\\1030.jpeg',\n",
       "  'nums': [{'box': [[89, 140], [162, 154], [90, 155], [161, 139]],\n",
       "    'bbox': [90, 140, 161, 154]}]},\n",
       " {'file': 'C:/Users/krvet/Desktop/MADE/CV/HW2/contest02_data/data/test\\\\1031.bmp',\n",
       "  'nums': [{'box': [[181, 381], [276, 402], [181, 405], [273, 379]],\n",
       "    'bbox': [182, 379, 275, 405]}]},\n",
       " {'file': 'C:/Users/krvet/Desktop/MADE/CV/HW2/contest02_data/data/test\\\\1032.jpg',\n",
       "  'nums': [{'box': [[213, 547], [376, 637], [218, 599], [373, 582]],\n",
       "    'bbox': [214, 547, 373, 637]}]},\n",
       " {'file': 'C:/Users/krvet/Desktop/MADE/CV/HW2/contest02_data/data/test\\\\1033.bmp',\n",
       "  'nums': [{'box': [[287, 184], [381, 221], [289, 211], [380, 195]],\n",
       "    'bbox': [288, 184, 380, 221]}]},\n",
       " {'file': 'C:/Users/krvet/Desktop/MADE/CV/HW2/contest02_data/data/test\\\\1034.bmp',\n",
       "  'nums': [{'box': [[328, 172], [389, 185], [329, 186], [388, 170]],\n",
       "    'bbox': [329, 171, 388, 186]}]},\n",
       " {'file': 'C:/Users/krvet/Desktop/MADE/CV/HW2/contest02_data/data/test\\\\1035.jpg',\n",
       "  'nums': [{'box': [[319, 706], [539, 765], [323, 762], [534, 713]],\n",
       "    'bbox': [321, 704, 535, 768]}]},\n",
       " {'file': 'C:/Users/krvet/Desktop/MADE/CV/HW2/contest02_data/data/test\\\\1036.jpg',\n",
       "  'nums': [{'box': [[986, 714], [575, 796], [582, 712], [979, 798]],\n",
       "    'bbox': [581, 710, 980, 796]}]},\n",
       " {'file': 'C:/Users/krvet/Desktop/MADE/CV/HW2/contest02_data/data/test\\\\1037.bmp',\n",
       "  'nums': [{'box': [[235, 288], [34, 330], [39, 289], [230, 330]],\n",
       "    'bbox': [37, 287, 232, 330]}]},\n",
       " {'file': 'C:/Users/krvet/Desktop/MADE/CV/HW2/contest02_data/data/test\\\\1038.jpg',\n",
       "  'nums': [{'box': [[450, 748], [912, 840], [461, 840], [904, 748]],\n",
       "    'bbox': [456, 745, 905, 841]}]},\n",
       " {'file': 'C:/Users/krvet/Desktop/MADE/CV/HW2/contest02_data/data/test\\\\1039.bmp',\n",
       "  'nums': [{'box': [[401, 247], [306, 267], [308, 247], [399, 268]],\n",
       "    'bbox': [308, 247, 400, 267]}]},\n",
       " {'file': 'C:/Users/krvet/Desktop/MADE/CV/HW2/contest02_data/data/test\\\\104.jpg',\n",
       "  'nums': [{'box': [[595, 828], [459, 858], [465, 829], [593, 858]],\n",
       "    'bbox': [461, 827, 593, 858]}]},\n",
       " {'file': 'C:/Users/krvet/Desktop/MADE/CV/HW2/contest02_data/data/test\\\\1040.bmp',\n",
       "  'nums': [{'box': [[345, 230], [163, 328], [163, 280], [339, 275]],\n",
       "    'bbox': [158, 228, 344, 329]}]},\n",
       " {'file': 'C:/Users/krvet/Desktop/MADE/CV/HW2/contest02_data/data/test\\\\1041.bmp',\n",
       "  'nums': [{'box': [[153, 239], [43, 294], [44, 261], [150, 270]],\n",
       "    'bbox': [43, 239, 151, 295]}]},\n",
       " {'file': 'C:/Users/krvet/Desktop/MADE/CV/HW2/contest02_data/data/test\\\\1042.jpg',\n",
       "  'nums': [{'box': [[278, 268], [230, 281], [231, 269], [278, 280]],\n",
       "    'bbox': [231, 269, 278, 281]}]},\n",
       " {'file': 'C:/Users/krvet/Desktop/MADE/CV/HW2/contest02_data/data/test\\\\1043.jpg',\n",
       "  'nums': [{'box': [[653, 407], [542, 459], [544, 429], [651, 438]],\n",
       "    'bbox': [544, 406, 651, 459]}]},\n",
       " {'file': 'C:/Users/krvet/Desktop/MADE/CV/HW2/contest02_data/data/test\\\\1044.jpg',\n",
       "  'nums': [{'box': [[98, 582], [224, 638], [101, 629], [222, 589]],\n",
       "    'bbox': [100, 582, 223, 638]}]},\n",
       " {'file': 'C:/Users/krvet/Desktop/MADE/CV/HW2/contest02_data/data/test\\\\1045.bmp',\n",
       "  'nums': [{'box': [[318, 236], [531, 285], [324, 280], [529, 235]],\n",
       "    'bbox': [321, 235, 528, 285]}]},\n",
       " {'file': 'C:/Users/krvet/Desktop/MADE/CV/HW2/contest02_data/data/test\\\\1046.jpg',\n",
       "  'nums': [{'box': [[627, 835], [456, 879], [459, 842], [624, 882]],\n",
       "    'bbox': [459, 833, 624, 882]},\n",
       "   {'box': [[213, 751], [305, 771], [216, 772], [305, 749]],\n",
       "    'bbox': [215, 748, 303, 771]}]},\n",
       " {'file': 'C:/Users/krvet/Desktop/MADE/CV/HW2/contest02_data/data/test\\\\1047.bmp',\n",
       "  'nums': [{'box': [[301, 228], [454, 280], [305, 266], [451, 239]],\n",
       "    'bbox': [303, 224, 452, 280]}]},\n",
       " {'file': 'C:/Users/krvet/Desktop/MADE/CV/HW2/contest02_data/data/test\\\\1048.jpg',\n",
       "  'nums': [{'box': [[572, 453], [308, 511], [314, 457], [565, 516]],\n",
       "    'bbox': [312, 452, 568, 517]}]},\n",
       " {'file': 'C:/Users/krvet/Desktop/MADE/CV/HW2/contest02_data/data/test\\\\1049.jpg',\n",
       "  'nums': [{'box': [[354, 674], [532, 770], [359, 728], [529, 712]],\n",
       "    'bbox': [355, 674, 529, 770]}]},\n",
       " {'file': 'C:/Users/krvet/Desktop/MADE/CV/HW2/contest02_data/data/test\\\\105.jpg',\n",
       "  'nums': [{'box': [[100, 449], [202, 507], [102, 482], [201, 471]],\n",
       "    'bbox': [101, 449, 201, 507]}]},\n",
       " {'file': 'C:/Users/krvet/Desktop/MADE/CV/HW2/contest02_data/data/test\\\\1050.jpg',\n",
       "  'nums': [{'box': [[1491, 822], [1125, 903], [1135, 823], [1481, 902]],\n",
       "    'bbox': [1131, 818, 1485, 905]}]},\n",
       " {'file': 'C:/Users/krvet/Desktop/MADE/CV/HW2/contest02_data/data/test\\\\1051.bmp',\n",
       "  'nums': [{'box': [[258, 192], [153, 237], [154, 207], [253, 221]],\n",
       "    'bbox': [154, 190, 256, 237]}]},\n",
       " {'file': 'C:/Users/krvet/Desktop/MADE/CV/HW2/contest02_data/data/test\\\\1052.jpg',\n",
       "  'nums': [{'box': [[645, 366], [477, 415], [478, 373], [641, 408]],\n",
       "    'bbox': [479, 365, 642, 415]}]},\n",
       " {'file': 'C:/Users/krvet/Desktop/MADE/CV/HW2/contest02_data/data/test\\\\1053.bmp',\n",
       "  'nums': [{'box': [[428, 140], [313, 174], [316, 149], [426, 165]],\n",
       "    'bbox': [315, 139, 426, 174]},\n",
       "   {'box': [[70, 167], [3, 189], [6, 172], [68, 185]],\n",
       "    'bbox': [4, 167, 69, 189]}]},\n",
       " {'file': 'C:/Users/krvet/Desktop/MADE/CV/HW2/contest02_data/data/test\\\\1054.jpg',\n",
       "  'nums': [{'box': [[326, 540], [460, 605], [331, 593], [456, 542]],\n",
       "    'bbox': [324, 538, 458, 605]}]},\n",
       " {'file': 'C:/Users/krvet/Desktop/MADE/CV/HW2/contest02_data/data/test\\\\1055.jpeg',\n",
       "  'nums': [{'box': [[759, 351], [845, 370], [761, 371], [845, 349]],\n",
       "    'bbox': [760, 348, 844, 371]}]},\n",
       " {'file': 'C:/Users/krvet/Desktop/MADE/CV/HW2/contest02_data/data/test\\\\1056.jpg',\n",
       "  'nums': [{'box': [[336, 254], [280, 272], [281, 258], [332, 269]],\n",
       "    'bbox': [281, 254, 335, 272]}]},\n",
       " {'file': 'C:/Users/krvet/Desktop/MADE/CV/HW2/contest02_data/data/test\\\\1057.jpg',\n",
       "  'nums': [{'box': [[446, 487], [670, 531], [448, 532], [665, 485]],\n",
       "    'bbox': [449, 484, 668, 531]}]},\n",
       " {'file': 'C:/Users/krvet/Desktop/MADE/CV/HW2/contest02_data/data/test\\\\1058.jpg',\n",
       "  'nums': [{'box': [[1046, 1167], [609, 1287], [620, 1201], [1034, 1254]],\n",
       "    'bbox': [614, 1165, 1040, 1288]}]},\n",
       " {'file': 'C:/Users/krvet/Desktop/MADE/CV/HW2/contest02_data/data/test\\\\1059.bmp',\n",
       "  'nums': [{'box': [[82, 225], [219, 260], [85, 259], [218, 226]],\n",
       "    'bbox': [84, 225, 217, 259]}]},\n",
       " {'file': 'C:/Users/krvet/Desktop/MADE/CV/HW2/contest02_data/data/test\\\\106.jpg',\n",
       "  'nums': [{'box': [[249, 730], [449, 823], [255, 790], [442, 760]],\n",
       "    'bbox': [252, 727, 446, 824]}]},\n",
       " {'file': 'C:/Users/krvet/Desktop/MADE/CV/HW2/contest02_data/data/test\\\\1060.bmp',\n",
       "  'nums': [{'box': [[163, 179], [62, 219], [62, 191], [159, 206]],\n",
       "    'bbox': [63, 179, 161, 218]}]},\n",
       " {'file': 'C:/Users/krvet/Desktop/MADE/CV/HW2/contest02_data/data/test\\\\1061.jpg',\n",
       "  'nums': [{'box': [[533, 358], [635, 382], [536, 380], [632, 360]],\n",
       "    'bbox': [535, 358, 633, 382]},\n",
       "   {'box': [[49, 334], [121, 355], [51, 355], [120, 336]],\n",
       "    'bbox': [51, 334, 120, 355]}]},\n",
       " {'file': 'C:/Users/krvet/Desktop/MADE/CV/HW2/contest02_data/data/test\\\\1062.jpg',\n",
       "  'nums': [{'box': [[1047, 691], [877, 761], [882, 723], [1041, 731]],\n",
       "    'bbox': [879, 689, 1044, 762]}]},\n",
       " {'file': 'C:/Users/krvet/Desktop/MADE/CV/HW2/contest02_data/data/test\\\\1063.jpg',\n",
       "  'nums': [{'box': [[324, 762], [635, 866], [329, 830], [629, 794]],\n",
       "    'bbox': [329, 759, 631, 869]}]},\n",
       " {'file': 'C:/Users/krvet/Desktop/MADE/CV/HW2/contest02_data/data/test\\\\1064.jpg',\n",
       "  'nums': [{'box': [[1244, 542], [1064, 622], [1065, 567], [1243, 594]],\n",
       "    'bbox': [1066, 542, 1242, 622]}]},\n",
       " {'file': 'C:/Users/krvet/Desktop/MADE/CV/HW2/contest02_data/data/test\\\\1065.bmp',\n",
       "  'nums': [{'box': [[510, 232], [405, 257], [406, 238], [507, 259]],\n",
       "    'bbox': [406, 231, 509, 262]}]},\n",
       " {'file': 'C:/Users/krvet/Desktop/MADE/CV/HW2/contest02_data/data/test\\\\1066.bmp',\n",
       "  'nums': [{'box': [[176, 228], [250, 246], [178, 248], [246, 226]],\n",
       "    'bbox': [177, 227, 249, 247]}]},\n",
       " {'file': 'C:/Users/krvet/Desktop/MADE/CV/HW2/contest02_data/data/test\\\\1067.jpg',\n",
       "  'nums': [{'box': [[392, 557], [460, 573], [393, 574], [459, 556]],\n",
       "    'bbox': [393, 557, 459, 573]}]},\n",
       " {'file': 'C:/Users/krvet/Desktop/MADE/CV/HW2/contest02_data/data/test\\\\1068.jpg',\n",
       "  'nums': [{'box': [[52, 688], [174, 763], [57, 726], [174, 722]],\n",
       "    'bbox': [53, 688, 172, 762]}]},\n",
       " {'file': 'C:/Users/krvet/Desktop/MADE/CV/HW2/contest02_data/data/test\\\\1069.bmp',\n",
       "  'nums': [{'box': [[28, 223], [182, 256], [29, 256], [181, 221]],\n",
       "    'bbox': [31, 221, 179, 256]}]},\n",
       " {'file': 'C:/Users/krvet/Desktop/MADE/CV/HW2/contest02_data/data/test\\\\107.jpg',\n",
       "  'nums': [{'box': [[952, 491], [874, 522], [876, 497], [951, 518]],\n",
       "    'bbox': [874, 491, 952, 522]}]},\n",
       " {'file': 'C:/Users/krvet/Desktop/MADE/CV/HW2/contest02_data/data/test\\\\1070.jpg',\n",
       "  'nums': [{'box': [[578, 793], [744, 825], [579, 827], [743, 789]],\n",
       "    'bbox': [581, 790, 741, 827]}]},\n",
       " {'file': 'C:/Users/krvet/Desktop/MADE/CV/HW2/contest02_data/data/test\\\\1071.jpg',\n",
       "  'nums': [{'box': [[373, 478], [230, 521], [233, 490], [369, 510]],\n",
       "    'bbox': [232, 477, 371, 522]},\n",
       "   {'box': [[653, 303], [587, 321], [589, 304], [652, 321]],\n",
       "    'bbox': [588, 303, 652, 321]},\n",
       "   {'box': [[641, 494], [579, 517], [581, 502], [639, 511]],\n",
       "    'bbox': [580, 494, 639, 517]}]},\n",
       " {'file': 'C:/Users/krvet/Desktop/MADE/CV/HW2/contest02_data/data/test\\\\1072.jpg',\n",
       "  'nums': [{'box': [[1263, 694], [1123, 769], [1120, 717], [1264, 742]],\n",
       "    'bbox': [1120, 691, 1263, 771]}]},\n",
       " {'file': 'C:/Users/krvet/Desktop/MADE/CV/HW2/contest02_data/data/test\\\\1073.bmp',\n",
       "  'nums': [{'box': [[90, 182], [236, 212], [92, 212], [235, 181]],\n",
       "    'bbox': [92, 181, 234, 212]}]},\n",
       " {'file': 'C:/Users/krvet/Desktop/MADE/CV/HW2/contest02_data/data/test\\\\1074.jpg',\n",
       "  'nums': [{'box': [[347, 372], [582, 426], [354, 423], [572, 375]],\n",
       "    'bbox': [351, 372, 579, 426]}]},\n",
       " {'file': 'C:/Users/krvet/Desktop/MADE/CV/HW2/contest02_data/data/test\\\\1075.bmp',\n",
       "  'nums': [{'box': [[376, 322], [235, 379], [235, 346], [373, 353]],\n",
       "    'bbox': [232, 320, 374, 380]}]},\n",
       " {'file': 'C:/Users/krvet/Desktop/MADE/CV/HW2/contest02_data/data/test\\\\1076.jpg',\n",
       "  'nums': [{'box': [[1228, 728], [980, 834], [984, 770], [1225, 788]],\n",
       "    'bbox': [983, 724, 1226, 835]}]},\n",
       " {'file': 'C:/Users/krvet/Desktop/MADE/CV/HW2/contest02_data/data/test\\\\1077.bmp',\n",
       "  'nums': [{'box': [[166, 250], [56, 286], [55, 261], [162, 277]],\n",
       "    'bbox': [56, 249, 164, 287]}]},\n",
       " {'file': 'C:/Users/krvet/Desktop/MADE/CV/HW2/contest02_data/data/test\\\\1078.jpg',\n",
       "  'nums': [{'box': [[1236, 555], [958, 609], [964, 558], [1227, 612]],\n",
       "    'bbox': [963, 553, 1231, 613]}]},\n",
       " {'file': 'C:/Users/krvet/Desktop/MADE/CV/HW2/contest02_data/data/test\\\\1079.jpg',\n",
       "  'nums': [{'box': [[481, 262], [394, 287], [398, 267], [480, 284]],\n",
       "    'bbox': [395, 261, 480, 287]}]},\n",
       " {'file': 'C:/Users/krvet/Desktop/MADE/CV/HW2/contest02_data/data/test\\\\108.jpg',\n",
       "  'nums': [{'box': [[875, 1057], [1444, 1161], [878, 1167], [1436, 1044]],\n",
       "    'bbox': [884, 1045, 1435, 1166]}]},\n",
       " {'file': 'C:/Users/krvet/Desktop/MADE/CV/HW2/contest02_data/data/test\\\\1080.bmp',\n",
       "  'nums': [{'box': [[248, 175], [148, 223], [147, 197], [245, 201]],\n",
       "    'bbox': [146, 173, 248, 226]}]},\n",
       " {'file': 'C:/Users/krvet/Desktop/MADE/CV/HW2/contest02_data/data/test\\\\1081.bmp',\n",
       "  'nums': [{'box': [[15, 124], [227, 174], [21, 169], [222, 131]],\n",
       "    'bbox': [17, 122, 224, 174]}]},\n",
       " {'file': 'C:/Users/krvet/Desktop/MADE/CV/HW2/contest02_data/data/test\\\\1082.jpg',\n",
       "  'nums': [{'box': [[182, 338], [306, 367], [183, 367], [304, 340]],\n",
       "    'bbox': [183, 338, 304, 367]}]},\n",
       " {'file': 'C:/Users/krvet/Desktop/MADE/CV/HW2/contest02_data/data/test\\\\1083.bmp',\n",
       "  'nums': [{'box': [[174, 247], [286, 294], [177, 279], [283, 260]],\n",
       "    'bbox': [175, 244, 284, 296]}]},\n",
       " {'file': 'C:/Users/krvet/Desktop/MADE/CV/HW2/contest02_data/data/test\\\\1084.jpg',\n",
       "  'nums': [{'box': [[218, 366], [145, 382], [147, 366], [217, 383]],\n",
       "    'bbox': [146, 365, 216, 382]}]},\n",
       " {'file': 'C:/Users/krvet/Desktop/MADE/CV/HW2/contest02_data/data/test\\\\1085.jpg',\n",
       "  'nums': [{'box': [[1540, 496], [1689, 531], [1541, 531], [1688, 494]],\n",
       "    'bbox': [1542, 494, 1687, 530]},\n",
       "   {'box': [[607, 659], [963, 695], [614, 706], [953, 623]],\n",
       "    'bbox': [612, 623, 957, 706]}]},\n",
       " {'file': 'C:/Users/krvet/Desktop/MADE/CV/HW2/contest02_data/data/test\\\\1086.jpg',\n",
       "  'nums': [{'box': [[642, 383], [542, 448], [547, 417], [640, 415]],\n",
       "    'bbox': [544, 384, 640, 447]}]},\n",
       " {'file': 'C:/Users/krvet/Desktop/MADE/CV/HW2/contest02_data/data/test\\\\1087.bmp',\n",
       "  'nums': []},\n",
       " {'file': 'C:/Users/krvet/Desktop/MADE/CV/HW2/contest02_data/data/test\\\\1088.jpg',\n",
       "  'nums': [{'box': [[1065, 623], [730, 700], [737, 631], [1059, 690]],\n",
       "    'bbox': [735, 620, 1060, 701]}]},\n",
       " {'file': 'C:/Users/krvet/Desktop/MADE/CV/HW2/contest02_data/data/test\\\\1089.jpg',\n",
       "  'nums': [{'box': [[326, 486], [493, 510], [326, 515], [492, 480]],\n",
       "    'bbox': [328, 480, 490, 515]}]},\n",
       " {'file': 'C:/Users/krvet/Desktop/MADE/CV/HW2/contest02_data/data/test\\\\109.jpg',\n",
       "  'nums': [{'box': [[894, 421], [799, 475], [802, 440], [892, 457]],\n",
       "    'bbox': [801, 420, 892, 475]}]},\n",
       " {'file': 'C:/Users/krvet/Desktop/MADE/CV/HW2/contest02_data/data/test\\\\1090.jpg',\n",
       "  'nums': [{'box': [[407, 972], [762, 1071], [417, 1057], [756, 989]],\n",
       "    'bbox': [413, 969, 756, 1072]}]},\n",
       " {'file': 'C:/Users/krvet/Desktop/MADE/CV/HW2/contest02_data/data/test\\\\1091.jpg',\n",
       "  'nums': [{'box': [[491, 760], [620, 793], [492, 793], [616, 759]],\n",
       "    'bbox': [493, 759, 618, 792]},\n",
       "   {'box': [[1288, 645], [1384, 667], [1289, 667], [1383, 644]],\n",
       "    'bbox': [1289, 644, 1383, 667]}]},\n",
       " {'file': 'C:/Users/krvet/Desktop/MADE/CV/HW2/contest02_data/data/test\\\\1092.jpg',\n",
       "  'nums': [{'box': [[237, 625], [549, 806], [246, 709], [547, 721]],\n",
       "    'bbox': [240, 625, 545, 807]}]},\n",
       " {'file': 'C:/Users/krvet/Desktop/MADE/CV/HW2/contest02_data/data/test\\\\1093.jpg',\n",
       "  'nums': [{'box': [[695, 451], [1026, 517], [697, 520], [1020, 446]],\n",
       "    'bbox': [700, 446, 1021, 519]}]},\n",
       " {'file': 'C:/Users/krvet/Desktop/MADE/CV/HW2/contest02_data/data/test\\\\1094.jpg',\n",
       "  'nums': [{'box': [[578, 566], [836, 619], [584, 620], [829, 562]],\n",
       "    'bbox': [582, 562, 832, 619]}]},\n",
       " {'file': 'C:/Users/krvet/Desktop/MADE/CV/HW2/contest02_data/data/test\\\\1095.bmp',\n",
       "  'nums': [{'box': [[201, 253], [83, 300], [87, 266], [196, 284]],\n",
       "    'bbox': [84, 251, 201, 300]}]},\n",
       " {'file': 'C:/Users/krvet/Desktop/MADE/CV/HW2/contest02_data/data/test\\\\1096.bmp',\n",
       "  'nums': [{'box': [[297, 228], [374, 244], [297, 245], [373, 226]],\n",
       "    'bbox': [298, 227, 373, 244]}]},\n",
       " {'file': 'C:/Users/krvet/Desktop/MADE/CV/HW2/contest02_data/data/test\\\\1097.png',\n",
       "  'nums': [{'box': [[1497, 803], [1612, 830], [1497, 832], [1610, 801]],\n",
       "    'bbox': [1498, 801, 1610, 832]}]},\n",
       " {'file': 'C:/Users/krvet/Desktop/MADE/CV/HW2/contest02_data/data/test\\\\1098.jpg',\n",
       "  'nums': [{'box': [[890, 1000], [1139, 1048], [891, 1049], [1136, 999]],\n",
       "    'bbox': [894, 1000, 1135, 1049]}]},\n",
       " {'file': 'C:/Users/krvet/Desktop/MADE/CV/HW2/contest02_data/data/test\\\\1099.jpg',\n",
       "  'nums': [{'box': [[208, 830], [453, 913], [218, 892], [444, 850]],\n",
       "    'bbox': [211, 829, 449, 914]}]},\n",
       " {'file': 'C:/Users/krvet/Desktop/MADE/CV/HW2/contest02_data/data/test\\\\11.jpg',\n",
       "  'nums': [{'box': [[304, 296], [457, 326], [304, 327], [456, 293]],\n",
       "    'bbox': [306, 293, 454, 327]}]},\n",
       " {'file': 'C:/Users/krvet/Desktop/MADE/CV/HW2/contest02_data/data/test\\\\110.jpg',\n",
       "  'nums': [{'box': [[203, 583], [446, 680], [211, 642], [443, 620]],\n",
       "    'bbox': [206, 582, 442, 680]}]},\n",
       " {'file': 'C:/Users/krvet/Desktop/MADE/CV/HW2/contest02_data/data/test\\\\1100.jpg',\n",
       "  'nums': [{'box': [[1177, 555], [962, 649], [967, 585], [1170, 613]],\n",
       "    'bbox': [966, 555, 1175, 651]}]},\n",
       " {'file': 'C:/Users/krvet/Desktop/MADE/CV/HW2/contest02_data/data/test\\\\1101.bmp',\n",
       "  'nums': [{'box': [[202, 304], [310, 366], [205, 337], [308, 327]],\n",
       "    'bbox': [201, 302, 308, 367]}]},\n",
       " {'file': 'C:/Users/krvet/Desktop/MADE/CV/HW2/contest02_data/data/test\\\\1102.bmp',\n",
       "  'nums': [{'box': [[660, 1125], [393, 1188], [404, 1135], [648, 1180]],\n",
       "    'bbox': [396, 1123, 656, 1190]},\n",
       "   {'box': [[1571, 1013], [1428, 1055], [1429, 1015], [1569, 1057]],\n",
       "    'bbox': [1426, 1012, 1569, 1057]}]},\n",
       " {'file': 'C:/Users/krvet/Desktop/MADE/CV/HW2/contest02_data/data/test\\\\1103.bmp',\n",
       "  'nums': [{'box': [[213, 169], [89, 223], [85, 188], [214, 204]],\n",
       "    'bbox': [85, 169, 215, 224]}]},\n",
       " {'file': 'C:/Users/krvet/Desktop/MADE/CV/HW2/contest02_data/data/test\\\\1104.jpg',\n",
       "  'nums': [{'box': [[616, 929], [1141, 1026], [631, 1035], [1134, 923]],\n",
       "    'bbox': [625, 924, 1132, 1044]}]},\n",
       " {'file': 'C:/Users/krvet/Desktop/MADE/CV/HW2/contest02_data/data/test\\\\1105.jpg',\n",
       "  'nums': [{'box': [[280, 471], [163, 498], [165, 472], [277, 497]],\n",
       "    'bbox': [165, 468, 278, 498]}]},\n",
       " {'file': 'C:/Users/krvet/Desktop/MADE/CV/HW2/contest02_data/data/test\\\\1106.jpg',\n",
       "  'nums': [{'box': [[706, 360], [594, 399], [595, 375], [704, 385]],\n",
       "    'bbox': [596, 359, 704, 399]}]},\n",
       " {'file': 'C:/Users/krvet/Desktop/MADE/CV/HW2/contest02_data/data/test\\\\1107.jpg',\n",
       "  'nums': [{'box': [[486, 478], [612, 506], [488, 507], [609, 478]],\n",
       "    'bbox': [487, 478, 610, 507]}]},\n",
       " {'file': 'C:/Users/krvet/Desktop/MADE/CV/HW2/contest02_data/data/test\\\\1108.jpg',\n",
       "  'nums': [{'box': [[624, 872], [844, 916], [626, 917], [838, 867]],\n",
       "    'bbox': [627, 868, 840, 916]},\n",
       "   {'box': [[845, 635], [549, 701], [556, 641], [838, 689]],\n",
       "    'bbox': [553, 625, 841, 701]}]},\n",
       " {'file': 'C:/Users/krvet/Desktop/MADE/CV/HW2/contest02_data/data/test\\\\1109.jpg',\n",
       "  'nums': [{'box': [[1730, 1267], [1548, 1354], [1551, 1292], [1724, 1333]],\n",
       "    'bbox': [1550, 1266, 1728, 1356]}]},\n",
       " {'file': 'C:/Users/krvet/Desktop/MADE/CV/HW2/contest02_data/data/test\\\\111.jpg',\n",
       "  'nums': [{'box': [[1154, 456], [986, 508], [987, 466], [1149, 497]],\n",
       "    'bbox': [987, 451, 1152, 513]}]},\n",
       " {'file': 'C:/Users/krvet/Desktop/MADE/CV/HW2/contest02_data/data/test\\\\1110.jpg',\n",
       "  'nums': [{'box': [[833, 453], [689, 510], [692, 470], [829, 495]],\n",
       "    'bbox': [691, 451, 831, 510]}]},\n",
       " {'file': 'C:/Users/krvet/Desktop/MADE/CV/HW2/contest02_data/data/test\\\\1111.jpg',\n",
       "  'nums': [{'box': [[1224, 1364], [350, 1703], [358, 1502], [1216, 1546]],\n",
       "    'bbox': [363, 1356, 1213, 1706]},\n",
       "   {'box': [[3637, 541], [4090, 679], [3651, 662], [4063, 554]],\n",
       "    'bbox': [3643, 539, 4084, 681]}]},\n",
       " {'file': 'C:/Users/krvet/Desktop/MADE/CV/HW2/contest02_data/data/test\\\\1112.bmp',\n",
       "  'nums': [{'box': [[455, 202], [301, 244], [306, 211], [452, 234]],\n",
       "    'bbox': [303, 200, 453, 244]}]},\n",
       " {'file': 'C:/Users/krvet/Desktop/MADE/CV/HW2/contest02_data/data/test\\\\1113.jpg',\n",
       "  'nums': [{'box': [[1693, 682], [1417, 767], [1422, 701], [1686, 754]],\n",
       "    'bbox': [1418, 678, 1689, 776]}]},\n",
       " {'file': 'C:/Users/krvet/Desktop/MADE/CV/HW2/contest02_data/data/test\\\\1114.jpg',\n",
       "  'nums': [{'box': [[987, 433], [834, 485], [837, 446], [982, 472]],\n",
       "    'bbox': [836, 431, 985, 485]},\n",
       "   {'box': [[204, 282], [116, 306], [118, 285], [202, 307]],\n",
       "    'bbox': [117, 282, 203, 307]}]},\n",
       " {'file': 'C:/Users/krvet/Desktop/MADE/CV/HW2/contest02_data/data/test\\\\1115.jpg',\n",
       "  'nums': [{'box': [[451, 656], [728, 726], [458, 726], [720, 664]],\n",
       "    'bbox': [454, 652, 724, 731]}]},\n",
       " {'file': 'C:/Users/krvet/Desktop/MADE/CV/HW2/contest02_data/data/test\\\\1116.jpg',\n",
       "  'nums': [{'box': [[1380, 964], [1120, 1056], [1123, 996], [1375, 1025]],\n",
       "    'bbox': [1124, 962, 1376, 1059]}]},\n",
       " {'file': 'C:/Users/krvet/Desktop/MADE/CV/HW2/contest02_data/data/test\\\\1117.jpg',\n",
       "  'nums': [{'box': [[1471, 742], [1322, 833], [1329, 784], [1466, 794]],\n",
       "    'bbox': [1324, 741, 1469, 832]},\n",
       "   {'box': [[214, 796], [1, 877], [7, 831], [209, 842]],\n",
       "    'bbox': [3, 792, 210, 878]}]},\n",
       " {'file': 'C:/Users/krvet/Desktop/MADE/CV/HW2/contest02_data/data/test\\\\1118.bmp',\n",
       "  'nums': [{'box': [[405, 113], [280, 140], [286, 115], [404, 141]],\n",
       "    'bbox': [282, 112, 403, 141]}]},\n",
       " {'file': 'C:/Users/krvet/Desktop/MADE/CV/HW2/contest02_data/data/test\\\\1119.jpg',\n",
       "  'nums': [{'box': [[753, 814], [1090, 884], [758, 883], [1082, 819]],\n",
       "    'bbox': [758, 813, 1085, 887]}]},\n",
       " {'file': 'C:/Users/krvet/Desktop/MADE/CV/HW2/contest02_data/data/test\\\\112.bmp',\n",
       "  'nums': [{'box': [[412, 215], [322, 242], [323, 220], [411, 242]],\n",
       "    'bbox': [323, 215, 410, 242]}]},\n",
       " {'file': 'C:/Users/krvet/Desktop/MADE/CV/HW2/contest02_data/data/test\\\\1120.bmp',\n",
       "  'nums': [{'box': [[129, 281], [228, 311], [133, 311], [225, 281]],\n",
       "    'bbox': [130, 281, 227, 311]}]},\n",
       " {'file': 'C:/Users/krvet/Desktop/MADE/CV/HW2/contest02_data/data/test\\\\1121.jpg',\n",
       "  'nums': [{'box': [[230, 291], [393, 324], [241, 324], [392, 293]],\n",
       "    'bbox': [233, 289, 391, 325]}]},\n",
       " {'file': 'C:/Users/krvet/Desktop/MADE/CV/HW2/contest02_data/data/test\\\\1122.jpg',\n",
       "  'nums': [{'box': [[257, 428], [381, 456], [261, 456], [378, 429]],\n",
       "    'bbox': [258, 427, 379, 456]}]},\n",
       " {'file': 'C:/Users/krvet/Desktop/MADE/CV/HW2/contest02_data/data/test\\\\1123.jpg',\n",
       "  'nums': [{'box': [[616, 565], [937, 644], [627, 634], [928, 577]],\n",
       "    'bbox': [620, 564, 932, 645]}]},\n",
       " {'file': 'C:/Users/krvet/Desktop/MADE/CV/HW2/contest02_data/data/test\\\\1124.jpg',\n",
       "  'nums': [{'box': [[227, 361], [444, 402], [229, 403], [440, 359]],\n",
       "    'bbox': [231, 359, 441, 403]}]},\n",
       " {'file': 'C:/Users/krvet/Desktop/MADE/CV/HW2/contest02_data/data/test\\\\1125.jpg',\n",
       "  'nums': [{'box': [[596, 686], [893, 751], [602, 749], [886, 689]],\n",
       "    'bbox': [600, 685, 889, 751]}]},\n",
       " {'file': 'C:/Users/krvet/Desktop/MADE/CV/HW2/contest02_data/data/test\\\\1126.bmp',\n",
       "  'nums': [{'box': [[247, 220], [349, 196], [349, 220], [251, 196]],\n",
       "    'bbox': [249, 196, 347, 220]},\n",
       "   {'box': [[74, 173], [134, 185], [75, 186], [134, 172]],\n",
       "    'bbox': [75, 172, 133, 186]}]},\n",
       " {'file': 'C:/Users/krvet/Desktop/MADE/CV/HW2/contest02_data/data/test\\\\1127.jpg',\n",
       "  'nums': [{'box': [[501, 579], [373, 621], [376, 591], [500, 610]],\n",
       "    'bbox': [375, 580, 499, 621]}]},\n",
       " {'file': 'C:/Users/krvet/Desktop/MADE/CV/HW2/contest02_data/data/test\\\\1128.jpg',\n",
       "  'nums': [{'box': [[1481, 614], [1298, 664], [1303, 615], [1476, 665]],\n",
       "    'bbox': [1300, 609, 1479, 673]}]},\n",
       " {'file': 'C:/Users/krvet/Desktop/MADE/CV/HW2/contest02_data/data/test\\\\1129.jpg',\n",
       "  'nums': [{'box': [[1332, 767], [1076, 826], [1080, 767], [1324, 825]],\n",
       "    'bbox': [1080, 765, 1328, 827]}]},\n",
       " {'file': 'C:/Users/krvet/Desktop/MADE/CV/HW2/contest02_data/data/test\\\\113.bmp',\n",
       "  'nums': [{'box': [[464, 326], [628, 394], [467, 360], [625, 350]],\n",
       "    'bbox': [467, 325, 625, 395]}]},\n",
       " {'file': 'C:/Users/krvet/Desktop/MADE/CV/HW2/contest02_data/data/test\\\\1130.jpg',\n",
       "  'nums': [{'box': [[139, 615], [275, 661], [143, 653], [272, 621]],\n",
       "    'bbox': [141, 614, 274, 660]}]},\n",
       " {'file': 'C:/Users/krvet/Desktop/MADE/CV/HW2/contest02_data/data/test\\\\1131.jpg',\n",
       "  'nums': [{'box': [[252, 581], [532, 681], [255, 642], [528, 611]],\n",
       "    'bbox': [256, 578, 528, 682]}]},\n",
       " {'file': 'C:/Users/krvet/Desktop/MADE/CV/HW2/contest02_data/data/test\\\\1132.jpg',\n",
       "  'nums': [{'box': [[1814, 868], [1557, 1011], [1568, 934], [1810, 938]],\n",
       "    'bbox': [1560, 867, 1811, 1010]}]},\n",
       " {'file': 'C:/Users/krvet/Desktop/MADE/CV/HW2/contest02_data/data/test\\\\1133.jpg',\n",
       "  'nums': [{'box': [[2471, 1172], [1949, 1374], [1960, 1243], [2462, 1301]],\n",
       "    'bbox': [1956, 1168, 2464, 1376]}]},\n",
       " {'file': 'C:/Users/krvet/Desktop/MADE/CV/HW2/contest02_data/data/test\\\\1134.jpg',\n",
       "  'nums': [{'box': [[1621, 1143], [1215, 1294], [1231, 1199], [1611, 1235]],\n",
       "    'bbox': [1221, 1139, 1615, 1294]}]},\n",
       " {'file': 'C:/Users/krvet/Desktop/MADE/CV/HW2/contest02_data/data/test\\\\1135.jpg',\n",
       "  'nums': [{'box': [[549, 810], [970, 887], [556, 891], [965, 805]],\n",
       "    'bbox': [556, 806, 963, 890]}]},\n",
       " {'file': 'C:/Users/krvet/Desktop/MADE/CV/HW2/contest02_data/data/test\\\\1136.bmp',\n",
       "  'nums': [{'box': [[7, 198], [142, 224], [11, 228], [137, 196]],\n",
       "    'bbox': [9, 196, 141, 228]}]},\n",
       " {'file': 'C:/Users/krvet/Desktop/MADE/CV/HW2/contest02_data/data/test\\\\1137.bmp',\n",
       "  'nums': [{'box': [[193, 110], [90, 145], [92, 121], [190, 136]],\n",
       "    'bbox': [92, 109, 192, 146]}]},\n",
       " {'file': 'C:/Users/krvet/Desktop/MADE/CV/HW2/contest02_data/data/test\\\\1138.bmp',\n",
       "  'nums': [{'box': [[352, 121], [499, 161], [356, 151], [494, 126]],\n",
       "    'bbox': [354, 117, 497, 160]}]},\n",
       " {'file': 'C:/Users/krvet/Desktop/MADE/CV/HW2/contest02_data/data/test\\\\1139.jpg',\n",
       "  'nums': [{'box': [[1707, 969], [1343, 1102], [1352, 1021], [1697, 1051]],\n",
       "    'bbox': [1348, 966, 1702, 1106]}]},\n",
       " {'file': 'C:/Users/krvet/Desktop/MADE/CV/HW2/contest02_data/data/test\\\\114.jpg',\n",
       "  'nums': [{'box': [[593, 674], [866, 732], [599, 732], [858, 675]],\n",
       "    'bbox': [596, 673, 861, 733]}]},\n",
       " {'file': 'C:/Users/krvet/Desktop/MADE/CV/HW2/contest02_data/data/test\\\\1140.bmp',\n",
       "  'nums': [{'box': [[278, 206], [171, 247], [174, 222], [276, 230]],\n",
       "    'bbox': [173, 203, 276, 247]}]},\n",
       " {'file': 'C:/Users/krvet/Desktop/MADE/CV/HW2/contest02_data/data/test\\\\1141.jpg',\n",
       "  'nums': [{'box': [[279, 493], [396, 516], [281, 520], [394, 491]],\n",
       "    'bbox': [280, 491, 394, 520]}]},\n",
       " {'file': 'C:/Users/krvet/Desktop/MADE/CV/HW2/contest02_data/data/test\\\\1142.jpg',\n",
       "  'nums': [{'box': [[1402, 400], [1195, 472], [1196, 416], [1395, 458]],\n",
       "    'bbox': [1196, 398, 1399, 473]}]},\n",
       " {'file': 'C:/Users/krvet/Desktop/MADE/CV/HW2/contest02_data/data/test\\\\1144.jpg',\n",
       "  'nums': [{'box': [[229, 235], [339, 259], [229, 259], [338, 233]],\n",
       "    'bbox': [231, 232, 338, 259]}]},\n",
       " {'file': 'C:/Users/krvet/Desktop/MADE/CV/HW2/contest02_data/data/test\\\\1145.jpg',\n",
       "  'nums': [{'box': [[1163, 645], [758, 730], [766, 651], [1151, 733]],\n",
       "    'bbox': [760, 642, 1157, 734]}]},\n",
       " {'file': 'C:/Users/krvet/Desktop/MADE/CV/HW2/contest02_data/data/test\\\\1146.bmp',\n",
       "  'nums': [{'box': [[250, 167], [399, 218], [254, 203], [396, 179]],\n",
       "    'bbox': [253, 166, 397, 218]}]},\n",
       " {'file': 'C:/Users/krvet/Desktop/MADE/CV/HW2/contest02_data/data/test\\\\1147.bmp',\n",
       "  'nums': [{'box': [[356, 231], [262, 254], [263, 234], [354, 254]],\n",
       "    'bbox': [263, 231, 355, 254]}]},\n",
       " {'file': 'C:/Users/krvet/Desktop/MADE/CV/HW2/contest02_data/data/test\\\\1148.bmp',\n",
       "  'nums': [{'box': [[192, 201], [318, 230], [193, 232], [316, 198]],\n",
       "    'bbox': [193, 199, 315, 231]}]},\n",
       " {'file': 'C:/Users/krvet/Desktop/MADE/CV/HW2/contest02_data/data/test\\\\1149.jpg',\n",
       "  'nums': [{'box': [[664, 423], [456, 453], [463, 424], [596, 457]],\n",
       "    'bbox': [456, 417, 661, 464]}]},\n",
       " {'file': 'C:/Users/krvet/Desktop/MADE/CV/HW2/contest02_data/data/test\\\\115.bmp',\n",
       "  'nums': [{'box': [[125, 89], [226, 127], [128, 125], [223, 96]],\n",
       "    'bbox': [126, 90, 224, 127]}]},\n",
       " {'file': 'C:/Users/krvet/Desktop/MADE/CV/HW2/contest02_data/data/test\\\\1150.jpg',\n",
       "  'nums': [{'box': [[611, 308], [557, 336], [559, 316], [610, 326]],\n",
       "    'bbox': [558, 307, 610, 336]}]},\n",
       " {'file': 'C:/Users/krvet/Desktop/MADE/CV/HW2/contest02_data/data/test\\\\1151.bmp',\n",
       "  'nums': [{'box': [[901, 548], [1298, 618], [906, 632], [1294, 538]],\n",
       "    'bbox': [907, 539, 1292, 631]}]},\n",
       " {'file': 'C:/Users/krvet/Desktop/MADE/CV/HW2/contest02_data/data/test\\\\1152.jpg',\n",
       "  'nums': [{'box': [[322, 852], [655, 954], [331, 938], [648, 865]],\n",
       "    'bbox': [325, 847, 651, 955]}]},\n",
       " {'file': 'C:/Users/krvet/Desktop/MADE/CV/HW2/contest02_data/data/test\\\\1153.jpg',\n",
       "  'nums': [{'box': [[1787, 896], [1523, 1044], [1528, 960], [1785, 979]],\n",
       "    'bbox': [1526, 894, 1785, 1044]},\n",
       "   {'box': [[1217, 189], [1333, 218], [1223, 218], [1329, 188]],\n",
       "    'bbox': [1219, 186, 1331, 219]}]},\n",
       " {'file': 'C:/Users/krvet/Desktop/MADE/CV/HW2/contest02_data/data/test\\\\1154.jpg',\n",
       "  'nums': [{'box': [[571, 558], [841, 626], [579, 618], [835, 572]],\n",
       "    'bbox': [574, 556, 837, 626]}]},\n",
       " {'file': 'C:/Users/krvet/Desktop/MADE/CV/HW2/contest02_data/data/test\\\\1155.bmp',\n",
       "  'nums': [{'box': [[388, 173], [196, 264], [203, 217], [386, 207]],\n",
       "    'bbox': [198, 172, 392, 270]}]},\n",
       " {'file': 'C:/Users/krvet/Desktop/MADE/CV/HW2/contest02_data/data/test\\\\1156.jpg',\n",
       "  'nums': [{'box': [[366, 623], [748, 755], [377, 718], [744, 658]],\n",
       "    'bbox': [371, 619, 743, 757]}]},\n",
       " {'file': 'C:/Users/krvet/Desktop/MADE/CV/HW2/contest02_data/data/test\\\\1157.bmp',\n",
       "  'nums': [{'box': [[139, 321], [317, 377], [145, 363], [309, 334]],\n",
       "    'bbox': [141, 321, 314, 377]}]},\n",
       " {'file': 'C:/Users/krvet/Desktop/MADE/CV/HW2/contest02_data/data/test\\\\1158.bmp',\n",
       "  'nums': [{'box': [[94, 239], [236, 268], [94, 268], [236, 237]],\n",
       "    'bbox': [96, 237, 234, 268]}]},\n",
       " {'file': 'C:/Users/krvet/Desktop/MADE/CV/HW2/contest02_data/data/test\\\\1159.jpg',\n",
       "  'nums': [{'box': [[421, 290], [332, 310], [334, 291], [420, 318]],\n",
       "    'bbox': [333, 288, 420, 318]},\n",
       "   {'box': [[0, 303], [71, 334], [0, 334], [69, 302]],\n",
       "    'bbox': [0, 302, 70, 334]}]},\n",
       " {'file': 'C:/Users/krvet/Desktop/MADE/CV/HW2/contest02_data/data/test\\\\116.jpg',\n",
       "  'nums': [{'box': [[180, 625], [432, 720], [185, 683], [429, 655]],\n",
       "    'bbox': [183, 622, 428, 722]}]},\n",
       " {'file': 'C:/Users/krvet/Desktop/MADE/CV/HW2/contest02_data/data/test\\\\1160.jpg',\n",
       "  'nums': [{'box': [[439, 804], [538, 826], [439, 826], [538, 801]],\n",
       "    'bbox': [440, 800, 536, 826]}]},\n",
       " {'file': 'C:/Users/krvet/Desktop/MADE/CV/HW2/contest02_data/data/test\\\\1161.bmp',\n",
       "  'nums': [{'box': [[109, 232], [202, 250], [110, 251], [201, 232]],\n",
       "    'bbox': [110, 231, 201, 251]}]},\n",
       " {'file': 'C:/Users/krvet/Desktop/MADE/CV/HW2/contest02_data/data/test\\\\1162.jpg',\n",
       "  'nums': [{'box': [[486, 410], [286, 454], [289, 414], [480, 454]],\n",
       "    'bbox': [289, 409, 483, 454]}]},\n",
       " {'file': 'C:/Users/krvet/Desktop/MADE/CV/HW2/contest02_data/data/test\\\\1163.jpg',\n",
       "  'nums': [{'box': [[339, 456], [424, 473], [340, 473], [423, 455]],\n",
       "    'bbox': [340, 455, 423, 473]}]},\n",
       " {'file': 'C:/Users/krvet/Desktop/MADE/CV/HW2/contest02_data/data/test\\\\1164.jpg',\n",
       "  'nums': [{'box': [[214, 951], [556, 1073], [230, 1022], [550, 997]],\n",
       "    'bbox': [218, 947, 551, 1076]}]},\n",
       " {'file': 'C:/Users/krvet/Desktop/MADE/CV/HW2/contest02_data/data/test\\\\1165.jpg',\n",
       "  'nums': [{'box': [[175, 316], [301, 346], [178, 346], [298, 317]],\n",
       "    'bbox': [176, 315, 298, 347]}]},\n",
       " {'file': 'C:/Users/krvet/Desktop/MADE/CV/HW2/contest02_data/data/test\\\\1166.jpeg',\n",
       "  'nums': [{'box': [[654, 231], [535, 279], [538, 249], [652, 258]],\n",
       "    'bbox': [536, 229, 652, 280]}]},\n",
       " {'file': 'C:/Users/krvet/Desktop/MADE/CV/HW2/contest02_data/data/test\\\\1167.bmp',\n",
       "  'nums': [{'box': [[362, 154], [488, 181], [364, 183], [487, 154]],\n",
       "    'bbox': [363, 154, 486, 182]}]},\n",
       " {'file': 'C:/Users/krvet/Desktop/MADE/CV/HW2/contest02_data/data/test\\\\1168.jpg',\n",
       "  'nums': [{'box': [[1564, 533], [1309, 592], [1313, 535], [1561, 594]],\n",
       "    'bbox': [1313, 531, 1561, 592]}]},\n",
       " {'file': 'C:/Users/krvet/Desktop/MADE/CV/HW2/contest02_data/data/test\\\\1169.jpg',\n",
       "  'nums': [{'box': [[545, 817], [726, 849], [545, 853], [723, 810]],\n",
       "    'bbox': [547, 811, 724, 853]}]},\n",
       " {'file': 'C:/Users/krvet/Desktop/MADE/CV/HW2/contest02_data/data/test\\\\117.jpg',\n",
       "  'nums': [{'box': [[922, 662], [675, 713], [679, 661], [919, 715]],\n",
       "    'bbox': [679, 660, 919, 715]}]},\n",
       " {'file': 'C:/Users/krvet/Desktop/MADE/CV/HW2/contest02_data/data/test\\\\1170.bmp',\n",
       "  'nums': [{'box': [[1383, 891], [1044, 987], [1052, 915], [1377, 959]],\n",
       "    'bbox': [1048, 889, 1378, 988]}]},\n",
       " {'file': 'C:/Users/krvet/Desktop/MADE/CV/HW2/contest02_data/data/test\\\\1171.bmp',\n",
       "  'nums': [{'box': [[290, 224], [206, 243], [208, 224], [288, 244]],\n",
       "    'bbox': [207, 223, 289, 243]}]},\n",
       " {'file': 'C:/Users/krvet/Desktop/MADE/CV/HW2/contest02_data/data/test\\\\1172.jpg',\n",
       "  'nums': [{'box': [[149, 666], [368, 753], [154, 732], [363, 685]],\n",
       "    'bbox': [152, 664, 364, 754]}]},\n",
       " {'file': 'C:/Users/krvet/Desktop/MADE/CV/HW2/contest02_data/data/test\\\\1173.jpg',\n",
       "  'nums': [{'box': [[1390, 781], [1120, 880], [1126, 811], [1385, 849]],\n",
       "    'bbox': [1125, 779, 1387, 883]}]},\n",
       " {'file': 'C:/Users/krvet/Desktop/MADE/CV/HW2/contest02_data/data/test\\\\1174.jpg',\n",
       "  'nums': [{'box': [[162, 571], [218, 598], [165, 588], [215, 582]],\n",
       "    'bbox': [163, 571, 217, 598]}]},\n",
       " {'file': 'C:/Users/krvet/Desktop/MADE/CV/HW2/contest02_data/data/test\\\\1175.jpg',\n",
       "  'nums': [{'box': [[421, 822], [570, 855], [421, 855], [568, 818]],\n",
       "    'bbox': [423, 819, 568, 854]}]},\n",
       " {'file': 'C:/Users/krvet/Desktop/MADE/CV/HW2/contest02_data/data/test\\\\1176.jpg',\n",
       "  'nums': [{'box': [[1614, 509], [1230, 590], [1237, 513], [1608, 591]],\n",
       "    'bbox': [1235, 508, 1609, 591]}]},\n",
       " {'file': 'C:/Users/krvet/Desktop/MADE/CV/HW2/contest02_data/data/test\\\\1177.jpg',\n",
       "  'nums': [{'box': [[1568, 521], [1745, 549], [1570, 557], [1742, 513]],\n",
       "    'bbox': [1569, 514, 1742, 557]},\n",
       "   {'box': [[109, 621], [247, 647], [109, 649], [246, 614]],\n",
       "    'bbox': [111, 614, 246, 649]},\n",
       "   {'box': [[694, 632], [839, 658], [694, 660], [839, 627]],\n",
       "    'bbox': [696, 627, 837, 659]}]},\n",
       " {'file': 'C:/Users/krvet/Desktop/MADE/CV/HW2/contest02_data/data/test\\\\1178.jpg',\n",
       "  'nums': [{'box': [[902, 547], [530, 640], [537, 564], [889, 623]],\n",
       "    'bbox': [535, 542, 896, 640]}]},\n",
       " {'file': 'C:/Users/krvet/Desktop/MADE/CV/HW2/contest02_data/data/test\\\\1179.jpg',\n",
       "  'nums': [{'box': [[270, 622], [441, 713], [273, 676], [437, 657]],\n",
       "    'bbox': [272, 622, 438, 714]}]},\n",
       " {'file': 'C:/Users/krvet/Desktop/MADE/CV/HW2/contest02_data/data/test\\\\118.jpg',\n",
       "  'nums': [{'box': [[42, 458], [158, 561], [49, 506], [156, 512]],\n",
       "    'bbox': [40, 455, 157, 562]}]},\n",
       " {'file': 'C:/Users/krvet/Desktop/MADE/CV/HW2/contest02_data/data/test\\\\1180.jpg',\n",
       "  'nums': [{'box': [[910, 1037], [534, 1135], [540, 1060], [900, 1118]],\n",
       "    'bbox': [540, 1036, 905, 1136]}]},\n",
       " {'file': 'C:/Users/krvet/Desktop/MADE/CV/HW2/contest02_data/data/test\\\\1181.bmp',\n",
       "  'nums': [{'box': [[350, 215], [271, 273], [271, 240], [349, 244]],\n",
       "    'bbox': [272, 215, 349, 273]}]},\n",
       " {'file': 'C:/Users/krvet/Desktop/MADE/CV/HW2/contest02_data/data/test\\\\1182.jpg',\n",
       "  'nums': [{'box': [[1204, 720], [1678, 874], [1217, 824], [1668, 762]],\n",
       "    'bbox': [1210, 720, 1671, 875]}]},\n",
       " {'file': 'C:/Users/krvet/Desktop/MADE/CV/HW2/contest02_data/data/test\\\\1183.jpg',\n",
       "  'nums': [{'box': [[118, 618], [374, 733], [124, 685], [369, 659]],\n",
       "    'bbox': [122, 617, 370, 734]}]},\n",
       " {'file': 'C:/Users/krvet/Desktop/MADE/CV/HW2/contest02_data/data/test\\\\1184.jpg',\n",
       "  'nums': [{'box': [[748, 852], [466, 913], [474, 855], [739, 911]],\n",
       "    'bbox': [470, 847, 744, 918]}]},\n",
       " {'file': 'C:/Users/krvet/Desktop/MADE/CV/HW2/contest02_data/data/test\\\\1185.jpg',\n",
       "  'nums': [{'box': [[812, 340], [705, 380], [707, 352], [815, 373]],\n",
       "    'bbox': [707, 340, 817, 384]}]},\n",
       " {'file': 'C:/Users/krvet/Desktop/MADE/CV/HW2/contest02_data/data/test\\\\1186.jpg',\n",
       "  'nums': [{'box': [[522, 575], [861, 647], [531, 647], [851, 576]],\n",
       "    'bbox': [527, 573, 856, 647]}]},\n",
       " {'file': 'C:/Users/krvet/Desktop/MADE/CV/HW2/contest02_data/data/test\\\\1187.jpg',\n",
       "  'nums': [{'box': [[208, 384], [331, 408], [211, 406], [323, 383]],\n",
       "    'bbox': [210, 380, 329, 408]}]},\n",
       " {'file': 'C:/Users/krvet/Desktop/MADE/CV/HW2/contest02_data/data/test\\\\1188.jpg',\n",
       "  'nums': [{'box': [[912, 1364], [575, 1427], [585, 1363], [907, 1420]],\n",
       "    'bbox': [579, 1360, 906, 1430]}]},\n",
       " {'file': 'C:/Users/krvet/Desktop/MADE/CV/HW2/contest02_data/data/test\\\\1189.bmp',\n",
       "  'nums': [{'box': [[67, 252], [167, 279], [67, 279], [167, 251]],\n",
       "    'bbox': [69, 251, 166, 279]}]},\n",
       " {'file': 'C:/Users/krvet/Desktop/MADE/CV/HW2/contest02_data/data/test\\\\119.jpg',\n",
       "  'nums': [{'box': [[295, 744], [496, 793], [297, 793], [493, 744]],\n",
       "    'bbox': [298, 742, 493, 793]},\n",
       "   {'box': [[14, 654], [165, 692], [15, 692], [161, 652]],\n",
       "    'bbox': [16, 652, 163, 691]}]},\n",
       " {'file': 'C:/Users/krvet/Desktop/MADE/CV/HW2/contest02_data/data/test\\\\1190.jpg',\n",
       "  'nums': [{'box': [[1118, 496], [884, 556], [888, 496], [1114, 555]],\n",
       "    'bbox': [887, 492, 1114, 555]}]},\n",
       " {'file': 'C:/Users/krvet/Desktop/MADE/CV/HW2/contest02_data/data/test\\\\1191.jpg',\n",
       "  'nums': [{'box': [[180, 609], [348, 698], [184, 659], [346, 644]],\n",
       "    'bbox': [182, 609, 347, 697]}]},\n",
       " {'file': 'C:/Users/krvet/Desktop/MADE/CV/HW2/contest02_data/data/test\\\\1192.jpg',\n",
       "  'nums': [{'box': [[128, 176], [259, 205], [132, 203], [258, 179]],\n",
       "    'bbox': [129, 176, 257, 205]}]},\n",
       " {'file': 'C:/Users/krvet/Desktop/MADE/CV/HW2/contest02_data/data/test\\\\1193.jpg',\n",
       "  'nums': [{'box': [[410, 599], [637, 649], [415, 650], [631, 602]],\n",
       "    'bbox': [413, 599, 634, 650]}]},\n",
       " {'file': 'C:/Users/krvet/Desktop/MADE/CV/HW2/contest02_data/data/test\\\\1194.jpg',\n",
       "  'nums': [{'box': [[1070, 762], [916, 833], [922, 787], [1067, 808]],\n",
       "    'bbox': [917, 762, 1068, 833]}]},\n",
       " {'file': 'C:/Users/krvet/Desktop/MADE/CV/HW2/contest02_data/data/test\\\\1195.bmp',\n",
       "  'nums': [{'box': [[255, 141], [358, 162], [258, 159], [356, 131]],\n",
       "    'bbox': [257, 129, 356, 162]}]},\n",
       " {'file': 'C:/Users/krvet/Desktop/MADE/CV/HW2/contest02_data/data/test\\\\1196.jpg',\n",
       "  'nums': [{'box': [[908, 501], [1052, 536], [913, 537], [1045, 497]],\n",
       "    'bbox': [910, 497, 1050, 537]}]},\n",
       " {'file': 'C:/Users/krvet/Desktop/MADE/CV/HW2/contest02_data/data/test\\\\1197.bmp',\n",
       "  'nums': [{'box': [[119, 220], [274, 251], [119, 251], [274, 214]],\n",
       "    'bbox': [121, 214, 272, 250]}]},\n",
       " {'file': 'C:/Users/krvet/Desktop/MADE/CV/HW2/contest02_data/data/test\\\\1198.jpg',\n",
       "  'nums': [{'box': [[437, 277], [275, 315], [279, 284], [432, 309]],\n",
       "    'bbox': [276, 275, 435, 316]}]},\n",
       " {'file': 'C:/Users/krvet/Desktop/MADE/CV/HW2/contest02_data/data/test\\\\1199.jpg',\n",
       "  'nums': [{'box': [[420, 1268], [638, 1310], [421, 1311], [635, 1266]],\n",
       "    'bbox': [424, 1266, 635, 1311]}]},\n",
       " {'file': 'C:/Users/krvet/Desktop/MADE/CV/HW2/contest02_data/data/test\\\\12.bmp',\n",
       "  'nums': [{'box': [[171, 323], [55, 397], [55, 360], [171, 358]],\n",
       "    'bbox': [53, 324, 169, 397]}]},\n",
       " {'file': 'C:/Users/krvet/Desktop/MADE/CV/HW2/contest02_data/data/test\\\\120.jpg',\n",
       "  'nums': [{'box': [[482, 426], [343, 472], [345, 436], [477, 456]],\n",
       "    'bbox': [345, 425, 480, 472]}]},\n",
       " {'file': 'C:/Users/krvet/Desktop/MADE/CV/HW2/contest02_data/data/test\\\\1200.jpg',\n",
       "  'nums': [{'box': [[518, 523], [286, 575], [290, 523], [516, 579]],\n",
       "    'bbox': [290, 522, 515, 579]}]},\n",
       " {'file': 'C:/Users/krvet/Desktop/MADE/CV/HW2/contest02_data/data/test\\\\1201.jpg',\n",
       "  'nums': [{'box': [[547, 661], [799, 727], [552, 720], [795, 667]],\n",
       "    'bbox': [551, 659, 795, 727]}]},\n",
       " {'file': 'C:/Users/krvet/Desktop/MADE/CV/HW2/contest02_data/data/test\\\\1202.bmp',\n",
       "  'nums': [{'box': [[64, 225], [252, 302], [65, 269], [248, 253]],\n",
       "    'bbox': [67, 226, 249, 302]}]},\n",
       " {'file': 'C:/Users/krvet/Desktop/MADE/CV/HW2/contest02_data/data/test\\\\1203.jpg',\n",
       "  'nums': [{'box': [[1538, 1333], [983, 1440], [996, 1343], [1527, 1431]],\n",
       "    'bbox': [991, 1330, 1530, 1446]}]},\n",
       " {'file': 'C:/Users/krvet/Desktop/MADE/CV/HW2/contest02_data/data/test\\\\1204.bmp',\n",
       "  'nums': [{'box': [[278, 209], [344, 226], [279, 227], [341, 209]],\n",
       "    'bbox': [280, 209, 343, 226]}]},\n",
       " {'file': 'C:/Users/krvet/Desktop/MADE/CV/HW2/contest02_data/data/test\\\\1205.jpg',\n",
       "  'nums': [{'box': [[1501, 528], [1151, 636], [1157, 548], [1496, 605]],\n",
       "    'bbox': [1156, 519, 1498, 638]}]},\n",
       " {'file': 'C:/Users/krvet/Desktop/MADE/CV/HW2/contest02_data/data/test\\\\1206.jpg',\n",
       "  'nums': [{'box': [[617, 724], [918, 790], [628, 788], [911, 723]],\n",
       "    'bbox': [622, 721, 914, 790]}]},\n",
       " {'file': 'C:/Users/krvet/Desktop/MADE/CV/HW2/contest02_data/data/test\\\\1207.bmp',\n",
       "  'nums': [{'box': [[232, 260], [336, 292], [236, 289], [333, 258]],\n",
       "    'bbox': [234, 257, 334, 291]}]},\n",
       " {'file': 'C:/Users/krvet/Desktop/MADE/CV/HW2/contest02_data/data/test\\\\1208.jpeg',\n",
       "  'nums': [{'box': [[22, 109], [90, 132], [23, 125], [89, 114]],\n",
       "    'bbox': [23, 108, 88, 132]}]},\n",
       " {'file': 'C:/Users/krvet/Desktop/MADE/CV/HW2/contest02_data/data/test\\\\1209.jpg',\n",
       "  'nums': [{'box': [[1651, 945], [1363, 1026], [1367, 963], [1643, 1013]],\n",
       "    'bbox': [1367, 943, 1647, 1027]}]},\n",
       " {'file': 'C:/Users/krvet/Desktop/MADE/CV/HW2/contest02_data/data/test\\\\121.jpg',\n",
       "  'nums': [{'box': [[1346, 767], [1043, 888], [1047, 814], [1342, 837]],\n",
       "    'bbox': [1047, 766, 1341, 889]}]},\n",
       " {'file': 'C:/Users/krvet/Desktop/MADE/CV/HW2/contest02_data/data/test\\\\1210.jpg',\n",
       "  'nums': [{'box': [[183, 472], [317, 514], [188, 507], [316, 480]],\n",
       "    'bbox': [185, 471, 315, 514]}]},\n",
       " {'file': 'C:/Users/krvet/Desktop/MADE/CV/HW2/contest02_data/data/test\\\\1211.jpg',\n",
       "  'nums': [{'box': [[632, 817], [797, 851], [633, 852], [793, 815]],\n",
       "    'bbox': [635, 814, 794, 852]}]},\n",
       " {'file': 'C:/Users/krvet/Desktop/MADE/CV/HW2/contest02_data/data/test\\\\1212.jpg',\n",
       "  'nums': [{'box': [[418, 788], [648, 822], [420, 833], [644, 781]],\n",
       "    'bbox': [421, 781, 644, 832]},\n",
       "   {'box': [[1528, 652], [1731, 686], [1528, 693], [1729, 648]],\n",
       "    'bbox': [1523, 649, 1728, 693]}]},\n",
       " {'file': 'C:/Users/krvet/Desktop/MADE/CV/HW2/contest02_data/data/test\\\\1213.jpg',\n",
       "  'nums': [{'box': [[494, 409], [694, 456], [499, 456], [688, 409]],\n",
       "    'bbox': [497, 408, 691, 456]}]},\n",
       " {'file': 'C:/Users/krvet/Desktop/MADE/CV/HW2/contest02_data/data/test\\\\1214.jpg',\n",
       "  'nums': [{'box': [[271, 528], [493, 604], [274, 584], [488, 547]],\n",
       "    'bbox': [274, 526, 489, 606]}]},\n",
       " {'file': 'C:/Users/krvet/Desktop/MADE/CV/HW2/contest02_data/data/test\\\\1215.jpg',\n",
       "  'nums': [{'box': [[454, 599], [812, 669], [456, 670], [803, 594]],\n",
       "    'bbox': [459, 595, 807, 669]}]},\n",
       " {'file': 'C:/Users/krvet/Desktop/MADE/CV/HW2/contest02_data/data/test\\\\1216.jpg',\n",
       "  'nums': [{'box': [[95, 434], [185, 481], [96, 461], [184, 450]],\n",
       "    'bbox': [96, 434, 184, 481]}]},\n",
       " {'file': 'C:/Users/krvet/Desktop/MADE/CV/HW2/contest02_data/data/test\\\\1217.jpg',\n",
       "  'nums': [{'box': [[272, 1114], [417, 1141], [273, 1141], [413, 1113]],\n",
       "    'bbox': [274, 1113, 415, 1141]}]},\n",
       " {'file': 'C:/Users/krvet/Desktop/MADE/CV/HW2/contest02_data/data/test\\\\1218.jpg',\n",
       "  'nums': [{'box': [[1659, 679], [1422, 741], [1425, 694], [1653, 731]],\n",
       "    'bbox': [1424, 677, 1655, 742]},\n",
       "   {'box': [[649, 384], [771, 404], [649, 410], [770, 380]],\n",
       "    'bbox': [651, 380, 769, 410]}]},\n",
       " {'file': 'C:/Users/krvet/Desktop/MADE/CV/HW2/contest02_data/data/test\\\\1219.png',\n",
       "  'nums': [{'box': [[1035, 726], [837, 779], [841, 732], [1029, 772]],\n",
       "    'bbox': [840, 725, 1032, 779]}]},\n",
       " {'file': 'C:/Users/krvet/Desktop/MADE/CV/HW2/contest02_data/data/test\\\\122.bmp',\n",
       "  'nums': [{'box': [[585, 203], [380, 283], [383, 237], [581, 249]],\n",
       "    'bbox': [384, 200, 583, 285]}]},\n",
       " {'file': 'C:/Users/krvet/Desktop/MADE/CV/HW2/contest02_data/data/test\\\\1220.jpg',\n",
       "  'nums': [{'box': [[85, 725], [231, 878], [88, 791], [231, 806]],\n",
       "    'bbox': [79, 726, 231, 877]}]},\n",
       " {'file': 'C:/Users/krvet/Desktop/MADE/CV/HW2/contest02_data/data/test\\\\1221.jpg',\n",
       "  'nums': [{'box': [[364, 719], [659, 814], [378, 793], [651, 741]],\n",
       "    'bbox': [368, 717, 655, 813]}]},\n",
       " {'file': 'C:/Users/krvet/Desktop/MADE/CV/HW2/contest02_data/data/test\\\\1222.bmp',\n",
       "  'nums': [{'box': [[299, 217], [214, 255], [215, 228], [297, 244]],\n",
       "    'bbox': [215, 217, 298, 254]}]},\n",
       " {'file': 'C:/Users/krvet/Desktop/MADE/CV/HW2/contest02_data/data/test\\\\1223.bmp',\n",
       "  'nums': [{'box': [[479, 304], [325, 349], [327, 317], [476, 335]],\n",
       "    'bbox': [326, 302, 476, 349]}]},\n",
       " {'file': 'C:/Users/krvet/Desktop/MADE/CV/HW2/contest02_data/data/test\\\\1224.bmp',\n",
       "  'nums': [{'box': [[196, 308], [70, 354], [71, 324], [193, 343]],\n",
       "    'bbox': [71, 308, 195, 354]}]},\n",
       " {'file': 'C:/Users/krvet/Desktop/MADE/CV/HW2/contest02_data/data/test\\\\1225.jpg',\n",
       "  'nums': [{'box': [[209, 378], [316, 420], [211, 408], [313, 387]],\n",
       "    'bbox': [211, 376, 314, 420]}]},\n",
       " {'file': 'C:/Users/krvet/Desktop/MADE/CV/HW2/contest02_data/data/test\\\\1226.jpg',\n",
       "  'nums': [{'box': [[767, 536], [472, 609], [478, 542], [761, 609]],\n",
       "    'bbox': [476, 536, 763, 609]}]},\n",
       " {'file': 'C:/Users/krvet/Desktop/MADE/CV/HW2/contest02_data/data/test\\\\1227.jpeg',\n",
       "  'nums': [{'box': [[85, 139], [166, 155], [85, 155], [166, 138]],\n",
       "    'bbox': [85, 139, 165, 155]}]},\n",
       " {'file': 'C:/Users/krvet/Desktop/MADE/CV/HW2/contest02_data/data/test\\\\1228.bmp',\n",
       "  'nums': [{'box': [[251, 164], [154, 192], [156, 170], [247, 188]],\n",
       "    'bbox': [156, 163, 249, 192]}]},\n",
       " {'file': 'C:/Users/krvet/Desktop/MADE/CV/HW2/contest02_data/data/test\\\\1229.jpg',\n",
       "  'nums': [{'box': [[1032, 421], [940, 495], [942, 448], [1029, 463]],\n",
       "    'bbox': [941, 419, 1031, 496]}]},\n",
       " {'file': 'C:/Users/krvet/Desktop/MADE/CV/HW2/contest02_data/data/test\\\\123.bmp',\n",
       "  'nums': [{'box': [[6, 117], [190, 160], [6, 162], [190, 116]],\n",
       "    'bbox': [8, 117, 187, 161]}]},\n",
       " {'file': 'C:/Users/krvet/Desktop/MADE/CV/HW2/contest02_data/data/test\\\\1230.jpg',\n",
       "  'nums': [{'box': [[626, 219], [502, 261], [504, 232], [623, 249]],\n",
       "    'bbox': [503, 219, 624, 262]}]},\n",
       " {'file': 'C:/Users/krvet/Desktop/MADE/CV/HW2/contest02_data/data/test\\\\1231.jpg',\n",
       "  'nums': [{'box': [[711, 934], [895, 973], [711, 974], [894, 933]],\n",
       "    'bbox': [714, 934, 893, 973]}]},\n",
       " {'file': 'C:/Users/krvet/Desktop/MADE/CV/HW2/contest02_data/data/test\\\\1232.bmp',\n",
       "  'nums': [{'box': [[113, 169], [246, 202], [117, 202], [244, 174]],\n",
       "    'bbox': [114, 169, 245, 202]}]},\n",
       " {'file': 'C:/Users/krvet/Desktop/MADE/CV/HW2/contest02_data/data/test\\\\1233.jpg',\n",
       "  'nums': [{'box': [[431, 721], [741, 789], [439, 788], [735, 720]],\n",
       "    'bbox': [436, 718, 736, 793]}]},\n",
       " {'file': 'C:/Users/krvet/Desktop/MADE/CV/HW2/contest02_data/data/test\\\\1234.jpg',\n",
       "  'nums': [{'box': [[354, 679], [635, 731], [357, 733], [629, 672]],\n",
       "    'bbox': [359, 673, 631, 732]}]},\n",
       " {'file': 'C:/Users/krvet/Desktop/MADE/CV/HW2/contest02_data/data/test\\\\1235.jpg',\n",
       "  'nums': [{'box': [[395, 687], [634, 770], [411, 746], [630, 712]],\n",
       "    'bbox': [398, 686, 631, 770]}]},\n",
       " {'file': 'C:/Users/krvet/Desktop/MADE/CV/HW2/contest02_data/data/test\\\\1236.jpg',\n",
       "  'nums': [{'box': [[720, 944], [1007, 1027], [736, 1013], [1004, 956]],\n",
       "    'bbox': [722, 942, 1004, 1028]}]},\n",
       " {'file': 'C:/Users/krvet/Desktop/MADE/CV/HW2/contest02_data/data/test\\\\1237.bmp',\n",
       "  'nums': [{'box': [[298, 116], [406, 155], [304, 148], [404, 124]],\n",
       "    'bbox': [299, 115, 404, 155]}]},\n",
       " {'file': 'C:/Users/krvet/Desktop/MADE/CV/HW2/contest02_data/data/test\\\\1238.bmp',\n",
       "  'nums': [{'box': [[267, 225], [370, 247], [271, 247], [369, 223]],\n",
       "    'bbox': [269, 223, 369, 247]}]},\n",
       " {'file': 'C:/Users/krvet/Desktop/MADE/CV/HW2/contest02_data/data/test\\\\1239.jpg',\n",
       "  'nums': [{'box': [[826, 824], [648, 866], [651, 825], [826, 866]],\n",
       "    'bbox': [650, 824, 824, 866]}]},\n",
       " {'file': 'C:/Users/krvet/Desktop/MADE/CV/HW2/contest02_data/data/test\\\\124.jpg',\n",
       "  'nums': [{'box': [[262, 842], [388, 904], [268, 881], [385, 861]],\n",
       "    'bbox': [263, 839, 387, 904]}]},\n",
       " {'file': 'C:/Users/krvet/Desktop/MADE/CV/HW2/contest02_data/data/test\\\\1240.jpg',\n",
       "  'nums': [{'box': [[1666, 542], [1245, 632], [1254, 541], [1661, 635]],\n",
       "    'bbox': [1251, 537, 1661, 634]}]},\n",
       " {'file': 'C:/Users/krvet/Desktop/MADE/CV/HW2/contest02_data/data/test\\\\1241.jpg',\n",
       "  'nums': [{'box': [[739, 606], [1010, 664], [743, 664], [1001, 607]],\n",
       "    'bbox': [742, 606, 1006, 666]}]},\n",
       " {'file': 'C:/Users/krvet/Desktop/MADE/CV/HW2/contest02_data/data/test\\\\1242.bmp',\n",
       "  'nums': [{'box': [[234, 238], [312, 272], [238, 264], [311, 248]],\n",
       "    'bbox': [234, 237, 311, 272]}]},\n",
       " {'file': 'C:/Users/krvet/Desktop/MADE/CV/HW2/contest02_data/data/test\\\\1243.jpg',\n",
       "  'nums': [{'box': [[890, 925], [622, 979], [628, 922], [888, 984]],\n",
       "    'bbox': [626, 922, 886, 984]}]},\n",
       " {'file': 'C:/Users/krvet/Desktop/MADE/CV/HW2/contest02_data/data/test\\\\1244.jpg',\n",
       "  'nums': [{'box': [[539, 565], [726, 600], [539, 600], [725, 562]],\n",
       "    'bbox': [541, 562, 724, 599]}]},\n",
       " {'file': 'C:/Users/krvet/Desktop/MADE/CV/HW2/contest02_data/data/test\\\\1245.bmp',\n",
       "  'nums': [{'box': [[1560, 1093], [1331, 1157], [1338, 1109], [1554, 1141]],\n",
       "    'bbox': [1334, 1090, 1557, 1158]}]},\n",
       " {'file': 'C:/Users/krvet/Desktop/MADE/CV/HW2/contest02_data/data/test\\\\1246.jpg',\n",
       "  'nums': [{'box': [[470, 143], [411, 167], [412, 150], [468, 161]],\n",
       "    'bbox': [412, 142, 469, 167]}]},\n",
       " {'file': 'C:/Users/krvet/Desktop/MADE/CV/HW2/contest02_data/data/test\\\\1247.jpg',\n",
       "  'nums': [{'box': [[1002, 469], [820, 515], [822, 468], [1001, 516]],\n",
       "    'bbox': [822, 467, 1001, 515]}]},\n",
       " {'file': 'C:/Users/krvet/Desktop/MADE/CV/HW2/contest02_data/data/test\\\\1248.jpg',\n",
       "  'nums': [{'box': [[429, 735], [809, 806], [432, 809], [802, 729]],\n",
       "    'bbox': [435, 729, 803, 809]}]},\n",
       " {'file': 'C:/Users/krvet/Desktop/MADE/CV/HW2/contest02_data/data/test\\\\1249.jpg',\n",
       "  'nums': [{'box': [[1398, 972], [995, 1081], [1001, 988], [1390, 1057]],\n",
       "    'bbox': [1000, 967, 1392, 1082]}]},\n",
       " {'file': 'C:/Users/krvet/Desktop/MADE/CV/HW2/contest02_data/data/test\\\\125.bmp',\n",
       "  'nums': [{'box': [[43, 218], [173, 260], [46, 250], [171, 230]],\n",
       "    'bbox': [45, 217, 172, 260]}]},\n",
       " {'file': 'C:/Users/krvet/Desktop/MADE/CV/HW2/contest02_data/data/test\\\\1250.jpg',\n",
       "  'nums': [{'box': [[554, 929], [764, 974], [566, 974], [759, 929]],\n",
       "    'bbox': [557, 928, 761, 974]}]},\n",
       " {'file': 'C:/Users/krvet/Desktop/MADE/CV/HW2/contest02_data/data/test\\\\1251.jpg',\n",
       "  'nums': [{'box': [[355, 483], [536, 518], [355, 520], [534, 483]],\n",
       "    'bbox': [357, 483, 533, 520]}]},\n",
       " {'file': 'C:/Users/krvet/Desktop/MADE/CV/HW2/contest02_data/data/test\\\\1252.bmp',\n",
       "  'nums': [{'box': [[254, 239], [459, 302], [260, 285], [456, 254]],\n",
       "    'bbox': [257, 238, 456, 303]}]},\n",
       " {'file': 'C:/Users/krvet/Desktop/MADE/CV/HW2/contest02_data/data/test\\\\1253.bmp',\n",
       "  'nums': [{'box': [[283, 267], [199, 305], [198, 280], [281, 290]],\n",
       "    'bbox': [198, 266, 282, 305]}]},\n",
       " {'file': 'C:/Users/krvet/Desktop/MADE/CV/HW2/contest02_data/data/test\\\\1254.bmp',\n",
       "  'nums': [{'box': [[192, 274], [325, 305], [198, 304], [323, 274]],\n",
       "    'bbox': [193, 274, 323, 305]}]},\n",
       " {'file': 'C:/Users/krvet/Desktop/MADE/CV/HW2/contest02_data/data/test\\\\1255.jpg',\n",
       "  'nums': [{'box': [[1907, 997], [1670, 1138], [1673, 1056], [1905, 1078]],\n",
       "    'bbox': [1673, 997, 1904, 1138]}]},\n",
       " {'file': 'C:/Users/krvet/Desktop/MADE/CV/HW2/contest02_data/data/test\\\\1256.jpg',\n",
       "  'nums': [{'box': [[365, 288], [491, 314], [365, 315], [490, 288]],\n",
       "    'bbox': [367, 288, 488, 315]}]},\n",
       " {'file': 'C:/Users/krvet/Desktop/MADE/CV/HW2/contest02_data/data/test\\\\1257.jpg',\n",
       "  'nums': [{'box': [[504, 737], [808, 808], [507, 809], [805, 733]],\n",
       "    'bbox': [508, 734, 803, 808]}]},\n",
       " {'file': 'C:/Users/krvet/Desktop/MADE/CV/HW2/contest02_data/data/test\\\\1258.jpg',\n",
       "  'nums': [{'box': [[931, 819], [626, 880], [634, 822], [921, 878]],\n",
       "    'bbox': [630, 818, 926, 880]}]},\n",
       " {'file': 'C:/Users/krvet/Desktop/MADE/CV/HW2/contest02_data/data/test\\\\1259.jpg',\n",
       "  'nums': [{'box': [[288, 695], [454, 787], [289, 741], [451, 734]],\n",
       "    'bbox': [290, 696, 452, 787]}]},\n",
       " {'file': 'C:/Users/krvet/Desktop/MADE/CV/HW2/contest02_data/data/test\\\\126.jpg',\n",
       "  'nums': [{'box': [[544, 893], [773, 942], [546, 944], [772, 888]],\n",
       "    'bbox': [547, 888, 770, 943]}]},\n",
       " {'file': 'C:/Users/krvet/Desktop/MADE/CV/HW2/contest02_data/data/test\\\\1260.jpg',\n",
       "  'nums': [{'box': [[465, 856], [722, 918], [471, 918], [711, 859]],\n",
       "    'bbox': [468, 855, 718, 919]}]},\n",
       " {'file': 'C:/Users/krvet/Desktop/MADE/CV/HW2/contest02_data/data/test\\\\1261.bmp',\n",
       "  'nums': [{'box': [[279, 198], [415, 226], [279, 226], [415, 194]],\n",
       "    'bbox': [280, 194, 414, 226]}]},\n",
       " {'file': 'C:/Users/krvet/Desktop/MADE/CV/HW2/contest02_data/data/test\\\\1262.jpg',\n",
       "  'nums': [{'box': [[186, 294], [288, 317], [189, 317], [287, 294]],\n",
       "    'bbox': [187, 294, 287, 317]}]},\n",
       " {'file': 'C:/Users/krvet/Desktop/MADE/CV/HW2/contest02_data/data/test\\\\1263.bmp',\n",
       "  'nums': [{'box': [[243, 240], [352, 263], [244, 264], [350, 235]],\n",
       "    'bbox': [243, 235, 350, 264]}]},\n",
       " {'file': 'C:/Users/krvet/Desktop/MADE/CV/HW2/contest02_data/data/test\\\\1264.jpeg',\n",
       "  'nums': [{'box': [[49, 79], [107, 91], [49, 92], [107, 78]],\n",
       "    'bbox': [50, 79, 106, 91]}]},\n",
       " {'file': 'C:/Users/krvet/Desktop/MADE/CV/HW2/contest02_data/data/test\\\\1265.bmp',\n",
       "  'nums': [{'box': [[423, 270], [300, 322], [304, 293], [420, 295]],\n",
       "    'bbox': [302, 265, 422, 324]}]},\n",
       " {'file': 'C:/Users/krvet/Desktop/MADE/CV/HW2/contest02_data/data/test\\\\1266.jpg',\n",
       "  'nums': [{'box': [[1160, 867], [670, 978], [676, 879], [1145, 964]],\n",
       "    'bbox': [677, 864, 1153, 980]}]},\n",
       " {'file': 'C:/Users/krvet/Desktop/MADE/CV/HW2/contest02_data/data/test\\\\1267.bmp',\n",
       "  'nums': [{'box': [[212, 304], [385, 367], [214, 342], [383, 325]],\n",
       "    'bbox': [215, 301, 382, 368]}]},\n",
       " {'file': 'C:/Users/krvet/Desktop/MADE/CV/HW2/contest02_data/data/test\\\\1268.jpg',\n",
       "  'nums': [{'box': [[339, 419], [505, 460], [342, 458], [500, 422]],\n",
       "    'bbox': [341, 419, 502, 461]}]},\n",
       " {'file': 'C:/Users/krvet/Desktop/MADE/CV/HW2/contest02_data/data/test\\\\1269.bmp',\n",
       "  'nums': [{'box': [[153, 108], [274, 134], [155, 134], [271, 107]],\n",
       "    'bbox': [155, 106, 272, 134]}]},\n",
       " {'file': 'C:/Users/krvet/Desktop/MADE/CV/HW2/contest02_data/data/test\\\\127.jpg',\n",
       "  'nums': [{'box': [[545, 372], [652, 393], [545, 395], [652, 369]],\n",
       "    'bbox': [547, 369, 651, 395]}]},\n",
       " {'file': 'C:/Users/krvet/Desktop/MADE/CV/HW2/contest02_data/data/test\\\\1270.jpg',\n",
       "  'nums': [{'box': [[217, 269], [141, 302], [145, 275], [215, 300]],\n",
       "    'bbox': [141, 269, 216, 302]}]},\n",
       " {'file': 'C:/Users/krvet/Desktop/MADE/CV/HW2/contest02_data/data/test\\\\1271.jpg',\n",
       "  'nums': [{'box': [[449, 755], [564, 786], [450, 786], [563, 753]],\n",
       "    'bbox': [451, 753, 562, 786]}]},\n",
       " {'file': 'C:/Users/krvet/Desktop/MADE/CV/HW2/contest02_data/data/test\\\\1272.bmp',\n",
       "  'nums': [{'box': [[469, 163], [385, 187], [386, 174], [467, 182]],\n",
       "    'bbox': [386, 161, 468, 193]}]},\n",
       " {'file': 'C:/Users/krvet/Desktop/MADE/CV/HW2/contest02_data/data/test\\\\1273.jpg',\n",
       "  'nums': [{'box': [[614, 704], [850, 752], [618, 752], [844, 705]],\n",
       "    'bbox': [618, 703, 847, 752]}]},\n",
       " {'file': 'C:/Users/krvet/Desktop/MADE/CV/HW2/contest02_data/data/test\\\\1274.jpg',\n",
       "  'nums': [{'box': [[350, 528], [635, 585], [353, 589], [629, 528]],\n",
       "    'bbox': [354, 527, 630, 588]}]},\n",
       " {'file': 'C:/Users/krvet/Desktop/MADE/CV/HW2/contest02_data/data/test\\\\1275.jpg',\n",
       "  'nums': [{'box': [[162, 715], [356, 825], [164, 775], [351, 758]],\n",
       "    'bbox': [165, 715, 354, 824]}]},\n",
       " {'file': 'C:/Users/krvet/Desktop/MADE/CV/HW2/contest02_data/data/test\\\\1276.bmp',\n",
       "  'nums': [{'box': [[223, 201], [372, 244], [229, 238], [367, 205]],\n",
       "    'bbox': [225, 201, 370, 244]}]},\n",
       " {'file': 'C:/Users/krvet/Desktop/MADE/CV/HW2/contest02_data/data/test\\\\1277.jpg',\n",
       "  'nums': [{'box': [[698, 753], [820, 774], [698, 777], [820, 749]],\n",
       "    'bbox': [699, 749, 818, 777]}]},\n",
       " {'file': 'C:/Users/krvet/Desktop/MADE/CV/HW2/contest02_data/data/test\\\\1278.jpg',\n",
       "  'nums': [{'box': [[404, 560], [714, 648], [417, 636], [706, 568]],\n",
       "    'bbox': [408, 556, 709, 651]}]},\n",
       " {'file': 'C:/Users/krvet/Desktop/MADE/CV/HW2/contest02_data/data/test\\\\1279.jpg',\n",
       "  'nums': [{'box': [[654, 728], [480, 763], [484, 727], [648, 764]],\n",
       "    'bbox': [483, 725, 651, 764]}]},\n",
       " {'file': 'C:/Users/krvet/Desktop/MADE/CV/HW2/contest02_data/data/test\\\\128.jpg',\n",
       "  'nums': [{'box': [[196, 576], [339, 685], [201, 628], [333, 630]],\n",
       "    'bbox': [197, 568, 337, 685]}]},\n",
       " {'file': 'C:/Users/krvet/Desktop/MADE/CV/HW2/contest02_data/data/test\\\\1280.jpg',\n",
       "  'nums': [{'box': [[668, 459], [416, 513], [420, 461], [663, 513]],\n",
       "    'bbox': [419, 457, 664, 514]}]},\n",
       " {'file': 'C:/Users/krvet/Desktop/MADE/CV/HW2/contest02_data/data/test\\\\1281.bmp',\n",
       "  'nums': [{'box': [[189, 271], [318, 293], [190, 295], [317, 269]],\n",
       "    'bbox': [191, 269, 316, 295]}]},\n",
       " {'file': 'C:/Users/krvet/Desktop/MADE/CV/HW2/contest02_data/data/test\\\\1282.jpg',\n",
       "  'nums': [{'box': [[1142, 870], [855, 957], [858, 895], [1137, 932]],\n",
       "    'bbox': [858, 867, 1138, 958]}]},\n",
       " {'file': 'C:/Users/krvet/Desktop/MADE/CV/HW2/contest02_data/data/test\\\\1283.jpg',\n",
       "  'nums': [{'box': [[541, 556], [811, 650], [547, 628], [805, 579]],\n",
       "    'bbox': [544, 556, 807, 652]}]},\n",
       " {'file': 'C:/Users/krvet/Desktop/MADE/CV/HW2/contest02_data/data/test\\\\1284.jpg',\n",
       "  'nums': [{'box': [[1322, 652], [1129, 796], [1132, 730], [1319, 720]],\n",
       "    'bbox': [1131, 652, 1319, 797]}]},\n",
       " {'file': 'C:/Users/krvet/Desktop/MADE/CV/HW2/contest02_data/data/test\\\\1285.bmp',\n",
       "  'nums': [{'box': [[250, 89], [401, 126], [253, 125], [400, 87]],\n",
       "    'bbox': [252, 87, 399, 125]}]},\n",
       " {'file': 'C:/Users/krvet/Desktop/MADE/CV/HW2/contest02_data/data/test\\\\1286.bmp',\n",
       "  'nums': [{'box': [[253, 186], [24, 236], [31, 193], [249, 230]],\n",
       "    'bbox': [28, 184, 249, 237]}]},\n",
       " {'file': 'C:/Users/krvet/Desktop/MADE/CV/HW2/contest02_data/data/test\\\\1287.jpg',\n",
       "  'nums': [{'box': [[389, 722], [608, 769], [395, 770], [602, 719]],\n",
       "    'bbox': [392, 720, 604, 770]},\n",
       "   {'box': [[1002, 541], [1171, 573], [1003, 574], [1167, 533]],\n",
       "    'bbox': [1004, 533, 1168, 573]}]},\n",
       " {'file': 'C:/Users/krvet/Desktop/MADE/CV/HW2/contest02_data/data/test\\\\1288.jpg',\n",
       "  'nums': [{'box': [[984, 544], [1186, 593], [995, 593], [1180, 542]],\n",
       "    'bbox': [986, 540, 1183, 593]}]},\n",
       " {'file': 'C:/Users/krvet/Desktop/MADE/CV/HW2/contest02_data/data/test\\\\1289.bmp',\n",
       "  'nums': [{'box': [[343, 176], [208, 232], [209, 201], [342, 205]],\n",
       "    'bbox': [210, 174, 342, 232]}]},\n",
       " {'file': 'C:/Users/krvet/Desktop/MADE/CV/HW2/contest02_data/data/test\\\\129.bmp',\n",
       "  'nums': [{'box': [[70, 131], [207, 157], [70, 159], [207, 127]],\n",
       "    'bbox': [71, 127, 206, 159]}]},\n",
       " {'file': 'C:/Users/krvet/Desktop/MADE/CV/HW2/contest02_data/data/test\\\\1290.bmp',\n",
       "  'nums': [{'box': [[170, 145], [285, 183], [174, 175], [282, 151]],\n",
       "    'bbox': [172, 144, 283, 183]}]},\n",
       " {'file': 'C:/Users/krvet/Desktop/MADE/CV/HW2/contest02_data/data/test\\\\1291.bmp',\n",
       "  'nums': [{'box': [[279, 334], [375, 376], [284, 362], [374, 345]],\n",
       "    'bbox': [281, 334, 374, 376]}]},\n",
       " {'file': 'C:/Users/krvet/Desktop/MADE/CV/HW2/contest02_data/data/test\\\\1292.jpg',\n",
       "  'nums': [{'box': [[499, 862], [819, 927], [507, 931], [814, 858]],\n",
       "    'bbox': [504, 858, 814, 930]},\n",
       "   {'box': [[446, 325], [510, 348], [449, 351], [508, 321]],\n",
       "    'bbox': [447, 321, 510, 351]}]},\n",
       " {'file': 'C:/Users/krvet/Desktop/MADE/CV/HW2/contest02_data/data/test\\\\1293.jpg',\n",
       "  'nums': [{'box': [[198, 257], [392, 294], [199, 297], [390, 256]],\n",
       "    'bbox': [201, 256, 390, 297]}]},\n",
       " {'file': 'C:/Users/krvet/Desktop/MADE/CV/HW2/contest02_data/data/test\\\\1294.jpg',\n",
       "  'nums': [{'box': [[790, 520], [661, 560], [662, 531], [787, 560]],\n",
       "    'bbox': [663, 519, 788, 567]}]},\n",
       " {'file': 'C:/Users/krvet/Desktop/MADE/CV/HW2/contest02_data/data/test\\\\1295.bmp',\n",
       "  'nums': [{'box': [[601, 979], [845, 1128], [594, 1047], [844, 1050]],\n",
       "    'bbox': [592, 973, 843, 1130]}]},\n",
       " {'file': 'C:/Users/krvet/Desktop/MADE/CV/HW2/contest02_data/data/test\\\\1296.jpg',\n",
       "  'nums': [{'box': [[503, 883], [792, 949], [510, 942], [784, 878]],\n",
       "    'bbox': [507, 878, 788, 950]}]},\n",
       " {'file': 'C:/Users/krvet/Desktop/MADE/CV/HW2/contest02_data/data/test\\\\1297.jpg',\n",
       "  'nums': [{'box': [[519, 327], [640, 351], [519, 353], [639, 327]],\n",
       "    'bbox': [520, 327, 638, 353]}]},\n",
       " {'file': 'C:/Users/krvet/Desktop/MADE/CV/HW2/contest02_data/data/test\\\\1298.jpg',\n",
       "  'nums': [{'box': [[362, 263], [506, 296], [365, 295], [502, 265]],\n",
       "    'bbox': [364, 263, 504, 296]}]},\n",
       " {'file': 'C:/Users/krvet/Desktop/MADE/CV/HW2/contest02_data/data/test\\\\1299.jpg',\n",
       "  'nums': [{'box': [[657, 545], [586, 564], [590, 546], [653, 562]],\n",
       "    'bbox': [584, 542, 655, 564]}]},\n",
       " {'file': 'C:/Users/krvet/Desktop/MADE/CV/HW2/contest02_data/data/test\\\\13.jpg',\n",
       "  'nums': [{'box': [[1746, 895], [1527, 1035], [1531, 956], [1742, 976]],\n",
       "    'bbox': [1526, 894, 1743, 1037]}]},\n",
       " {'file': 'C:/Users/krvet/Desktop/MADE/CV/HW2/contest02_data/data/test\\\\130.jpg',\n",
       "  'nums': [{'box': [[743, 405], [622, 458], [624, 421], [740, 442]],\n",
       "    'bbox': [623, 404, 742, 458]}]},\n",
       " {'file': 'C:/Users/krvet/Desktop/MADE/CV/HW2/contest02_data/data/test\\\\1300.jpg',\n",
       "  'nums': [{'box': [[414, 576], [503, 595], [417, 596], [503, 574]],\n",
       "    'bbox': [415, 574, 502, 595]}]},\n",
       " {'file': 'C:/Users/krvet/Desktop/MADE/CV/HW2/contest02_data/data/test\\\\1301.jpg',\n",
       "  'nums': [{'box': [[336, 749], [504, 788], [339, 788], [499, 752]],\n",
       "    'bbox': [337, 749, 501, 788]},\n",
       "   {'box': [[1039, 788], [1278, 846], [1046, 841], [1270, 797]],\n",
       "    'bbox': [1042, 787, 1274, 847]}]},\n",
       " {'file': 'C:/Users/krvet/Desktop/MADE/CV/HW2/contest02_data/data/test\\\\1302.jpg',\n",
       "  'nums': [{'box': [[51, 661], [173, 703], [51, 704], [169, 661]],\n",
       "    'bbox': [52, 661, 171, 703]}]},\n",
       " {'file': 'C:/Users/krvet/Desktop/MADE/CV/HW2/contest02_data/data/test\\\\1303.jpg',\n",
       "  'nums': [{'box': [[275, 465], [478, 505], [276, 505], [474, 463]],\n",
       "    'bbox': [278, 464, 475, 505]}]},\n",
       " {'file': 'C:/Users/krvet/Desktop/MADE/CV/HW2/contest02_data/data/test\\\\1304.jpeg',\n",
       "  'nums': [{'box': [[804, 493], [923, 515], [805, 516], [922, 492]],\n",
       "    'bbox': [806, 492, 921, 516]},\n",
       "   {'box': [[109, 493], [222, 518], [113, 518], [220, 493]],\n",
       "    'bbox': [111, 491, 220, 518]}]},\n",
       " {'file': 'C:/Users/krvet/Desktop/MADE/CV/HW2/contest02_data/data/test\\\\1305.jpg',\n",
       "  'nums': [{'box': [[478, 625], [566, 658], [480, 652], [562, 629]],\n",
       "    'bbox': [479, 624, 565, 659]}]},\n",
       " {'file': 'C:/Users/krvet/Desktop/MADE/CV/HW2/contest02_data/data/test\\\\1306.jpg',\n",
       "  'nums': [{'box': [[519, 300], [415, 331], [417, 304], [516, 328]],\n",
       "    'bbox': [416, 300, 517, 331]}]},\n",
       " {'file': 'C:/Users/krvet/Desktop/MADE/CV/HW2/contest02_data/data/test\\\\1307.bmp',\n",
       "  'nums': [{'box': [[155, 267], [257, 296], [157, 293], [255, 269]],\n",
       "    'bbox': [156, 267, 256, 296]}]},\n",
       " {'file': 'C:/Users/krvet/Desktop/MADE/CV/HW2/contest02_data/data/test\\\\1309.jpg',\n",
       "  'nums': [{'box': [[388, 817], [654, 874], [395, 872], [645, 817]],\n",
       "    'bbox': [392, 813, 651, 875]}]},\n",
       " {'file': 'C:/Users/krvet/Desktop/MADE/CV/HW2/contest02_data/data/test\\\\131.jpg',\n",
       "  'nums': [{'box': [[284, 652], [516, 717], [291, 713], [511, 658]],\n",
       "    'bbox': [287, 650, 513, 717]}]},\n",
       " {'file': 'C:/Users/krvet/Desktop/MADE/CV/HW2/contest02_data/data/test\\\\1310.jpg',\n",
       "  'nums': [{'box': [[376, 481], [675, 544], [384, 541], [665, 480]],\n",
       "    'bbox': [380, 476, 671, 545]},\n",
       "   {'box': [[0, 333], [184, 382], [0, 383], [182, 333]],\n",
       "    'bbox': [0, 334, 181, 382]}]},\n",
       " {'file': 'C:/Users/krvet/Desktop/MADE/CV/HW2/contest02_data/data/test\\\\1311.jpg',\n",
       "  'nums': [{'box': [[229, 261], [356, 292], [232, 291], [353, 261]],\n",
       "    'bbox': [231, 261, 353, 293]}]},\n",
       " {'file': 'C:/Users/krvet/Desktop/MADE/CV/HW2/contest02_data/data/test\\\\1312.jpg',\n",
       "  'nums': [{'box': [[242, 696], [517, 769], [250, 755], [511, 713]],\n",
       "    'bbox': [245, 695, 513, 772]}]},\n",
       " {'file': 'C:/Users/krvet/Desktop/MADE/CV/HW2/contest02_data/data/test\\\\1314.jpg',\n",
       "  'nums': [{'box': [[940, 1180], [640, 1246], [648, 1180], [935, 1247]],\n",
       "    'bbox': [644, 1176, 936, 1247]}]},\n",
       " {'file': 'C:/Users/krvet/Desktop/MADE/CV/HW2/contest02_data/data/test\\\\1315.bmp',\n",
       "  'nums': [{'box': [[374, 248], [182, 301], [183, 264], [370, 287]],\n",
       "    'bbox': [183, 246, 372, 302]}]},\n",
       " {'file': 'C:/Users/krvet/Desktop/MADE/CV/HW2/contest02_data/data/test\\\\1316.jpg',\n",
       "  'nums': [{'box': [[1723, 1004], [1392, 1126], [1407, 1046], [1718, 1082]],\n",
       "    'bbox': [1396, 1001, 1718, 1126]}]},\n",
       " {'file': 'C:/Users/krvet/Desktop/MADE/CV/HW2/contest02_data/data/test\\\\1317.jpg',\n",
       "  'nums': [{'box': [[280, 377], [399, 409], [282, 402], [396, 383]],\n",
       "    'bbox': [282, 376, 397, 409]}]},\n",
       " {'file': 'C:/Users/krvet/Desktop/MADE/CV/HW2/contest02_data/data/test\\\\1318.jpg',\n",
       "  'nums': [{'box': [[76, 383], [155, 408], [77, 406], [154, 384]],\n",
       "    'bbox': [77, 383, 155, 408]}]},\n",
       " {'file': 'C:/Users/krvet/Desktop/MADE/CV/HW2/contest02_data/data/test\\\\1319.jpg',\n",
       "  'nums': [{'box': [[756, 566], [1220, 653], [761, 655], [1211, 562]],\n",
       "    'bbox': [763, 561, 1213, 654]}]},\n",
       " {'file': 'C:/Users/krvet/Desktop/MADE/CV/HW2/contest02_data/data/test\\\\132.jpeg',\n",
       "  'nums': [{'box': [[450, 297], [524, 310], [451, 312], [522, 294]],\n",
       "    'bbox': [452, 295, 523, 311]}]},\n",
       " {'file': 'C:/Users/krvet/Desktop/MADE/CV/HW2/contest02_data/data/test\\\\1320.bmp',\n",
       "  'nums': [{'box': [[290, 173], [442, 210], [296, 209], [436, 172]],\n",
       "    'bbox': [292, 173, 439, 209]}]},\n",
       " {'file': 'C:/Users/krvet/Desktop/MADE/CV/HW2/contest02_data/data/test\\\\1321.bmp',\n",
       "  'nums': [{'box': [[426, 266], [356, 284], [357, 267], [425, 284]],\n",
       "    'bbox': [356, 264, 425, 284]}]},\n",
       " {'file': 'C:/Users/krvet/Desktop/MADE/CV/HW2/contest02_data/data/test\\\\1322.jpg',\n",
       "  'nums': [{'box': [[586, 1013], [936, 1107], [596, 1090], [929, 1029]],\n",
       "    'bbox': [590, 1009, 931, 1107]}]},\n",
       " {'file': 'C:/Users/krvet/Desktop/MADE/CV/HW2/contest02_data/data/test\\\\1323.jpg',\n",
       "  'nums': [{'box': [[39, 195], [166, 217], [39, 217], [166, 193]],\n",
       "    'bbox': [40, 193, 165, 217]}]},\n",
       " {'file': 'C:/Users/krvet/Desktop/MADE/CV/HW2/contest02_data/data/test\\\\1324.jpg',\n",
       "  'nums': [{'box': [[302, 544], [632, 611], [306, 612], [629, 539]],\n",
       "    'bbox': [305, 540, 626, 612]}]},\n",
       " {'file': 'C:/Users/krvet/Desktop/MADE/CV/HW2/contest02_data/data/test\\\\1325.jpg',\n",
       "  'nums': [{'box': [[1324, 596], [1141, 679], [1143, 622], [1318, 652]],\n",
       "    'bbox': [1144, 596, 1322, 679]}]},\n",
       " {'file': 'C:/Users/krvet/Desktop/MADE/CV/HW2/contest02_data/data/test\\\\1326.bmp',\n",
       "  'nums': [{'box': [[556, 285], [445, 321], [448, 295], [554, 310]],\n",
       "    'bbox': [447, 284, 555, 320]}]},\n",
       " {'file': 'C:/Users/krvet/Desktop/MADE/CV/HW2/contest02_data/data/test\\\\1327.jpg',\n",
       "  'nums': [{'box': [[341, 447], [589, 522], [353, 507], [585, 464]],\n",
       "    'bbox': [344, 442, 588, 528]}]},\n",
       " {'file': 'C:/Users/krvet/Desktop/MADE/CV/HW2/contest02_data/data/test\\\\1328.jpg',\n",
       "  'nums': [{'box': [[429, 583], [699, 636], [431, 638], [695, 577]],\n",
       "    'bbox': [433, 578, 695, 638]}]},\n",
       " {'file': 'C:/Users/krvet/Desktop/MADE/CV/HW2/contest02_data/data/test\\\\1329.jpg',\n",
       "  'nums': [{'box': [[259, 415], [483, 466], [264, 466], [479, 416]],\n",
       "    'bbox': [262, 415, 479, 466]}]},\n",
       " {'file': 'C:/Users/krvet/Desktop/MADE/CV/HW2/contest02_data/data/test\\\\133.jpg',\n",
       "  'nums': [{'box': [[1537, 1290], [1177, 1391], [1183, 1316], [1525, 1369]],\n",
       "    'bbox': [1182, 1287, 1531, 1391]},\n",
       "   {'box': [[285, 920], [118, 965], [122, 923], [276, 964]],\n",
       "    'bbox': [119, 914, 282, 965]}]},\n",
       " {'file': 'C:/Users/krvet/Desktop/MADE/CV/HW2/contest02_data/data/test\\\\1330.bmp',\n",
       "  'nums': [{'box': [[272, 203], [433, 236], [272, 237], [432, 200]],\n",
       "    'bbox': [275, 200, 430, 236]}]},\n",
       " {'file': 'C:/Users/krvet/Desktop/MADE/CV/HW2/contest02_data/data/test\\\\1331.jpg',\n",
       "  'nums': [{'box': [[1652, 1018], [1316, 1128], [1324, 1045], [1649, 1097]],\n",
       "    'bbox': [1321, 1017, 1647, 1128]}]},\n",
       " {'file': 'C:/Users/krvet/Desktop/MADE/CV/HW2/contest02_data/data/test\\\\1332.jpg',\n",
       "  'nums': [{'box': [[924, 724], [737, 765], [743, 726], [921, 766]],\n",
       "    'bbox': [740, 722, 921, 765]}]},\n",
       " {'file': 'C:/Users/krvet/Desktop/MADE/CV/HW2/contest02_data/data/test\\\\1333.jpg',\n",
       "  'nums': [{'box': [[294, 611], [548, 664], [296, 664], [545, 610]],\n",
       "    'bbox': [297, 611, 544, 664]}]},\n",
       " {'file': 'C:/Users/krvet/Desktop/MADE/CV/HW2/contest02_data/data/test\\\\1334.jpg',\n",
       "  'nums': [{'box': [[192, 280], [126, 301], [128, 284], [190, 298]],\n",
       "    'bbox': [127, 280, 191, 301]}]},\n",
       " {'file': 'C:/Users/krvet/Desktop/MADE/CV/HW2/contest02_data/data/test\\\\1335.jpg',\n",
       "  'nums': [{'box': [[203, 571], [357, 706], [203, 644], [357, 629]],\n",
       "    'bbox': [197, 567, 358, 708]}]},\n",
       " {'file': 'C:/Users/krvet/Desktop/MADE/CV/HW2/contest02_data/data/test\\\\1336.jpg',\n",
       "  'nums': [{'box': [[597, 444], [721, 473], [598, 473], [721, 441]],\n",
       "    'bbox': [599, 441, 719, 473]}]},\n",
       " {'file': 'C:/Users/krvet/Desktop/MADE/CV/HW2/contest02_data/data/test\\\\1337.png',\n",
       "  'nums': []},\n",
       " {'file': 'C:/Users/krvet/Desktop/MADE/CV/HW2/contest02_data/data/test\\\\1339.jpg',\n",
       "  'nums': [{'box': [[1559, 825], [1190, 912], [1199, 830], [1547, 910]],\n",
       "    'bbox': [1196, 822, 1553, 913]}]},\n",
       " {'file': 'C:/Users/krvet/Desktop/MADE/CV/HW2/contest02_data/data/test\\\\134.jpg',\n",
       "  'nums': [{'box': [[294, 721], [621, 787], [297, 789], [618, 715]],\n",
       "    'bbox': [299, 715, 616, 788]}]},\n",
       " {'file': 'C:/Users/krvet/Desktop/MADE/CV/HW2/contest02_data/data/test\\\\1340.jpg',\n",
       "  'nums': [{'box': [[173, 840], [270, 931], [178, 890], [269, 882]],\n",
       "    'bbox': [174, 840, 268, 932]}]},\n",
       " {'file': 'C:/Users/krvet/Desktop/MADE/CV/HW2/contest02_data/data/test\\\\1341.jpg',\n",
       "  'nums': [{'box': [[1272, 880], [1583, 937], [1273, 945], [1580, 866]],\n",
       "    'bbox': [1277, 867, 1579, 944]}]},\n",
       " {'file': 'C:/Users/krvet/Desktop/MADE/CV/HW2/contest02_data/data/test\\\\1342.jpg',\n",
       "  'nums': [{'box': [[290, 599], [479, 640], [292, 640], [476, 598]],\n",
       "    'bbox': [293, 597, 476, 640]}]},\n",
       " {'file': 'C:/Users/krvet/Desktop/MADE/CV/HW2/contest02_data/data/test\\\\1343.bmp',\n",
       "  'nums': [{'box': [[25, 167], [108, 186], [27, 187], [108, 164]],\n",
       "    'bbox': [25, 164, 107, 187]}]},\n",
       " {'file': 'C:/Users/krvet/Desktop/MADE/CV/HW2/contest02_data/data/test\\\\1344.jpg',\n",
       "  'nums': [{'box': [[309, 783], [572, 880], [313, 835], [566, 824]],\n",
       "    'bbox': [312, 781, 569, 881]}]},\n",
       " {'file': 'C:/Users/krvet/Desktop/MADE/CV/HW2/contest02_data/data/test\\\\1345.jpg',\n",
       "  'nums': [{'box': [[281, 369], [410, 396], [281, 399], [407, 369]],\n",
       "    'bbox': [283, 369, 407, 399]}]},\n",
       " {'file': 'C:/Users/krvet/Desktop/MADE/CV/HW2/contest02_data/data/test\\\\1346.jpg',\n",
       "  'nums': [{'box': [[728, 726], [952, 769], [735, 771], [948, 721]],\n",
       "    'bbox': [732, 720, 948, 771]}]},\n",
       " {'file': 'C:/Users/krvet/Desktop/MADE/CV/HW2/contest02_data/data/test\\\\1347.bmp',\n",
       "  'nums': [{'box': [[215, 253], [357, 290], [218, 284], [352, 257]],\n",
       "    'bbox': [217, 252, 355, 289]}]},\n",
       " {'file': 'C:/Users/krvet/Desktop/MADE/CV/HW2/contest02_data/data/test\\\\1348.bmp',\n",
       "  'nums': [{'box': [[301, 239], [120, 283], [122, 244], [297, 281]],\n",
       "    'bbox': [122, 239, 299, 282]}]},\n",
       " {'file': 'C:/Users/krvet/Desktop/MADE/CV/HW2/contest02_data/data/test\\\\1349.bmp',\n",
       "  'nums': [{'box': [[182, 235], [275, 267], [185, 262], [272, 240]],\n",
       "    'bbox': [183, 235, 274, 267]}]},\n",
       " {'file': 'C:/Users/krvet/Desktop/MADE/CV/HW2/contest02_data/data/test\\\\135.bmp',\n",
       "  'nums': [{'box': [[431, 161], [237, 208], [238, 170], [426, 206]],\n",
       "    'bbox': [240, 159, 428, 208]}]},\n",
       " {'file': 'C:/Users/krvet/Desktop/MADE/CV/HW2/contest02_data/data/test\\\\1350.jpg',\n",
       "  'nums': [{'box': [[1219, 732], [1018, 825], [1022, 768], [1211, 787]],\n",
       "    'bbox': [1021, 725, 1216, 826]}]},\n",
       " {'file': 'C:/Users/krvet/Desktop/MADE/CV/HW2/contest02_data/data/test\\\\1351.jpg',\n",
       "  'nums': [{'box': [[694, 444], [876, 479], [695, 482], [873, 443]],\n",
       "    'bbox': [697, 443, 873, 481]}]},\n",
       " {'file': 'C:/Users/krvet/Desktop/MADE/CV/HW2/contest02_data/data/test\\\\1352.jpg',\n",
       "  'nums': [{'box': [[1258, 895], [842, 979], [853, 895], [1246, 982]],\n",
       "    'bbox': [849, 893, 1252, 982]}]},\n",
       " {'file': 'C:/Users/krvet/Desktop/MADE/CV/HW2/contest02_data/data/test\\\\1353.jpg',\n",
       "  'nums': [{'box': [[240, 539], [399, 593], [243, 575], [395, 555]],\n",
       "    'bbox': [243, 537, 396, 593]}]},\n",
       " {'file': 'C:/Users/krvet/Desktop/MADE/CV/HW2/contest02_data/data/test\\\\1354.bmp',\n",
       "  'nums': [{'box': [[549, 261], [352, 348], [350, 298], [545, 307]],\n",
       "    'bbox': [348, 259, 546, 349]}]},\n",
       " {'file': 'C:/Users/krvet/Desktop/MADE/CV/HW2/contest02_data/data/test\\\\1355.jpg',\n",
       "  'nums': [{'box': [[151, 547], [272, 583], [155, 576], [268, 553]],\n",
       "    'bbox': [153, 545, 270, 584]}]},\n",
       " {'file': 'C:/Users/krvet/Desktop/MADE/CV/HW2/contest02_data/data/test\\\\1356.jpg',\n",
       "  'nums': [{'box': [[1158, 766], [907, 849], [914, 785], [1155, 825]],\n",
       "    'bbox': [910, 764, 1154, 849]}]},\n",
       " {'file': 'C:/Users/krvet/Desktop/MADE/CV/HW2/contest02_data/data/test\\\\1357.jpg',\n",
       "  'nums': [{'box': [[846, 323], [714, 365], [727, 327], [843, 361]],\n",
       "    'bbox': [715, 323, 845, 365]}]},\n",
       " {'file': 'C:/Users/krvet/Desktop/MADE/CV/HW2/contest02_data/data/test\\\\1358.bmp',\n",
       "  'nums': [{'box': [[352, 274], [238, 362], [237, 316], [354, 319]],\n",
       "    'bbox': [233, 274, 355, 363]}]},\n",
       " {'file': 'C:/Users/krvet/Desktop/MADE/CV/HW2/contest02_data/data/test\\\\1359.jpg',\n",
       "  'nums': [{'box': [[211, 601], [464, 690], [218, 663], [461, 625]],\n",
       "    'bbox': [213, 594, 462, 691]}]},\n",
       " {'file': 'C:/Users/krvet/Desktop/MADE/CV/HW2/contest02_data/data/test\\\\136.jpg',\n",
       "  'nums': [{'box': [[231, 407], [459, 536], [235, 472], [457, 461]],\n",
       "    'bbox': [234, 407, 456, 535]},\n",
       "   {'box': [[173, 255], [238, 274], [175, 280], [233, 257]],\n",
       "    'bbox': [174, 255, 237, 280]}]},\n",
       " {'file': 'C:/Users/krvet/Desktop/MADE/CV/HW2/contest02_data/data/test\\\\1360.jpg',\n",
       "  'nums': [{'box': [[882, 543], [669, 586], [675, 544], [877, 586]],\n",
       "    'bbox': [672, 539, 879, 587]}]},\n",
       " {'file': 'C:/Users/krvet/Desktop/MADE/CV/HW2/contest02_data/data/test\\\\1361.bmp',\n",
       "  'nums': [{'box': [[557, 238], [381, 305], [382, 267], [554, 280]],\n",
       "    'bbox': [383, 238, 555, 307]}]},\n",
       " {'file': 'C:/Users/krvet/Desktop/MADE/CV/HW2/contest02_data/data/test\\\\1362.png',\n",
       "  'nums': [{'box': [[970, 635], [1068, 658], [970, 659], [1068, 630]],\n",
       "    'bbox': [971, 630, 1066, 659]}]},\n",
       " {'file': 'C:/Users/krvet/Desktop/MADE/CV/HW2/contest02_data/data/test\\\\1363.jpg',\n",
       "  'nums': [{'box': [[248, 262], [370, 285], [248, 285], [369, 259]],\n",
       "    'bbox': [250, 259, 368, 285]}]},\n",
       " {'file': 'C:/Users/krvet/Desktop/MADE/CV/HW2/contest02_data/data/test\\\\1364.jpg',\n",
       "  'nums': [{'box': [[528, 622], [663, 661], [531, 661], [660, 620]],\n",
       "    'bbox': [529, 620, 662, 661]}]},\n",
       " {'file': 'C:/Users/krvet/Desktop/MADE/CV/HW2/contest02_data/data/test\\\\1365.jpg',\n",
       "  'nums': [{'box': [[125, 777], [322, 817], [125, 817], [321, 775]],\n",
       "    'bbox': [128, 775, 319, 816]}]},\n",
       " {'file': 'C:/Users/krvet/Desktop/MADE/CV/HW2/contest02_data/data/test\\\\1366.jpg',\n",
       "  'nums': [{'box': [[1382, 611], [1118, 666], [1125, 611], [1381, 667]],\n",
       "    'bbox': [1122, 608, 1379, 667]},\n",
       "   {'box': [[38, 554], [235, 585], [40, 594], [229, 552]],\n",
       "    'bbox': [41, 552, 232, 593]}]},\n",
       " {'file': 'C:/Users/krvet/Desktop/MADE/CV/HW2/contest02_data/data/test\\\\1367.bmp',\n",
       "  'nums': [{'box': [[192, 98], [304, 125], [193, 129], [298, 97]],\n",
       "    'bbox': [194, 97, 302, 129]}]},\n",
       " {'file': 'C:/Users/krvet/Desktop/MADE/CV/HW2/contest02_data/data/test\\\\1368.jpg',\n",
       "  'nums': [{'box': [[770, 379], [642, 453], [644, 418], [768, 415]],\n",
       "    'bbox': [643, 378, 769, 452]}]},\n",
       " {'file': 'C:/Users/krvet/Desktop/MADE/CV/HW2/contest02_data/data/test\\\\1369.jpg',\n",
       "  'nums': [{'box': [[411, 288], [334, 309], [336, 293], [409, 306]],\n",
       "    'bbox': [335, 287, 410, 309]},\n",
       "   {'box': [[539, 206], [483, 221], [484, 207], [538, 221]],\n",
       "    'bbox': [484, 206, 538, 221]}]},\n",
       " {'file': 'C:/Users/krvet/Desktop/MADE/CV/HW2/contest02_data/data/test\\\\137.JPG',\n",
       "  'nums': [{'box': [[1553, 1478], [2463, 1674], [1579, 1668], [2444, 1483]],\n",
       "    'bbox': [1566, 1471, 2449, 1678]}]},\n",
       " {'file': 'C:/Users/krvet/Desktop/MADE/CV/HW2/contest02_data/data/test\\\\1370.jpg',\n",
       "  'nums': [{'box': [[813, 832], [1166, 894], [816, 895], [1156, 828]],\n",
       "    'bbox': [818, 829, 1161, 895]}]},\n",
       " {'file': 'C:/Users/krvet/Desktop/MADE/CV/HW2/contest02_data/data/test\\\\1371.jpg',\n",
       "  'nums': [{'box': [[453, 521], [646, 559], [454, 560], [644, 519]],\n",
       "    'bbox': [456, 520, 643, 560]}]},\n",
       " {'file': 'C:/Users/krvet/Desktop/MADE/CV/HW2/contest02_data/data/test\\\\1372.jpg',\n",
       "  'nums': [{'box': [[1098, 569], [1330, 624], [1105, 624], [1325, 569]],\n",
       "    'bbox': [1101, 568, 1327, 624]}]},\n",
       " {'file': 'C:/Users/krvet/Desktop/MADE/CV/HW2/contest02_data/data/test\\\\1373.bmp',\n",
       "  'nums': [{'box': [[120, 154], [235, 184], [120, 184], [232, 155]],\n",
       "    'bbox': [122, 154, 233, 184]}]},\n",
       " {'file': 'C:/Users/krvet/Desktop/MADE/CV/HW2/contest02_data/data/test\\\\1374.jpg',\n",
       "  'nums': [{'box': [[398, 494], [628, 542], [400, 543], [622, 493]],\n",
       "    'bbox': [401, 494, 625, 542]}]},\n",
       " {'file': 'C:/Users/krvet/Desktop/MADE/CV/HW2/contest02_data/data/test\\\\1375.jpg',\n",
       "  'nums': [{'box': [[139, 889], [267, 997], [145, 947], [263, 934]],\n",
       "    'bbox': [141, 889, 265, 996]}]},\n",
       " {'file': 'C:/Users/krvet/Desktop/MADE/CV/HW2/contest02_data/data/test\\\\1376.jpg',\n",
       "  'nums': [{'box': [[3970, 876], [3519, 1001], [3531, 887], [3959, 984]],\n",
       "    'bbox': [3526, 874, 3964, 1001]},\n",
       "   {'box': [[1205, 1172], [435, 1358], [451, 1200], [1185, 1321]],\n",
       "    'bbox': [446, 1167, 1193, 1361]}]},\n",
       " {'file': 'C:/Users/krvet/Desktop/MADE/CV/HW2/contest02_data/data/test\\\\1377.bmp',\n",
       "  'nums': [{'box': [[147, 200], [241, 226], [146, 226], [241, 195]],\n",
       "    'bbox': [147, 195, 240, 226]}]},\n",
       " {'file': 'C:/Users/krvet/Desktop/MADE/CV/HW2/contest02_data/data/test\\\\1378.jpg',\n",
       "  'nums': [{'box': [[175, 219], [250, 234], [176, 235], [247, 218]],\n",
       "    'bbox': [176, 219, 249, 235]}]},\n",
       " {'file': 'C:/Users/krvet/Desktop/MADE/CV/HW2/contest02_data/data/test\\\\1379.bmp',\n",
       "  'nums': [{'box': [[444, 324], [249, 404], [255, 358], [441, 365]],\n",
       "    'bbox': [251, 317, 441, 404]}]},\n",
       " {'file': 'C:/Users/krvet/Desktop/MADE/CV/HW2/contest02_data/data/test\\\\138.jpg',\n",
       "  'nums': [{'box': [[115, 963], [418, 1196], [126, 1063], [415, 1093]],\n",
       "    'bbox': [116, 962, 415, 1196]}]},\n",
       " {'file': 'C:/Users/krvet/Desktop/MADE/CV/HW2/contest02_data/data/test\\\\1380.bmp',\n",
       "  'nums': [{'box': [[140, 292], [311, 363], [142, 330], [308, 319]],\n",
       "    'bbox': [143, 290, 309, 364]}]},\n",
       " {'file': 'C:/Users/krvet/Desktop/MADE/CV/HW2/contest02_data/data/test\\\\1381.jpg',\n",
       "  'nums': [{'box': [[1367, 720], [1230, 816], [1229, 746], [1364, 781]],\n",
       "    'bbox': [1227, 718, 1366, 815]}]},\n",
       " {'file': 'C:/Users/krvet/Desktop/MADE/CV/HW2/contest02_data/data/test\\\\1382.bmp',\n",
       "  'nums': [{'box': [[890, 944], [1436, 1072], [903, 1060], [1428, 959]],\n",
       "    'bbox': [898, 943, 1428, 1072]}]},\n",
       " {'file': 'C:/Users/krvet/Desktop/MADE/CV/HW2/contest02_data/data/test\\\\1383.jpg',\n",
       "  'nums': [{'box': [[156, 940], [389, 1015], [162, 1006], [381, 943]],\n",
       "    'bbox': [159, 937, 386, 1016]}]},\n",
       " {'file': 'C:/Users/krvet/Desktop/MADE/CV/HW2/contest02_data/data/test\\\\1384.jpg',\n",
       "  'nums': [{'box': [[889, 645], [644, 694], [651, 643], [885, 695]],\n",
       "    'bbox': [647, 642, 885, 694]},\n",
       "   {'box': [[1466, 543], [1591, 570], [1470, 572], [1590, 542]],\n",
       "    'bbox': [1467, 542, 1588, 572]}]},\n",
       " {'file': 'C:/Users/krvet/Desktop/MADE/CV/HW2/contest02_data/data/test\\\\1385.jpg',\n",
       "  'nums': [{'box': [[539, 535], [492, 566], [493, 547], [537, 555]],\n",
       "    'bbox': [492, 535, 539, 566]}]},\n",
       " {'file': 'C:/Users/krvet/Desktop/MADE/CV/HW2/contest02_data/data/test\\\\1386.jpg',\n",
       "  'nums': [{'box': [[348, 506], [589, 594], [351, 565], [586, 531]],\n",
       "    'bbox': [352, 501, 586, 594]}]},\n",
       " {'file': 'C:/Users/krvet/Desktop/MADE/CV/HW2/contest02_data/data/test\\\\1387.jpg',\n",
       "  'nums': [{'box': [[224, 536], [450, 598], [232, 584], [447, 547]],\n",
       "    'bbox': [228, 533, 446, 600]}]},\n",
       " {'file': 'C:/Users/krvet/Desktop/MADE/CV/HW2/contest02_data/data/test\\\\1388.bmp',\n",
       "  'nums': [{'box': [[175, 293], [43, 334], [45, 305], [171, 320]],\n",
       "    'bbox': [45, 292, 173, 334]}]},\n",
       " {'file': 'C:/Users/krvet/Desktop/MADE/CV/HW2/contest02_data/data/test\\\\1389.jpg',\n",
       "  'nums': [{'box': [[631, 219], [751, 242], [631, 242], [750, 218]],\n",
       "    'bbox': [633, 218, 749, 242]},\n",
       "   {'box': [[259, 359], [99, 502], [103, 416], [257, 435]],\n",
       "    'bbox': [96, 353, 259, 503]}]},\n",
       " {'file': 'C:/Users/krvet/Desktop/MADE/CV/HW2/contest02_data/data/test\\\\139.jpg',\n",
       "  'nums': [{'box': [[457, 714], [625, 742], [458, 746], [624, 708]],\n",
       "    'bbox': [459, 708, 622, 746]}]},\n",
       " {'file': 'C:/Users/krvet/Desktop/MADE/CV/HW2/contest02_data/data/test\\\\1390.jpg',\n",
       "  'nums': [{'box': [[1606, 739], [1379, 856], [1381, 792], [1604, 806]],\n",
       "    'bbox': [1381, 739, 1604, 856]}]},\n",
       " {'file': 'C:/Users/krvet/Desktop/MADE/CV/HW2/contest02_data/data/test\\\\1391.jpg',\n",
       "  'nums': [{'box': [[140, 488], [331, 532], [144, 529], [325, 486]],\n",
       "    'bbox': [143, 486, 328, 533]}]},\n",
       " {'file': 'C:/Users/krvet/Desktop/MADE/CV/HW2/contest02_data/data/test\\\\1392.bmp',\n",
       "  'nums': [{'box': [[143, 387], [286, 417], [143, 418], [286, 382]],\n",
       "    'bbox': [145, 382, 284, 418]}]},\n",
       " {'file': 'C:/Users/krvet/Desktop/MADE/CV/HW2/contest02_data/data/test\\\\1393.jpg',\n",
       "  'nums': [{'box': [[152, 692], [402, 813], [156, 753], [399, 747]],\n",
       "    'bbox': [155, 691, 399, 815]}]},\n",
       " {'file': 'C:/Users/krvet/Desktop/MADE/CV/HW2/contest02_data/data/test\\\\1394.jpg',\n",
       "  'nums': [{'box': [[1113, 754], [849, 808], [856, 753], [1105, 809]],\n",
       "    'bbox': [853, 749, 1109, 809]}]},\n",
       " {'file': 'C:/Users/krvet/Desktop/MADE/CV/HW2/contest02_data/data/test\\\\1395.jpg',\n",
       "  'nums': [{'box': [[551, 505], [659, 523], [551, 525], [658, 499]],\n",
       "    'bbox': [553, 499, 658, 525]}]},\n",
       " {'file': 'C:/Users/krvet/Desktop/MADE/CV/HW2/contest02_data/data/test\\\\1396.jpg',\n",
       "  'nums': [{'box': [[1329, 657], [1211, 721], [1213, 677], [1325, 698]],\n",
       "    'bbox': [1212, 657, 1327, 721]}]},\n",
       " {'file': 'C:/Users/krvet/Desktop/MADE/CV/HW2/contest02_data/data/test\\\\1397.bmp',\n",
       "  'nums': [{'box': [[541, 165], [392, 211], [393, 176], [540, 196]],\n",
       "    'bbox': [394, 161, 540, 211]}]},\n",
       " {'file': 'C:/Users/krvet/Desktop/MADE/CV/HW2/contest02_data/data/test\\\\1398.bmp',\n",
       "  'nums': [{'box': [[923, 805], [1280, 903], [935, 885], [1267, 824]],\n",
       "    'bbox': [928, 801, 1275, 903]}]},\n",
       " {'file': 'C:/Users/krvet/Desktop/MADE/CV/HW2/contest02_data/data/test\\\\1399.bmp',\n",
       "  'nums': [{'box': [[271, 288], [365, 315], [271, 315], [365, 288]],\n",
       "    'bbox': [272, 288, 363, 315]}]},\n",
       " {'file': 'C:/Users/krvet/Desktop/MADE/CV/HW2/contest02_data/data/test\\\\14.jpg',\n",
       "  'nums': [{'box': [[802, 230], [746, 270], [742, 242], [804, 259]],\n",
       "    'bbox': [742, 230, 804, 271]}]},\n",
       " {'file': 'C:/Users/krvet/Desktop/MADE/CV/HW2/contest02_data/data/test\\\\140.jpg',\n",
       "  'nums': [{'box': [[615, 691], [382, 740], [384, 690], [614, 741]],\n",
       "    'bbox': [386, 688, 612, 740]}]},\n",
       " {'file': 'C:/Users/krvet/Desktop/MADE/CV/HW2/contest02_data/data/test\\\\1400.jpg',\n",
       "  'nums': [{'box': [[1075, 696], [951, 782], [957, 736], [1069, 740]],\n",
       "    'bbox': [953, 697, 1073, 782]}]},\n",
       " {'file': 'C:/Users/krvet/Desktop/MADE/CV/HW2/contest02_data/data/test\\\\1401.jpg',\n",
       "  'nums': [{'box': [[1293, 717], [1055, 796], [1065, 733], [1287, 779]],\n",
       "    'bbox': [1058, 716, 1290, 797]}]},\n",
       " {'file': 'C:/Users/krvet/Desktop/MADE/CV/HW2/contest02_data/data/test\\\\1402.jpg',\n",
       "  'nums': [{'box': [[429, 546], [623, 587], [432, 587], [619, 545]],\n",
       "    'bbox': [432, 546, 621, 586]}]},\n",
       " {'file': 'C:/Users/krvet/Desktop/MADE/CV/HW2/contest02_data/data/test\\\\1403.jpg',\n",
       "  'nums': [{'box': [[957, 932], [675, 1058], [679, 994], [952, 1000]],\n",
       "    'bbox': [678, 932, 953, 1059]}]},\n",
       " {'file': 'C:/Users/krvet/Desktop/MADE/CV/HW2/contest02_data/data/test\\\\1404.jpg',\n",
       "  'nums': [{'box': [[1056, 662], [747, 742], [754, 675], [1052, 732]],\n",
       "    'bbox': [752, 660, 1051, 743]}]},\n",
       " {'file': 'C:/Users/krvet/Desktop/MADE/CV/HW2/contest02_data/data/test\\\\1405.png',\n",
       "  'nums': [{'box': [[1099, 642], [1227, 670], [1099, 671], [1227, 640]],\n",
       "    'bbox': [1100, 640, 1225, 671]}]},\n",
       " {'file': 'C:/Users/krvet/Desktop/MADE/CV/HW2/contest02_data/data/test\\\\1406.bmp',\n",
       "  'nums': [{'box': [[233, 236], [320, 258], [234, 258], [320, 235]],\n",
       "    'bbox': [234, 235, 319, 258]}]},\n",
       " {'file': 'C:/Users/krvet/Desktop/MADE/CV/HW2/contest02_data/data/test\\\\1407.jpg',\n",
       "  'nums': [{'box': [[476, 683], [850, 767], [483, 760], [841, 682]],\n",
       "    'bbox': [482, 678, 844, 769]}]},\n",
       " {'file': 'C:/Users/krvet/Desktop/MADE/CV/HW2/contest02_data/data/test\\\\1408.jpg',\n",
       "  'nums': [{'box': [[1007, 685], [741, 743], [745, 688], [1000, 745]],\n",
       "    'bbox': [745, 684, 1002, 745]}]},\n",
       " {'file': 'C:/Users/krvet/Desktop/MADE/CV/HW2/contest02_data/data/test\\\\1409.bmp',\n",
       "  'nums': [{'box': [[292, 190], [180, 224], [181, 200], [290, 214]],\n",
       "    'bbox': [180, 188, 290, 225]}]},\n",
       " {'file': 'C:/Users/krvet/Desktop/MADE/CV/HW2/contest02_data/data/test\\\\141.jpg',\n",
       "  'nums': [{'box': [[1281, 581], [1055, 631], [1061, 583], [1277, 631]],\n",
       "    'bbox': [1059, 578, 1277, 632]},\n",
       "   {'box': [[1498, 476], [1625, 502], [1498, 503], [1624, 472]],\n",
       "    'bbox': [1499, 472, 1624, 503]}]},\n",
       " {'file': 'C:/Users/krvet/Desktop/MADE/CV/HW2/contest02_data/data/test\\\\1410.jpg',\n",
       "  'nums': [{'box': [[320, 301], [239, 321], [241, 302], [319, 321]],\n",
       "    'bbox': [240, 301, 319, 322]}]},\n",
       " {'file': 'C:/Users/krvet/Desktop/MADE/CV/HW2/contest02_data/data/test\\\\1411.jpg',\n",
       "  'nums': [{'box': [[1228, 1023], [862, 1128], [868, 1049], [1221, 1099]],\n",
       "    'bbox': [868, 1019, 1222, 1129]}]},\n",
       " {'file': 'C:/Users/krvet/Desktop/MADE/CV/HW2/contest02_data/data/test\\\\1412.jpg',\n",
       "  'nums': [{'box': [[298, 272], [464, 329], [300, 310], [462, 283]],\n",
       "    'bbox': [299, 268, 462, 330]}]},\n",
       " {'file': 'C:/Users/krvet/Desktop/MADE/CV/HW2/contest02_data/data/test\\\\1413.jpg',\n",
       "  'nums': [{'box': [[1472, 389], [1351, 464], [1346, 401], [1473, 450]],\n",
       "    'bbox': [1346, 387, 1476, 465]}]},\n",
       " {'file': 'C:/Users/krvet/Desktop/MADE/CV/HW2/contest02_data/data/test\\\\1414.bmp',\n",
       "  'nums': [{'box': [[350, 212], [489, 250], [355, 245], [486, 218]],\n",
       "    'bbox': [352, 212, 487, 250]}]},\n",
       " {'file': 'C:/Users/krvet/Desktop/MADE/CV/HW2/contest02_data/data/test\\\\1415.jpg',\n",
       "  'nums': [{'box': [[271, 748], [465, 783], [271, 784], [464, 743]],\n",
       "    'bbox': [274, 743, 462, 784]}]},\n",
       " {'file': 'C:/Users/krvet/Desktop/MADE/CV/HW2/contest02_data/data/test\\\\1416.jpg',\n",
       "  'nums': [{'box': [[294, 736], [462, 776], [296, 778], [461, 729]],\n",
       "    'bbox': [297, 730, 460, 777]}]},\n",
       " {'file': 'C:/Users/krvet/Desktop/MADE/CV/HW2/contest02_data/data/test\\\\1417.jpg',\n",
       "  'nums': [{'box': [[1344, 579], [1009, 645], [1013, 575], [1341, 646]],\n",
       "    'bbox': [1013, 576, 1338, 645]},\n",
       "   {'box': [[7, 421], [114, 455], [8, 456], [112, 419]],\n",
       "    'bbox': [9, 419, 112, 455]}]},\n",
       " {'file': 'C:/Users/krvet/Desktop/MADE/CV/HW2/contest02_data/data/test\\\\1418.jpg',\n",
       "  'nums': [{'box': [[308, 451], [488, 496], [313, 493], [486, 455]],\n",
       "    'bbox': [310, 451, 486, 496]}]},\n",
       " {'file': 'C:/Users/krvet/Desktop/MADE/CV/HW2/contest02_data/data/test\\\\1419.jpg',\n",
       "  'nums': [{'box': [[732, 561], [953, 605], [733, 607], [951, 559]],\n",
       "    'bbox': [735, 559, 949, 606]}]},\n",
       " {'file': 'C:/Users/krvet/Desktop/MADE/CV/HW2/contest02_data/data/test\\\\142.jpg',\n",
       "  'nums': [{'box': [[296, 1058], [513, 1139], [308, 1122], [508, 1069]],\n",
       "    'bbox': [299, 1058, 511, 1139]}]},\n",
       " {'file': 'C:/Users/krvet/Desktop/MADE/CV/HW2/contest02_data/data/test\\\\1420.jpg',\n",
       "  'nums': [{'box': [[469, 944], [740, 999], [471, 1002], [737, 938]],\n",
       "    'bbox': [474, 939, 736, 1002]}]},\n",
       " {'file': 'C:/Users/krvet/Desktop/MADE/CV/HW2/contest02_data/data/test\\\\1421.jpg',\n",
       "  'nums': [{'box': [[283, 312], [395, 338], [286, 338], [393, 311]],\n",
       "    'bbox': [285, 311, 393, 338]}]},\n",
       " {'file': 'C:/Users/krvet/Desktop/MADE/CV/HW2/contest02_data/data/test\\\\1422.jpg',\n",
       "  'nums': [{'box': [[297, 307], [417, 334], [298, 334], [414, 305]],\n",
       "    'bbox': [299, 305, 415, 333]}]},\n",
       " {'file': 'C:/Users/krvet/Desktop/MADE/CV/HW2/contest02_data/data/test\\\\1423.jpg',\n",
       "  'nums': [{'box': [[728, 284], [664, 324], [664, 298], [726, 310]],\n",
       "    'bbox': [664, 283, 727, 323]}]},\n",
       " {'file': 'C:/Users/krvet/Desktop/MADE/CV/HW2/contest02_data/data/test\\\\1424.bmp',\n",
       "  'nums': [{'box': [[223, 258], [596, 326], [233, 327], [592, 245]],\n",
       "    'bbox': [228, 246, 590, 327]}]},\n",
       " {'file': 'C:/Users/krvet/Desktop/MADE/CV/HW2/contest02_data/data/test\\\\1425.bmp',\n",
       "  'nums': [{'box': [[461, 113], [322, 149], [325, 118], [460, 149]],\n",
       "    'bbox': [323, 113, 460, 149]}]},\n",
       " {'file': 'C:/Users/krvet/Desktop/MADE/CV/HW2/contest02_data/data/test\\\\1426.jpg',\n",
       "  'nums': [{'box': [[183, 750], [442, 875], [193, 818], [436, 807]],\n",
       "    'bbox': [186, 749, 438, 877]}]},\n",
       " {'file': 'C:/Users/krvet/Desktop/MADE/CV/HW2/contest02_data/data/test\\\\1427.jpg',\n",
       "  'nums': [{'box': [[445, 418], [335, 445], [339, 420], [443, 443]],\n",
       "    'bbox': [337, 417, 443, 446]}]},\n",
       " {'file': 'C:/Users/krvet/Desktop/MADE/CV/HW2/contest02_data/data/test\\\\1428.jpg',\n",
       "  'nums': [{'box': [[1072, 714], [665, 833], [667, 755], [1060, 796]],\n",
       "    'bbox': [663, 712, 1067, 835]}]},\n",
       " {'file': 'C:/Users/krvet/Desktop/MADE/CV/HW2/contest02_data/data/test\\\\1429.bmp',\n",
       "  'nums': [{'box': [[266, 244], [115, 285], [117, 253], [263, 277]],\n",
       "    'bbox': [117, 242, 264, 284]}]},\n",
       " {'file': 'C:/Users/krvet/Desktop/MADE/CV/HW2/contest02_data/data/test\\\\143.jpg',\n",
       "  'nums': [{'box': [[282, 948], [558, 1126], [291, 1025], [556, 1035]],\n",
       "    'bbox': [285, 948, 555, 1125]}]},\n",
       " {'file': 'C:/Users/krvet/Desktop/MADE/CV/HW2/contest02_data/data/test\\\\1430.jpg',\n",
       "  'nums': [{'box': [[386, 305], [497, 328], [386, 328], [495, 304]],\n",
       "    'bbox': [388, 304, 495, 328]}]},\n",
       " {'file': 'C:/Users/krvet/Desktop/MADE/CV/HW2/contest02_data/data/test\\\\1431.jpg',\n",
       "  'nums': [{'box': [[809, 786], [1052, 839], [812, 840], [1050, 785]],\n",
       "    'bbox': [812, 785, 1048, 839]}]},\n",
       " {'file': 'C:/Users/krvet/Desktop/MADE/CV/HW2/contest02_data/data/test\\\\1432.bmp',\n",
       "  'nums': [{'box': [[171, 279], [261, 318], [175, 306], [258, 287]],\n",
       "    'bbox': [173, 278, 260, 317]}]},\n",
       " {'file': 'C:/Users/krvet/Desktop/MADE/CV/HW2/contest02_data/data/test\\\\1433.bmp',\n",
       "  'nums': [{'box': [[343, 253], [441, 287], [347, 280], [439, 261]],\n",
       "    'bbox': [345, 253, 439, 287]}]},\n",
       " {'file': 'C:/Users/krvet/Desktop/MADE/CV/HW2/contest02_data/data/test\\\\1434.jpg',\n",
       "  'nums': [{'box': [[608, 623], [1031, 700], [611, 702], [1025, 615]],\n",
       "    'bbox': [615, 615, 1025, 701]}]},\n",
       " {'file': 'C:/Users/krvet/Desktop/MADE/CV/HW2/contest02_data/data/test\\\\1435.bmp',\n",
       "  'nums': [{'box': [[118, 159], [330, 199], [119, 200], [327, 155]],\n",
       "    'bbox': [122, 155, 326, 199]}]},\n",
       " {'file': 'C:/Users/krvet/Desktop/MADE/CV/HW2/contest02_data/data/test\\\\1436.jpg',\n",
       "  'nums': [{'box': [[154, 697], [359, 832], [165, 759], [351, 759]],\n",
       "    'bbox': [156, 695, 357, 831]}]},\n",
       " {'file': 'C:/Users/krvet/Desktop/MADE/CV/HW2/contest02_data/data/test\\\\1437.jpg',\n",
       "  'nums': [{'box': [[487, 228], [382, 253], [387, 231], [485, 251]],\n",
       "    'bbox': [383, 227, 485, 255]}]},\n",
       " {'file': 'C:/Users/krvet/Desktop/MADE/CV/HW2/contest02_data/data/test\\\\1439.jpg',\n",
       "  'nums': [{'box': [[314, 599], [705, 674], [318, 675], [701, 591]],\n",
       "    'bbox': [316, 591, 699, 674]}]},\n",
       " {'file': 'C:/Users/krvet/Desktop/MADE/CV/HW2/contest02_data/data/test\\\\144.bmp',\n",
       "  'nums': [{'box': [[294, 193], [153, 226], [155, 197], [291, 226]],\n",
       "    'bbox': [155, 192, 292, 226]}]},\n",
       " {'file': 'C:/Users/krvet/Desktop/MADE/CV/HW2/contest02_data/data/test\\\\1440.bmp',\n",
       "  'nums': [{'box': [[301, 202], [228, 226], [230, 203], [300, 228]],\n",
       "    'bbox': [230, 201, 300, 228]}]},\n",
       " {'file': 'C:/Users/krvet/Desktop/MADE/CV/HW2/contest02_data/data/test\\\\1441.bmp',\n",
       "  'nums': [{'box': [[168, 269], [247, 298], [170, 294], [244, 271]],\n",
       "    'bbox': [168, 267, 246, 297]}]},\n",
       " {'file': 'C:/Users/krvet/Desktop/MADE/CV/HW2/contest02_data/data/test\\\\1442.jpg',\n",
       "  'nums': [{'box': [[229, 313], [463, 360], [233, 362], [460, 311]],\n",
       "    'bbox': [232, 312, 460, 361]}]},\n",
       " {'file': 'C:/Users/krvet/Desktop/MADE/CV/HW2/contest02_data/data/test\\\\1443.bmp',\n",
       "  'nums': [{'box': [[254, 433], [424, 498], [262, 466], [421, 463]],\n",
       "    'bbox': [257, 431, 421, 501]}]},\n",
       " {'file': 'C:/Users/krvet/Desktop/MADE/CV/HW2/contest02_data/data/test\\\\1444.bmp',\n",
       "  'nums': [{'box': [[82, 123], [270, 168], [89, 167], [268, 120]],\n",
       "    'bbox': [85, 121, 267, 168]}]},\n",
       " {'file': 'C:/Users/krvet/Desktop/MADE/CV/HW2/contest02_data/data/test\\\\1445.jpg',\n",
       "  'nums': [{'box': [[511, 635], [778, 690], [513, 691], [772, 631]],\n",
       "    'bbox': [515, 630, 774, 691]}]},\n",
       " {'file': 'C:/Users/krvet/Desktop/MADE/CV/HW2/contest02_data/data/test\\\\1446.jpg',\n",
       "  'nums': [{'box': [[1301, 687], [973, 789], [977, 714], [1295, 764]],\n",
       "    'bbox': [977, 686, 1297, 790]}]},\n",
       " {'file': 'C:/Users/krvet/Desktop/MADE/CV/HW2/contest02_data/data/test\\\\1447.jpg',\n",
       "  'nums': [{'box': [[661, 856], [787, 877], [661, 881], [786, 854]],\n",
       "    'bbox': [663, 854, 785, 881]}]},\n",
       " {'file': 'C:/Users/krvet/Desktop/MADE/CV/HW2/contest02_data/data/test\\\\1448.jpg',\n",
       "  'nums': [{'box': [[299, 738], [610, 808], [306, 809], [606, 734]],\n",
       "    'bbox': [304, 734, 605, 809]}]},\n",
       " {'file': 'C:/Users/krvet/Desktop/MADE/CV/HW2/contest02_data/data/test\\\\1449.jpg',\n",
       "  'nums': [{'box': [[1258, 407], [1098, 453], [1101, 410], [1254, 453]],\n",
       "    'bbox': [1101, 405, 1255, 453]}]},\n",
       " {'file': 'C:/Users/krvet/Desktop/MADE/CV/HW2/contest02_data/data/test\\\\145.jpg',\n",
       "  'nums': [{'box': [[388, 173], [200, 288], [208, 201], [371, 289]],\n",
       "    'bbox': [202, 173, 385, 291]}]},\n",
       " {'file': 'C:/Users/krvet/Desktop/MADE/CV/HW2/contest02_data/data/test\\\\1450.jpg',\n",
       "  'nums': [{'box': [[1227, 604], [1380, 704], [1229, 646], [1377, 668]],\n",
       "    'bbox': [1223, 604, 1378, 705]}]},\n",
       " {'file': 'C:/Users/krvet/Desktop/MADE/CV/HW2/contest02_data/data/test\\\\1451.bmp',\n",
       "  'nums': [{'box': [[233, 167], [342, 201], [235, 200], [339, 166]],\n",
       "    'bbox': [235, 167, 340, 201]}]},\n",
       " {'file': 'C:/Users/krvet/Desktop/MADE/CV/HW2/contest02_data/data/test\\\\1452.jpg',\n",
       "  'nums': [{'box': [[865, 508], [637, 575], [641, 521], [861, 563]],\n",
       "    'bbox': [641, 506, 863, 577]}]},\n",
       " {'file': 'C:/Users/krvet/Desktop/MADE/CV/HW2/contest02_data/data/test\\\\1453.bmp',\n",
       "  'nums': [{'box': [[318, 284], [457, 353], [319, 321], [455, 310]],\n",
       "    'bbox': [320, 283, 459, 353]}]},\n",
       " {'file': 'C:/Users/krvet/Desktop/MADE/CV/HW2/contest02_data/data/test\\\\1454.jpg',\n",
       "  'nums': [{'box': [[345, 715], [519, 797], [348, 766], [516, 747]],\n",
       "    'bbox': [347, 714, 516, 798]}]},\n",
       " {'file': 'C:/Users/krvet/Desktop/MADE/CV/HW2/contest02_data/data/test\\\\1455.bmp',\n",
       "  'nums': [{'box': [[220, 184], [349, 215], [222, 215], [349, 184]],\n",
       "    'bbox': [222, 184, 347, 215]}]},\n",
       " {'file': 'C:/Users/krvet/Desktop/MADE/CV/HW2/contest02_data/data/test\\\\1456.jpg',\n",
       "  'nums': [{'box': [[370, 458], [691, 518], [379, 518], [684, 458]],\n",
       "    'bbox': [375, 455, 686, 519]}]},\n",
       " {'file': 'C:/Users/krvet/Desktop/MADE/CV/HW2/contest02_data/data/test\\\\1457.jpg',\n",
       "  'nums': [{'box': [[634, 408], [505, 437], [506, 413], [633, 435]],\n",
       "    'bbox': [507, 408, 632, 437]}]},\n",
       " {'file': 'C:/Users/krvet/Desktop/MADE/CV/HW2/contest02_data/data/test\\\\1458.bmp',\n",
       "  'nums': [{'box': [[181, 232], [344, 304], [183, 274], [340, 258]],\n",
       "    'bbox': [183, 232, 341, 305]}]},\n",
       " {'file': 'C:/Users/krvet/Desktop/MADE/CV/HW2/contest02_data/data/test\\\\1459.jpg',\n",
       "  'nums': [{'box': [[295, 418], [512, 473], [303, 473], [506, 418]],\n",
       "    'bbox': [297, 416, 508, 474]}]},\n",
       " {'file': 'C:/Users/krvet/Desktop/MADE/CV/HW2/contest02_data/data/test\\\\146.jpg',\n",
       "  'nums': [{'box': [[228, 382], [313, 416], [229, 408], [311, 391]],\n",
       "    'bbox': [229, 382, 312, 416]}]},\n",
       " {'file': 'C:/Users/krvet/Desktop/MADE/CV/HW2/contest02_data/data/test\\\\1460.jpg',\n",
       "  'nums': [{'box': [[538, 677], [790, 731], [543, 731], [784, 675]],\n",
       "    'bbox': [542, 673, 787, 731]}]},\n",
       " {'file': 'C:/Users/krvet/Desktop/MADE/CV/HW2/contest02_data/data/test\\\\1461.jpg',\n",
       "  'nums': [{'box': [[535, 639], [952, 708], [552, 709], [942, 638]],\n",
       "    'bbox': [542, 636, 946, 715]}]},\n",
       " {'file': 'C:/Users/krvet/Desktop/MADE/CV/HW2/contest02_data/data/test\\\\1462.jpg',\n",
       "  'nums': [{'box': [[375, 913], [541, 955], [382, 955], [537, 913]],\n",
       "    'bbox': [377, 909, 539, 955]}]},\n",
       " {'file': 'C:/Users/krvet/Desktop/MADE/CV/HW2/contest02_data/data/test\\\\1463.jpg',\n",
       "  'nums': [{'box': [[469, 804], [654, 840], [469, 843], [654, 802]],\n",
       "    'bbox': [471, 803, 652, 843]}]},\n",
       " {'file': 'C:/Users/krvet/Desktop/MADE/CV/HW2/contest02_data/data/test\\\\1464.bmp',\n",
       "  'nums': [{'box': [[220, 133], [136, 174], [136, 147], [218, 162]],\n",
       "    'bbox': [134, 132, 219, 174]}]},\n",
       " {'file': 'C:/Users/krvet/Desktop/MADE/CV/HW2/contest02_data/data/test\\\\1465.png',\n",
       "  'nums': [{'box': [[521, 734], [614, 756], [520, 756], [612, 733]],\n",
       "    'bbox': [521, 733, 612, 756]}]},\n",
       " {'file': 'C:/Users/krvet/Desktop/MADE/CV/HW2/contest02_data/data/test\\\\1466.jpg',\n",
       "  'nums': [{'box': [[117, 452], [288, 541], [120, 509], [285, 476]],\n",
       "    'bbox': [119, 451, 286, 541]}]},\n",
       " {'file': 'C:/Users/krvet/Desktop/MADE/CV/HW2/contest02_data/data/test\\\\1467.jpg',\n",
       "  'nums': [{'box': [[778, 1373], [1067, 1444], [784, 1434], [1061, 1383]],\n",
       "    'bbox': [782, 1370, 1063, 1444]}]},\n",
       " {'file': 'C:/Users/krvet/Desktop/MADE/CV/HW2/contest02_data/data/test\\\\1468.jpg',\n",
       "  'nums': [{'box': [[366, 407], [568, 453], [369, 453], [562, 411]],\n",
       "    'bbox': [369, 406, 565, 453]}]},\n",
       " {'file': 'C:/Users/krvet/Desktop/MADE/CV/HW2/contest02_data/data/test\\\\1469.bmp',\n",
       "  'nums': [{'box': [[330, 284], [475, 344], [333, 320], [473, 302]],\n",
       "    'bbox': [332, 283, 473, 344]}]},\n",
       " {'file': 'C:/Users/krvet/Desktop/MADE/CV/HW2/contest02_data/data/test\\\\147.jpg',\n",
       "  'nums': [{'box': [[887, 546], [523, 623], [535, 552], [875, 619]],\n",
       "    'bbox': [529, 544, 881, 624]}]},\n",
       " {'file': 'C:/Users/krvet/Desktop/MADE/CV/HW2/contest02_data/data/test\\\\1470.png',\n",
       "  'nums': [{'box': [[1076, 692], [881, 746], [888, 702], [1069, 733]],\n",
       "    'bbox': [884, 690, 1074, 747]},\n",
       "   {'box': [[1265, 468], [1160, 501], [1163, 471], [1261, 498]],\n",
       "    'bbox': [1161, 466, 1264, 500]},\n",
       "   {'box': [[1427, 398], [1512, 420], [1428, 420], [1511, 395]],\n",
       "    'bbox': [1428, 395, 1511, 420]}]},\n",
       " {'file': 'C:/Users/krvet/Desktop/MADE/CV/HW2/contest02_data/data/test\\\\1471.jpg',\n",
       "  'nums': [{'box': [[382, 695], [605, 741], [385, 742], [599, 691]],\n",
       "    'bbox': [386, 692, 602, 742]}]},\n",
       " {'file': 'C:/Users/krvet/Desktop/MADE/CV/HW2/contest02_data/data/test\\\\1472.jpg',\n",
       "  'nums': [{'box': [[816, 736], [1050, 779], [821, 783], [1049, 732]],\n",
       "    'bbox': [819, 733, 1047, 783]}]},\n",
       " {'file': 'C:/Users/krvet/Desktop/MADE/CV/HW2/contest02_data/data/test\\\\1473.jpg',\n",
       "  'nums': [{'box': [[1019, 635], [810, 704], [815, 652], [1012, 694]],\n",
       "    'bbox': [812, 634, 1016, 704]}]},\n",
       " {'file': 'C:/Users/krvet/Desktop/MADE/CV/HW2/contest02_data/data/test\\\\1474.jpg',\n",
       "  'nums': [{'box': [[886, 545], [488, 642], [500, 560], [877, 629]],\n",
       "    'bbox': [494, 542, 880, 643]}]},\n",
       " {'file': 'C:/Users/krvet/Desktop/MADE/CV/HW2/contest02_data/data/test\\\\1475.jpg',\n",
       "  'nums': [{'box': [[265, 539], [396, 596], [270, 582], [395, 556]],\n",
       "    'bbox': [266, 538, 395, 596]}]},\n",
       " {'file': 'C:/Users/krvet/Desktop/MADE/CV/HW2/contest02_data/data/test\\\\1476.jpg',\n",
       "  'nums': [{'box': [[439, 529], [748, 587], [440, 588], [742, 526]],\n",
       "    'bbox': [443, 526, 743, 587]}]},\n",
       " {'file': 'C:/Users/krvet/Desktop/MADE/CV/HW2/contest02_data/data/test\\\\1477.jpg',\n",
       "  'nums': [{'box': [[491, 606], [908, 684], [495, 686], [904, 603]],\n",
       "    'bbox': [497, 604, 902, 685]}]},\n",
       " {'file': 'C:/Users/krvet/Desktop/MADE/CV/HW2/contest02_data/data/test\\\\1478.jpg',\n",
       "  'nums': [{'box': [[729, 1204], [916, 1247], [737, 1243], [913, 1206]],\n",
       "    'bbox': [731, 1201, 913, 1247]}]},\n",
       " {'file': 'C:/Users/krvet/Desktop/MADE/CV/HW2/contest02_data/data/test\\\\1479.jpg',\n",
       "  'nums': [{'box': [[510, 569], [656, 600], [510, 600], [654, 569]],\n",
       "    'bbox': [512, 569, 654, 600]}]},\n",
       " {'file': 'C:/Users/krvet/Desktop/MADE/CV/HW2/contest02_data/data/test\\\\148.jpg',\n",
       "  'nums': [{'box': [[713, 929], [1027, 977], [720, 983], [1022, 918]],\n",
       "    'bbox': [718, 919, 1022, 982]},\n",
       "   {'box': [[1432, 686], [1551, 708], [1432, 713], [1551, 685]],\n",
       "    'bbox': [1433, 685, 1549, 713]}]},\n",
       " {'file': 'C:/Users/krvet/Desktop/MADE/CV/HW2/contest02_data/data/test\\\\1480.bmp',\n",
       "  'nums': [{'box': [[287, 264], [63, 312], [68, 269], [281, 305]],\n",
       "    'bbox': [65, 262, 283, 312]}]},\n",
       " {'file': 'C:/Users/krvet/Desktop/MADE/CV/HW2/contest02_data/data/test\\\\1481.jpg',\n",
       "  'nums': [{'box': [[1556, 838], [1360, 930], [1370, 871], [1553, 894]],\n",
       "    'bbox': [1363, 839, 1553, 930]},\n",
       "   {'box': [[12, 432], [174, 460], [13, 465], [172, 426]],\n",
       "    'bbox': [15, 427, 171, 465]}]},\n",
       " {'file': 'C:/Users/krvet/Desktop/MADE/CV/HW2/contest02_data/data/test\\\\1482.bmp',\n",
       "  'nums': [{'box': [[348, 236], [226, 282], [229, 252], [347, 264]],\n",
       "    'bbox': [227, 234, 347, 283]}]},\n",
       " {'file': 'C:/Users/krvet/Desktop/MADE/CV/HW2/contest02_data/data/test\\\\1483.bmp',\n",
       "  'nums': [{'box': [[584, 154], [374, 228], [381, 182], [581, 196]],\n",
       "    'bbox': [376, 153, 581, 229]}]},\n",
       " {'file': 'C:/Users/krvet/Desktop/MADE/CV/HW2/contest02_data/data/test\\\\1484.jpg',\n",
       "  'nums': [{'box': [[665, 696], [530, 730], [534, 696], [663, 730]],\n",
       "    'bbox': [531, 695, 663, 730]}]},\n",
       " {'file': 'C:/Users/krvet/Desktop/MADE/CV/HW2/contest02_data/data/test\\\\1485.jpg',\n",
       "  'nums': [{'box': [[637, 1061], [1167, 1156], [639, 1161], [1161, 1057]],\n",
       "    'bbox': [645, 1058, 1159, 1160]}]},\n",
       " {'file': 'C:/Users/krvet/Desktop/MADE/CV/HW2/contest02_data/data/test\\\\1486.jpg',\n",
       "  'nums': [{'box': [[326, 612], [609, 677], [330, 673], [601, 609]],\n",
       "    'bbox': [326, 606, 605, 677]}]},\n",
       " {'file': 'C:/Users/krvet/Desktop/MADE/CV/HW2/contest02_data/data/test\\\\1487.jpg',\n",
       "  'nums': [{'box': [[227, 451], [408, 492], [229, 494], [405, 450]],\n",
       "    'bbox': [230, 451, 405, 493]}]},\n",
       " {'file': 'C:/Users/krvet/Desktop/MADE/CV/HW2/contest02_data/data/test\\\\1488.jpg',\n",
       "  'nums': [{'box': [[635, 576], [330, 641], [334, 578], [629, 638]],\n",
       "    'bbox': [335, 574, 630, 642]}]},\n",
       " {'file': 'C:/Users/krvet/Desktop/MADE/CV/HW2/contest02_data/data/test\\\\1489.jpg',\n",
       "  'nums': [{'box': [[129, 830], [349, 909], [138, 899], [345, 841]],\n",
       "    'bbox': [132, 830, 345, 910]}]},\n",
       " {'file': 'C:/Users/krvet/Desktop/MADE/CV/HW2/contest02_data/data/test\\\\149.png',\n",
       "  'nums': [{'box': [[509, 726], [614, 749], [509, 749], [614, 724]],\n",
       "    'bbox': [511, 724, 613, 749]},\n",
       "   {'box': [[1342, 785], [1438, 805], [1341, 808], [1437, 779]],\n",
       "    'bbox': [1342, 779, 1437, 808]}]},\n",
       " {'file': 'C:/Users/krvet/Desktop/MADE/CV/HW2/contest02_data/data/test\\\\1490.bmp',\n",
       "  'nums': [{'box': [[269, 206], [178, 232], [181, 214], [267, 229]],\n",
       "    'bbox': [178, 205, 268, 237]}]},\n",
       " {'file': 'C:/Users/krvet/Desktop/MADE/CV/HW2/contest02_data/data/test\\\\1491.bmp',\n",
       "  'nums': [{'box': [[243, 177], [167, 208], [168, 186], [239, 201]],\n",
       "    'bbox': [167, 177, 242, 209]}]},\n",
       " {'file': 'C:/Users/krvet/Desktop/MADE/CV/HW2/contest02_data/data/test\\\\1492.jpg',\n",
       "  'nums': [{'box': [[260, 253], [448, 294], [264, 294], [444, 253]],\n",
       "    'bbox': [263, 253, 446, 294]}]},\n",
       " {'file': 'C:/Users/krvet/Desktop/MADE/CV/HW2/contest02_data/data/test\\\\1493.jpg',\n",
       "  'nums': [{'box': [[639, 643], [402, 693], [408, 644], [634, 692]],\n",
       "    'bbox': [405, 643, 635, 693]}]},\n",
       " {'file': 'C:/Users/krvet/Desktop/MADE/CV/HW2/contest02_data/data/test\\\\1494.jpg',\n",
       "  'nums': [{'box': [[299, 810], [670, 939], [305, 883], [662, 858]],\n",
       "    'bbox': [304, 806, 664, 941]}]},\n",
       " {'file': 'C:/Users/krvet/Desktop/MADE/CV/HW2/contest02_data/data/test\\\\1495.jpg',\n",
       "  'nums': [{'box': [[704, 1182], [1008, 1245], [710, 1245], [1002, 1180]],\n",
       "    'bbox': [708, 1178, 1004, 1246]}]},\n",
       " {'file': 'C:/Users/krvet/Desktop/MADE/CV/HW2/contest02_data/data/test\\\\1496.jpg',\n",
       "  'nums': [{'box': [[174, 203], [341, 236], [179, 237], [340, 202]],\n",
       "    'bbox': [177, 202, 338, 238]}]},\n",
       " {'file': 'C:/Users/krvet/Desktop/MADE/CV/HW2/contest02_data/data/test\\\\1497.jpg',\n",
       "  'nums': [{'box': [[653, 1160], [845, 1201], [653, 1202], [844, 1159]],\n",
       "    'bbox': [655, 1160, 843, 1202]}]},\n",
       " {'file': 'C:/Users/krvet/Desktop/MADE/CV/HW2/contest02_data/data/test\\\\1498.jpg',\n",
       "  'nums': [{'box': [[149, 845], [308, 907], [154, 891], [299, 858]],\n",
       "    'bbox': [152, 843, 307, 907]}]},\n",
       " {'file': 'C:/Users/krvet/Desktop/MADE/CV/HW2/contest02_data/data/test\\\\1499.jpg',\n",
       "  'nums': [{'box': [[1269, 789], [1041, 877], [1046, 815], [1266, 846]],\n",
       "    'bbox': [1044, 785, 1266, 879]}]},\n",
       " {'file': 'C:/Users/krvet/Desktop/MADE/CV/HW2/contest02_data/data/test\\\\15.jpg',\n",
       "  'nums': [{'box': [[229, 766], [410, 848], [236, 823], [405, 791]],\n",
       "    'bbox': [232, 764, 407, 848]}]},\n",
       " {'file': 'C:/Users/krvet/Desktop/MADE/CV/HW2/contest02_data/data/test\\\\150.bmp',\n",
       "  'nums': [{'box': [[1517, 688], [1248, 820], [1257, 748], [1508, 761]],\n",
       "    'bbox': [1251, 685, 1514, 820]}]},\n",
       " {'file': 'C:/Users/krvet/Desktop/MADE/CV/HW2/contest02_data/data/test\\\\1500.jpg',\n",
       "  'nums': []},\n",
       " {'file': 'C:/Users/krvet/Desktop/MADE/CV/HW2/contest02_data/data/test\\\\1501.bmp',\n",
       "  'nums': [{'box': [[174, 161], [252, 195], [175, 187], [251, 166]],\n",
       "    'bbox': [174, 160, 251, 194]}]},\n",
       " {'file': 'C:/Users/krvet/Desktop/MADE/CV/HW2/contest02_data/data/test\\\\1502.bmp',\n",
       "  'nums': [{'box': [[174, 225], [251, 255], [176, 249], [250, 232]],\n",
       "    'bbox': [174, 225, 251, 255]}]},\n",
       " {'file': 'C:/Users/krvet/Desktop/MADE/CV/HW2/contest02_data/data/test\\\\1503.jpg',\n",
       "  'nums': [{'box': [[120, 700], [373, 790], [128, 773], [370, 721]],\n",
       "    'bbox': [124, 700, 370, 790]}]},\n",
       " {'file': 'C:/Users/krvet/Desktop/MADE/CV/HW2/contest02_data/data/test\\\\1504.jpg',\n",
       "  'nums': [{'box': [[111, 636], [292, 751], [114, 689], [290, 690]],\n",
       "    'bbox': [113, 635, 289, 751]}]},\n",
       " {'file': 'C:/Users/krvet/Desktop/MADE/CV/HW2/contest02_data/data/test\\\\1505.jpg',\n",
       "  'nums': [{'box': [[1045, 648], [623, 749], [628, 662], [1021, 741]],\n",
       "    'bbox': [629, 644, 1038, 753]}]},\n",
       " {'file': 'C:/Users/krvet/Desktop/MADE/CV/HW2/contest02_data/data/test\\\\1506.bmp',\n",
       "  'nums': [{'box': [[203, 262], [310, 295], [205, 289], [307, 262]],\n",
       "    'bbox': [204, 261, 308, 295]}]},\n",
       " {'file': 'C:/Users/krvet/Desktop/MADE/CV/HW2/contest02_data/data/test\\\\1507.jpg',\n",
       "  'nums': [{'box': [[638, 613], [867, 662], [644, 661], [864, 615]],\n",
       "    'bbox': [641, 610, 864, 662]}]},\n",
       " {'file': 'C:/Users/krvet/Desktop/MADE/CV/HW2/contest02_data/data/test\\\\1508.bmp',\n",
       "  'nums': [{'box': [[51, 228], [150, 255], [51, 255], [149, 228]],\n",
       "    'bbox': [53, 228, 148, 255]}]},\n",
       " {'file': 'C:/Users/krvet/Desktop/MADE/CV/HW2/contest02_data/data/test\\\\1509.bmp',\n",
       "  'nums': [{'box': [[263, 260], [175, 281], [176, 260], [263, 281]],\n",
       "    'bbox': [176, 260, 262, 281]},\n",
       "   {'box': [[554, 240], [622, 256], [556, 259], [621, 237]],\n",
       "    'bbox': [555, 237, 621, 258]}]},\n",
       " {'file': 'C:/Users/krvet/Desktop/MADE/CV/HW2/contest02_data/data/test\\\\151.bmp',\n",
       "  'nums': [{'box': [[179, 195], [327, 249], [183, 232], [324, 205]],\n",
       "    'bbox': [181, 193, 325, 249]}]},\n",
       " {'file': 'C:/Users/krvet/Desktop/MADE/CV/HW2/contest02_data/data/test\\\\1510.jpg',\n",
       "  'nums': [{'box': [[673, 761], [1055, 848], [684, 841], [1043, 769]],\n",
       "    'bbox': [679, 760, 1050, 850]},\n",
       "   {'box': [[24, 587], [204, 627], [26, 632], [198, 586]],\n",
       "    'bbox': [26, 586, 201, 631]}]},\n",
       " {'file': 'C:/Users/krvet/Desktop/MADE/CV/HW2/contest02_data/data/test\\\\1511.jpg',\n",
       "  'nums': [{'box': [[1034, 465], [709, 581], [713, 509], [1031, 527]],\n",
       "    'bbox': [713, 454, 1033, 583]}]},\n",
       " {'file': 'C:/Users/krvet/Desktop/MADE/CV/HW2/contest02_data/data/test\\\\1512.jpg',\n",
       "  'nums': [{'box': [[300, 443], [349, 456], [300, 456], [349, 443]],\n",
       "    'bbox': [300, 443, 348, 455]},\n",
       "   {'box': [[408, 517], [458, 533], [410, 532], [455, 519]],\n",
       "    'bbox': [408, 516, 457, 533]},\n",
       "   {'box': [[950, 303], [994, 313], [950, 313], [994, 302]],\n",
       "    'bbox': [951, 303, 994, 313]},\n",
       "   {'box': [[561, 329], [604, 340], [563, 340], [604, 329]],\n",
       "    'bbox': [562, 329, 603, 340]},\n",
       "   {'box': [[431, 252], [466, 262], [432, 262], [466, 252]],\n",
       "    'bbox': [431, 253, 466, 262]},\n",
       "   {'box': [[62, 322], [99, 332], [62, 332], [99, 322]],\n",
       "    'bbox': [62, 322, 98, 332]},\n",
       "   {'box': [[807, 206], [841, 216], [807, 216], [841, 206]],\n",
       "    'bbox': [807, 206, 841, 215]}]},\n",
       " {'file': 'C:/Users/krvet/Desktop/MADE/CV/HW2/contest02_data/data/test\\\\1513.jpg',\n",
       "  'nums': [{'box': [[225, 495], [433, 532], [227, 533], [431, 493]],\n",
       "    'bbox': [228, 492, 430, 533]}]},\n",
       " {'file': 'C:/Users/krvet/Desktop/MADE/CV/HW2/contest02_data/data/test\\\\1514.jpg',\n",
       "  'nums': [{'box': [[900, 611], [614, 679], [621, 615], [896, 674]],\n",
       "    'bbox': [618, 611, 896, 678]}]},\n",
       " {'file': 'C:/Users/krvet/Desktop/MADE/CV/HW2/contest02_data/data/test\\\\1515.jpg',\n",
       "  'nums': [{'box': [[230, 406], [464, 488], [230, 475], [461, 418]],\n",
       "    'bbox': [226, 404, 461, 489]}]},\n",
       " {'file': 'C:/Users/krvet/Desktop/MADE/CV/HW2/contest02_data/data/test\\\\1516.jpg',\n",
       "  'nums': [{'box': [[1500, 1118], [1167, 1208], [1174, 1136], [1492, 1188]],\n",
       "    'bbox': [1171, 1116, 1495, 1208]}]},\n",
       " {'file': 'C:/Users/krvet/Desktop/MADE/CV/HW2/contest02_data/data/test\\\\1517.jpg',\n",
       "  'nums': [{'box': [[552, 491], [368, 537], [372, 493], [549, 536]],\n",
       "    'bbox': [363, 488, 550, 536]},\n",
       "   {'box': [[208, 445], [84, 476], [88, 447], [206, 476]],\n",
       "    'bbox': [85, 443, 205, 476]}]},\n",
       " {'file': 'C:/Users/krvet/Desktop/MADE/CV/HW2/contest02_data/data/test\\\\1518.jpg',\n",
       "  'nums': [{'box': [[467, 639], [663, 675], [468, 676], [662, 635]],\n",
       "    'bbox': [470, 635, 661, 676]}]},\n",
       " {'file': 'C:/Users/krvet/Desktop/MADE/CV/HW2/contest02_data/data/test\\\\1519.bmp',\n",
       "  'nums': [{'box': [[117, 269], [286, 326], [123, 311], [281, 281]],\n",
       "    'bbox': [120, 268, 283, 327]}]},\n",
       " {'file': 'C:/Users/krvet/Desktop/MADE/CV/HW2/contest02_data/data/test\\\\152.jpg',\n",
       "  'nums': [{'box': [[685, 819], [502, 866], [506, 823], [681, 866]],\n",
       "    'bbox': [505, 818, 682, 866]}]},\n",
       " {'file': 'C:/Users/krvet/Desktop/MADE/CV/HW2/contest02_data/data/test\\\\1520.jpg',\n",
       "  'nums': [{'box': [[285, 744], [617, 819], [289, 820], [610, 742]],\n",
       "    'bbox': [290, 743, 611, 820]}]},\n",
       " {'file': 'C:/Users/krvet/Desktop/MADE/CV/HW2/contest02_data/data/test\\\\1521.jpg',\n",
       "  'nums': [{'box': [[710, 410], [994, 471], [713, 475], [992, 406]],\n",
       "    'bbox': [714, 406, 990, 474]}]},\n",
       " {'file': 'C:/Users/krvet/Desktop/MADE/CV/HW2/contest02_data/data/test\\\\1522.jpg',\n",
       "  'nums': [{'box': [[234, 406], [156, 420], [157, 404], [232, 424]],\n",
       "    'bbox': [158, 404, 232, 423]}]},\n",
       " {'file': 'C:/Users/krvet/Desktop/MADE/CV/HW2/contest02_data/data/test\\\\1523.bmp',\n",
       "  'nums': [{'box': [[284, 267], [428, 308], [288, 298], [427, 276]],\n",
       "    'bbox': [286, 265, 426, 308]}]},\n",
       " {'file': 'C:/Users/krvet/Desktop/MADE/CV/HW2/contest02_data/data/test\\\\1524.jpg',\n",
       "  'nums': [{'box': [[516, 656], [605, 674], [517, 674], [602, 655]],\n",
       "    'bbox': [517, 656, 604, 674]}]},\n",
       " {'file': 'C:/Users/krvet/Desktop/MADE/CV/HW2/contest02_data/data/test\\\\1525.jpg',\n",
       "  'nums': [{'box': [[283, 1066], [372, 1115], [286, 1105], [370, 1073]],\n",
       "    'bbox': [284, 1065, 371, 1114]}]},\n",
       " {'file': 'C:/Users/krvet/Desktop/MADE/CV/HW2/contest02_data/data/test\\\\1526.bmp',\n",
       "  'nums': [{'box': [[358, 200], [240, 231], [245, 204], [355, 227]],\n",
       "    'bbox': [242, 199, 356, 231]}]},\n",
       " {'file': 'C:/Users/krvet/Desktop/MADE/CV/HW2/contest02_data/data/test\\\\1527.jpg',\n",
       "  'nums': [{'box': [[288, 470], [498, 508], [289, 513], [497, 466]],\n",
       "    'bbox': [291, 467, 495, 513]}]},\n",
       " {'file': 'C:/Users/krvet/Desktop/MADE/CV/HW2/contest02_data/data/test\\\\1528.jpg',\n",
       "  'nums': [{'box': [[443, 460], [694, 508], [445, 512], [690, 457]],\n",
       "    'bbox': [447, 456, 690, 511]}]},\n",
       " {'file': 'C:/Users/krvet/Desktop/MADE/CV/HW2/contest02_data/data/test\\\\1529.jpg',\n",
       "  'nums': [{'box': [[622, 484], [487, 522], [490, 491], [618, 518]],\n",
       "    'bbox': [489, 484, 620, 522]}]},\n",
       " {'file': 'C:/Users/krvet/Desktop/MADE/CV/HW2/contest02_data/data/test\\\\153.JPG',\n",
       "  'nums': [{'box': [[1396, 1356], [2230, 1529], [1416, 1520], [2213, 1364]],\n",
       "    'bbox': [1409, 1346, 2218, 1533]}]},\n",
       " {'file': 'C:/Users/krvet/Desktop/MADE/CV/HW2/contest02_data/data/test\\\\1530.jpg',\n",
       "  'nums': [{'box': [[1073, 203], [955, 247], [953, 210], [1069, 239]],\n",
       "    'bbox': [952, 200, 1072, 247]}]},\n",
       " {'file': 'C:/Users/krvet/Desktop/MADE/CV/HW2/contest02_data/data/test\\\\1531.jpg',\n",
       "  'nums': [{'box': [[1820, 629], [1534, 714], [1539, 642], [1812, 701]],\n",
       "    'bbox': [1538, 627, 1816, 714]}]},\n",
       " {'file': 'C:/Users/krvet/Desktop/MADE/CV/HW2/contest02_data/data/test\\\\1532.jpg',\n",
       "  'nums': [{'box': [[1271, 797], [1083, 851], [1087, 803], [1267, 849]],\n",
       "    'bbox': [1086, 797, 1268, 851]}]},\n",
       " {'file': 'C:/Users/krvet/Desktop/MADE/CV/HW2/contest02_data/data/test\\\\1533.jpg',\n",
       "  'nums': [{'box': [[207, 580], [490, 629], [217, 630], [481, 578]],\n",
       "    'bbox': [212, 577, 485, 632]}]},\n",
       " {'file': 'C:/Users/krvet/Desktop/MADE/CV/HW2/contest02_data/data/test\\\\1534.jpg',\n",
       "  'nums': [{'box': [[229, 485], [528, 545], [229, 546], [522, 479]],\n",
       "    'bbox': [233, 479, 524, 546]}]},\n",
       " {'file': 'C:/Users/krvet/Desktop/MADE/CV/HW2/contest02_data/data/test\\\\1535.bmp',\n",
       "  'nums': [{'box': [[295, 192], [177, 223], [180, 197], [293, 219]],\n",
       "    'bbox': [178, 190, 293, 222]}]},\n",
       " {'file': 'C:/Users/krvet/Desktop/MADE/CV/HW2/contest02_data/data/test\\\\1536.jpg',\n",
       "  'nums': [{'box': [[959, 901], [1057, 921], [960, 924], [1057, 896]],\n",
       "    'bbox': [960, 896, 1056, 924]}]},\n",
       " {'file': 'C:/Users/krvet/Desktop/MADE/CV/HW2/contest02_data/data/test\\\\1537.jpg',\n",
       "  'nums': [{'box': [[470, 647], [591, 673], [470, 673], [590, 645]],\n",
       "    'bbox': [472, 645, 589, 673]}]},\n",
       " {'file': 'C:/Users/krvet/Desktop/MADE/CV/HW2/contest02_data/data/test\\\\1538.jpg',\n",
       "  'nums': [{'box': [[21, 325], [171, 412], [31, 381], [165, 346]],\n",
       "    'bbox': [22, 324, 169, 412]}]},\n",
       " {'file': 'C:/Users/krvet/Desktop/MADE/CV/HW2/contest02_data/data/test\\\\1539.bmp',\n",
       "  'nums': [{'box': [[62, 213], [305, 263], [67, 264], [303, 212]],\n",
       "    'bbox': [66, 212, 302, 263]}]},\n",
       " {'file': 'C:/Users/krvet/Desktop/MADE/CV/HW2/contest02_data/data/test\\\\154.bmp',\n",
       "  'nums': [{'box': [[126, 192], [290, 229], [134, 228], [284, 192]],\n",
       "    'bbox': [129, 191, 287, 229]}]},\n",
       " {'file': 'C:/Users/krvet/Desktop/MADE/CV/HW2/contest02_data/data/test\\\\1540.jpg',\n",
       "  'nums': [{'box': [[72, 268], [135, 281], [73, 282], [135, 267]],\n",
       "    'bbox': [73, 268, 134, 282]},\n",
       "   {'box': [[288, 226], [330, 236], [288, 236], [329, 225]],\n",
       "    'bbox': [288, 225, 331, 236]}]},\n",
       " {'file': 'C:/Users/krvet/Desktop/MADE/CV/HW2/contest02_data/data/test\\\\1541.jpg',\n",
       "  'nums': [{'box': [[1265, 603], [1119, 663], [1122, 616], [1261, 648]],\n",
       "    'bbox': [1120, 601, 1263, 663]}]},\n",
       " {'file': 'C:/Users/krvet/Desktop/MADE/CV/HW2/contest02_data/data/test\\\\1542.jpg',\n",
       "  'nums': [{'box': [[1352, 625], [1137, 782], [1148, 704], [1348, 694]],\n",
       "    'bbox': [1139, 625, 1349, 782]}]},\n",
       " {'file': 'C:/Users/krvet/Desktop/MADE/CV/HW2/contest02_data/data/test\\\\1543.jpg',\n",
       "  'nums': [{'box': [[318, 712], [594, 767], [324, 769], [587, 708]],\n",
       "    'bbox': [321, 708, 589, 768]}]},\n",
       " {'file': 'C:/Users/krvet/Desktop/MADE/CV/HW2/contest02_data/data/test\\\\1544.jpg',\n",
       "  'nums': [{'box': [[324, 979], [669, 1078], [338, 1054], [655, 996]],\n",
       "    'bbox': [329, 975, 664, 1080]}]},\n",
       " {'file': 'C:/Users/krvet/Desktop/MADE/CV/HW2/contest02_data/data/test\\\\1545.jpg',\n",
       "  'nums': [{'box': [[632, 401], [538, 452], [540, 423], [629, 430]],\n",
       "    'bbox': [540, 400, 631, 451]}]},\n",
       " {'file': 'C:/Users/krvet/Desktop/MADE/CV/HW2/contest02_data/data/test\\\\1546.jpg',\n",
       "  'nums': [{'box': [[170, 430], [325, 460], [174, 460], [320, 421]],\n",
       "    'bbox': [171, 420, 322, 461]}]},\n",
       " {'file': 'C:/Users/krvet/Desktop/MADE/CV/HW2/contest02_data/data/test\\\\1547.jpg',\n",
       "  'nums': [{'box': [[274, 353], [413, 382], [274, 382], [413, 352]],\n",
       "    'bbox': [276, 352, 411, 382]}]},\n",
       " {'file': 'C:/Users/krvet/Desktop/MADE/CV/HW2/contest02_data/data/test\\\\1548.bmp',\n",
       "  'nums': [{'box': [[217, 130], [76, 167], [78, 136], [215, 166]],\n",
       "    'bbox': [78, 130, 215, 166]}]},\n",
       " {'file': 'C:/Users/krvet/Desktop/MADE/CV/HW2/contest02_data/data/test\\\\1549.bmp',\n",
       "  'nums': [{'box': [[131, 252], [330, 280], [132, 290], [329, 248]],\n",
       "    'bbox': [134, 249, 327, 289]}]},\n",
       " {'file': 'C:/Users/krvet/Desktop/MADE/CV/HW2/contest02_data/data/test\\\\155.jpg',\n",
       "  'nums': [{'box': [[356, 291], [257, 311], [259, 292], [353, 312]],\n",
       "    'bbox': [258, 290, 355, 311]},\n",
       "   {'box': [[39, 249], [87, 259], [39, 259], [87, 247]],\n",
       "    'bbox': [39, 247, 87, 258]}]},\n",
       " {'file': 'C:/Users/krvet/Desktop/MADE/CV/HW2/contest02_data/data/test\\\\1551.jpg',\n",
       "  'nums': [{'box': [[1617, 777], [1367, 862], [1368, 799], [1610, 840]],\n",
       "    'bbox': [1370, 774, 1613, 862]}]},\n",
       " {'file': 'C:/Users/krvet/Desktop/MADE/CV/HW2/contest02_data/data/test\\\\1552.jpg',\n",
       "  'nums': [{'box': [[821, 694], [1031, 733], [822, 734], [1029, 687]],\n",
       "    'bbox': [824, 687, 1028, 733]}]},\n",
       " {'file': 'C:/Users/krvet/Desktop/MADE/CV/HW2/contest02_data/data/test\\\\1553.jpg',\n",
       "  'nums': [{'box': [[408, 836], [693, 895], [412, 899], [684, 834]],\n",
       "    'bbox': [412, 835, 688, 899]}]},\n",
       " {'file': 'C:/Users/krvet/Desktop/MADE/CV/HW2/contest02_data/data/test\\\\1554.jpg',\n",
       "  'nums': [{'box': [[1039, 651], [1376, 708], [1040, 718], [1375, 640]],\n",
       "    'bbox': [1044, 640, 1371, 718]}]},\n",
       " {'file': 'C:/Users/krvet/Desktop/MADE/CV/HW2/contest02_data/data/test\\\\1555.jpg',\n",
       "  'nums': [{'box': [[444, 542], [812, 614], [455, 615], [803, 543]],\n",
       "    'bbox': [449, 540, 806, 616]}]},\n",
       " {'file': 'C:/Users/krvet/Desktop/MADE/CV/HW2/contest02_data/data/test\\\\1556.jpg',\n",
       "  'nums': [{'box': [[327, 198], [155, 233], [159, 197], [326, 235]],\n",
       "    'bbox': [158, 197, 325, 235]}]},\n",
       " {'file': 'C:/Users/krvet/Desktop/MADE/CV/HW2/contest02_data/data/test\\\\1557.jpg',\n",
       "  'nums': [{'box': [[690, 572], [824, 605], [690, 605], [824, 572]],\n",
       "    'bbox': [692, 572, 823, 605]}]},\n",
       " {'file': 'C:/Users/krvet/Desktop/MADE/CV/HW2/contest02_data/data/test\\\\1558.jpg',\n",
       "  'nums': [{'box': [[135, 480], [226, 505], [136, 505], [225, 480]],\n",
       "    'bbox': [136, 480, 225, 505]}]},\n",
       " {'file': 'C:/Users/krvet/Desktop/MADE/CV/HW2/contest02_data/data/test\\\\1559.bmp',\n",
       "  'nums': [{'box': [[1570, 1211], [1340, 1298], [1349, 1242], [1563, 1268]],\n",
       "    'bbox': [1343, 1211, 1567, 1299]}]},\n",
       " {'file': 'C:/Users/krvet/Desktop/MADE/CV/HW2/contest02_data/data/test\\\\156.jpg',\n",
       "  'nums': [{'box': [[206, 435], [423, 477], [208, 478], [421, 432]],\n",
       "    'bbox': [210, 433, 419, 478]}]},\n",
       " {'file': 'C:/Users/krvet/Desktop/MADE/CV/HW2/contest02_data/data/test\\\\1560.jpg',\n",
       "  'nums': [{'box': [[1782, 1173], [2303, 1271], [1785, 1274], [2300, 1164]],\n",
       "    'bbox': [1789, 1165, 2295, 1273]}]},\n",
       " {'file': 'C:/Users/krvet/Desktop/MADE/CV/HW2/contest02_data/data/test\\\\1561.jpg',\n",
       "  'nums': [{'box': [[713, 409], [535, 458], [539, 417], [706, 447]],\n",
       "    'bbox': [538, 407, 710, 460]}]},\n",
       " {'file': 'C:/Users/krvet/Desktop/MADE/CV/HW2/contest02_data/data/test\\\\1562.jpg',\n",
       "  'nums': [{'box': [[79, 617], [400, 681], [88, 682], [393, 614]],\n",
       "    'bbox': [84, 613, 395, 682]}]},\n",
       " {'file': 'C:/Users/krvet/Desktop/MADE/CV/HW2/contest02_data/data/test\\\\1564.bmp',\n",
       "  'nums': [{'box': [[176, 229], [65, 265], [68, 229], [173, 263]],\n",
       "    'bbox': [66, 228, 174, 264]}]},\n",
       " {'file': 'C:/Users/krvet/Desktop/MADE/CV/HW2/contest02_data/data/test\\\\1565.jpg',\n",
       "  'nums': [{'box': [[327, 512], [594, 564], [330, 566], [589, 507]],\n",
       "    'bbox': [331, 508, 590, 565]}]},\n",
       " {'file': 'C:/Users/krvet/Desktop/MADE/CV/HW2/contest02_data/data/test\\\\1566.jpg',\n",
       "  'nums': [{'box': [[209, 240], [339, 267], [209, 267], [336, 240]],\n",
       "    'bbox': [211, 240, 337, 267]}]},\n",
       " {'file': 'C:/Users/krvet/Desktop/MADE/CV/HW2/contest02_data/data/test\\\\1567.bmp',\n",
       "  'nums': [{'box': [[226, 178], [117, 216], [118, 190], [223, 208]],\n",
       "    'bbox': [119, 177, 224, 215]}]},\n",
       " {'file': 'C:/Users/krvet/Desktop/MADE/CV/HW2/contest02_data/data/test\\\\1568.jpg',\n",
       "  'nums': [{'box': [[82, 332], [201, 356], [82, 356], [200, 332]],\n",
       "    'bbox': [84, 332, 199, 356]},\n",
       "   {'box': [[748, 352], [867, 372], [748, 373], [867, 349]],\n",
       "    'bbox': [750, 349, 865, 374]}]},\n",
       " {'file': 'C:/Users/krvet/Desktop/MADE/CV/HW2/contest02_data/data/test\\\\1569.jpg',\n",
       "  'nums': [{'box': [[885, 888], [1086, 933], [890, 934], [1081, 887]],\n",
       "    'bbox': [888, 888, 1083, 933]}]},\n",
       " {'file': 'C:/Users/krvet/Desktop/MADE/CV/HW2/contest02_data/data/test\\\\157.bmp',\n",
       "  'nums': [{'box': [[47, 237], [178, 259], [47, 262], [178, 234]],\n",
       "    'bbox': [49, 234, 176, 262]}]},\n",
       " {'file': 'C:/Users/krvet/Desktop/MADE/CV/HW2/contest02_data/data/test\\\\1570.jpg',\n",
       "  'nums': [{'box': [[396, 374], [580, 410], [396, 410], [580, 371]],\n",
       "    'bbox': [398, 371, 577, 409]}]},\n",
       " {'file': 'C:/Users/krvet/Desktop/MADE/CV/HW2/contest02_data/data/test\\\\1571.bmp',\n",
       "  'nums': [{'box': [[144, 244], [292, 276], [145, 276], [292, 244]],\n",
       "    'bbox': [146, 245, 290, 276]}]},\n",
       " {'file': 'C:/Users/krvet/Desktop/MADE/CV/HW2/contest02_data/data/test\\\\1572.jpg',\n",
       "  'nums': [{'box': [[196, 569], [280, 593], [199, 592], [278, 569]],\n",
       "    'bbox': [197, 569, 279, 593]},\n",
       "   {'box': [[344, 607], [420, 635], [345, 632], [419, 610]],\n",
       "    'bbox': [345, 607, 419, 635]},\n",
       "   {'box': [[74, 494], [151, 512], [74, 514], [150, 494]],\n",
       "    'bbox': [74, 494, 149, 514]}]},\n",
       " {'file': 'C:/Users/krvet/Desktop/MADE/CV/HW2/contest02_data/data/test\\\\1573.jpg',\n",
       "  'nums': [{'box': [[1176, 640], [1583, 724], [1183, 725], [1573, 640]],\n",
       "    'bbox': [1182, 637, 1577, 725]}]},\n",
       " {'file': 'C:/Users/krvet/Desktop/MADE/CV/HW2/contest02_data/data/test\\\\1574.jpg',\n",
       "  'nums': [{'box': [[647, 747], [838, 784], [647, 786], [837, 743]],\n",
       "    'bbox': [650, 743, 836, 786]}]},\n",
       " {'file': 'C:/Users/krvet/Desktop/MADE/CV/HW2/contest02_data/data/test\\\\1575.jpg',\n",
       "  'nums': [{'box': [[392, 588], [528, 643], [395, 629], [523, 602]],\n",
       "    'bbox': [393, 586, 528, 646]}]},\n",
       " {'file': 'C:/Users/krvet/Desktop/MADE/CV/HW2/contest02_data/data/test\\\\1576.jpg',\n",
       "  'nums': [{'box': [[1279, 908], [1625, 972], [1281, 979], [1616, 899]],\n",
       "    'bbox': [1284, 900, 1620, 978]}]},\n",
       " {'file': 'C:/Users/krvet/Desktop/MADE/CV/HW2/contest02_data/data/test\\\\1577.jpg',\n",
       "  'nums': [{'box': [[1725, 1014], [1366, 1180], [1374, 1090], [1720, 1099]],\n",
       "    'bbox': [1371, 1013, 1721, 1181]}]},\n",
       " {'file': 'C:/Users/krvet/Desktop/MADE/CV/HW2/contest02_data/data/test\\\\1578.jpg',\n",
       "  'nums': [{'box': [[451, 260], [383, 287], [385, 268], [450, 278]],\n",
       "    'bbox': [383, 260, 450, 287]},\n",
       "   {'box': [[547, 217], [510, 233], [511, 220], [547, 232]],\n",
       "    'bbox': [511, 218, 547, 232]}]},\n",
       " {'file': 'C:/Users/krvet/Desktop/MADE/CV/HW2/contest02_data/data/test\\\\1579.jpg',\n",
       "  'nums': [{'box': [[849, 1007], [505, 1112], [512, 1041], [841, 1078]],\n",
       "    'bbox': [510, 1004, 844, 1112]}]},\n",
       " {'file': 'C:/Users/krvet/Desktop/MADE/CV/HW2/contest02_data/data/test\\\\158.jpg',\n",
       "  'nums': [{'box': [[382, 488], [586, 533], [384, 533], [583, 485]],\n",
       "    'bbox': [385, 485, 583, 534]}]},\n",
       " {'file': 'C:/Users/krvet/Desktop/MADE/CV/HW2/contest02_data/data/test\\\\1580.jpg',\n",
       "  'nums': [{'box': [[604, 540], [932, 621], [615, 615], [924, 553]],\n",
       "    'bbox': [608, 538, 927, 623]}]},\n",
       " {'file': 'C:/Users/krvet/Desktop/MADE/CV/HW2/contest02_data/data/test\\\\1581.jpg',\n",
       "  'nums': [{'box': [[132, 866], [468, 1030], [158, 962], [464, 940]],\n",
       "    'bbox': [136, 864, 463, 1033]}]},\n",
       " {'file': 'C:/Users/krvet/Desktop/MADE/CV/HW2/contest02_data/data/test\\\\1583.bmp',\n",
       "  'nums': [{'box': [[1489, 665], [1069, 819], [1075, 725], [1479, 757]],\n",
       "    'bbox': [1074, 663, 1483, 819]}]},\n",
       " {'file': 'C:/Users/krvet/Desktop/MADE/CV/HW2/contest02_data/data/test\\\\1584.jpg',\n",
       "  'nums': [{'box': [[825, 723], [554, 774], [560, 725], [822, 776]],\n",
       "    'bbox': [557, 720, 821, 775]},\n",
       "   {'box': [[1356, 549], [1480, 573], [1357, 574], [1479, 546]],\n",
       "    'bbox': [1358, 546, 1478, 574]}]},\n",
       " {'file': 'C:/Users/krvet/Desktop/MADE/CV/HW2/contest02_data/data/test\\\\1585.bmp',\n",
       "  'nums': [{'box': [[659, 145], [486, 311], [484, 252], [652, 212]],\n",
       "    'bbox': [482, 146, 657, 313]}]},\n",
       " {'file': 'C:/Users/krvet/Desktop/MADE/CV/HW2/contest02_data/data/test\\\\1586.jpg',\n",
       "  'nums': [{'box': [[2013, 1490], [2192, 1527], [2016, 1531], [2186, 1487]],\n",
       "    'bbox': [2015, 1487, 2190, 1531]}]},\n",
       " {'file': 'C:/Users/krvet/Desktop/MADE/CV/HW2/contest02_data/data/test\\\\1587.jpg',\n",
       "  'nums': [{'box': [[495, 516], [717, 561], [500, 563], [712, 516]],\n",
       "    'bbox': [497, 516, 713, 563]}]},\n",
       " {'file': 'C:/Users/krvet/Desktop/MADE/CV/HW2/contest02_data/data/test\\\\1588.jpg',\n",
       "  'nums': [{'box': [[249, 744], [526, 826], [258, 807], [521, 758]],\n",
       "    'bbox': [254, 740, 522, 829]}]},\n",
       " {'file': 'C:/Users/krvet/Desktop/MADE/CV/HW2/contest02_data/data/test\\\\1589.jpg',\n",
       "  'nums': [{'box': [[736, 916], [874, 945], [736, 945], [874, 916]],\n",
       "    'bbox': [737, 916, 872, 945]}]},\n",
       " {'file': 'C:/Users/krvet/Desktop/MADE/CV/HW2/contest02_data/data/test\\\\159.jpg',\n",
       "  'nums': [{'box': [[459, 678], [722, 780], [465, 743], [721, 707]],\n",
       "    'bbox': [462, 674, 720, 781]}]},\n",
       " {'file': 'C:/Users/krvet/Desktop/MADE/CV/HW2/contest02_data/data/test\\\\1590.jpg',\n",
       "  'nums': [{'box': [[601, 671], [949, 748], [609, 743], [940, 670]],\n",
       "    'bbox': [606, 667, 944, 748]}]},\n",
       " {'file': 'C:/Users/krvet/Desktop/MADE/CV/HW2/contest02_data/data/test\\\\1591.bmp',\n",
       "  'nums': [{'box': [[210, 269], [324, 289], [210, 291], [323, 266]],\n",
       "    'bbox': [212, 266, 322, 291]}]},\n",
       " {'file': 'C:/Users/krvet/Desktop/MADE/CV/HW2/contest02_data/data/test\\\\1592.jpg',\n",
       "  'nums': [{'box': [[488, 617], [231, 682], [237, 632], [482, 668]],\n",
       "    'bbox': [235, 614, 485, 683]}]},\n",
       " {'file': 'C:/Users/krvet/Desktop/MADE/CV/HW2/contest02_data/data/test\\\\1593.jpg',\n",
       "  'nums': [{'box': [[330, 389], [447, 414], [330, 414], [443, 388]],\n",
       "    'bbox': [331, 388, 445, 414]}]},\n",
       " {'file': 'C:/Users/krvet/Desktop/MADE/CV/HW2/contest02_data/data/test\\\\1594.bmp',\n",
       "  'nums': [{'box': [[293, 155], [395, 181], [294, 186], [391, 152]],\n",
       "    'bbox': [295, 152, 393, 186]}]},\n",
       " {'file': 'C:/Users/krvet/Desktop/MADE/CV/HW2/contest02_data/data/test\\\\1595.jpg',\n",
       "  'nums': [{'box': [[259, 465], [423, 496], [260, 497], [421, 459]],\n",
       "    'bbox': [262, 459, 420, 497]}]},\n",
       " {'file': 'C:/Users/krvet/Desktop/MADE/CV/HW2/contest02_data/data/test\\\\1596.jpg',\n",
       "  'nums': [{'box': [[239, 287], [460, 334], [242, 334], [455, 286]],\n",
       "    'bbox': [243, 286, 457, 334]}]},\n",
       " {'file': 'C:/Users/krvet/Desktop/MADE/CV/HW2/contest02_data/data/test\\\\1597.jpg',\n",
       "  'nums': [{'box': [[421, 472], [650, 521], [423, 522], [642, 475]],\n",
       "    'bbox': [424, 472, 646, 522]}]},\n",
       " {'file': 'C:/Users/krvet/Desktop/MADE/CV/HW2/contest02_data/data/test\\\\1598.bmp',\n",
       "  'nums': [{'box': [[142, 142], [291, 173], [142, 173], [291, 141]],\n",
       "    'bbox': [144, 141, 289, 173]}]},\n",
       " {'file': 'C:/Users/krvet/Desktop/MADE/CV/HW2/contest02_data/data/test\\\\1599.jpg',\n",
       "  'nums': [{'box': [[287, 633], [513, 676], [289, 679], [507, 628]],\n",
       "    'bbox': [291, 629, 509, 679]}]},\n",
       " {'file': 'C:/Users/krvet/Desktop/MADE/CV/HW2/contest02_data/data/test\\\\16.jpg',\n",
       "  'nums': [{'box': [[989, 585], [849, 624], [852, 586], [985, 624]],\n",
       "    'bbox': [851, 585, 988, 623]}]},\n",
       " {'file': 'C:/Users/krvet/Desktop/MADE/CV/HW2/contest02_data/data/test\\\\160.jpg',\n",
       "  'nums': [{'box': [[106, 421], [228, 463], [110, 456], [227, 430]],\n",
       "    'bbox': [109, 418, 226, 464]}]},\n",
       " {'file': 'C:/Users/krvet/Desktop/MADE/CV/HW2/contest02_data/data/test\\\\1600.jpeg',\n",
       "  'nums': [{'box': [[78, 144], [176, 164], [79, 161], [175, 144]],\n",
       "    'bbox': [79, 143, 175, 165]}]},\n",
       " {'file': 'C:/Users/krvet/Desktop/MADE/CV/HW2/contest02_data/data/test\\\\1601.bmp',\n",
       "  'nums': [{'box': [[1048, 1009], [1388, 1089], [1059, 1078], [1378, 1021]],\n",
       "    'bbox': [1052, 1008, 1383, 1089]}]},\n",
       " {'file': 'C:/Users/krvet/Desktop/MADE/CV/HW2/contest02_data/data/test\\\\1602.jpg',\n",
       "  'nums': [{'box': [[67, 470], [151, 521], [67, 503], [152, 487]],\n",
       "    'bbox': [67, 469, 151, 521]}]},\n",
       " {'file': 'C:/Users/krvet/Desktop/MADE/CV/HW2/contest02_data/data/test\\\\1603.bmp',\n",
       "  'nums': [{'box': [[390, 268], [512, 315], [392, 297], [510, 280]],\n",
       "    'bbox': [391, 266, 509, 317]},\n",
       "   {'box': [[19, 214], [64, 238], [21, 236], [63, 215]],\n",
       "    'bbox': [19, 214, 63, 238]}]},\n",
       " {'file': 'C:/Users/krvet/Desktop/MADE/CV/HW2/contest02_data/data/test\\\\1604.jpg',\n",
       "  'nums': [{'box': [[1264, 624], [1588, 688], [1265, 693], [1585, 617]],\n",
       "    'bbox': [1268, 617, 1582, 693]}]},\n",
       " {'file': 'C:/Users/krvet/Desktop/MADE/CV/HW2/contest02_data/data/test\\\\1605.jpg',\n",
       "  'nums': [{'box': [[264, 351], [526, 399], [266, 401], [522, 344]],\n",
       "    'bbox': [268, 345, 522, 400]}]},\n",
       " {'file': 'C:/Users/krvet/Desktop/MADE/CV/HW2/contest02_data/data/test\\\\1606.bmp',\n",
       "  'nums': [{'box': [[216, 244], [298, 266], [218, 267], [298, 244]],\n",
       "    'bbox': [217, 244, 297, 266]}]},\n",
       " {'file': 'C:/Users/krvet/Desktop/MADE/CV/HW2/contest02_data/data/test\\\\1607.jpg',\n",
       "  'nums': [{'box': [[623, 570], [765, 616], [626, 603], [763, 583]],\n",
       "    'bbox': [625, 569, 763, 616]}]},\n",
       " {'file': 'C:/Users/krvet/Desktop/MADE/CV/HW2/contest02_data/data/test\\\\1608.jpg',\n",
       "  'nums': [{'box': [[283, 1032], [548, 1229], [295, 1116], [546, 1143]],\n",
       "    'bbox': [286, 1032, 546, 1228]}]},\n",
       " {'file': 'C:/Users/krvet/Desktop/MADE/CV/HW2/contest02_data/data/test\\\\1609.jpg',\n",
       "  'nums': [{'box': [[378, 541], [668, 599], [386, 597], [664, 540]],\n",
       "    'bbox': [382, 540, 664, 599]}]},\n",
       " {'file': 'C:/Users/krvet/Desktop/MADE/CV/HW2/contest02_data/data/test\\\\161.jpg',\n",
       "  'nums': [{'box': [[320, 560], [596, 615], [325, 617], [590, 554]],\n",
       "    'bbox': [324, 554, 592, 616]}]},\n",
       " {'file': 'C:/Users/krvet/Desktop/MADE/CV/HW2/contest02_data/data/test\\\\1610.bmp',\n",
       "  'nums': [{'box': [[520, 1129], [596, 1153], [520, 1153], [596, 1128]],\n",
       "    'bbox': [521, 1128, 595, 1153]}]},\n",
       " {'file': 'C:/Users/krvet/Desktop/MADE/CV/HW2/contest02_data/data/test\\\\1611.bmp',\n",
       "  'nums': [{'box': [[284, 191], [189, 200], [200, 184], [281, 208]],\n",
       "    'bbox': [190, 181, 283, 209]}]},\n",
       " {'file': 'C:/Users/krvet/Desktop/MADE/CV/HW2/contest02_data/data/test\\\\1612.bmp',\n",
       "  'nums': [{'box': [[483, 216], [383, 239], [386, 218], [480, 239]],\n",
       "    'bbox': [385, 215, 482, 239]}]},\n",
       " {'file': 'C:/Users/krvet/Desktop/MADE/CV/HW2/contest02_data/data/test\\\\1613.jpg',\n",
       "  'nums': [{'box': [[419, 533], [632, 575], [419, 576], [629, 532]],\n",
       "    'bbox': [421, 532, 629, 576]},\n",
       "   {'box': [[49, 374], [146, 399], [50, 399], [144, 373]],\n",
       "    'bbox': [51, 373, 145, 399]}]},\n",
       " {'file': 'C:/Users/krvet/Desktop/MADE/CV/HW2/contest02_data/data/test\\\\1614.jpg',\n",
       "  'nums': [{'box': [[1297, 331], [1209, 426], [1203, 375], [1300, 381]],\n",
       "    'bbox': [1202, 332, 1301, 426]}]},\n",
       " {'file': 'C:/Users/krvet/Desktop/MADE/CV/HW2/contest02_data/data/test\\\\1615.jpg',\n",
       "  'nums': [{'box': [[531, 741], [668, 771], [531, 771], [668, 740]],\n",
       "    'bbox': [533, 740, 667, 771]}]},\n",
       " {'file': 'C:/Users/krvet/Desktop/MADE/CV/HW2/contest02_data/data/test\\\\1616.bmp',\n",
       "  'nums': [{'box': [[315, 320], [392, 342], [316, 341], [390, 322]],\n",
       "    'bbox': [316, 319, 390, 343]}]},\n",
       " {'file': 'C:/Users/krvet/Desktop/MADE/CV/HW2/contest02_data/data/test\\\\1617.jpg',\n",
       "  'nums': [{'box': [[885, 395], [770, 442], [774, 411], [879, 427]],\n",
       "    'bbox': [772, 394, 883, 442]}]},\n",
       " {'file': 'C:/Users/krvet/Desktop/MADE/CV/HW2/contest02_data/data/test\\\\1618.jpg',\n",
       "  'nums': [{'box': [[619, 885], [928, 945], [630, 937], [921, 890]],\n",
       "    'bbox': [623, 882, 923, 946]},\n",
       "   {'box': [[137, 532], [262, 558], [140, 558], [260, 533]],\n",
       "    'bbox': [139, 532, 259, 561]}]},\n",
       " {'file': 'C:/Users/krvet/Desktop/MADE/CV/HW2/contest02_data/data/test\\\\1619.png',\n",
       "  'nums': [{'box': [[1258, 736], [1391, 764], [1258, 764], [1390, 732]],\n",
       "    'bbox': [1260, 732, 1389, 764]}]},\n",
       " {'file': 'C:/Users/krvet/Desktop/MADE/CV/HW2/contest02_data/data/test\\\\162.bmp',\n",
       "  'nums': [{'box': [[590, 332], [411, 423], [414, 373], [588, 382]],\n",
       "    'bbox': [413, 333, 588, 424]}]},\n",
       " {'file': 'C:/Users/krvet/Desktop/MADE/CV/HW2/contest02_data/data/test\\\\1620.jpg',\n",
       "  'nums': [{'box': [[295, 668], [387, 689], [298, 690], [387, 668]],\n",
       "    'bbox': [296, 668, 386, 689]}]},\n",
       " {'file': 'C:/Users/krvet/Desktop/MADE/CV/HW2/contest02_data/data/test\\\\1621.bmp',\n",
       "  'nums': [{'box': [[278, 211], [380, 246], [281, 236], [379, 218]],\n",
       "    'bbox': [280, 209, 378, 245]},\n",
       "   {'box': [[64, 180], [129, 195], [65, 196], [126, 179]],\n",
       "    'bbox': [65, 180, 128, 196]}]},\n",
       " {'file': 'C:/Users/krvet/Desktop/MADE/CV/HW2/contest02_data/data/test\\\\1622.jpg',\n",
       "  'nums': [{'box': [[1536, 952], [1190, 1088], [1199, 1009], [1520, 1032]],\n",
       "    'bbox': [1195, 947, 1531, 1094]}]},\n",
       " {'file': 'C:/Users/krvet/Desktop/MADE/CV/HW2/contest02_data/data/test\\\\1623.jpg',\n",
       "  'nums': [{'box': [[465, 655], [717, 704], [468, 706], [714, 649]],\n",
       "    'bbox': [469, 650, 713, 705]}]},\n",
       " {'file': 'C:/Users/krvet/Desktop/MADE/CV/HW2/contest02_data/data/test\\\\1624.bmp',\n",
       "  'nums': [{'box': [[272, 239], [396, 268], [275, 269], [394, 235]],\n",
       "    'bbox': [274, 236, 394, 269]}]},\n",
       " {'file': 'C:/Users/krvet/Desktop/MADE/CV/HW2/contest02_data/data/test\\\\1625.jpg',\n",
       "  'nums': [{'box': [[1034, 692], [727, 773], [732, 707], [1027, 756]],\n",
       "    'bbox': [732, 690, 1029, 774]}]},\n",
       " {'file': 'C:/Users/krvet/Desktop/MADE/CV/HW2/contest02_data/data/test\\\\1626.jpg',\n",
       "  'nums': [{'box': [[416, 537], [873, 624], [419, 626], [866, 526]],\n",
       "    'bbox': [423, 526, 866, 625]}]},\n",
       " {'file': 'C:/Users/krvet/Desktop/MADE/CV/HW2/contest02_data/data/test\\\\1627.jpg',\n",
       "  'nums': [{'box': [[138, 603], [286, 668], [141, 643], [284, 625]],\n",
       "    'bbox': [140, 603, 284, 668]}]},\n",
       " {'file': 'C:/Users/krvet/Desktop/MADE/CV/HW2/contest02_data/data/test\\\\1628.bmp',\n",
       "  'nums': [{'box': [[241, 279], [336, 312], [243, 305], [333, 286]],\n",
       "    'bbox': [242, 279, 335, 312]}]},\n",
       " {'file': 'C:/Users/krvet/Desktop/MADE/CV/HW2/contest02_data/data/test\\\\1629.jpg',\n",
       "  'nums': [{'box': [[269, 345], [346, 372], [271, 365], [345, 355]],\n",
       "    'bbox': [269, 345, 344, 374]}]},\n",
       " {'file': 'C:/Users/krvet/Desktop/MADE/CV/HW2/contest02_data/data/test\\\\163.jpg',\n",
       "  'nums': [{'box': [[288, 543], [440, 591], [295, 586], [436, 549]],\n",
       "    'bbox': [291, 541, 438, 594]},\n",
       "   {'box': [[1440, 498], [1571, 533], [1444, 533], [1568, 499]],\n",
       "    'bbox': [1441, 498, 1569, 533]}]},\n",
       " {'file': 'C:/Users/krvet/Desktop/MADE/CV/HW2/contest02_data/data/test\\\\1630.jpg',\n",
       "  'nums': [{'box': [[352, 737], [500, 777], [353, 778], [499, 733]],\n",
       "    'bbox': [354, 733, 498, 778]}]},\n",
       " {'file': 'C:/Users/krvet/Desktop/MADE/CV/HW2/contest02_data/data/test\\\\1631.bmp',\n",
       "  'nums': [{'box': [[817, 787], [1012, 850], [823, 830], [1008, 802]],\n",
       "    'bbox': [819, 787, 1010, 850]},\n",
       "   {'box': [[135, 732], [264, 781], [141, 769], [262, 742]],\n",
       "    'bbox': [137, 731, 263, 780]}]},\n",
       " {'file': 'C:/Users/krvet/Desktop/MADE/CV/HW2/contest02_data/data/test\\\\1632.jpg',\n",
       "  'nums': [{'box': [[400, 678], [781, 760], [412, 761], [771, 673]],\n",
       "    'bbox': [405, 672, 775, 763]}]},\n",
       " {'file': 'C:/Users/krvet/Desktop/MADE/CV/HW2/contest02_data/data/test\\\\1633.jpg',\n",
       "  'nums': [{'box': [[284, 455], [481, 506], [291, 497], [476, 463]],\n",
       "    'bbox': [286, 454, 478, 509]}]},\n",
       " {'file': 'C:/Users/krvet/Desktop/MADE/CV/HW2/contest02_data/data/test\\\\1634.bmp',\n",
       "  'nums': [{'box': [[271, 192], [377, 217], [271, 218], [376, 190]],\n",
       "    'bbox': [272, 190, 375, 218]}]},\n",
       " {'file': 'C:/Users/krvet/Desktop/MADE/CV/HW2/contest02_data/data/test\\\\1635.jpg',\n",
       "  'nums': [{'box': [[760, 674], [1050, 737], [767, 731], [1044, 680]],\n",
       "    'bbox': [762, 671, 1047, 738]}]},\n",
       " {'file': 'C:/Users/krvet/Desktop/MADE/CV/HW2/contest02_data/data/test\\\\1636.jpg',\n",
       "  'nums': [{'box': [[590, 627], [759, 664], [596, 663], [755, 628]],\n",
       "    'bbox': [592, 626, 756, 666]},\n",
       "   {'box': [[313, 608], [412, 631], [313, 631], [412, 607]],\n",
       "    'bbox': [315, 606, 411, 631]}]},\n",
       " {'file': 'C:/Users/krvet/Desktop/MADE/CV/HW2/contest02_data/data/test\\\\1637.jpg',\n",
       "  'nums': [{'box': [[1401, 809], [1135, 907], [1138, 837], [1394, 877]],\n",
       "    'bbox': [1137, 805, 1397, 909]}]},\n",
       " {'file': 'C:/Users/krvet/Desktop/MADE/CV/HW2/contest02_data/data/test\\\\1638.jpg',\n",
       "  'nums': [{'box': [[166, 759], [402, 819], [179, 812], [393, 770]],\n",
       "    'bbox': [169, 757, 398, 820]}]},\n",
       " {'file': 'C:/Users/krvet/Desktop/MADE/CV/HW2/contest02_data/data/test\\\\1639.jpg',\n",
       "  'nums': [{'box': [[178, 598], [287, 638], [181, 626], [283, 605]],\n",
       "    'bbox': [180, 597, 285, 638]}]},\n",
       " {'file': 'C:/Users/krvet/Desktop/MADE/CV/HW2/contest02_data/data/test\\\\164.jpg',\n",
       "  'nums': [{'box': [[584, 628], [386, 688], [390, 641], [581, 674]],\n",
       "    'bbox': [389, 626, 582, 689]}]},\n",
       " {'file': 'C:/Users/krvet/Desktop/MADE/CV/HW2/contest02_data/data/test\\\\1640.jpg',\n",
       "  'nums': [{'box': [[1418, 680], [1634, 718], [1420, 725], [1631, 671]],\n",
       "    'bbox': [1422, 672, 1630, 724]},\n",
       "   {'box': [[547, 711], [689, 738], [548, 741], [679, 705]],\n",
       "    'bbox': [549, 704, 687, 740]}]},\n",
       " {'file': 'C:/Users/krvet/Desktop/MADE/CV/HW2/contest02_data/data/test\\\\1641.jpg',\n",
       "  'nums': [{'box': [[436, 580], [640, 620], [437, 623], [639, 577]],\n",
       "    'bbox': [439, 577, 637, 622]}]},\n",
       " {'file': 'C:/Users/krvet/Desktop/MADE/CV/HW2/contest02_data/data/test\\\\1642.jpeg',\n",
       "  'nums': [{'box': [[701, 344], [393, 417], [401, 360], [699, 408]],\n",
       "    'bbox': [397, 340, 698, 418]},\n",
       "   {'box': [[889, 434], [807, 452], [808, 439], [887, 448]],\n",
       "    'bbox': [808, 434, 888, 451]}]},\n",
       " {'file': 'C:/Users/krvet/Desktop/MADE/CV/HW2/contest02_data/data/test\\\\1643.jpg',\n",
       "  'nums': [{'box': [[154, 775], [317, 870], [160, 835], [313, 803]],\n",
       "    'bbox': [156, 773, 314, 870]}]},\n",
       " {'file': 'C:/Users/krvet/Desktop/MADE/CV/HW2/contest02_data/data/test\\\\1644.jpg',\n",
       "  'nums': [{'box': [[569, 745], [826, 883], [573, 813], [821, 814]],\n",
       "    'bbox': [572, 745, 823, 884]}]},\n",
       " {'file': 'C:/Users/krvet/Desktop/MADE/CV/HW2/contest02_data/data/test\\\\1645.jpg',\n",
       "  'nums': [{'box': [[1129, 660], [907, 781], [908, 720], [1124, 720]],\n",
       "    'bbox': [909, 659, 1126, 781]}]},\n",
       " {'file': 'C:/Users/krvet/Desktop/MADE/CV/HW2/contest02_data/data/test\\\\1646.bmp',\n",
       "  'nums': [{'box': [[345, 156], [209, 213], [210, 177], [342, 193]],\n",
       "    'bbox': [210, 155, 343, 213]}]},\n",
       " {'file': 'C:/Users/krvet/Desktop/MADE/CV/HW2/contest02_data/data/test\\\\1647.jpg',\n",
       "  'nums': [{'box': [[1376, 496], [1111, 588], [1115, 521], [1383, 562]],\n",
       "    'bbox': [1114, 493, 1381, 589]}]},\n",
       " {'file': 'C:/Users/krvet/Desktop/MADE/CV/HW2/contest02_data/data/test\\\\1648.jpg',\n",
       "  'nums': [{'box': [[383, 585], [598, 649], [394, 641], [592, 591]],\n",
       "    'bbox': [384, 583, 594, 649]}]},\n",
       " {'file': 'C:/Users/krvet/Desktop/MADE/CV/HW2/contest02_data/data/test\\\\1649.jpg',\n",
       "  'nums': [{'box': [[440, 1082], [593, 1109], [441, 1112], [591, 1077]],\n",
       "    'bbox': [442, 1077, 590, 1112]}]},\n",
       " {'file': 'C:/Users/krvet/Desktop/MADE/CV/HW2/contest02_data/data/test\\\\165.bmp',\n",
       "  'nums': [{'box': [[536, 102], [630, 126], [540, 125], [627, 104]],\n",
       "    'bbox': [538, 102, 629, 126]}]},\n",
       " {'file': 'C:/Users/krvet/Desktop/MADE/CV/HW2/contest02_data/data/test\\\\1650.jpg',\n",
       "  'nums': [{'box': [[614, 541], [887, 591], [617, 594], [881, 538]],\n",
       "    'bbox': [618, 539, 882, 593]}]},\n",
       " {'file': 'C:/Users/krvet/Desktop/MADE/CV/HW2/contest02_data/data/test\\\\1651.jpg',\n",
       "  'nums': [{'box': [[1196, 508], [988, 568], [993, 524], [1191, 558]],\n",
       "    'bbox': [989, 501, 1193, 581]}]},\n",
       " {'file': 'C:/Users/krvet/Desktop/MADE/CV/HW2/contest02_data/data/test\\\\1652.jpg',\n",
       "  'nums': [{'box': [[293, 477], [548, 523], [297, 529], [545, 472]],\n",
       "    'bbox': [297, 473, 544, 529]}]},\n",
       " {'file': 'C:/Users/krvet/Desktop/MADE/CV/HW2/contest02_data/data/test\\\\1653.jpg',\n",
       "  'nums': [{'box': [[71, 490], [212, 563], [73, 532], [210, 518]],\n",
       "    'bbox': [72, 491, 211, 562]}]},\n",
       " {'file': 'C:/Users/krvet/Desktop/MADE/CV/HW2/contest02_data/data/test\\\\1654.jpg',\n",
       "  'nums': [{'box': [[521, 926], [871, 856], [878, 935], [517, 834]],\n",
       "    'bbox': [501, 836, 873, 935]}]},\n",
       " {'file': 'C:/Users/krvet/Desktop/MADE/CV/HW2/contest02_data/data/test\\\\1655.jpg',\n",
       "  'nums': [{'box': [[1120, 569], [982, 608], [986, 571], [1117, 612]],\n",
       "    'bbox': [983, 566, 1119, 614]},\n",
       "   {'box': [[1544, 576], [1472, 610], [1476, 582], [1540, 605]],\n",
       "    'bbox': [1472, 574, 1543, 610]}]},\n",
       " {'file': 'C:/Users/krvet/Desktop/MADE/CV/HW2/contest02_data/data/test\\\\1656.jpg',\n",
       "  'nums': [{'box': [[42, 482], [227, 519], [43, 519], [227, 481]],\n",
       "    'bbox': [44, 481, 225, 518]}]},\n",
       " {'file': 'C:/Users/krvet/Desktop/MADE/CV/HW2/contest02_data/data/test\\\\1657.bmp',\n",
       "  'nums': [{'box': [[122, 210], [225, 255], [124, 236], [223, 224]],\n",
       "    'bbox': [124, 210, 223, 254]}]},\n",
       " {'file': 'C:/Users/krvet/Desktop/MADE/CV/HW2/contest02_data/data/test\\\\1658.jpg',\n",
       "  'nums': [{'box': [[980, 586], [696, 646], [703, 589], [973, 650]],\n",
       "    'bbox': [701, 585, 977, 651]}]},\n",
       " {'file': 'C:/Users/krvet/Desktop/MADE/CV/HW2/contest02_data/data/test\\\\1659.jpg',\n",
       "  'nums': [{'box': [[1352, 688], [1179, 790], [1183, 732], [1349, 747]],\n",
       "    'bbox': [1181, 687, 1350, 792]}]},\n",
       " {'file': 'C:/Users/krvet/Desktop/MADE/CV/HW2/contest02_data/data/test\\\\166.jpg',\n",
       "  'nums': []},\n",
       " {'file': 'C:/Users/krvet/Desktop/MADE/CV/HW2/contest02_data/data/test\\\\1660.jpg',\n",
       "  'nums': [{'box': [[439, 434], [663, 531], [452, 485], [659, 473]],\n",
       "    'bbox': [442, 430, 660, 530]}]},\n",
       " {'file': 'C:/Users/krvet/Desktop/MADE/CV/HW2/contest02_data/data/test\\\\1661.jpg',\n",
       "  'nums': [{'box': [[319, 1040], [568, 1157], [330, 1120], [555, 1080]],\n",
       "    'bbox': [323, 1037, 564, 1158]}]},\n",
       " {'file': 'C:/Users/krvet/Desktop/MADE/CV/HW2/contest02_data/data/test\\\\1663.bmp',\n",
       "  'nums': [{'box': [[334, 197], [408, 217], [337, 217], [407, 197]],\n",
       "    'bbox': [334, 195, 407, 217]}]},\n",
       " {'file': 'C:/Users/krvet/Desktop/MADE/CV/HW2/contest02_data/data/test\\\\1664.png',\n",
       "  'nums': []},\n",
       " {'file': 'C:/Users/krvet/Desktop/MADE/CV/HW2/contest02_data/data/test\\\\1665.jpg',\n",
       "  'nums': [{'box': [[372, 502], [749, 587], [395, 587], [742, 506]],\n",
       "    'bbox': [378, 497, 743, 588]}]},\n",
       " {'file': 'C:/Users/krvet/Desktop/MADE/CV/HW2/contest02_data/data/test\\\\1666.jpg',\n",
       "  'nums': [{'box': [[177, 615], [448, 684], [182, 671], [439, 623]],\n",
       "    'bbox': [182, 612, 444, 689]}]},\n",
       " {'file': 'C:/Users/krvet/Desktop/MADE/CV/HW2/contest02_data/data/test\\\\1667.bmp',\n",
       "  'nums': [{'box': [[47, 194], [183, 232], [51, 225], [181, 204]],\n",
       "    'bbox': [49, 194, 182, 231]}]},\n",
       " {'file': 'C:/Users/krvet/Desktop/MADE/CV/HW2/contest02_data/data/test\\\\1668.jpg',\n",
       "  'nums': [{'box': [[495, 818], [804, 890], [508, 887], [795, 827]],\n",
       "    'bbox': [499, 815, 800, 891]}]},\n",
       " {'file': 'C:/Users/krvet/Desktop/MADE/CV/HW2/contest02_data/data/test\\\\1669.jpg',\n",
       "  'nums': [{'box': [[542, 315], [664, 333], [543, 337], [663, 309]],\n",
       "    'bbox': [544, 309, 662, 337]}]},\n",
       " {'file': 'C:/Users/krvet/Desktop/MADE/CV/HW2/contest02_data/data/test\\\\167.jpg',\n",
       "  'nums': [{'box': [[500, 282], [377, 314], [380, 285], [497, 307]],\n",
       "    'bbox': [378, 279, 498, 314]}]},\n",
       " {'file': 'C:/Users/krvet/Desktop/MADE/CV/HW2/contest02_data/data/test\\\\1670.jpg',\n",
       "  'nums': [{'box': [[289, 203], [194, 223], [196, 205], [288, 229]],\n",
       "    'bbox': [195, 202, 288, 229]},\n",
       "   {'box': [[189, 453], [300, 570], [190, 506], [297, 519]],\n",
       "    'bbox': [188, 450, 304, 568]}]},\n",
       " {'file': 'C:/Users/krvet/Desktop/MADE/CV/HW2/contest02_data/data/test\\\\1671.jpg',\n",
       "  'nums': [{'box': [[234, 625], [529, 758], [240, 696], [517, 679]],\n",
       "    'bbox': [238, 620, 526, 760]},\n",
       "   {'box': [[49, 382], [173, 431], [54, 428], [171, 401]],\n",
       "    'bbox': [50, 381, 172, 444]}]},\n",
       " {'file': 'C:/Users/krvet/Desktop/MADE/CV/HW2/contest02_data/data/test\\\\1672.jpg',\n",
       "  'nums': [{'box': [[71, 668], [266, 815], [79, 732], [257, 745]],\n",
       "    'bbox': [72, 667, 264, 814]}]},\n",
       " {'file': 'C:/Users/krvet/Desktop/MADE/CV/HW2/contest02_data/data/test\\\\1673.bmp',\n",
       "  'nums': [{'box': [[183, 225], [316, 288], [191, 266], [311, 243]],\n",
       "    'bbox': [185, 225, 314, 288]}]},\n",
       " {'file': 'C:/Users/krvet/Desktop/MADE/CV/HW2/contest02_data/data/test\\\\1674.jpg',\n",
       "  'nums': [{'box': [[211, 570], [438, 618], [216, 619], [430, 570]],\n",
       "    'bbox': [213, 569, 434, 621]}]},\n",
       " {'file': 'C:/Users/krvet/Desktop/MADE/CV/HW2/contest02_data/data/test\\\\1675.jpg',\n",
       "  'nums': [{'box': [[826, 310], [761, 353], [764, 332], [825, 335]],\n",
       "    'bbox': [761, 311, 826, 354]}]},\n",
       " {'file': 'C:/Users/krvet/Desktop/MADE/CV/HW2/contest02_data/data/test\\\\1676.jpg',\n",
       "  'nums': [{'box': [[678, 614], [940, 668], [681, 669], [938, 611]],\n",
       "    'bbox': [682, 611, 936, 668]},\n",
       "   {'box': [[1207, 500], [1417, 549], [1215, 549], [1413, 495]],\n",
       "    'bbox': [1208, 495, 1413, 549]}]},\n",
       " {'file': 'C:/Users/krvet/Desktop/MADE/CV/HW2/contest02_data/data/test\\\\1677.jpg',\n",
       "  'nums': [{'box': [[1038, 547], [821, 602], [824, 550], [1032, 601]],\n",
       "    'bbox': [824, 544, 1034, 603]}]},\n",
       " {'file': 'C:/Users/krvet/Desktop/MADE/CV/HW2/contest02_data/data/test\\\\1678.jpg',\n",
       "  'nums': [{'box': [[484, 832], [750, 890], [489, 890], [743, 830]],\n",
       "    'bbox': [488, 830, 746, 891]}]},\n",
       " {'file': 'C:/Users/krvet/Desktop/MADE/CV/HW2/contest02_data/data/test\\\\1679.jpg',\n",
       "  'nums': [{'box': [[219, 520], [431, 557], [220, 563], [429, 515]],\n",
       "    'bbox': [222, 516, 428, 562]}]},\n",
       " {'file': 'C:/Users/krvet/Desktop/MADE/CV/HW2/contest02_data/data/test\\\\168.jpg',\n",
       "  'nums': [{'box': [[851, 613], [648, 799], [657, 711], [849, 705]],\n",
       "    'bbox': [651, 612, 852, 799]}]},\n",
       " {'file': 'C:/Users/krvet/Desktop/MADE/CV/HW2/contest02_data/data/test\\\\1680.bmp',\n",
       "  'nums': [{'box': [[1951, 1077], [2294, 1156], [1958, 1159], [2284, 1076]],\n",
       "    'bbox': [1956, 1075, 2289, 1159]},\n",
       "   {'box': [[353, 867], [638, 928], [354, 928], [632, 866]],\n",
       "    'bbox': [357, 864, 634, 927]}]},\n",
       " {'file': 'C:/Users/krvet/Desktop/MADE/CV/HW2/contest02_data/data/test\\\\1681.bmp',\n",
       "  'nums': [{'box': [[240, 148], [373, 191], [243, 178], [369, 161]],\n",
       "    'bbox': [241, 148, 371, 192]}]},\n",
       " {'file': 'C:/Users/krvet/Desktop/MADE/CV/HW2/contest02_data/data/test\\\\1682.jpg',\n",
       "  'nums': [{'box': [[96, 637], [249, 693], [103, 677], [243, 649]],\n",
       "    'bbox': [98, 635, 246, 693]}]},\n",
       " {'file': 'C:/Users/krvet/Desktop/MADE/CV/HW2/contest02_data/data/test\\\\1683.bmp',\n",
       "  'nums': [{'box': [[438, 257], [361, 299], [360, 270], [438, 287]],\n",
       "    'bbox': [361, 256, 438, 299]}]},\n",
       " {'file': 'C:/Users/krvet/Desktop/MADE/CV/HW2/contest02_data/data/test\\\\1684.bmp',\n",
       "  'nums': [{'box': [[405, 174], [264, 213], [269, 180], [401, 213]],\n",
       "    'bbox': [266, 174, 403, 212]}]},\n",
       " {'file': 'C:/Users/krvet/Desktop/MADE/CV/HW2/contest02_data/data/test\\\\1685.jpg',\n",
       "  'nums': [{'box': [[600, 429], [309, 490], [314, 428], [595, 491]],\n",
       "    'bbox': [313, 429, 595, 490]}]},\n",
       " {'file': 'C:/Users/krvet/Desktop/MADE/CV/HW2/contest02_data/data/test\\\\1686.jpg',\n",
       "  'nums': [{'box': [[147, 758], [266, 853], [147, 804], [265, 807]],\n",
       "    'bbox': [141, 755, 264, 853]}]},\n",
       " {'file': 'C:/Users/krvet/Desktop/MADE/CV/HW2/contest02_data/data/test\\\\1687.bmp',\n",
       "  'nums': [{'box': [[337, 225], [486, 261], [345, 260], [483, 225]],\n",
       "    'bbox': [339, 224, 484, 261]}]},\n",
       " {'file': 'C:/Users/krvet/Desktop/MADE/CV/HW2/contest02_data/data/test\\\\1688.bmp',\n",
       "  'nums': [{'box': [[290, 244], [202, 272], [205, 249], [287, 269]],\n",
       "    'bbox': [203, 244, 289, 272]}]},\n",
       " {'file': 'C:/Users/krvet/Desktop/MADE/CV/HW2/contest02_data/data/test\\\\1689.bmp',\n",
       "  'nums': [{'box': [[242, 96], [121, 129], [128, 98], [236, 129]],\n",
       "    'bbox': [122, 95, 240, 129]}]},\n",
       " {'file': 'C:/Users/krvet/Desktop/MADE/CV/HW2/contest02_data/data/test\\\\169.jpg',\n",
       "  'nums': [{'box': [[351, 359], [174, 406], [180, 366], [349, 408]],\n",
       "    'bbox': [178, 359, 349, 408]}]},\n",
       " {'file': 'C:/Users/krvet/Desktop/MADE/CV/HW2/contest02_data/data/test\\\\1690.bmp',\n",
       "  'nums': [{'box': [[261, 195], [160, 230], [161, 209], [259, 217]],\n",
       "    'bbox': [160, 193, 260, 233]}]},\n",
       " {'file': 'C:/Users/krvet/Desktop/MADE/CV/HW2/contest02_data/data/test\\\\1691.jpg',\n",
       "  'nums': [{'box': [[163, 293], [248, 315], [163, 315], [248, 292]],\n",
       "    'bbox': [164, 292, 247, 315]}]},\n",
       " {'file': 'C:/Users/krvet/Desktop/MADE/CV/HW2/contest02_data/data/test\\\\1692.jpg',\n",
       "  'nums': [{'box': [[1834, 976], [1527, 1133], [1530, 1043], [1831, 1062]],\n",
       "    'bbox': [1531, 975, 1830, 1134]}]},\n",
       " {'file': 'C:/Users/krvet/Desktop/MADE/CV/HW2/contest02_data/data/test\\\\1693.bmp',\n",
       "  'nums': [{'box': [[33, 182], [195, 230], [41, 221], [190, 185]],\n",
       "    'bbox': [36, 178, 192, 230]}]},\n",
       " {'file': 'C:/Users/krvet/Desktop/MADE/CV/HW2/contest02_data/data/test\\\\1694.png',\n",
       "  'nums': [{'box': [[904, 483], [1042, 517], [905, 517], [1042, 481]],\n",
       "    'bbox': [905, 482, 1040, 516]}]},\n",
       " {'file': 'C:/Users/krvet/Desktop/MADE/CV/HW2/contest02_data/data/test\\\\1695.bmp',\n",
       "  'nums': [{'box': [[55, 285], [197, 328], [58, 317], [193, 292]],\n",
       "    'bbox': [57, 284, 195, 328]}]},\n",
       " {'file': 'C:/Users/krvet/Desktop/MADE/CV/HW2/contest02_data/data/test\\\\1696.bmp',\n",
       "  'nums': [{'box': [[199, 266], [379, 301], [199, 302], [376, 266]],\n",
       "    'bbox': [202, 266, 376, 302]}]},\n",
       " {'file': 'C:/Users/krvet/Desktop/MADE/CV/HW2/contest02_data/data/test\\\\1697.jpg',\n",
       "  'nums': [{'box': [[531, 468], [407, 494], [410, 471], [529, 493]],\n",
       "    'bbox': [409, 466, 529, 494]}]},\n",
       " {'file': 'C:/Users/krvet/Desktop/MADE/CV/HW2/contest02_data/data/test\\\\1698.jpg',\n",
       "  'nums': [{'box': [[759, 721], [643, 791], [646, 756], [758, 752]],\n",
       "    'bbox': [645, 722, 758, 792]}]},\n",
       " {'file': 'C:/Users/krvet/Desktop/MADE/CV/HW2/contest02_data/data/test\\\\1699.jpg',\n",
       "  'nums': [{'box': [[922, 497], [653, 561], [660, 505], [915, 552]],\n",
       "    'bbox': [657, 494, 917, 562]}]},\n",
       " {'file': 'C:/Users/krvet/Desktop/MADE/CV/HW2/contest02_data/data/test\\\\17.jpg',\n",
       "  'nums': [{'box': [[337, 630], [561, 726], [334, 691], [560, 660]],\n",
       "    'bbox': [332, 623, 564, 728]}]},\n",
       " {'file': 'C:/Users/krvet/Desktop/MADE/CV/HW2/contest02_data/data/test\\\\170.jpg',\n",
       "  'nums': [{'box': [[428, 665], [571, 719], [432, 706], [570, 680]],\n",
       "    'bbox': [430, 665, 569, 719]},\n",
       "   {'box': [[130, 457], [218, 475], [132, 476], [218, 456]],\n",
       "    'bbox': [131, 456, 217, 476]}]},\n",
       " {'file': 'C:/Users/krvet/Desktop/MADE/CV/HW2/contest02_data/data/test\\\\1700.jpg',\n",
       "  'nums': [{'box': [[1327, 530], [1127, 585], [1268, 506], [1179, 619]],\n",
       "    'bbox': [1130, 506, 1325, 619]}]},\n",
       " {'file': 'C:/Users/krvet/Desktop/MADE/CV/HW2/contest02_data/data/test\\\\1701.bmp',\n",
       "  'nums': [{'box': [[825, 724], [1115, 778], [832, 778], [1112, 723]],\n",
       "    'bbox': [829, 724, 1111, 779]}]},\n",
       " {'file': 'C:/Users/krvet/Desktop/MADE/CV/HW2/contest02_data/data/test\\\\1702.jpg',\n",
       "  'nums': [{'box': [[77, 452], [159, 492], [79, 482], [157, 462]],\n",
       "    'bbox': [78, 450, 158, 491]}]},\n",
       " {'file': 'C:/Users/krvet/Desktop/MADE/CV/HW2/contest02_data/data/test\\\\1703.jpg',\n",
       "  'nums': [{'box': [[415, 1204], [678, 1256], [417, 1257], [672, 1201]],\n",
       "    'bbox': [419, 1202, 674, 1256]}]},\n",
       " {'file': 'C:/Users/krvet/Desktop/MADE/CV/HW2/contest02_data/data/test\\\\1704.jpg',\n",
       "  'nums': [{'box': [[1609, 948], [1290, 1073], [1303, 981], [1600, 1034]],\n",
       "    'bbox': [1292, 943, 1604, 1076]}]},\n",
       " {'file': 'C:/Users/krvet/Desktop/MADE/CV/HW2/contest02_data/data/test\\\\1705.jpg',\n",
       "  'nums': [{'box': [[242, 1119], [564, 1273], [255, 1201], [558, 1187]],\n",
       "    'bbox': [246, 1114, 560, 1273]}]},\n",
       " {'file': 'C:/Users/krvet/Desktop/MADE/CV/HW2/contest02_data/data/test\\\\1706.bmp',\n",
       "  'nums': [{'box': [[301, 221], [424, 254], [304, 249], [422, 223]],\n",
       "    'bbox': [302, 218, 423, 253]}]},\n",
       " {'file': 'C:/Users/krvet/Desktop/MADE/CV/HW2/contest02_data/data/test\\\\1707.bmp',\n",
       "  'nums': [{'box': [[419, 200], [581, 242], [426, 236], [578, 207]],\n",
       "    'bbox': [420, 197, 578, 244]}]},\n",
       " {'file': 'C:/Users/krvet/Desktop/MADE/CV/HW2/contest02_data/data/test\\\\1708.bmp',\n",
       "  'nums': [{'box': [[169, 258], [383, 357], [180, 310], [382, 298]],\n",
       "    'bbox': [165, 255, 380, 357]}]},\n",
       " {'file': 'C:/Users/krvet/Desktop/MADE/CV/HW2/contest02_data/data/test\\\\1709.jpg',\n",
       "  'nums': [{'box': [[140, 498], [228, 538], [141, 531], [227, 504]],\n",
       "    'bbox': [141, 498, 227, 538]}]},\n",
       " {'file': 'C:/Users/krvet/Desktop/MADE/CV/HW2/contest02_data/data/test\\\\171.jpg',\n",
       "  'nums': [{'box': [[1089, 747], [840, 830], [849, 773], [1080, 800]],\n",
       "    'bbox': [843, 745, 1085, 831]}]},\n",
       " {'file': 'C:/Users/krvet/Desktop/MADE/CV/HW2/contest02_data/data/test\\\\1710.bmp',\n",
       "  'nums': [{'box': [[476, 224], [634, 258], [483, 254], [630, 223]],\n",
       "    'bbox': [478, 221, 631, 258]}]},\n",
       " {'file': 'C:/Users/krvet/Desktop/MADE/CV/HW2/contest02_data/data/test\\\\1711.bmp',\n",
       "  'nums': [{'box': [[633, 258], [540, 296], [542, 270], [631, 287]],\n",
       "    'bbox': [541, 259, 632, 297]}]},\n",
       " {'file': 'C:/Users/krvet/Desktop/MADE/CV/HW2/contest02_data/data/test\\\\1712.bmp',\n",
       "  'nums': [{'box': [[1330, 582], [1052, 684], [1055, 620], [1322, 649]],\n",
       "    'bbox': [1056, 579, 1326, 685]}]},\n",
       " {'file': 'C:/Users/krvet/Desktop/MADE/CV/HW2/contest02_data/data/test\\\\1713.bmp',\n",
       "  'nums': [{'box': [[38, 179], [149, 200], [38, 202], [149, 174]],\n",
       "    'bbox': [40, 174, 147, 202]}]},\n",
       " {'file': 'C:/Users/krvet/Desktop/MADE/CV/HW2/contest02_data/data/test\\\\1714.bmp',\n",
       "  'nums': [{'box': [[61, 117], [162, 138], [61, 139], [159, 115]],\n",
       "    'bbox': [63, 115, 160, 139]}]},\n",
       " {'file': 'C:/Users/krvet/Desktop/MADE/CV/HW2/contest02_data/data/test\\\\1715.jpg',\n",
       "  'nums': [{'box': [[324, 548], [471, 602], [327, 585], [469, 562]],\n",
       "    'bbox': [326, 546, 469, 602]}]},\n",
       " {'file': 'C:/Users/krvet/Desktop/MADE/CV/HW2/contest02_data/data/test\\\\1716.jpg',\n",
       "  'nums': [{'box': [[237, 271], [426, 310], [241, 309], [424, 271]],\n",
       "    'bbox': [240, 270, 423, 310]}]},\n",
       " {'file': 'C:/Users/krvet/Desktop/MADE/CV/HW2/contest02_data/data/test\\\\1717.jpg',\n",
       "  'nums': [{'box': [[331, 491], [526, 518], [334, 529], [525, 485]],\n",
       "    'bbox': [334, 485, 523, 529]}]},\n",
       " {'file': 'C:/Users/krvet/Desktop/MADE/CV/HW2/contest02_data/data/test\\\\1718.jpg',\n",
       "  'nums': [{'box': [[806, 736], [450, 827], [454, 757], [802, 809]],\n",
       "    'bbox': [452, 734, 801, 828]}]},\n",
       " {'file': 'C:/Users/krvet/Desktop/MADE/CV/HW2/contest02_data/data/test\\\\1719.bmp',\n",
       "  'nums': [{'box': [[274, 231], [199, 259], [200, 236], [269, 254]],\n",
       "    'bbox': [201, 230, 273, 261]}]},\n",
       " {'file': 'C:/Users/krvet/Desktop/MADE/CV/HW2/contest02_data/data/test\\\\172.jpg',\n",
       "  'nums': [{'box': [[581, 651], [913, 721], [593, 721], [905, 652]],\n",
       "    'bbox': [586, 647, 907, 726]}]},\n",
       " {'file': 'C:/Users/krvet/Desktop/MADE/CV/HW2/contest02_data/data/test\\\\1720.bmp',\n",
       "  'nums': [{'box': [[274, 234], [207, 250], [208, 235], [272, 251]],\n",
       "    'bbox': [208, 233, 273, 251]}]},\n",
       " {'file': 'C:/Users/krvet/Desktop/MADE/CV/HW2/contest02_data/data/test\\\\1721.jpg',\n",
       "  'nums': [{'box': [[1098, 670], [702, 779], [707, 695], [1090, 751]],\n",
       "    'bbox': [708, 667, 1093, 780]}]},\n",
       " {'file': 'C:/Users/krvet/Desktop/MADE/CV/HW2/contest02_data/data/test\\\\1722.jpeg',\n",
       "  'nums': [{'box': [[658, 524], [525, 588], [527, 555], [657, 556]],\n",
       "    'bbox': [527, 523, 656, 587]}]},\n",
       " {'file': 'C:/Users/krvet/Desktop/MADE/CV/HW2/contest02_data/data/test\\\\1723.bmp',\n",
       "  'nums': [{'box': [[2403, 1012], [2082, 1077], [2088, 1010], [2397, 1078]],\n",
       "    'bbox': [2087, 1010, 2398, 1078]},\n",
       "   {'box': [[543, 1064], [257, 1127], [265, 1072], [536, 1116]],\n",
       "    'bbox': [261, 1061, 539, 1128]}]},\n",
       " {'file': 'C:/Users/krvet/Desktop/MADE/CV/HW2/contest02_data/data/test\\\\1724.jpg',\n",
       "  'nums': [{'box': [[1076, 562], [557, 664], [565, 559], [1066, 666]],\n",
       "    'bbox': [565, 557, 1068, 665]}]},\n",
       " {'file': 'C:/Users/krvet/Desktop/MADE/CV/HW2/contest02_data/data/test\\\\1725.jpeg',\n",
       "  'nums': [{'box': [[801, 376], [704, 406], [705, 380], [799, 403]],\n",
       "    'bbox': [706, 376, 800, 406]}]},\n",
       " {'file': 'C:/Users/krvet/Desktop/MADE/CV/HW2/contest02_data/data/test\\\\1726.jpg',\n",
       "  'nums': [{'box': [[188, 964], [403, 1015], [195, 1016], [396, 964]],\n",
       "    'bbox': [192, 962, 400, 1017]},\n",
       "   {'box': [[1508, 1056], [1637, 1085], [1510, 1085], [1632, 1054]],\n",
       "    'bbox': [1509, 1052, 1635, 1085]}]},\n",
       " {'file': 'C:/Users/krvet/Desktop/MADE/CV/HW2/contest02_data/data/test\\\\1727.jpg',\n",
       "  'nums': [{'box': [[196, 698], [486, 787], [204, 772], [479, 711]],\n",
       "    'bbox': [200, 696, 482, 787]}]},\n",
       " {'file': 'C:/Users/krvet/Desktop/MADE/CV/HW2/contest02_data/data/test\\\\1728.jpg',\n",
       "  'nums': [{'box': [[859, 703], [1024, 734], [860, 735], [1023, 697]],\n",
       "    'bbox': [861, 698, 1021, 735]}]},\n",
       " {'file': 'C:/Users/krvet/Desktop/MADE/CV/HW2/contest02_data/data/test\\\\1729.bmp',\n",
       "  'nums': [{'box': [[933, 784], [770, 827], [774, 791], [929, 821]],\n",
       "    'bbox': [773, 783, 931, 827]}]},\n",
       " {'file': 'C:/Users/krvet/Desktop/MADE/CV/HW2/contest02_data/data/test\\\\173.bmp',\n",
       "  'nums': [{'box': [[392, 239], [274, 269], [277, 244], [390, 265]],\n",
       "    'bbox': [276, 238, 390, 269]}]},\n",
       " {'file': 'C:/Users/krvet/Desktop/MADE/CV/HW2/contest02_data/data/test\\\\1730.jpg',\n",
       "  'nums': [{'box': [[200, 368], [335, 335], [338, 373], [202, 331]],\n",
       "    'bbox': [198, 331, 336, 373]}]},\n",
       " {'file': 'C:/Users/krvet/Desktop/MADE/CV/HW2/contest02_data/data/test\\\\1731.bmp',\n",
       "  'nums': [{'box': [[279, 292], [188, 343], [187, 312], [279, 320]],\n",
       "    'bbox': [186, 290, 278, 344]}]},\n",
       " {'file': 'C:/Users/krvet/Desktop/MADE/CV/HW2/contest02_data/data/test\\\\1732.jpeg',\n",
       "  'nums': [{'box': [[539, 424], [623, 443], [539, 442], [622, 424]],\n",
       "    'bbox': [540, 424, 623, 443]},\n",
       "   {'box': [[330, 401], [396, 415], [331, 416], [394, 400]],\n",
       "    'bbox': [331, 401, 395, 415]},\n",
       "   {'box': [[18, 369], [73, 381], [19, 381], [72, 367]],\n",
       "    'bbox': [19, 367, 72, 381]}]},\n",
       " {'file': 'C:/Users/krvet/Desktop/MADE/CV/HW2/contest02_data/data/test\\\\1733.bmp',\n",
       "  'nums': [{'box': [[211, 181], [352, 213], [211, 213], [350, 180]],\n",
       "    'bbox': [213, 180, 350, 213]}]},\n",
       " {'file': 'C:/Users/krvet/Desktop/MADE/CV/HW2/contest02_data/data/test\\\\1734.jpg',\n",
       "  'nums': [{'box': [[1172, 634], [1016, 726], [1016, 673], [1169, 684]],\n",
       "    'bbox': [1016, 633, 1171, 725]}]},\n",
       " {'file': 'C:/Users/krvet/Desktop/MADE/CV/HW2/contest02_data/data/test\\\\1735.jpg',\n",
       "  'nums': [{'box': [[249, 251], [383, 280], [249, 280], [382, 251]],\n",
       "    'bbox': [250, 251, 381, 280]}]},\n",
       " {'file': 'C:/Users/krvet/Desktop/MADE/CV/HW2/contest02_data/data/test\\\\1736.jpg',\n",
       "  'nums': [{'box': [[1699, 1001], [1444, 1131], [1447, 1052], [1690, 1078]],\n",
       "    'bbox': [1446, 998, 1697, 1131]}]},\n",
       " {'file': 'C:/Users/krvet/Desktop/MADE/CV/HW2/contest02_data/data/test\\\\1737.jpg',\n",
       "  'nums': [{'box': [[526, 1209], [717, 1252], [527, 1252], [716, 1209]],\n",
       "    'bbox': [529, 1210, 715, 1252]}]},\n",
       " {'file': 'C:/Users/krvet/Desktop/MADE/CV/HW2/contest02_data/data/test\\\\1738.jpg',\n",
       "  'nums': [{'box': [[453, 564], [706, 614], [456, 615], [702, 563]],\n",
       "    'bbox': [457, 562, 702, 614]}]},\n",
       " {'file': 'C:/Users/krvet/Desktop/MADE/CV/HW2/contest02_data/data/test\\\\1739.jpg',\n",
       "  'nums': [{'box': [[786, 471], [716, 550], [716, 503], [785, 516]],\n",
       "    'bbox': [717, 472, 785, 549]}]},\n",
       " {'file': 'C:/Users/krvet/Desktop/MADE/CV/HW2/contest02_data/data/test\\\\174.jpg',\n",
       "  'nums': [{'box': [[188, 397], [395, 439], [192, 439], [390, 396]],\n",
       "    'bbox': [191, 395, 392, 440]}]},\n",
       " {'file': 'C:/Users/krvet/Desktop/MADE/CV/HW2/contest02_data/data/test\\\\1740.jpg',\n",
       "  'nums': [{'box': [[1182, 758], [979, 842], [984, 790], [1177, 809]],\n",
       "    'bbox': [982, 756, 1179, 843]}]},\n",
       " {'file': 'C:/Users/krvet/Desktop/MADE/CV/HW2/contest02_data/data/test\\\\1741.jpg',\n",
       "  'nums': [{'box': [[379, 926], [640, 976], [381, 977], [637, 924]],\n",
       "    'bbox': [383, 925, 636, 976]}]},\n",
       " {'file': 'C:/Users/krvet/Desktop/MADE/CV/HW2/contest02_data/data/test\\\\1742.jpg',\n",
       "  'nums': [{'box': [[701, 661], [941, 706], [707, 707], [939, 659]],\n",
       "    'bbox': [705, 659, 938, 706]}]},\n",
       " {'file': 'C:/Users/krvet/Desktop/MADE/CV/HW2/contest02_data/data/test\\\\1743.jpg',\n",
       "  'nums': [{'box': [[114, 580], [243, 639], [117, 630], [240, 588]],\n",
       "    'bbox': [115, 578, 242, 639]}]},\n",
       " {'file': 'C:/Users/krvet/Desktop/MADE/CV/HW2/contest02_data/data/test\\\\1744.jpg',\n",
       "  'nums': [{'box': [[540, 594], [949, 672], [545, 673], [938, 587]],\n",
       "    'bbox': [546, 587, 943, 673]}]},\n",
       " {'file': 'C:/Users/krvet/Desktop/MADE/CV/HW2/contest02_data/data/test\\\\1745.jpg',\n",
       "  'nums': [{'box': [[698, 958], [982, 1034], [712, 1024], [976, 962]],\n",
       "    'bbox': [699, 943, 978, 1034]}]},\n",
       " {'file': 'C:/Users/krvet/Desktop/MADE/CV/HW2/contest02_data/data/test\\\\1746.jpg',\n",
       "  'nums': [{'box': [[213, 1194], [416, 1249], [216, 1250], [412, 1191]],\n",
       "    'bbox': [216, 1192, 413, 1249]}]},\n",
       " {'file': 'C:/Users/krvet/Desktop/MADE/CV/HW2/contest02_data/data/test\\\\1747.bmp',\n",
       "  'nums': [{'box': [[289, 453], [465, 517], [300, 501], [461, 471]],\n",
       "    'bbox': [291, 454, 461, 519]}]},\n",
       " {'file': 'C:/Users/krvet/Desktop/MADE/CV/HW2/contest02_data/data/test\\\\1748.jpg',\n",
       "  'nums': [{'box': [[384, 614], [649, 674], [390, 666], [644, 619]],\n",
       "    'bbox': [387, 614, 645, 675]}]},\n",
       " {'file': 'C:/Users/krvet/Desktop/MADE/CV/HW2/contest02_data/data/test\\\\1749.jpg',\n",
       "  'nums': [{'box': [[664, 606], [763, 630], [666, 630], [761, 606]],\n",
       "    'bbox': [665, 606, 761, 630]}]},\n",
       " {'file': 'C:/Users/krvet/Desktop/MADE/CV/HW2/contest02_data/data/test\\\\175.jpg',\n",
       "  'nums': [{'box': [[292, 475], [494, 511], [293, 512], [490, 471]],\n",
       "    'bbox': [295, 471, 491, 511]}]},\n",
       " {'file': 'C:/Users/krvet/Desktop/MADE/CV/HW2/contest02_data/data/test\\\\1750.jpg',\n",
       "  'nums': [{'box': [[265, 594], [527, 670], [271, 655], [520, 612]],\n",
       "    'bbox': [268, 592, 523, 671]}]},\n",
       " {'file': 'C:/Users/krvet/Desktop/MADE/CV/HW2/contest02_data/data/test\\\\1751.jpg',\n",
       "  'nums': [{'box': [[276, 598], [601, 738], [286, 690], [595, 631]],\n",
       "    'bbox': [280, 595, 596, 740]}]},\n",
       " {'file': 'C:/Users/krvet/Desktop/MADE/CV/HW2/contest02_data/data/test\\\\1752.jpg',\n",
       "  'nums': [{'box': [[185, 592], [415, 647], [190, 647], [402, 593]],\n",
       "    'bbox': [188, 592, 411, 648]}]},\n",
       " {'file': 'C:/Users/krvet/Desktop/MADE/CV/HW2/contest02_data/data/test\\\\1753.jpg',\n",
       "  'nums': [{'box': [[404, 562], [522, 589], [405, 590], [521, 560]],\n",
       "    'bbox': [406, 560, 520, 590]}]},\n",
       " {'file': 'C:/Users/krvet/Desktop/MADE/CV/HW2/contest02_data/data/test\\\\1754.bmp',\n",
       "  'nums': [{'box': [[202, 209], [270, 226], [204, 228], [269, 207]],\n",
       "    'bbox': [204, 207, 269, 228]}]},\n",
       " {'file': 'C:/Users/krvet/Desktop/MADE/CV/HW2/contest02_data/data/test\\\\1755.jpg',\n",
       "  'nums': [{'box': [[347, 222], [460, 245], [347, 245], [460, 221]],\n",
       "    'bbox': [349, 220, 458, 245]}]},\n",
       " {'file': 'C:/Users/krvet/Desktop/MADE/CV/HW2/contest02_data/data/test\\\\1756.jpg',\n",
       "  'nums': [{'box': [[1079, 770], [792, 841], [800, 779], [1072, 833]],\n",
       "    'bbox': [796, 769, 1075, 842]}]},\n",
       " {'file': 'C:/Users/krvet/Desktop/MADE/CV/HW2/contest02_data/data/test\\\\1757.jpg',\n",
       "  'nums': [{'box': [[976, 836], [1296, 902], [983, 903], [1288, 836]],\n",
       "    'bbox': [981, 835, 1291, 904]}]},\n",
       " {'file': 'C:/Users/krvet/Desktop/MADE/CV/HW2/contest02_data/data/test\\\\1758.bmp',\n",
       "  'nums': [{'box': [[205, 263], [130, 299], [130, 275], [203, 284]],\n",
       "    'bbox': [130, 262, 203, 299]}]},\n",
       " {'file': 'C:/Users/krvet/Desktop/MADE/CV/HW2/contest02_data/data/test\\\\1759.jpg',\n",
       "  'nums': [{'box': [[760, 459], [1029, 514], [765, 517], [1022, 455]],\n",
       "    'bbox': [764, 455, 1025, 517]}]},\n",
       " {'file': 'C:/Users/krvet/Desktop/MADE/CV/HW2/contest02_data/data/test\\\\176.jpg',\n",
       "  'nums': [{'box': [[1076, 736], [857, 829], [866, 770], [1071, 793]],\n",
       "    'bbox': [859, 733, 1073, 830]}]},\n",
       " {'file': 'C:/Users/krvet/Desktop/MADE/CV/HW2/contest02_data/data/test\\\\1760.bmp',\n",
       "  'nums': [{'box': [[348, 185], [127, 257], [140, 205], [342, 243]],\n",
       "    'bbox': [130, 183, 345, 258]}]},\n",
       " {'file': 'C:/Users/krvet/Desktop/MADE/CV/HW2/contest02_data/data/test\\\\1761.jpg',\n",
       "  'nums': [{'box': [[1214, 734], [1032, 845], [1034, 792], [1210, 792]],\n",
       "    'bbox': [1034, 733, 1212, 844]}]},\n",
       " {'file': 'C:/Users/krvet/Desktop/MADE/CV/HW2/contest02_data/data/test\\\\1762.jpg',\n",
       "  'nums': [{'box': [[506, 726], [262, 779], [268, 728], [503, 779]],\n",
       "    'bbox': [266, 724, 503, 779]},\n",
       "   {'box': [[1477, 650], [1372, 679], [1377, 654], [1475, 680]],\n",
       "    'bbox': [1373, 649, 1475, 680]}]},\n",
       " {'file': 'C:/Users/krvet/Desktop/MADE/CV/HW2/contest02_data/data/test\\\\1763.jpg',\n",
       "  'nums': [{'box': [[540, 784], [277, 837], [291, 783], [532, 839]],\n",
       "    'bbox': [281, 782, 536, 839]},\n",
       "   {'box': [[1181, 652], [1317, 677], [1181, 678], [1316, 648]],\n",
       "    'bbox': [1183, 649, 1315, 678]}]},\n",
       " {'file': 'C:/Users/krvet/Desktop/MADE/CV/HW2/contest02_data/data/test\\\\1764.jpg',\n",
       "  'nums': [{'box': [[841, 496], [472, 582], [476, 508], [837, 574]],\n",
       "    'bbox': [477, 492, 835, 583]}]},\n",
       " {'file': 'C:/Users/krvet/Desktop/MADE/CV/HW2/contest02_data/data/test\\\\1765.jpg',\n",
       "  'nums': [{'box': [[231, 1023], [634, 1231], [245, 1106], [632, 1133]],\n",
       "    'bbox': [233, 1019, 630, 1235]}]},\n",
       " {'file': 'C:/Users/krvet/Desktop/MADE/CV/HW2/contest02_data/data/test\\\\1766.jpg',\n",
       "  'nums': [{'box': [[500, 412], [622, 435], [501, 435], [621, 409]],\n",
       "    'bbox': [502, 409, 619, 435]}]},\n",
       " {'file': 'C:/Users/krvet/Desktop/MADE/CV/HW2/contest02_data/data/test\\\\1767.jpg',\n",
       "  'nums': [{'box': [[657, 841], [478, 885], [483, 844], [652, 884]],\n",
       "    'bbox': [481, 841, 655, 885]}]},\n",
       " {'file': 'C:/Users/krvet/Desktop/MADE/CV/HW2/contest02_data/data/test\\\\1768.jpg',\n",
       "  'nums': [{'box': [[203, 214], [295, 259], [206, 238], [292, 231]],\n",
       "    'bbox': [204, 214, 294, 259]}]},\n",
       " {'file': 'C:/Users/krvet/Desktop/MADE/CV/HW2/contest02_data/data/test\\\\1769.bmp',\n",
       "  'nums': [{'box': [[241, 236], [150, 260], [151, 243], [237, 263]],\n",
       "    'bbox': [151, 235, 240, 267]}]},\n",
       " {'file': 'C:/Users/krvet/Desktop/MADE/CV/HW2/contest02_data/data/test\\\\177.jpg',\n",
       "  'nums': [{'box': [[423, 625], [742, 685], [424, 686], [735, 619]],\n",
       "    'bbox': [428, 619, 737, 686]}]},\n",
       " {'file': 'C:/Users/krvet/Desktop/MADE/CV/HW2/contest02_data/data/test\\\\1770.jpeg',\n",
       "  'nums': [{'box': [[131, 166], [186, 178], [131, 178], [185, 165]],\n",
       "    'bbox': [132, 165, 185, 177]}]},\n",
       " {'file': 'C:/Users/krvet/Desktop/MADE/CV/HW2/contest02_data/data/test\\\\1771.bmp',\n",
       "  'nums': [{'box': [[374, 165], [187, 211], [189, 166], [373, 217]],\n",
       "    'bbox': [190, 165, 372, 216]}]},\n",
       " {'file': 'C:/Users/krvet/Desktop/MADE/CV/HW2/contest02_data/data/test\\\\1772.jpg',\n",
       "  'nums': [{'box': [[323, 741], [610, 806], [330, 803], [604, 741]],\n",
       "    'bbox': [327, 739, 606, 806]}]},\n",
       " {'file': 'C:/Users/krvet/Desktop/MADE/CV/HW2/contest02_data/data/test\\\\1773.bmp',\n",
       "  'nums': [{'box': [[416, 169], [272, 216], [274, 185], [414, 201]],\n",
       "    'bbox': [274, 168, 415, 217]}]},\n",
       " {'file': 'C:/Users/krvet/Desktop/MADE/CV/HW2/contest02_data/data/test\\\\1774.jpg',\n",
       "  'nums': [{'box': [[619, 839], [941, 910], [627, 911], [931, 841]],\n",
       "    'bbox': [623, 839, 936, 912]}]},\n",
       " {'file': 'C:/Users/krvet/Desktop/MADE/CV/HW2/contest02_data/data/test\\\\1775.jpg',\n",
       "  'nums': [{'box': [[178, 321], [243, 362], [177, 350], [243, 334]],\n",
       "    'bbox': [175, 320, 243, 363]}]},\n",
       " {'file': 'C:/Users/krvet/Desktop/MADE/CV/HW2/contest02_data/data/test\\\\1776.jpg',\n",
       "  'nums': [{'box': [[330, 668], [577, 727], [337, 722], [572, 674]],\n",
       "    'bbox': [333, 666, 573, 727]}]},\n",
       " {'file': 'C:/Users/krvet/Desktop/MADE/CV/HW2/contest02_data/data/test\\\\1777.bmp',\n",
       "  'nums': [{'box': [[293, 131], [451, 167], [297, 165], [448, 129]],\n",
       "    'bbox': [295, 130, 448, 167]}]},\n",
       " {'file': 'C:/Users/krvet/Desktop/MADE/CV/HW2/contest02_data/data/test\\\\1779.jpg',\n",
       "  'nums': [{'box': [[3898, 1409], [3401, 1572], [3411, 1456], [3887, 1548]],\n",
       "    'bbox': [3406, 1408, 3892, 1575]},\n",
       "   {'box': [[967, 1031], [744, 1098], [750, 1044], [962, 1086]],\n",
       "    'bbox': [748, 1027, 964, 1098]}]},\n",
       " {'file': 'C:/Users/krvet/Desktop/MADE/CV/HW2/contest02_data/data/test\\\\178.png',\n",
       "  'nums': [{'box': [[1713, 399], [1623, 426], [1625, 402], [1712, 426]],\n",
       "    'bbox': [1624, 399, 1712, 426]},\n",
       "   {'box': [[692, 368], [769, 386], [694, 387], [769, 364]],\n",
       "    'bbox': [692, 363, 768, 386]}]},\n",
       " {'file': 'C:/Users/krvet/Desktop/MADE/CV/HW2/contest02_data/data/test\\\\1780.jpg',\n",
       "  'nums': [{'box': [[1421, 641], [1204, 710], [1190, 654], [1433, 708]],\n",
       "    'bbox': [1193, 643, 1435, 708]}]},\n",
       " {'file': 'C:/Users/krvet/Desktop/MADE/CV/HW2/contest02_data/data/test\\\\1781.bmp',\n",
       "  'nums': [{'box': [[286, 200], [230, 241], [228, 214], [285, 225]],\n",
       "    'bbox': [228, 200, 285, 241]},\n",
       "   {'box': [[346, 128], [279, 145], [282, 130], [345, 146]],\n",
       "    'bbox': [281, 128, 344, 146]}]},\n",
       " {'file': 'C:/Users/krvet/Desktop/MADE/CV/HW2/contest02_data/data/test\\\\1782.jpg',\n",
       "  'nums': [{'box': [[1024, 530], [783, 588], [787, 537], [1017, 583]],\n",
       "    'bbox': [786, 530, 1021, 588]}]},\n",
       " {'file': 'C:/Users/krvet/Desktop/MADE/CV/HW2/contest02_data/data/test\\\\1783.jpg',\n",
       "  'nums': [{'box': [[851, 525], [720, 595], [721, 554], [850, 563]],\n",
       "    'bbox': [722, 525, 849, 595]}]},\n",
       " {'file': 'C:/Users/krvet/Desktop/MADE/CV/HW2/contest02_data/data/test\\\\1784.bmp',\n",
       "  'nums': [{'box': [[59, 55], [231, 114], [64, 91], [229, 71]],\n",
       "    'bbox': [61, 51, 229, 114]}]},\n",
       " {'file': 'C:/Users/krvet/Desktop/MADE/CV/HW2/contest02_data/data/test\\\\1785.jpg',\n",
       "  'nums': [{'box': [[558, 556], [681, 577], [559, 580], [679, 551]],\n",
       "    'bbox': [560, 551, 679, 580]}]},\n",
       " {'file': 'C:/Users/krvet/Desktop/MADE/CV/HW2/contest02_data/data/test\\\\1786.jpg',\n",
       "  'nums': [{'box': [[1071, 739], [735, 826], [740, 754], [1063, 806]],\n",
       "    'bbox': [740, 736, 1066, 826]}]},\n",
       " {'file': 'C:/Users/krvet/Desktop/MADE/CV/HW2/contest02_data/data/test\\\\1787.jpg',\n",
       "  'nums': [{'box': [[310, 889], [496, 928], [311, 930], [494, 886]],\n",
       "    'bbox': [313, 886, 493, 929]}]},\n",
       " {'file': 'C:/Users/krvet/Desktop/MADE/CV/HW2/contest02_data/data/test\\\\1788.bmp',\n",
       "  'nums': [{'box': [[306, 293], [409, 342], [310, 328], [409, 305]],\n",
       "    'bbox': [308, 293, 408, 342]}]},\n",
       " {'file': 'C:/Users/krvet/Desktop/MADE/CV/HW2/contest02_data/data/test\\\\1789.jpg',\n",
       "  'nums': [{'box': [[1364, 626], [1202, 674], [1209, 629], [1356, 673]],\n",
       "    'bbox': [1205, 624, 1361, 674]}]},\n",
       " {'file': 'C:/Users/krvet/Desktop/MADE/CV/HW2/contest02_data/data/test\\\\179.jpg',\n",
       "  'nums': [{'box': [[159, 368], [363, 420], [170, 411], [362, 376]],\n",
       "    'bbox': [162, 366, 360, 420]},\n",
       "   {'box': [[79, 105], [6, 127], [10, 107], [77, 127]],\n",
       "    'bbox': [7, 104, 77, 127]}]},\n",
       " {'file': 'C:/Users/krvet/Desktop/MADE/CV/HW2/contest02_data/data/test\\\\1790.bmp',\n",
       "  'nums': [{'box': [[244, 250], [427, 311], [255, 296], [424, 264]],\n",
       "    'bbox': [246, 250, 424, 311]}]},\n",
       " {'file': 'C:/Users/krvet/Desktop/MADE/CV/HW2/contest02_data/data/test\\\\1791.jpg',\n",
       "  'nums': [{'box': [[653, 851], [1010, 949], [658, 950], [1000, 850]],\n",
       "    'bbox': [659, 846, 1005, 949]}]},\n",
       " {'file': 'C:/Users/krvet/Desktop/MADE/CV/HW2/contest02_data/data/test\\\\1792.jpg',\n",
       "  'nums': [{'box': [[556, 809], [912, 880], [568, 877], [903, 810]],\n",
       "    'bbox': [560, 805, 907, 881]}]},\n",
       " {'file': 'C:/Users/krvet/Desktop/MADE/CV/HW2/contest02_data/data/test\\\\1793.jpg',\n",
       "  'nums': [{'box': [[534, 677], [864, 743], [537, 745], [857, 674]],\n",
       "    'bbox': [539, 674, 859, 745]}]},\n",
       " {'file': 'C:/Users/krvet/Desktop/MADE/CV/HW2/contest02_data/data/test\\\\1794.jpg',\n",
       "  'nums': [{'box': [[589, 816], [411, 887], [412, 846], [586, 862]],\n",
       "    'bbox': [414, 816, 586, 888]}]},\n",
       " {'file': 'C:/Users/krvet/Desktop/MADE/CV/HW2/contest02_data/data/test\\\\1795.jpg',\n",
       "  'nums': []},\n",
       " {'file': 'C:/Users/krvet/Desktop/MADE/CV/HW2/contest02_data/data/test\\\\1796.jpg',\n",
       "  'nums': [{'box': [[185, 601], [261, 619], [185, 619], [259, 600]],\n",
       "    'bbox': [186, 601, 260, 618]}]},\n",
       " {'file': 'C:/Users/krvet/Desktop/MADE/CV/HW2/contest02_data/data/test\\\\1797.jpg',\n",
       "  'nums': [{'box': [[1172, 1238], [895, 1288], [905, 1234], [1168, 1294]],\n",
       "    'bbox': [900, 1233, 1168, 1293]},\n",
       "   {'box': [[943, 669], [1221, 723], [945, 725], [1215, 668]],\n",
       "    'bbox': [946, 667, 1217, 725]}]},\n",
       " {'file': 'C:/Users/krvet/Desktop/MADE/CV/HW2/contest02_data/data/test\\\\1798.bmp',\n",
       "  'nums': [{'box': [[238, 184], [145, 231], [142, 205], [237, 211]],\n",
       "    'bbox': [142, 183, 238, 232]}]},\n",
       " {'file': 'C:/Users/krvet/Desktop/MADE/CV/HW2/contest02_data/data/test\\\\1799.jpg',\n",
       "  'nums': [{'box': [[1401, 894], [1171, 944], [1179, 892], [1396, 943]],\n",
       "    'bbox': [1174, 891, 1397, 945]}]},\n",
       " {'file': 'C:/Users/krvet/Desktop/MADE/CV/HW2/contest02_data/data/test\\\\18.jpg',\n",
       "  'nums': [{'box': [[1917, 608], [1747, 721], [1751, 645], [1914, 681]],\n",
       "    'bbox': [1748, 609, 1916, 721]}]},\n",
       " {'file': 'C:/Users/krvet/Desktop/MADE/CV/HW2/contest02_data/data/test\\\\180.jpg',\n",
       "  'nums': [{'box': [[253, 906], [710, 968], [282, 975], [705, 899]],\n",
       "    'bbox': [259, 899, 703, 975]}]},\n",
       " {'file': 'C:/Users/krvet/Desktop/MADE/CV/HW2/contest02_data/data/test\\\\1800.jpg',\n",
       "  'nums': [{'box': [[651, 679], [914, 742], [659, 738], [905, 686]],\n",
       "    'bbox': [655, 678, 910, 743]}]},\n",
       " {'file': 'C:/Users/krvet/Desktop/MADE/CV/HW2/contest02_data/data/test\\\\1801.jpg',\n",
       "  'nums': [{'box': [[697, 919], [810, 949], [700, 945], [806, 922]],\n",
       "    'bbox': [699, 917, 808, 948]}]},\n",
       " {'file': 'C:/Users/krvet/Desktop/MADE/CV/HW2/contest02_data/data/test\\\\1802.jpg',\n",
       "  'nums': [{'box': [[700, 518], [547, 566], [550, 529], [695, 556]],\n",
       "    'bbox': [549, 517, 698, 566]}]},\n",
       " {'file': 'C:/Users/krvet/Desktop/MADE/CV/HW2/contest02_data/data/test\\\\1803.jpg',\n",
       "  'nums': [{'box': [[1462, 799], [1275, 841], [1279, 797], [1459, 842]],\n",
       "    'bbox': [1278, 797, 1460, 841]}]},\n",
       " {'file': 'C:/Users/krvet/Desktop/MADE/CV/HW2/contest02_data/data/test\\\\1804.jpg',\n",
       "  'nums': [{'box': [[398, 1036], [552, 1069], [398, 1069], [550, 1034]],\n",
       "    'bbox': [400, 1034, 549, 1068]}]},\n",
       " {'file': 'C:/Users/krvet/Desktop/MADE/CV/HW2/contest02_data/data/test\\\\1805.jpg',\n",
       "  'nums': [{'box': [[318, 523], [577, 576], [325, 577], [571, 523]],\n",
       "    'bbox': [322, 520, 573, 577]}]},\n",
       " {'file': 'C:/Users/krvet/Desktop/MADE/CV/HW2/contest02_data/data/test\\\\1806.jpg',\n",
       "  'nums': [{'box': [[1134, 813], [758, 892], [766, 813], [1129, 893]],\n",
       "    'bbox': [763, 808, 1128, 893]}]},\n",
       " {'file': 'C:/Users/krvet/Desktop/MADE/CV/HW2/contest02_data/data/test\\\\1807.bmp',\n",
       "  'nums': [{'box': [[262, 224], [109, 272], [114, 239], [259, 258]],\n",
       "    'bbox': [111, 224, 260, 273]}]},\n",
       " {'file': 'C:/Users/krvet/Desktop/MADE/CV/HW2/contest02_data/data/test\\\\1808.jpg',\n",
       "  'nums': [{'box': [[575, 643], [902, 714], [583, 714], [894, 641]],\n",
       "    'bbox': [579, 641, 898, 714]}]},\n",
       " {'file': 'C:/Users/krvet/Desktop/MADE/CV/HW2/contest02_data/data/test\\\\1809.jpg',\n",
       "  'nums': [{'box': [[821, 366], [726, 442], [729, 406], [819, 401]],\n",
       "    'bbox': [728, 367, 820, 441]}]},\n",
       " {'file': 'C:/Users/krvet/Desktop/MADE/CV/HW2/contest02_data/data/test\\\\181.jpg',\n",
       "  'nums': [{'box': [[628, 144], [718, 164], [630, 165], [716, 143]],\n",
       "    'bbox': [630, 144, 717, 165]},\n",
       "   {'box': [[130, 511], [204, 527], [133, 529], [203, 510]],\n",
       "    'bbox': [130, 511, 202, 528]},\n",
       "   {'box': [[103, 192], [189, 216], [106, 216], [186, 195]],\n",
       "    'bbox': [104, 191, 188, 216]},\n",
       "   {'box': [[830, 509], [878, 523], [832, 523], [877, 508]],\n",
       "    'bbox': [831, 508, 877, 522]}]},\n",
       " {'file': 'C:/Users/krvet/Desktop/MADE/CV/HW2/contest02_data/data/test\\\\1810.bmp',\n",
       "  'nums': [{'box': [[315, 579], [473, 687], [317, 647], [472, 620]],\n",
       "    'bbox': [316, 578, 472, 687]}]},\n",
       " {'file': 'C:/Users/krvet/Desktop/MADE/CV/HW2/contest02_data/data/test\\\\1811.jpg',\n",
       "  'nums': [{'box': [[573, 507], [787, 549], [575, 550], [784, 506]],\n",
       "    'bbox': [577, 507, 784, 549]}]},\n",
       " {'file': 'C:/Users/krvet/Desktop/MADE/CV/HW2/contest02_data/data/test\\\\1812.jpg',\n",
       "  'nums': [{'box': [[717, 698], [939, 749], [723, 746], [932, 696]],\n",
       "    'bbox': [719, 695, 935, 750]}]},\n",
       " {'file': 'C:/Users/krvet/Desktop/MADE/CV/HW2/contest02_data/data/test\\\\1813.jpg',\n",
       "  'nums': [{'box': [[358, 545], [682, 608], [361, 610], [678, 543]],\n",
       "    'bbox': [364, 543, 677, 610]}]},\n",
       " {'file': 'C:/Users/krvet/Desktop/MADE/CV/HW2/contest02_data/data/test\\\\1814.JPG',\n",
       "  'nums': [{'box': [[2608, 2895], [1917, 3087], [1937, 2934], [2590, 3047]],\n",
       "    'bbox': [1927, 2893, 2598, 3088]}]},\n",
       " {'file': 'C:/Users/krvet/Desktop/MADE/CV/HW2/contest02_data/data/test\\\\1815.jpeg',\n",
       "  'nums': [{'box': [[75, 156], [128, 169], [77, 169], [127, 155]],\n",
       "    'bbox': [76, 156, 127, 168]}]},\n",
       " {'file': 'C:/Users/krvet/Desktop/MADE/CV/HW2/contest02_data/data/test\\\\1816.jpg',\n",
       "  'nums': [{'box': [[561, 778], [971, 860], [586, 855], [959, 779]],\n",
       "    'bbox': [566, 774, 965, 861]}]},\n",
       " {'file': 'C:/Users/krvet/Desktop/MADE/CV/HW2/contest02_data/data/test\\\\1817.bmp',\n",
       "  'nums': [{'box': [[981, 1012], [1299, 1120], [990, 1102], [1295, 1030]],\n",
       "    'bbox': [985, 1010, 1296, 1121]}]},\n",
       " {'file': 'C:/Users/krvet/Desktop/MADE/CV/HW2/contest02_data/data/test\\\\1818.jpg',\n",
       "  'nums': [{'box': [[1247, 728], [1476, 782], [1253, 792], [1465, 720]],\n",
       "    'bbox': [1250, 721, 1472, 792]}]},\n",
       " {'file': 'C:/Users/krvet/Desktop/MADE/CV/HW2/contest02_data/data/test\\\\1819.bmp',\n",
       "  'nums': [{'box': [[62, 205], [296, 276], [64, 258], [290, 214]],\n",
       "    'bbox': [65, 203, 293, 275]}]},\n",
       " {'file': 'C:/Users/krvet/Desktop/MADE/CV/HW2/contest02_data/data/test\\\\182.jpg',\n",
       "  'nums': [{'box': [[422, 664], [654, 712], [425, 713], [648, 663]],\n",
       "    'bbox': [425, 663, 650, 713]}]},\n",
       " {'file': 'C:/Users/krvet/Desktop/MADE/CV/HW2/contest02_data/data/test\\\\1820.bmp',\n",
       "  'nums': [{'box': [[100, 266], [191, 301], [102, 293], [189, 273]],\n",
       "    'bbox': [101, 266, 190, 301]}]},\n",
       " {'file': 'C:/Users/krvet/Desktop/MADE/CV/HW2/contest02_data/data/test\\\\1821.jpg',\n",
       "  'nums': [{'box': [[446, 418], [279, 460], [283, 425], [442, 454]],\n",
       "    'bbox': [282, 417, 443, 461]}]},\n",
       " {'file': 'C:/Users/krvet/Desktop/MADE/CV/HW2/contest02_data/data/test\\\\1822.jpg',\n",
       "  'nums': [{'box': [[317, 512], [520, 552], [320, 554], [519, 508]],\n",
       "    'bbox': [320, 509, 517, 553]}]},\n",
       " {'file': 'C:/Users/krvet/Desktop/MADE/CV/HW2/contest02_data/data/test\\\\1823.jpg',\n",
       "  'nums': [{'box': [[358, 416], [503, 452], [359, 453], [501, 413]],\n",
       "    'bbox': [360, 414, 501, 453]}]},\n",
       " {'file': 'C:/Users/krvet/Desktop/MADE/CV/HW2/contest02_data/data/test\\\\1824.bmp',\n",
       "  'nums': [{'box': [[929, 925], [1413, 1025], [943, 1026], [1402, 926]],\n",
       "    'bbox': [936, 924, 1405, 1030]}]},\n",
       " {'file': 'C:/Users/krvet/Desktop/MADE/CV/HW2/contest02_data/data/test\\\\1825.jpg',\n",
       "  'nums': [{'box': [[417, 788], [746, 884], [433, 855], [738, 811]],\n",
       "    'bbox': [421, 787, 741, 886]}]},\n",
       " {'file': 'C:/Users/krvet/Desktop/MADE/CV/HW2/contest02_data/data/test\\\\1826.jpg',\n",
       "  'nums': [{'box': [[324, 610], [525, 685], [332, 667], [519, 622]],\n",
       "    'bbox': [327, 609, 522, 685]}]},\n",
       " {'file': 'C:/Users/krvet/Desktop/MADE/CV/HW2/contest02_data/data/test\\\\1827.jpg',\n",
       "  'nums': [{'box': [[928, 690], [524, 780], [533, 699], [916, 774]],\n",
       "    'bbox': [530, 689, 922, 781]}]},\n",
       " {'file': 'C:/Users/krvet/Desktop/MADE/CV/HW2/contest02_data/data/test\\\\1828.jpg',\n",
       "  'nums': [{'box': [[404, 660], [658, 722], [412, 718], [653, 665]],\n",
       "    'bbox': [407, 658, 655, 723]}]},\n",
       " {'file': 'C:/Users/krvet/Desktop/MADE/CV/HW2/contest02_data/data/test\\\\1829.jpg',\n",
       "  'nums': [{'box': [[1161, 596], [988, 706], [993, 651], [1161, 650]],\n",
       "    'bbox': [990, 593, 1160, 707]}]},\n",
       " {'file': 'C:/Users/krvet/Desktop/MADE/CV/HW2/contest02_data/data/test\\\\183.jpeg',\n",
       "  'nums': [{'box': [[250, 284], [334, 301], [250, 302], [333, 283]],\n",
       "    'bbox': [251, 283, 333, 302]}]},\n",
       " {'file': 'C:/Users/krvet/Desktop/MADE/CV/HW2/contest02_data/data/test\\\\1830.jpg',\n",
       "  'nums': [{'box': [[263, 901], [535, 1112], [308, 1016], [526, 1020]],\n",
       "    'bbox': [243, 896, 532, 1119]}]},\n",
       " {'file': 'C:/Users/krvet/Desktop/MADE/CV/HW2/contest02_data/data/test\\\\1831.bmp',\n",
       "  'nums': [{'box': [[60, 278], [242, 313], [61, 313], [241, 276]],\n",
       "    'bbox': [62, 276, 239, 312]}]},\n",
       " {'file': 'C:/Users/krvet/Desktop/MADE/CV/HW2/contest02_data/data/test\\\\1832.jpg',\n",
       "  'nums': [{'box': [[463, 273], [608, 301], [463, 301], [607, 270]],\n",
       "    'bbox': [465, 270, 606, 301]}]},\n",
       " {'file': 'C:/Users/krvet/Desktop/MADE/CV/HW2/contest02_data/data/test\\\\1833.jpg',\n",
       "  'nums': [{'box': [[824, 396], [722, 430], [723, 400], [821, 425]],\n",
       "    'bbox': [723, 394, 822, 431]}]},\n",
       " {'file': 'C:/Users/krvet/Desktop/MADE/CV/HW2/contest02_data/data/test\\\\1834.jpg',\n",
       "  'nums': [{'box': [[271, 457], [555, 519], [280, 516], [548, 463]],\n",
       "    'bbox': [275, 455, 550, 522]}]},\n",
       " {'file': 'C:/Users/krvet/Desktop/MADE/CV/HW2/contest02_data/data/test\\\\1835.jpg',\n",
       "  'nums': [{'box': [[614, 219], [542, 234], [545, 218], [613, 235]],\n",
       "    'bbox': [543, 217, 613, 235]},\n",
       "   {'box': [[379, 212], [311, 228], [315, 212], [378, 229]],\n",
       "    'bbox': [312, 211, 378, 228]},\n",
       "   {'box': [[64, 218], [124, 232], [65, 233], [123, 216]],\n",
       "    'bbox': [65, 216, 123, 232]},\n",
       "   {'box': [[50, 508], [104, 520], [50, 521], [103, 507]],\n",
       "    'bbox': [51, 508, 103, 520]},\n",
       "   {'box': [[499, 509], [545, 519], [499, 520], [544, 508]],\n",
       "    'bbox': [499, 509, 545, 519]}]},\n",
       " {'file': 'C:/Users/krvet/Desktop/MADE/CV/HW2/contest02_data/data/test\\\\1836.jpg',\n",
       "  'nums': [{'box': [[184, 870], [373, 992], [195, 930], [364, 930]],\n",
       "    'bbox': [185, 868, 371, 992]}]},\n",
       " {'file': 'C:/Users/krvet/Desktop/MADE/CV/HW2/contest02_data/data/test\\\\1837.jpg',\n",
       "  'nums': [{'box': [[319, 794], [513, 831], [320, 834], [511, 789]],\n",
       "    'bbox': [322, 789, 511, 834]}]},\n",
       " {'file': 'C:/Users/krvet/Desktop/MADE/CV/HW2/contest02_data/data/test\\\\1838.bmp',\n",
       "  'nums': [{'box': [[251, 289], [123, 324], [125, 293], [249, 307]],\n",
       "    'bbox': [124, 276, 250, 324]}]},\n",
       " {'file': 'C:/Users/krvet/Desktop/MADE/CV/HW2/contest02_data/data/test\\\\1839.bmp',\n",
       "  'nums': [{'box': [[680, 128], [416, 372], [419, 275], [669, 206]],\n",
       "    'bbox': [412, 124, 680, 377]}]},\n",
       " {'file': 'C:/Users/krvet/Desktop/MADE/CV/HW2/contest02_data/data/test\\\\184.bmp',\n",
       "  'nums': [{'box': [[527, 177], [371, 215], [374, 183], [524, 215]],\n",
       "    'bbox': [373, 176, 525, 216]}]},\n",
       " {'file': 'C:/Users/krvet/Desktop/MADE/CV/HW2/contest02_data/data/test\\\\1840.bmp',\n",
       "  'nums': [{'box': [[129, 213], [267, 245], [130, 245], [264, 217]],\n",
       "    'bbox': [131, 212, 265, 245]}]},\n",
       " {'file': 'C:/Users/krvet/Desktop/MADE/CV/HW2/contest02_data/data/test\\\\1841.jpg',\n",
       "  'nums': [{'box': [[121, 422], [208, 459], [125, 448], [205, 431]],\n",
       "    'bbox': [122, 421, 206, 458]}]},\n",
       " {'file': 'C:/Users/krvet/Desktop/MADE/CV/HW2/contest02_data/data/test\\\\1842.jpg',\n",
       "  'nums': [{'box': [[377, 349], [626, 400], [380, 400], [623, 348]],\n",
       "    'bbox': [381, 347, 622, 400]}]},\n",
       " {'file': 'C:/Users/krvet/Desktop/MADE/CV/HW2/contest02_data/data/test\\\\1843.bmp',\n",
       "  'nums': [{'box': [[323, 130], [410, 163], [325, 150], [407, 141]],\n",
       "    'bbox': [324, 130, 409, 163]}]},\n",
       " {'file': 'C:/Users/krvet/Desktop/MADE/CV/HW2/contest02_data/data/test\\\\1844.jpg',\n",
       "  'nums': [{'box': [[819, 903], [1015, 947], [821, 948], [1011, 901]],\n",
       "    'bbox': [822, 902, 1012, 947]}]},\n",
       " {'file': 'C:/Users/krvet/Desktop/MADE/CV/HW2/contest02_data/data/test\\\\1845.jpg',\n",
       "  'nums': [{'box': [[310, 407], [520, 446], [311, 447], [519, 406]],\n",
       "    'bbox': [313, 406, 516, 447]}]},\n",
       " {'file': 'C:/Users/krvet/Desktop/MADE/CV/HW2/contest02_data/data/test\\\\1846.jpg',\n",
       "  'nums': [{'box': [[357, 580], [561, 635], [362, 635], [556, 578]],\n",
       "    'bbox': [357, 575, 557, 636]}]},\n",
       " {'file': 'C:/Users/krvet/Desktop/MADE/CV/HW2/contest02_data/data/test\\\\1847.jpg',\n",
       "  'nums': [{'box': [[145, 727], [350, 768], [147, 773], [346, 721]],\n",
       "    'bbox': [148, 721, 347, 772]}]},\n",
       " {'file': 'C:/Users/krvet/Desktop/MADE/CV/HW2/contest02_data/data/test\\\\1848.bmp',\n",
       "  'nums': [{'box': [[238, 141], [335, 175], [237, 171], [334, 144]],\n",
       "    'bbox': [236, 140, 336, 174]},\n",
       "   {'box': [[8, 125], [50, 143], [8, 143], [49, 124]],\n",
       "    'bbox': [8, 124, 50, 143]}]},\n",
       " {'file': 'C:/Users/krvet/Desktop/MADE/CV/HW2/contest02_data/data/test\\\\1849.png',\n",
       "  'nums': [{'box': [[598, 741], [731, 769], [599, 769], [730, 740]],\n",
       "    'bbox': [600, 740, 730, 769]}]},\n",
       " {'file': 'C:/Users/krvet/Desktop/MADE/CV/HW2/contest02_data/data/test\\\\185.jpeg',\n",
       "  'nums': []},\n",
       " {'file': 'C:/Users/krvet/Desktop/MADE/CV/HW2/contest02_data/data/test\\\\1850.jpg',\n",
       "  'nums': [{'box': [[916, 744], [702, 793], [709, 746], [911, 794]],\n",
       "    'bbox': [705, 741, 912, 794]},\n",
       "   {'box': [[1072, 721], [1232, 752], [1078, 753], [1231, 717]],\n",
       "    'bbox': [1072, 717, 1229, 753]}]},\n",
       " {'file': 'C:/Users/krvet/Desktop/MADE/CV/HW2/contest02_data/data/test\\\\1851.jpg',\n",
       "  'nums': [{'box': [[208, 285], [417, 327], [209, 329], [416, 282]],\n",
       "    'bbox': [212, 283, 413, 328]}]},\n",
       " {'file': 'C:/Users/krvet/Desktop/MADE/CV/HW2/contest02_data/data/test\\\\1852.bmp',\n",
       "  'nums': [{'box': [[46, 208], [212, 251], [50, 247], [209, 213]],\n",
       "    'bbox': [49, 207, 209, 251]}]},\n",
       " {'file': 'C:/Users/krvet/Desktop/MADE/CV/HW2/contest02_data/data/test\\\\1853.jpg',\n",
       "  'nums': [{'box': [[1162, 471], [931, 519], [935, 468], [1156, 520]],\n",
       "    'bbox': [934, 467, 1158, 519]}]},\n",
       " {'file': 'C:/Users/krvet/Desktop/MADE/CV/HW2/contest02_data/data/test\\\\1854.jpg',\n",
       "  'nums': [{'box': [[216, 472], [381, 508], [217, 509], [379, 471]],\n",
       "    'bbox': [218, 471, 378, 509]}]},\n",
       " {'file': 'C:/Users/krvet/Desktop/MADE/CV/HW2/contest02_data/data/test\\\\1855.jpg',\n",
       "  'nums': [{'box': [[845, 514], [791, 538], [794, 520], [843, 532]],\n",
       "    'bbox': [792, 514, 844, 539]}]},\n",
       " {'file': 'C:/Users/krvet/Desktop/MADE/CV/HW2/contest02_data/data/test\\\\1856.jpg',\n",
       "  'nums': [{'box': [[77, 629], [189, 739], [82, 681], [187, 680]],\n",
       "    'bbox': [78, 630, 188, 738]}]},\n",
       " {'file': 'C:/Users/krvet/Desktop/MADE/CV/HW2/contest02_data/data/test\\\\1857.jpg',\n",
       "  'nums': [{'box': [[695, 544], [372, 607], [379, 547], [687, 611]],\n",
       "    'bbox': [377, 540, 690, 612]}]},\n",
       " {'file': 'C:/Users/krvet/Desktop/MADE/CV/HW2/contest02_data/data/test\\\\1858.jpg',\n",
       "  'nums': [{'box': [[689, 1207], [944, 1258], [692, 1259], [941, 1203]],\n",
       "    'bbox': [692, 1203, 940, 1258]}]},\n",
       " {'file': 'C:/Users/krvet/Desktop/MADE/CV/HW2/contest02_data/data/test\\\\1859.jpg',\n",
       "  'nums': [{'box': [[674, 521], [478, 567], [483, 525], [670, 564]],\n",
       "    'bbox': [481, 521, 671, 567]}]},\n",
       " {'file': 'C:/Users/krvet/Desktop/MADE/CV/HW2/contest02_data/data/test\\\\186.jpg',\n",
       "  'nums': [{'box': [[306, 621], [535, 676], [311, 672], [530, 630]],\n",
       "    'bbox': [309, 620, 531, 677]}]},\n",
       " {'file': 'C:/Users/krvet/Desktop/MADE/CV/HW2/contest02_data/data/test\\\\1860.jpg',\n",
       "  'nums': [{'box': [[385, 842], [561, 877], [390, 879], [557, 837]],\n",
       "    'bbox': [388, 838, 558, 879]}]},\n",
       " {'file': 'C:/Users/krvet/Desktop/MADE/CV/HW2/contest02_data/data/test\\\\1861.bmp',\n",
       "  'nums': [{'box': [[1228, 1396], [1542, 1482], [1242, 1467], [1534, 1417]],\n",
       "    'bbox': [1232, 1392, 1537, 1482]}]},\n",
       " {'file': 'C:/Users/krvet/Desktop/MADE/CV/HW2/contest02_data/data/test\\\\1862.jpg',\n",
       "  'nums': [{'box': [[693, 425], [883, 465], [694, 466], [881, 424]],\n",
       "    'bbox': [696, 425, 880, 466]}]},\n",
       " {'file': 'C:/Users/krvet/Desktop/MADE/CV/HW2/contest02_data/data/test\\\\1863.jpg',\n",
       "  'nums': [{'box': [[532, 528], [790, 587], [539, 586], [785, 528]],\n",
       "    'bbox': [536, 526, 786, 587]}]},\n",
       " {'file': 'C:/Users/krvet/Desktop/MADE/CV/HW2/contest02_data/data/test\\\\1864.bmp',\n",
       "  'nums': [{'box': [[317, 219], [256, 243], [256, 224], [316, 239]],\n",
       "    'bbox': [256, 219, 315, 243]}]},\n",
       " {'file': 'C:/Users/krvet/Desktop/MADE/CV/HW2/contest02_data/data/test\\\\1865.jpg',\n",
       "  'nums': [{'box': [[1080, 578], [897, 672], [899, 616], [1079, 630]],\n",
       "    'bbox': [900, 579, 1078, 675]}]},\n",
       " {'file': 'C:/Users/krvet/Desktop/MADE/CV/HW2/contest02_data/data/test\\\\1866.jpg',\n",
       "  'nums': [{'box': [[157, 464], [326, 505], [157, 506], [324, 463]],\n",
       "    'bbox': [159, 463, 323, 506]}]},\n",
       " {'file': 'C:/Users/krvet/Desktop/MADE/CV/HW2/contest02_data/data/test\\\\1867.jpg',\n",
       "  'nums': [{'box': [[279, 740], [437, 824], [284, 786], [434, 776]],\n",
       "    'bbox': [281, 740, 435, 824]}]},\n",
       " {'file': 'C:/Users/krvet/Desktop/MADE/CV/HW2/contest02_data/data/test\\\\1868.jpg',\n",
       "  'nums': [{'box': [[634, 779], [919, 838], [638, 839], [913, 778]],\n",
       "    'bbox': [638, 778, 914, 840]}]},\n",
       " {'file': 'C:/Users/krvet/Desktop/MADE/CV/HW2/contest02_data/data/test\\\\1869.bmp',\n",
       "  'nums': [{'box': [[92, 243], [289, 286], [98, 282], [285, 244]],\n",
       "    'bbox': [95, 243, 286, 287]}]},\n",
       " {'file': 'C:/Users/krvet/Desktop/MADE/CV/HW2/contest02_data/data/test\\\\187.jpg',\n",
       "  'nums': [{'box': [[1780, 806], [1651, 926], [1656, 859], [1763, 874]],\n",
       "    'bbox': [1653, 802, 1783, 927]}]},\n",
       " {'file': 'C:/Users/krvet/Desktop/MADE/CV/HW2/contest02_data/data/test\\\\1870.jpg',\n",
       "  'nums': [{'box': [[262, 221], [399, 250], [263, 250], [397, 221]],\n",
       "    'bbox': [264, 221, 397, 250]}]},\n",
       " {'file': 'C:/Users/krvet/Desktop/MADE/CV/HW2/contest02_data/data/test\\\\1871.jpg',\n",
       "  'nums': [{'box': [[576, 483], [383, 529], [385, 487], [573, 529]],\n",
       "    'bbox': [386, 483, 573, 528]}]},\n",
       " {'file': 'C:/Users/krvet/Desktop/MADE/CV/HW2/contest02_data/data/test\\\\1872.bmp',\n",
       "  'nums': [{'box': [[758, 411], [650, 439], [654, 413], [755, 438]],\n",
       "    'bbox': [652, 410, 756, 440]}]},\n",
       " {'file': 'C:/Users/krvet/Desktop/MADE/CV/HW2/contest02_data/data/test\\\\1873.bmp',\n",
       "  'nums': [{'box': [[560, 337], [426, 376], [428, 344], [556, 369]],\n",
       "    'bbox': [427, 336, 558, 376]},\n",
       "   {'box': [[577, 369], [620, 382], [577, 382], [620, 366]],\n",
       "    'bbox': [578, 366, 619, 382]},\n",
       "   {'box': [[348, 387], [401, 401], [348, 402], [400, 386]],\n",
       "    'bbox': [349, 386, 400, 402]}]},\n",
       " {'file': 'C:/Users/krvet/Desktop/MADE/CV/HW2/contest02_data/data/test\\\\1874.jpg',\n",
       "  'nums': [{'box': [[298, 635], [570, 708], [306, 687], [566, 652]],\n",
       "    'bbox': [302, 631, 566, 708]}]},\n",
       " {'file': 'C:/Users/krvet/Desktop/MADE/CV/HW2/contest02_data/data/test\\\\1875.jpg',\n",
       "  'nums': [{'box': [[430, 497], [535, 519], [433, 519], [530, 498]],\n",
       "    'bbox': [432, 495, 534, 520]}]},\n",
       " {'file': 'C:/Users/krvet/Desktop/MADE/CV/HW2/contest02_data/data/test\\\\1876.jpg',\n",
       "  'nums': [{'box': [[681, 744], [840, 778], [682, 778], [839, 743]],\n",
       "    'bbox': [684, 744, 837, 778]}]},\n",
       " {'file': 'C:/Users/krvet/Desktop/MADE/CV/HW2/contest02_data/data/test\\\\1877.jpg',\n",
       "  'nums': [{'box': [[199, 426], [368, 460], [200, 461], [367, 424]],\n",
       "    'bbox': [201, 425, 365, 461]}]},\n",
       " {'file': 'C:/Users/krvet/Desktop/MADE/CV/HW2/contest02_data/data/test\\\\1878.jpg',\n",
       "  'nums': [{'box': [[605, 524], [682, 542], [605, 542], [682, 524]],\n",
       "    'bbox': [606, 524, 681, 542]}]},\n",
       " {'file': 'C:/Users/krvet/Desktop/MADE/CV/HW2/contest02_data/data/test\\\\1879.jpg',\n",
       "  'nums': [{'box': [[837, 396], [612, 465], [619, 412], [834, 444]],\n",
       "    'bbox': [615, 394, 833, 466]}]},\n",
       " {'file': 'C:/Users/krvet/Desktop/MADE/CV/HW2/contest02_data/data/test\\\\188.jpg',\n",
       "  'nums': [{'box': [[731, 511], [948, 556], [733, 557], [943, 509]],\n",
       "    'bbox': [735, 510, 945, 557]}]},\n",
       " {'file': 'C:/Users/krvet/Desktop/MADE/CV/HW2/contest02_data/data/test\\\\1880.jpg',\n",
       "  'nums': [{'box': [[430, 391], [579, 422], [430, 422], [578, 390]],\n",
       "    'bbox': [432, 390, 576, 421]}]},\n",
       " {'file': 'C:/Users/krvet/Desktop/MADE/CV/HW2/contest02_data/data/test\\\\1881.jpg',\n",
       "  'nums': [{'box': [[662, 668], [795, 700], [662, 700], [794, 668]],\n",
       "    'bbox': [663, 668, 794, 700]}]},\n",
       " {'file': 'C:/Users/krvet/Desktop/MADE/CV/HW2/contest02_data/data/test\\\\1882.jpg',\n",
       "  'nums': [{'box': [[272, 322], [553, 385], [280, 380], [545, 329]],\n",
       "    'bbox': [276, 319, 549, 385]}]},\n",
       " {'file': 'C:/Users/krvet/Desktop/MADE/CV/HW2/contest02_data/data/test\\\\1883.bmp',\n",
       "  'nums': [{'box': [[493, 743], [589, 799], [495, 779], [587, 763]],\n",
       "    'bbox': [493, 743, 588, 800]}]},\n",
       " {'file': 'C:/Users/krvet/Desktop/MADE/CV/HW2/contest02_data/data/test\\\\1884.jpg',\n",
       "  'nums': [{'box': [[397, 414], [520, 439], [403, 438], [518, 413]],\n",
       "    'bbox': [399, 410, 518, 439]}]},\n",
       " {'file': 'C:/Users/krvet/Desktop/MADE/CV/HW2/contest02_data/data/test\\\\1885.jpg',\n",
       "  'nums': [{'box': [[291, 637], [496, 727], [304, 702], [493, 661]],\n",
       "    'bbox': [294, 636, 493, 728]}]},\n",
       " {'file': 'C:/Users/krvet/Desktop/MADE/CV/HW2/contest02_data/data/test\\\\1886.jpg',\n",
       "  'nums': [{'box': [[272, 467], [455, 512], [277, 510], [451, 469]],\n",
       "    'bbox': [275, 467, 453, 512]}]},\n",
       " {'file': 'C:/Users/krvet/Desktop/MADE/CV/HW2/contest02_data/data/test\\\\1887.bmp',\n",
       "  'nums': [{'box': [[361, 180], [188, 233], [192, 189], [357, 232]],\n",
       "    'bbox': [189, 180, 359, 234]}]},\n",
       " {'file': 'C:/Users/krvet/Desktop/MADE/CV/HW2/contest02_data/data/test\\\\1888.bmp',\n",
       "  'nums': [{'box': [[291, 766], [428, 812], [288, 813], [426, 763]],\n",
       "    'bbox': [288, 764, 426, 813]},\n",
       "   {'box': [[1636, 696], [1756, 724], [1637, 725], [1750, 693]],\n",
       "    'bbox': [1638, 693, 1754, 725]}]},\n",
       " {'file': 'C:/Users/krvet/Desktop/MADE/CV/HW2/contest02_data/data/test\\\\1889.jpg',\n",
       "  'nums': [{'box': [[552, 543], [455, 558], [456, 543], [552, 564]],\n",
       "    'bbox': [457, 543, 550, 564]},\n",
       "   {'box': [[545, 245], [658, 262], [547, 263], [646, 243]],\n",
       "    'bbox': [547, 244, 657, 262]}]},\n",
       " {'file': 'C:/Users/krvet/Desktop/MADE/CV/HW2/contest02_data/data/test\\\\189.jpg',\n",
       "  'nums': [{'box': [[260, 464], [449, 517], [267, 508], [444, 475]],\n",
       "    'bbox': [263, 463, 446, 517]}]},\n",
       " {'file': 'C:/Users/krvet/Desktop/MADE/CV/HW2/contest02_data/data/test\\\\1890.jpg',\n",
       "  'nums': [{'box': [[1350, 693], [1208, 757], [1212, 710], [1346, 742]],\n",
       "    'bbox': [1209, 691, 1348, 758]}]},\n",
       " {'file': 'C:/Users/krvet/Desktop/MADE/CV/HW2/contest02_data/data/test\\\\1891.jpg',\n",
       "  'nums': [{'box': [[586, 556], [879, 676], [590, 625], [871, 593]],\n",
       "    'bbox': [589, 553, 874, 679]}]},\n",
       " {'file': 'C:/Users/krvet/Desktop/MADE/CV/HW2/contest02_data/data/test\\\\1892.jpg',\n",
       "  'nums': [{'box': [[1598, 1058], [1301, 1116], [1310, 1055], [1597, 1121]],\n",
       "    'bbox': [1305, 1049, 1594, 1121]}]},\n",
       " {'file': 'C:/Users/krvet/Desktop/MADE/CV/HW2/contest02_data/data/test\\\\1893.jpg',\n",
       "  'nums': [{'box': [[1198, 683], [990, 746], [997, 692], [1191, 739]],\n",
       "    'bbox': [993, 682, 1196, 748]}]},\n",
       " {'file': 'C:/Users/krvet/Desktop/MADE/CV/HW2/contest02_data/data/test\\\\1894.jpg',\n",
       "  'nums': [{'box': [[385, 730], [497, 754], [385, 754], [496, 730]],\n",
       "    'bbox': [387, 730, 495, 754]}]},\n",
       " {'file': 'C:/Users/krvet/Desktop/MADE/CV/HW2/contest02_data/data/test\\\\1895.bmp',\n",
       "  'nums': [{'box': [[229, 94], [127, 137], [128, 108], [228, 121]],\n",
       "    'bbox': [128, 91, 229, 140]}]},\n",
       " {'file': 'C:/Users/krvet/Desktop/MADE/CV/HW2/contest02_data/data/test\\\\1896.bmp',\n",
       "  'nums': [{'box': [[254, 221], [446, 259], [254, 261], [438, 217]],\n",
       "    'bbox': [256, 217, 443, 261]}]},\n",
       " {'file': 'C:/Users/krvet/Desktop/MADE/CV/HW2/contest02_data/data/test\\\\1897.jpg',\n",
       "  'nums': [{'box': [[248, 365], [483, 415], [250, 416], [482, 364]],\n",
       "    'bbox': [251, 365, 480, 415]}]},\n",
       " {'file': 'C:/Users/krvet/Desktop/MADE/CV/HW2/contest02_data/data/test\\\\1898.jpg',\n",
       "  'nums': [{'box': [[579, 408], [762, 455], [583, 450], [758, 414]],\n",
       "    'bbox': [582, 407, 759, 455]}]},\n",
       " {'file': 'C:/Users/krvet/Desktop/MADE/CV/HW2/contest02_data/data/test\\\\1899.jpg',\n",
       "  'nums': [{'box': [[957, 461], [882, 502], [883, 470], [956, 493]],\n",
       "    'bbox': [883, 460, 956, 501]}]},\n",
       " {'file': 'C:/Users/krvet/Desktop/MADE/CV/HW2/contest02_data/data/test\\\\19.jpg',\n",
       "  'nums': [{'box': [[50, 484], [219, 522], [51, 523], [218, 482]],\n",
       "    'bbox': [53, 482, 216, 523]}]},\n",
       " {'file': 'C:/Users/krvet/Desktop/MADE/CV/HW2/contest02_data/data/test\\\\190.jpg',\n",
       "  'nums': [{'box': [[851, 662], [1193, 727], [853, 728], [1188, 654]],\n",
       "    'bbox': [856, 654, 1188, 727]}]},\n",
       " {'file': 'C:/Users/krvet/Desktop/MADE/CV/HW2/contest02_data/data/test\\\\1900.jpg',\n",
       "  'nums': [{'box': [[547, 617], [427, 648], [432, 619], [544, 646]],\n",
       "    'bbox': [429, 615, 545, 649]}]},\n",
       " {'file': 'C:/Users/krvet/Desktop/MADE/CV/HW2/contest02_data/data/test\\\\1901.bmp',\n",
       "  'nums': [{'box': [[442, 316], [300, 374], [302, 340], [439, 348]],\n",
       "    'bbox': [302, 315, 440, 374]}]},\n",
       " {'file': 'C:/Users/krvet/Desktop/MADE/CV/HW2/contest02_data/data/test\\\\1902.jpg',\n",
       "  'nums': [{'box': [[362, 858], [628, 930], [370, 917], [620, 867]],\n",
       "    'bbox': [366, 857, 624, 930]}]},\n",
       " {'file': 'C:/Users/krvet/Desktop/MADE/CV/HW2/contest02_data/data/test\\\\1903.jpg',\n",
       "  'nums': [{'box': [[1804, 815], [1807, 815], [1805, 814], [1806, 816]],\n",
       "    'bbox': [1625, 723, 1859, 842]}]},\n",
       " {'file': 'C:/Users/krvet/Desktop/MADE/CV/HW2/contest02_data/data/test\\\\1904.jpg',\n",
       "  'nums': [{'box': [[543, 220], [671, 245], [544, 247], [670, 216]],\n",
       "    'bbox': [545, 216, 669, 247]}]},\n",
       " {'file': 'C:/Users/krvet/Desktop/MADE/CV/HW2/contest02_data/data/test\\\\1905.bmp',\n",
       "  'nums': [{'box': [[462, 217], [336, 263], [338, 235], [459, 243]],\n",
       "    'bbox': [337, 213, 460, 264]}]},\n",
       " {'file': 'C:/Users/krvet/Desktop/MADE/CV/HW2/contest02_data/data/test\\\\1906.png',\n",
       "  'nums': [{'box': [[283, 386], [386, 417], [287, 410], [384, 393]],\n",
       "    'bbox': [285, 385, 385, 417]}]},\n",
       " ...]"
      ]
     },
     "execution_count": 5,
     "metadata": {},
     "output_type": "execute_result"
    }
   ],
   "source": [
    "a"
   ]
  },
  {
   "cell_type": "code",
   "execution_count": 6,
   "metadata": {},
   "outputs": [],
   "source": [
    "rec_model=\"C:/Users/krvet/Desktop/MADE/CV/HW2/contest02_data/runs/recognition_baseline/CP-last.pth\""
   ]
  },
  {
   "cell_type": "code",
   "execution_count": 58,
   "metadata": {},
   "outputs": [
    {
     "data": {
      "text/plain": [
       "7"
      ]
     },
     "execution_count": 58,
     "metadata": {},
     "output_type": "execute_result"
    }
   ],
   "source": [
    "class OCRDataset(Dataset):\n",
    "    def __init__(self, marks, img_folder, alphabet, transforms=None):\n",
    "        ocr_marks = []\n",
    "        for items in marks:\n",
    "            file_path = items['file']\n",
    "            for box in items['nums']:\n",
    "                \n",
    "                ocr_marks.append({\n",
    "                    'file': file_path,\n",
    "                    'box': np.clip(box['box'], 0, None).tolist(),\n",
    "                    'text': box['text'],\n",
    "                    'boxed': False,\n",
    "                })\n",
    "                            \n",
    "                # Добавим точки, запакованные в BoundingBox. \n",
    "                # Вместо аугментации rotate. Датасет будет в 2 раза больше\n",
    "                \n",
    "                #Клипаем, ибо есть отрицательные координаты\n",
    "                points = np.clip(box['box'], 0, None) \n",
    "                x0, y0 = np.min(points[:, 0]), np.min(points[:, 1])\n",
    "                x2, y2 = np.max(points[:, 0]), np.max(points[:, 1])\n",
    "\n",
    "                ocr_marks.append({\n",
    "                    'file': file_path,\n",
    "                    'box': [x0, y0, x2, y2],\n",
    "                    'text': box['text'],\n",
    "                    'boxed': True,\n",
    "                })\n",
    "                \n",
    "        self.marks = ocr_marks\n",
    "        self.img_folder = img_folder\n",
    "        self.transforms = transforms\n",
    "        self.alphabet = alphabet\n",
    "        \n",
    "    def __getitem__(self, idx):\n",
    "        item = self.marks[idx]\n",
    "        img_path = os.path.join(self.img_folder, item[\"file\"])\n",
    "        img = cv2.imread(img_path)\n",
    "\n",
    "        if item['boxed']:\n",
    "            x_min, y_min, x_max, y_max = item['box']\n",
    "            img = img[y_min:y_max, x_min:x_max]\n",
    "        else:\n",
    "            points = np.clip(np.array(item['box']), 0, None)\n",
    "            img = four_point_transform(img, points)\n",
    "            \n",
    "        text = item['text']\n",
    "        seq = [self.alphabet.find(char) + 1 for char in text]\n",
    "        seq_len = len(seq)\n",
    "        \n",
    "        if self.transforms is not None:\n",
    "            img = self.transforms(img)\n",
    "\n",
    "        output = {\n",
    "            'img': img,\n",
    "            'text': text,\n",
    "            'seq': seq,\n",
    "            'seq_len': seq_len\n",
    "        }\n",
    "        \n",
    "        return output\n",
    "    \n",
    "    \n",
    "    def __len__(self):\n",
    "        return len(self.marks)\n",
    "    \n",
    "    \n",
    "class Resize(object):\n",
    "    def __init__(self, size=(320, 64)):\n",
    "        self.size = size\n",
    "\n",
    "    def __call__(self, img):\n",
    "\n",
    "        w_from, h_from = img.shape[1], img.shape[0]\n",
    "        w_to, h_to = self.size\n",
    "        \n",
    "        # Сделаем разную интерполяцию при увеличении и уменьшении\n",
    "        # Если увеличиваем картинку, меняем интерполяцию\n",
    "        interpolation = cv2.INTER_AREA\n",
    "        if w_to > w_from:\n",
    "            interpolation = cv2.INTER_CUBIC\n",
    "        \n",
    "        img = cv2.resize(img, dsize=self.size, interpolation=interpolation)\n",
    "        return img\n",
    "    \n",
    "my_ocr_transforms = transforms.Compose([\n",
    "    Resize(size=(320, 64)),\n",
    "    transforms.ToTensor()\n",
    "])\n",
    "\n",
    "def get_vocab_from_marks(marks):\n",
    "    train_texts = []\n",
    "    for item in marks:\n",
    "        for num in item['nums']:\n",
    "            train_texts.append(num['text'])\n",
    "\n",
    "    counts = Counter(''.join(train_texts))\n",
    "    alphabet = ''.join(set(''.join(train_texts)))\n",
    "    corted_counts = sorted(counts.items(), key=lambda x: x[1], reverse=True)\n",
    "    char_to_idx = {item[0]: idx + 1 for idx, item in enumerate(corted_counts)}\n",
    "    idx_to_char = {idx:char for char, idx in char_to_idx.items()}\n",
    "    return char_to_idx, idx_to_char, alphabet\n",
    "\n",
    "char_to_idx, idx_to_char, alphabet = get_vocab_from_marks(train_marks)\n",
    "\n",
    "train_ocr_dataset = OCRDataset(\n",
    "    marks=train_marks, \n",
    "    img_folder=data_path, \n",
    "    alphabet=alphabet,\n",
    "    transforms=my_ocr_transforms\n",
    ")\n",
    "val_ocr_dataset = OCRDataset(\n",
    "    marks=val_marks, \n",
    "    img_folder=data_path, \n",
    "    alphabet=alphabet,\n",
    "    transforms=my_ocr_transforms\n",
    ")\n",
    "\n",
    "def collate_fn_ocr(batch):\n",
    "    \"\"\"Function for torch.utils.data.Dataloader for batch collecting.\n",
    "    Accepts list of dataset __get_item__ return values (dicts).\n",
    "    Returns dict with same keys but values are either torch.Tensors of batched images, sequences, and so.\n",
    "    \"\"\"\n",
    "    images, seqs, seq_lens, texts = [], [], [], []\n",
    "    for sample in batch:\n",
    "        images.append(sample[\"img\"])\n",
    "        seqs.extend(sample[\"seq\"])\n",
    "        seq_lens.append(sample[\"seq_len\"])\n",
    "        texts.append(sample[\"text\"])\n",
    "    images = torch.stack(images)\n",
    "    seqs = torch.Tensor(seqs).int()\n",
    "    seq_lens = torch.Tensor(seq_lens).int()\n",
    "    batch = {\"image\": images, \"seq\": seqs, \"seq_len\": seq_lens, \"text\": texts}\n",
    "    return batch\n",
    "\n",
    "train_ocr_loader = DataLoader(\n",
    "    train_ocr_dataset, \n",
    "    batch_size=batch_size, \n",
    "    drop_last=True,\n",
    "    num_workers=0, # Почему-то у меня виснет DataLoader, если запустить несколько потоков\n",
    "    collate_fn=collate_fn_ocr,\n",
    "    timeout=0,\n",
    "    shuffle=True # Чтобы повернутые дубли картинок не шли подряд\n",
    ")\n",
    "\n",
    "val_ocr_loader = DataLoader(\n",
    "    val_ocr_dataset, \n",
    "    batch_size=batch_size, \n",
    "    drop_last=False,\n",
    "    num_workers=0,\n",
    "    collate_fn=collate_fn_ocr, \n",
    "    timeout=0,\n",
    ")\n",
    "\n",
    "gc.collect()"
   ]
  },
  {
   "cell_type": "code",
   "execution_count": 59,
   "metadata": {},
   "outputs": [],
   "source": [
    "class FeatureExtractor(nn.Module):\n",
    "    \n",
    "    def __init__(self, input_size=(64, 320), output_len=20):\n",
    "        super(FeatureExtractor, self).__init__()\n",
    "        \n",
    "        h, w = input_size\n",
    "        resnet = getattr(models, 'resnet34')(pretrained=True)\n",
    "        self.cnn = nn.Sequential(*list(resnet.children())[:-2])\n",
    "        \n",
    "        self.pool = nn.AvgPool2d(kernel_size=(h // 32, 1))        \n",
    "        self.proj = nn.Conv2d(w // 32, output_len, kernel_size=1)\n",
    "  \n",
    "        self.num_output_features = self.cnn[-1][-1].bn2.num_features    \n",
    "    \n",
    "    def apply_projection(self, x):\n",
    "        \"\"\"Use convolution to increase width of a features.\n",
    "        Accepts tensor of features (shaped B x C x H x W).\n",
    "        Returns new tensor of features (shaped B x C x H x W').\n",
    "        \"\"\"\n",
    "        x = x.permute(0, 3, 2, 1).contiguous()\n",
    "        x = self.proj(x)\n",
    "        x = x.permute(0, 2, 3, 1).contiguous()\n",
    "        return x\n",
    "   \n",
    "    def forward(self, x):\n",
    "        # Apply conv layers\n",
    "        features = self.cnn(x)\n",
    "        \n",
    "        # Pool to make height == 1\n",
    "        features = self.pool(features)\n",
    "        \n",
    "        # Apply projection to increase width\n",
    "        features = self.apply_projection(features)\n",
    "        \n",
    "        return features\n",
    "    \n",
    "class SequencePredictor(nn.Module):\n",
    "    \n",
    "    def __init__(self, input_size, hidden_size, num_layers, num_classes, dropout=0.3, bidirectional=False):\n",
    "        super(SequencePredictor, self).__init__()\n",
    "        \n",
    "        self.num_classes = num_classes        \n",
    "        self.rnn = nn.GRU(input_size=input_size,\n",
    "                       hidden_size=hidden_size,\n",
    "                       num_layers=num_layers,\n",
    "                       dropout=dropout,\n",
    "                       bidirectional=bidirectional)\n",
    "        \n",
    "        fc_in = hidden_size if not bidirectional else 2 * hidden_size\n",
    "        self.fc = nn.Linear(in_features=fc_in,\n",
    "                         out_features=num_classes)\n",
    "    \n",
    "    def _init_hidden_(self, batch_size):\n",
    "        \"\"\"Initialize new tensor of zeroes for RNN hidden state.\n",
    "        Accepts batch size.\n",
    "        Returns tensor of zeros shaped (num_layers * num_directions, batch, hidden_size).\n",
    "        \"\"\"\n",
    "        num_directions = 2 if self.rnn.bidirectional else 1\n",
    "        return torch.zeros(self.rnn.num_layers * num_directions, batch_size, self.rnn.hidden_size)\n",
    "        \n",
    "    def _prepare_features_(self, x):\n",
    "        \"\"\"Change dimensions of x to fit RNN expected input.\n",
    "        Accepts tensor x shaped (B x (C=1) x H x W).\n",
    "        Returns new tensor shaped (W x B x H).\n",
    "        \"\"\"\n",
    "        x = x.squeeze(1)\n",
    "        x = x.permute(2, 0, 1)\n",
    "        return x\n",
    "    \n",
    "    def forward(self, x):\n",
    "        x = self._prepare_features_(x)\n",
    "        \n",
    "        batch_size = x.size(1)\n",
    "        h_0 = self._init_hidden_(batch_size)\n",
    "        h_0 = h_0.to(x.device)\n",
    "        x, h = self.rnn(x, h_0)\n",
    "        \n",
    "        x = self.fc(x)\n",
    "        return x\n",
    "    \n",
    "class CRNN(nn.Module):\n",
    "    \n",
    "    def __init__(\n",
    "        self, \n",
    "        alphabet=alphabet,\n",
    "        cnn_input_size=(64, 320), \n",
    "        cnn_output_len=20,\n",
    "        rnn_hidden_size=128, \n",
    "        rnn_num_layers=2, \n",
    "        rnn_dropout=0.3, \n",
    "        rnn_bidirectional=False\n",
    "    ):\n",
    "        super(CRNN, self).__init__()\n",
    "        self.alphabet = alphabet\n",
    "        \n",
    "        self.features_extractor = FeatureExtractor(\n",
    "            input_size=cnn_input_size, \n",
    "            output_len=cnn_output_len\n",
    "        )\n",
    "        \n",
    "        self.sequence_predictor = SequencePredictor(\n",
    "            input_size=self.features_extractor.num_output_features,\n",
    "            hidden_size=rnn_hidden_size, \n",
    "            num_layers=rnn_num_layers,\n",
    "            num_classes=(len(alphabet) + 1), \n",
    "            dropout=rnn_dropout,\n",
    "            bidirectional=rnn_bidirectional\n",
    "        )\n",
    "    \n",
    "    def forward(self, x):\n",
    "        features = self.features_extractor(x)\n",
    "        sequence = self.sequence_predictor(features)\n",
    "        return sequence"
   ]
  },
  {
   "cell_type": "code",
   "execution_count": 60,
   "metadata": {},
   "outputs": [],
   "source": [
    "crnn = CRNN()\n",
    "# crnn.load_state_dict(torch.load(OCR_MODEL_PATH))\n",
    "crnn.to(device);"
   ]
  },
  {
   "cell_type": "code",
   "execution_count": 61,
   "metadata": {},
   "outputs": [],
   "source": [
    "optimizer = torch.optim.Adam(crnn.parameters(), lr=3e-4, amsgrad=True, weight_decay=1e-5)\n",
    "scheduler = torch.optim.lr_scheduler.ReduceLROnPlateau(optimizer, patience=10, factor=0.5, verbose=True)"
   ]
  },
  {
   "cell_type": "code",
   "execution_count": 62,
   "metadata": {},
   "outputs": [
    {
     "name": "stderr",
     "output_type": "stream",
     "text": [
      "  0%|          | 2/10723 [00:00<15:19, 11.66it/s]    "
     ]
    },
    {
     "name": "stdout",
     "output_type": "stream",
     "text": [
      "10722 0.9542957681470827\n"
     ]
    },
    {
     "name": "stderr",
     "output_type": "stream",
     "text": [
      "                                                     "
     ]
    },
    {
     "name": "stdout",
     "output_type": "stream",
     "text": [
      "10722 0.18197177651135998\n"
     ]
    },
    {
     "name": "stderr",
     "output_type": "stream",
     "text": [
      "\r"
     ]
    }
   ],
   "source": [
    "crnn.train()\n",
    "for epoch in range(2):\n",
    "    epoch_losses = []\n",
    "    print_loss = []\n",
    "    \n",
    "    for i, batch in enumerate(tqdm.tqdm(train_ocr_loader, total=len(train_ocr_loader), leave=False, position=0)):\n",
    "        images = batch[\"image\"].to(device)\n",
    "        seqs_gt = batch[\"seq\"]\n",
    "        seq_lens_gt = batch[\"seq_len\"]\n",
    "\n",
    "        seqs_pred = crnn(images).cpu()\n",
    "        log_probs = F.log_softmax(seqs_pred, dim=2)\n",
    "        seq_lens_pred = torch.Tensor([seqs_pred.size(0)] * seqs_pred.size(1)).int()\n",
    "\n",
    "        loss = F.ctc_loss(\n",
    "            log_probs=log_probs,  # (T, N, C)\n",
    "            targets=seqs_gt,  # N, S or sum(target_lengths)\n",
    "            input_lengths=seq_lens_pred,  # N\n",
    "            target_lengths=seq_lens_gt # N\n",
    "        )  \n",
    "\n",
    "        optimizer.zero_grad()\n",
    "        loss.backward()\n",
    "        optimizer.step()\n",
    "\n",
    "        print_loss.append(loss.item())\n",
    "    \n",
    "        epoch_losses.append(loss.item())\n",
    "\n",
    "    print(i, np.mean(epoch_losses))"
   ]
  },
  {
   "cell_type": "code",
   "execution_count": 56,
   "metadata": {},
   "outputs": [],
   "source": []
  },
  {
   "cell_type": "code",
   "execution_count": 64,
   "metadata": {},
   "outputs": [
    {
     "name": "stderr",
     "output_type": "stream",
     "text": [
      "                                                   \r"
     ]
    }
   ],
   "source": [
    "test_marks = a\n",
    "crnn.eval()\n",
    "resizer = Resize()\n",
    "\n",
    "file_name_result = [] \n",
    "plates_string_result = []\n",
    "\n",
    "for item in tqdm.tqdm(test_marks, leave=False, position=0):\n",
    "\n",
    "    img_path = item[\"file\"]\n",
    "    img = cv2.imread(img_path)\n",
    "\n",
    "    results_to_sort = []\n",
    "    for box in item['nums']:\n",
    "        x_min, y_min, x_max, y_max = box['bbox']\n",
    "        img_bbox = resizer(img[y_min:y_max, x_min:x_max])\n",
    "        img_bbox = my_transforms(img_bbox)\n",
    "        img_bbox = img_bbox.unsqueeze(0)\n",
    "\n",
    "\n",
    "        points = np.clip(np.array(box['box']), 0, None)\n",
    "        img_polygon = resizer(four_point_transform(img, points))\n",
    "        img_polygon = my_transforms(img_polygon)\n",
    "        img_polygon = img_polygon.unsqueeze(0)\n",
    "\n",
    "        preds_bbox = crnn(img_bbox.to(device)).cpu().detach()\n",
    "        preds_poly = crnn(img_polygon.to(device)).cpu().detach()\n",
    "\n",
    "        preds = preds_poly + preds_bbox\n",
    "        num_text = decode(preds, alphabet)[0]\n",
    "\n",
    "        results_to_sort.append((x_min, num_text))\n",
    "\n",
    "    results = sorted(results_to_sort, key=lambda x: x[0])\n",
    "    num_list = [x[1] for x in results]\n",
    "\n",
    "    plates_string = ' '.join(num_list)\n",
    "    file_name = 'test/' + img_path[img_path.find('/test')+6 :]\n",
    "    if img_path[img_path.find('/test')+6 :] == '831.jpg':\n",
    "        file_name= 'test/831.webp'\n",
    "\n",
    "    file_name_result.append(file_name)\n",
    "    plates_string_result.append(plates_string)\n",
    "    \n",
    "df_submit = pd.DataFrame({'file_name': file_name_result, 'plates_string': plates_string_result})\n",
    "df_submit.to_csv('submission.csv', index=False)"
   ]
  },
  {
   "cell_type": "code",
   "execution_count": null,
   "metadata": {},
   "outputs": [],
   "source": []
  }
 ],
 "metadata": {
  "kernelspec": {
   "display_name": "Python 3",
   "language": "python",
   "name": "python3"
  },
  "language_info": {
   "codemirror_mode": {
    "name": "ipython",
    "version": 3
   },
   "file_extension": ".py",
   "mimetype": "text/x-python",
   "name": "python",
   "nbconvert_exporter": "python",
   "pygments_lexer": "ipython3",
   "version": "3.8.3"
  }
 },
 "nbformat": 4,
 "nbformat_minor": 4
}
